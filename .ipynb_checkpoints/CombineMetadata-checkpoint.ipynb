{
 "cells": [
  {
   "cell_type": "code",
   "execution_count": 18,
   "id": "11445c1d-16ef-4816-bd7e-fdbba83b0f35",
   "metadata": {},
   "outputs": [],
   "source": [
    "library(tidyr)\n",
    "library(dplyr)"
   ]
  },
  {
   "cell_type": "code",
   "execution_count": 19,
   "id": "e06a81e3-4955-41b2-a53c-d04ef7224c3e",
   "metadata": {},
   "outputs": [
    {
     "data": {
      "text/html": [
       "<table class=\"dataframe\">\n",
       "<caption>A data.frame: 2 × 23</caption>\n",
       "<thead>\n",
       "\t<tr><th></th><th scope=col>Samp_trip</th><th scope=col>file</th><th scope=col>zhang_ID</th><th scope=col>reef</th><th scope=col>collection_date</th><th scope=col>Month</th><th scope=col>Year</th><th scope=col>Si.uM.</th><th scope=col>NO2.uM.</th><th scope=col>N.N.uM.</th><th scope=col>⋯</th><th scope=col>date_processed</th><th scope=col>STD</th><th scope=col>Wash</th><th scope=col>watercolumn</th><th scope=col>transect</th><th scope=col>filtered</th><th scope=col>chloroform</th><th scope=col>dilution_factor</th><th scope=col>latitude</th><th scope=col>longitude</th></tr>\n",
       "\t<tr><th></th><th scope=col>&lt;int&gt;</th><th scope=col>&lt;chr&gt;</th><th scope=col>&lt;chr&gt;</th><th scope=col>&lt;chr&gt;</th><th scope=col>&lt;chr&gt;</th><th scope=col>&lt;chr&gt;</th><th scope=col>&lt;int&gt;</th><th scope=col>&lt;dbl&gt;</th><th scope=col>&lt;dbl&gt;</th><th scope=col>&lt;dbl&gt;</th><th scope=col>⋯</th><th scope=col>&lt;chr&gt;</th><th scope=col>&lt;chr&gt;</th><th scope=col>&lt;chr&gt;</th><th scope=col>&lt;chr&gt;</th><th scope=col>&lt;chr&gt;</th><th scope=col>&lt;chr&gt;</th><th scope=col>&lt;chr&gt;</th><th scope=col>&lt;int&gt;</th><th scope=col>&lt;dbl&gt;</th><th scope=col>&lt;dbl&gt;</th></tr>\n",
       "</thead>\n",
       "<tbody>\n",
       "\t<tr><th scope=row>1</th><td>1</td><td>POR_nutrients_samp_trip1</td><td>Zhang-03</td><td>cf</td><td>26-Nov-18</td><td>November</td><td>2018</td><td>1.153</td><td>0.023</td><td>0.673</td><td>⋯</td><td>12/20/18</td><td>LNSW</td><td>LNSW</td><td>bottom</td><td>AC12 </td><td>yes</td><td>yes</td><td>NA</td><td>NA</td><td>NA</td></tr>\n",
       "\t<tr><th scope=row>2</th><td>2</td><td>POR_nutrients_samp_trip2</td><td>Zhang-01</td><td>cf</td><td>28-Feb-19</td><td>February</td><td>2019</td><td>0.335</td><td>0.022</td><td>0.996</td><td>⋯</td><td>3/7/19  </td><td>LNSW</td><td>LNSW</td><td>bottom</td><td>Ap 35</td><td>yes</td><td>yes</td><td>NA</td><td>NA</td><td>NA</td></tr>\n",
       "</tbody>\n",
       "</table>\n"
      ],
      "text/latex": [
       "A data.frame: 2 × 23\n",
       "\\begin{tabular}{r|lllllllllllllllllllll}\n",
       "  & Samp\\_trip & file & zhang\\_ID & reef & collection\\_date & Month & Year & Si.uM. & NO2.uM. & N.N.uM. & ⋯ & date\\_processed & STD & Wash & watercolumn & transect & filtered & chloroform & dilution\\_factor & latitude & longitude\\\\\n",
       "  & <int> & <chr> & <chr> & <chr> & <chr> & <chr> & <int> & <dbl> & <dbl> & <dbl> & ⋯ & <chr> & <chr> & <chr> & <chr> & <chr> & <chr> & <chr> & <int> & <dbl> & <dbl>\\\\\n",
       "\\hline\n",
       "\t1 & 1 & POR\\_nutrients\\_samp\\_trip1 & Zhang-03 & cf & 26-Nov-18 & November & 2018 & 1.153 & 0.023 & 0.673 & ⋯ & 12/20/18 & LNSW & LNSW & bottom & AC12  & yes & yes & NA & NA & NA\\\\\n",
       "\t2 & 2 & POR\\_nutrients\\_samp\\_trip2 & Zhang-01 & cf & 28-Feb-19 & February & 2019 & 0.335 & 0.022 & 0.996 & ⋯ & 3/7/19   & LNSW & LNSW & bottom & Ap 35 & yes & yes & NA & NA & NA\\\\\n",
       "\\end{tabular}\n"
      ],
      "text/markdown": [
       "\n",
       "A data.frame: 2 × 23\n",
       "\n",
       "| <!--/--> | Samp_trip &lt;int&gt; | file &lt;chr&gt; | zhang_ID &lt;chr&gt; | reef &lt;chr&gt; | collection_date &lt;chr&gt; | Month &lt;chr&gt; | Year &lt;int&gt; | Si.uM. &lt;dbl&gt; | NO2.uM. &lt;dbl&gt; | N.N.uM. &lt;dbl&gt; | ⋯ ⋯ | date_processed &lt;chr&gt; | STD &lt;chr&gt; | Wash &lt;chr&gt; | watercolumn &lt;chr&gt; | transect &lt;chr&gt; | filtered &lt;chr&gt; | chloroform &lt;chr&gt; | dilution_factor &lt;int&gt; | latitude &lt;dbl&gt; | longitude &lt;dbl&gt; |\n",
       "|---|---|---|---|---|---|---|---|---|---|---|---|---|---|---|---|---|---|---|---|---|---|\n",
       "| 1 | 1 | POR_nutrients_samp_trip1 | Zhang-03 | cf | 26-Nov-18 | November | 2018 | 1.153 | 0.023 | 0.673 | ⋯ | 12/20/18 | LNSW | LNSW | bottom | AC12  | yes | yes | NA | NA | NA |\n",
       "| 2 | 2 | POR_nutrients_samp_trip2 | Zhang-01 | cf | 28-Feb-19 | February | 2019 | 0.335 | 0.022 | 0.996 | ⋯ | 3/7/19   | LNSW | LNSW | bottom | Ap 35 | yes | yes | NA | NA | NA |\n",
       "\n"
      ],
      "text/plain": [
       "  Samp_trip file                     zhang_ID reef collection_date Month   \n",
       "1 1         POR_nutrients_samp_trip1 Zhang-03 cf   26-Nov-18       November\n",
       "2 2         POR_nutrients_samp_trip2 Zhang-01 cf   28-Feb-19       February\n",
       "  Year Si.uM. NO2.uM. N.N.uM. ⋯ date_processed STD  Wash watercolumn transect\n",
       "1 2018 1.153  0.023   0.673   ⋯ 12/20/18       LNSW LNSW bottom      AC12    \n",
       "2 2019 0.335  0.022   0.996   ⋯ 3/7/19         LNSW LNSW bottom      Ap 35   \n",
       "  filtered chloroform dilution_factor latitude longitude\n",
       "1 yes      yes        NA              NA       NA       \n",
       "2 yes      yes        NA              NA       NA       "
      ]
     },
     "metadata": {},
     "output_type": "display_data"
    },
    {
     "data": {
      "text/html": [
       "<style>\n",
       ".list-inline {list-style: none; margin:0; padding: 0}\n",
       ".list-inline>li {display: inline-block}\n",
       ".list-inline>li:not(:last-child)::after {content: \"\\00b7\"; padding: 0 .5ex}\n",
       "</style>\n",
       "<ol class=list-inline><li>80</li><li>23</li></ol>\n"
      ],
      "text/latex": [
       "\\begin{enumerate*}\n",
       "\\item 80\n",
       "\\item 23\n",
       "\\end{enumerate*}\n"
      ],
      "text/markdown": [
       "1. 80\n",
       "2. 23\n",
       "\n",
       "\n"
      ],
      "text/plain": [
       "[1] 80 23"
      ]
     },
     "metadata": {},
     "output_type": "display_data"
    },
    {
     "data": {
      "text/html": [
       "<table class=\"dataframe\">\n",
       "<caption>A data.frame: 2 × 10</caption>\n",
       "<thead>\n",
       "\t<tr><th></th><th scope=col>reef</th><th scope=col>collection_date</th><th scope=col>Year</th><th scope=col>Month</th><th scope=col>Lat_decimal</th><th scope=col>Long_decimal</th><th scope=col>avgchla_mgm.3</th><th scope=col>sdchla_mgm.3</th><th scope=col>avgSST_degC</th><th scope=col>sdSST_degC</th></tr>\n",
       "\t<tr><th></th><th scope=col>&lt;chr&gt;</th><th scope=col>&lt;chr&gt;</th><th scope=col>&lt;int&gt;</th><th scope=col>&lt;chr&gt;</th><th scope=col>&lt;dbl&gt;</th><th scope=col>&lt;dbl&gt;</th><th scope=col>&lt;dbl&gt;</th><th scope=col>&lt;dbl&gt;</th><th scope=col>&lt;dbl&gt;</th><th scope=col>&lt;dbl&gt;</th></tr>\n",
       "</thead>\n",
       "<tbody>\n",
       "\t<tr><th scope=row>1</th><td>pr</td><td>14-Nov-18</td><td>2018</td><td>November</td><td>24.985</td><td>-80.416</td><td>0.9965124</td><td>0.6535258</td><td>27.42548</td><td>0.1301989</td></tr>\n",
       "\t<tr><th scope=row>2</th><td>gr</td><td>15-Nov-18</td><td>2018</td><td>November</td><td>25.110</td><td>-80.304</td><td>0.7318034</td><td>0.4607393</td><td>27.50922</td><td>0.1089550</td></tr>\n",
       "</tbody>\n",
       "</table>\n"
      ],
      "text/latex": [
       "A data.frame: 2 × 10\n",
       "\\begin{tabular}{r|llllllllll}\n",
       "  & reef & collection\\_date & Year & Month & Lat\\_decimal & Long\\_decimal & avgchla\\_mgm.3 & sdchla\\_mgm.3 & avgSST\\_degC & sdSST\\_degC\\\\\n",
       "  & <chr> & <chr> & <int> & <chr> & <dbl> & <dbl> & <dbl> & <dbl> & <dbl> & <dbl>\\\\\n",
       "\\hline\n",
       "\t1 & pr & 14-Nov-18 & 2018 & November & 24.985 & -80.416 & 0.9965124 & 0.6535258 & 27.42548 & 0.1301989\\\\\n",
       "\t2 & gr & 15-Nov-18 & 2018 & November & 25.110 & -80.304 & 0.7318034 & 0.4607393 & 27.50922 & 0.1089550\\\\\n",
       "\\end{tabular}\n"
      ],
      "text/markdown": [
       "\n",
       "A data.frame: 2 × 10\n",
       "\n",
       "| <!--/--> | reef &lt;chr&gt; | collection_date &lt;chr&gt; | Year &lt;int&gt; | Month &lt;chr&gt; | Lat_decimal &lt;dbl&gt; | Long_decimal &lt;dbl&gt; | avgchla_mgm.3 &lt;dbl&gt; | sdchla_mgm.3 &lt;dbl&gt; | avgSST_degC &lt;dbl&gt; | sdSST_degC &lt;dbl&gt; |\n",
       "|---|---|---|---|---|---|---|---|---|---|---|\n",
       "| 1 | pr | 14-Nov-18 | 2018 | November | 24.985 | -80.416 | 0.9965124 | 0.6535258 | 27.42548 | 0.1301989 |\n",
       "| 2 | gr | 15-Nov-18 | 2018 | November | 25.110 | -80.304 | 0.7318034 | 0.4607393 | 27.50922 | 0.1089550 |\n",
       "\n"
      ],
      "text/plain": [
       "  reef collection_date Year Month    Lat_decimal Long_decimal avgchla_mgm.3\n",
       "1 pr   14-Nov-18       2018 November 24.985      -80.416      0.9965124    \n",
       "2 gr   15-Nov-18       2018 November 25.110      -80.304      0.7318034    \n",
       "  sdchla_mgm.3 avgSST_degC sdSST_degC\n",
       "1 0.6535258    27.42548    0.1301989 \n",
       "2 0.4607393    27.50922    0.1089550 "
      ]
     },
     "metadata": {},
     "output_type": "display_data"
    },
    {
     "data": {
      "text/html": [
       "<style>\n",
       ".list-inline {list-style: none; margin:0; padding: 0}\n",
       ".list-inline>li {display: inline-block}\n",
       ".list-inline>li:not(:last-child)::after {content: \"\\00b7\"; padding: 0 .5ex}\n",
       "</style>\n",
       "<ol class=list-inline><li>20</li><li>10</li></ol>\n"
      ],
      "text/latex": [
       "\\begin{enumerate*}\n",
       "\\item 20\n",
       "\\item 10\n",
       "\\end{enumerate*}\n"
      ],
      "text/markdown": [
       "1. 20\n",
       "2. 10\n",
       "\n",
       "\n"
      ],
      "text/plain": [
       "[1] 20 10"
      ]
     },
     "metadata": {},
     "output_type": "display_data"
    },
    {
     "data": {
      "text/html": [
       "<table class=\"dataframe\">\n",
       "<caption>A data.frame: 2 × 8</caption>\n",
       "<thead>\n",
       "\t<tr><th></th><th scope=col>collection_date</th><th scope=col>Speed.cm.s.</th><th scope=col>Bearing.degrees.</th><th scope=col>Velocity.N.cm.s.</th><th scope=col>Velocity.E.cm.s.</th><th scope=col>Temperature.C.</th><th scope=col>reef</th><th scope=col>place</th></tr>\n",
       "\t<tr><th></th><th scope=col>&lt;chr&gt;</th><th scope=col>&lt;dbl&gt;</th><th scope=col>&lt;dbl&gt;</th><th scope=col>&lt;dbl&gt;</th><th scope=col>&lt;dbl&gt;</th><th scope=col>&lt;dbl&gt;</th><th scope=col>&lt;chr&gt;</th><th scope=col>&lt;chr&gt;</th></tr>\n",
       "</thead>\n",
       "<tbody>\n",
       "\t<tr><th scope=row>1</th><td>22-Oct-18</td><td>36.25</td><td>156.41</td><td>-33.22</td><td>14.51</td><td>23.4131</td><td>cf</td><td>top</td></tr>\n",
       "\t<tr><th scope=row>2</th><td>22-Oct-18</td><td>36.25</td><td>156.39</td><td>-33.22</td><td>14.52</td><td>23.2627</td><td>cf</td><td>top</td></tr>\n",
       "</tbody>\n",
       "</table>\n"
      ],
      "text/latex": [
       "A data.frame: 2 × 8\n",
       "\\begin{tabular}{r|llllllll}\n",
       "  & collection\\_date & Speed.cm.s. & Bearing.degrees. & Velocity.N.cm.s. & Velocity.E.cm.s. & Temperature.C. & reef & place\\\\\n",
       "  & <chr> & <dbl> & <dbl> & <dbl> & <dbl> & <dbl> & <chr> & <chr>\\\\\n",
       "\\hline\n",
       "\t1 & 22-Oct-18 & 36.25 & 156.41 & -33.22 & 14.51 & 23.4131 & cf & top\\\\\n",
       "\t2 & 22-Oct-18 & 36.25 & 156.39 & -33.22 & 14.52 & 23.2627 & cf & top\\\\\n",
       "\\end{tabular}\n"
      ],
      "text/markdown": [
       "\n",
       "A data.frame: 2 × 8\n",
       "\n",
       "| <!--/--> | collection_date &lt;chr&gt; | Speed.cm.s. &lt;dbl&gt; | Bearing.degrees. &lt;dbl&gt; | Velocity.N.cm.s. &lt;dbl&gt; | Velocity.E.cm.s. &lt;dbl&gt; | Temperature.C. &lt;dbl&gt; | reef &lt;chr&gt; | place &lt;chr&gt; |\n",
       "|---|---|---|---|---|---|---|---|---|\n",
       "| 1 | 22-Oct-18 | 36.25 | 156.41 | -33.22 | 14.51 | 23.4131 | cf | top |\n",
       "| 2 | 22-Oct-18 | 36.25 | 156.39 | -33.22 | 14.52 | 23.2627 | cf | top |\n",
       "\n"
      ],
      "text/plain": [
       "  collection_date Speed.cm.s. Bearing.degrees. Velocity.N.cm.s.\n",
       "1 22-Oct-18       36.25       156.41           -33.22          \n",
       "2 22-Oct-18       36.25       156.39           -33.22          \n",
       "  Velocity.E.cm.s. Temperature.C. reef place\n",
       "1 14.51            23.4131        cf   top  \n",
       "2 14.52            23.2627        cf   top  "
      ]
     },
     "metadata": {},
     "output_type": "display_data"
    },
    {
     "data": {
      "text/html": [
       "<style>\n",
       ".list-inline {list-style: none; margin:0; padding: 0}\n",
       ".list-inline>li {display: inline-block}\n",
       ".list-inline>li:not(:last-child)::after {content: \"\\00b7\"; padding: 0 .5ex}\n",
       "</style>\n",
       "<ol class=list-inline><li>730278</li><li>8</li></ol>\n"
      ],
      "text/latex": [
       "\\begin{enumerate*}\n",
       "\\item 730278\n",
       "\\item 8\n",
       "\\end{enumerate*}\n"
      ],
      "text/markdown": [
       "1. 730278\n",
       "2. 8\n",
       "\n",
       "\n"
      ],
      "text/plain": [
       "[1] 730278      8"
      ]
     },
     "metadata": {},
     "output_type": "display_data"
    },
    {
     "data": {
      "text/html": [
       "<table class=\"dataframe\">\n",
       "<caption>A data.frame: 2 × 17</caption>\n",
       "<thead>\n",
       "\t<tr><th></th><th scope=col>reef</th><th scope=col>Genotype</th><th scope=col>Fragment_num</th><th scope=col>collection_date</th><th scope=col>day</th><th scope=col>Month</th><th scope=col>Year</th><th scope=col>Survey.</th><th scope=col>Fragment_number</th><th scope=col>LiveFrag</th><th scope=col>ColType</th><th scope=col>L</th><th scope=col>W</th><th scope=col>H</th><th scope=col>live_per</th><th scope=col>Adjusted.Area</th><th scope=col>S01FragCount</th></tr>\n",
       "\t<tr><th></th><th scope=col>&lt;chr&gt;</th><th scope=col>&lt;chr&gt;</th><th scope=col>&lt;int&gt;</th><th scope=col>&lt;chr&gt;</th><th scope=col>&lt;int&gt;</th><th scope=col>&lt;chr&gt;</th><th scope=col>&lt;int&gt;</th><th scope=col>&lt;int&gt;</th><th scope=col>&lt;chr&gt;</th><th scope=col>&lt;int&gt;</th><th scope=col>&lt;chr&gt;</th><th scope=col>&lt;int&gt;</th><th scope=col>&lt;int&gt;</th><th scope=col>&lt;int&gt;</th><th scope=col>&lt;chr&gt;</th><th scope=col>&lt;dbl&gt;</th><th scope=col>&lt;int&gt;</th></tr>\n",
       "</thead>\n",
       "<tbody>\n",
       "\t<tr><th scope=row>1</th><td>gr</td><td>ML2</td><td>1</td><td>15-Jun-18</td><td>15</td><td>June</td><td>2018</td><td>1</td><td>A</td><td>1</td><td>L</td><td>7</td><td>NA</td><td>NA</td><td>100.00%</td><td>27.2065</td><td>7</td></tr>\n",
       "\t<tr><th scope=row>2</th><td>gr</td><td>ML2</td><td>1</td><td>15-Jun-18</td><td>15</td><td>June</td><td>2018</td><td>1</td><td>B</td><td>1</td><td>L</td><td>8</td><td>NA</td><td>NA</td><td>100.00%</td><td>23.2441</td><td>7</td></tr>\n",
       "</tbody>\n",
       "</table>\n"
      ],
      "text/latex": [
       "A data.frame: 2 × 17\n",
       "\\begin{tabular}{r|lllllllllllllllll}\n",
       "  & reef & Genotype & Fragment\\_num & collection\\_date & day & Month & Year & Survey. & Fragment\\_number & LiveFrag & ColType & L & W & H & live\\_per & Adjusted.Area & S01FragCount\\\\\n",
       "  & <chr> & <chr> & <int> & <chr> & <int> & <chr> & <int> & <int> & <chr> & <int> & <chr> & <int> & <int> & <int> & <chr> & <dbl> & <int>\\\\\n",
       "\\hline\n",
       "\t1 & gr & ML2 & 1 & 15-Jun-18 & 15 & June & 2018 & 1 & A & 1 & L & 7 & NA & NA & 100.00\\% & 27.2065 & 7\\\\\n",
       "\t2 & gr & ML2 & 1 & 15-Jun-18 & 15 & June & 2018 & 1 & B & 1 & L & 8 & NA & NA & 100.00\\% & 23.2441 & 7\\\\\n",
       "\\end{tabular}\n"
      ],
      "text/markdown": [
       "\n",
       "A data.frame: 2 × 17\n",
       "\n",
       "| <!--/--> | reef &lt;chr&gt; | Genotype &lt;chr&gt; | Fragment_num &lt;int&gt; | collection_date &lt;chr&gt; | day &lt;int&gt; | Month &lt;chr&gt; | Year &lt;int&gt; | Survey. &lt;int&gt; | Fragment_number &lt;chr&gt; | LiveFrag &lt;int&gt; | ColType &lt;chr&gt; | L &lt;int&gt; | W &lt;int&gt; | H &lt;int&gt; | live_per &lt;chr&gt; | Adjusted.Area &lt;dbl&gt; | S01FragCount &lt;int&gt; |\n",
       "|---|---|---|---|---|---|---|---|---|---|---|---|---|---|---|---|---|---|\n",
       "| 1 | gr | ML2 | 1 | 15-Jun-18 | 15 | June | 2018 | 1 | A | 1 | L | 7 | NA | NA | 100.00% | 27.2065 | 7 |\n",
       "| 2 | gr | ML2 | 1 | 15-Jun-18 | 15 | June | 2018 | 1 | B | 1 | L | 8 | NA | NA | 100.00% | 23.2441 | 7 |\n",
       "\n"
      ],
      "text/plain": [
       "  reef Genotype Fragment_num collection_date day Month Year Survey.\n",
       "1 gr   ML2      1            15-Jun-18       15  June  2018 1      \n",
       "2 gr   ML2      1            15-Jun-18       15  June  2018 1      \n",
       "  Fragment_number LiveFrag ColType L W  H  live_per Adjusted.Area S01FragCount\n",
       "1 A               1        L       7 NA NA 100.00%  27.2065       7           \n",
       "2 B               1        L       8 NA NA 100.00%  23.2441       7           "
      ]
     },
     "metadata": {},
     "output_type": "display_data"
    },
    {
     "data": {
      "text/html": [
       "<style>\n",
       ".list-inline {list-style: none; margin:0; padding: 0}\n",
       ".list-inline>li {display: inline-block}\n",
       ".list-inline>li:not(:last-child)::after {content: \"\\00b7\"; padding: 0 .5ex}\n",
       "</style>\n",
       "<ol class=list-inline><li>9013</li><li>17</li></ol>\n"
      ],
      "text/latex": [
       "\\begin{enumerate*}\n",
       "\\item 9013\n",
       "\\item 17\n",
       "\\end{enumerate*}\n"
      ],
      "text/markdown": [
       "1. 9013\n",
       "2. 17\n",
       "\n",
       "\n"
      ],
      "text/plain": [
       "[1] 9013   17"
      ]
     },
     "metadata": {},
     "output_type": "display_data"
    }
   ],
   "source": [
    "\n",
    "nutri = read.csv(\"/Users/stephanie.rosales/Documents/omics_projects/POR_16S/CoralPersistence/metadata/POR_meta_nutrients.csv\", \n",
    "                header = T\n",
    ")\n",
    "head(nutri, n=2)\n",
    "dim(nutri)\n",
    "\n",
    "\n",
    "sst = read.csv(\"/Users/stephanie.rosales/Documents/omics_projects/POR_16S/CoralPersistence/metadata/POR_meta_sst_chla.csv\", \n",
    "                header = T\n",
    ")\n",
    "head(sst, n=2)\n",
    "dim(sst)\n",
    "\n",
    "tcm = read.csv(\"/Users/stephanie.rosales/Documents/omics_projects/POR_16S/CoralPersistence/metadata/POR_TCM_combo.csv\", \n",
    "                header = T\n",
    ")\n",
    "head(tcm, n=2)\n",
    "dim(tcm)\n",
    "\n",
    "\n",
    "live = read.csv(\"/Users/stephanie.rosales/Documents/omics_projects/POR_16S/CoralPersistence/metadata/POR_meta_apal_live.csv\", \n",
    "                header = T\n",
    ")\n",
    "head(live, n=2)\n",
    "dim(live)"
   ]
  },
  {
   "cell_type": "code",
   "execution_count": 20,
   "id": "68989c01-51db-42b4-a21e-a805ef5f0ebc",
   "metadata": {},
   "outputs": [],
   "source": [
    "#load(\"/Users/stephanie.rosales/Documents/omics_projects/POR_16S/CoralPersistence/data/POR_treatment_4_analysis.RData\")\n",
    " #write.csv(POR_treat_4_analysis, file=\"/Users/stephanie.rosales/Documents/omics_projects/POR_16S/CoralPersistence/metadata/POR_meta_seq.csv\")"
   ]
  },
  {
   "cell_type": "code",
   "execution_count": 21,
   "id": "33d59f23-1edc-419c-8a23-bd9fc464a497",
   "metadata": {},
   "outputs": [
    {
     "data": {
      "text/html": [
       "<table class=\"dataframe\">\n",
       "<caption>A data.frame: 2 × 26</caption>\n",
       "<thead>\n",
       "\t<tr><th></th><th scope=col>sample_ID</th><th scope=col>bag_num</th><th scope=col>sample_ID2</th><th scope=col>Fragment_number</th><th scope=col>Health</th><th scope=col>collection_date</th><th scope=col>Month</th><th scope=col>Year</th><th scope=col>Samp_trip</th><th scope=col>joining_info</th><th scope=col>⋯</th><th scope=col>sampling_trip</th><th scope=col>X</th><th scope=col>colour_reef</th><th scope=col>colour_genotype</th><th scope=col>colour_reef_genotype</th><th scope=col>colour_timepoint</th><th scope=col>colour_timepoint_reef</th><th scope=col>cluster_latitude</th><th scope=col>cluster_longitude</th><th scope=col>cluster_depth</th></tr>\n",
       "\t<tr><th></th><th scope=col>&lt;chr&gt;</th><th scope=col>&lt;chr&gt;</th><th scope=col>&lt;chr&gt;</th><th scope=col>&lt;chr&gt;</th><th scope=col>&lt;chr&gt;</th><th scope=col>&lt;chr&gt;</th><th scope=col>&lt;chr&gt;</th><th scope=col>&lt;int&gt;</th><th scope=col>&lt;chr&gt;</th><th scope=col>&lt;chr&gt;</th><th scope=col>⋯</th><th scope=col>&lt;int&gt;</th><th scope=col>&lt;lgl&gt;</th><th scope=col>&lt;chr&gt;</th><th scope=col>&lt;chr&gt;</th><th scope=col>&lt;chr&gt;</th><th scope=col>&lt;chr&gt;</th><th scope=col>&lt;chr&gt;</th><th scope=col>&lt;dbl&gt;</th><th scope=col>&lt;dbl&gt;</th><th scope=col>&lt;dbl&gt;</th></tr>\n",
       "</thead>\n",
       "<tbody>\n",
       "\t<tr><th scope=row>1</th><td>apal_cf_gML2_cl78_frB_AH_2019-06-25</td><td>bagnumber-1009</td><td>apal_cf_gML2_cl78_frB_AH_2019-06-25</td><td>B</td><td>AH</td><td>25-Jun-19</td><td>June</td><td>2019</td><td>Trip_3</td><td>ML2_Cluster_78_B_cf</td><td>⋯</td><td>3</td><td>NA</td><td>blue4</td><td>orangered</td><td>yellow3</td><td>maroon2</td><td>black</td><td>25.2207</td><td>-80.21037</td><td>20.9</td></tr>\n",
       "\t<tr><th scope=row>2</th><td>apal_cf_gML2_cl78_fr3_AH_2019-06-25</td><td>bagnumber-1010</td><td>apal_cf_gML2_cl78_fr3_AH_2019-06-25</td><td>3</td><td>AH</td><td>25-Jun-19</td><td>June</td><td>2019</td><td>Trip_3</td><td>ML2_Cluster_78_3_cf</td><td>⋯</td><td>3</td><td>NA</td><td>blue4</td><td>orangered</td><td>yellow3</td><td>maroon2</td><td>black</td><td>25.2207</td><td>-80.21037</td><td>20.9</td></tr>\n",
       "</tbody>\n",
       "</table>\n"
      ],
      "text/latex": [
       "A data.frame: 2 × 26\n",
       "\\begin{tabular}{r|lllllllllllllllllllll}\n",
       "  & sample\\_ID & bag\\_num & sample\\_ID2 & Fragment\\_number & Health & collection\\_date & Month & Year & Samp\\_trip & joining\\_info & ⋯ & sampling\\_trip & X & colour\\_reef & colour\\_genotype & colour\\_reef\\_genotype & colour\\_timepoint & colour\\_timepoint\\_reef & cluster\\_latitude & cluster\\_longitude & cluster\\_depth\\\\\n",
       "  & <chr> & <chr> & <chr> & <chr> & <chr> & <chr> & <chr> & <int> & <chr> & <chr> & ⋯ & <int> & <lgl> & <chr> & <chr> & <chr> & <chr> & <chr> & <dbl> & <dbl> & <dbl>\\\\\n",
       "\\hline\n",
       "\t1 & apal\\_cf\\_gML2\\_cl78\\_frB\\_AH\\_2019-06-25 & bagnumber-1009 & apal\\_cf\\_gML2\\_cl78\\_frB\\_AH\\_2019-06-25 & B & AH & 25-Jun-19 & June & 2019 & Trip\\_3 & ML2\\_Cluster\\_78\\_B\\_cf & ⋯ & 3 & NA & blue4 & orangered & yellow3 & maroon2 & black & 25.2207 & -80.21037 & 20.9\\\\\n",
       "\t2 & apal\\_cf\\_gML2\\_cl78\\_fr3\\_AH\\_2019-06-25 & bagnumber-1010 & apal\\_cf\\_gML2\\_cl78\\_fr3\\_AH\\_2019-06-25 & 3 & AH & 25-Jun-19 & June & 2019 & Trip\\_3 & ML2\\_Cluster\\_78\\_3\\_cf & ⋯ & 3 & NA & blue4 & orangered & yellow3 & maroon2 & black & 25.2207 & -80.21037 & 20.9\\\\\n",
       "\\end{tabular}\n"
      ],
      "text/markdown": [
       "\n",
       "A data.frame: 2 × 26\n",
       "\n",
       "| <!--/--> | sample_ID &lt;chr&gt; | bag_num &lt;chr&gt; | sample_ID2 &lt;chr&gt; | Fragment_number &lt;chr&gt; | Health &lt;chr&gt; | collection_date &lt;chr&gt; | Month &lt;chr&gt; | Year &lt;int&gt; | Samp_trip &lt;chr&gt; | joining_info &lt;chr&gt; | ⋯ ⋯ | sampling_trip &lt;int&gt; | X &lt;lgl&gt; | colour_reef &lt;chr&gt; | colour_genotype &lt;chr&gt; | colour_reef_genotype &lt;chr&gt; | colour_timepoint &lt;chr&gt; | colour_timepoint_reef &lt;chr&gt; | cluster_latitude &lt;dbl&gt; | cluster_longitude &lt;dbl&gt; | cluster_depth &lt;dbl&gt; |\n",
       "|---|---|---|---|---|---|---|---|---|---|---|---|---|---|---|---|---|---|---|---|---|---|\n",
       "| 1 | apal_cf_gML2_cl78_frB_AH_2019-06-25 | bagnumber-1009 | apal_cf_gML2_cl78_frB_AH_2019-06-25 | B | AH | 25-Jun-19 | June | 2019 | Trip_3 | ML2_Cluster_78_B_cf | ⋯ | 3 | NA | blue4 | orangered | yellow3 | maroon2 | black | 25.2207 | -80.21037 | 20.9 |\n",
       "| 2 | apal_cf_gML2_cl78_fr3_AH_2019-06-25 | bagnumber-1010 | apal_cf_gML2_cl78_fr3_AH_2019-06-25 | 3 | AH | 25-Jun-19 | June | 2019 | Trip_3 | ML2_Cluster_78_3_cf | ⋯ | 3 | NA | blue4 | orangered | yellow3 | maroon2 | black | 25.2207 | -80.21037 | 20.9 |\n",
       "\n"
      ],
      "text/plain": [
       "  sample_ID                           bag_num       \n",
       "1 apal_cf_gML2_cl78_frB_AH_2019-06-25 bagnumber-1009\n",
       "2 apal_cf_gML2_cl78_fr3_AH_2019-06-25 bagnumber-1010\n",
       "  sample_ID2                          Fragment_number Health collection_date\n",
       "1 apal_cf_gML2_cl78_frB_AH_2019-06-25 B               AH     25-Jun-19      \n",
       "2 apal_cf_gML2_cl78_fr3_AH_2019-06-25 3               AH     25-Jun-19      \n",
       "  Month Year Samp_trip joining_info        ⋯ sampling_trip X  colour_reef\n",
       "1 June  2019 Trip_3    ML2_Cluster_78_B_cf ⋯ 3             NA blue4      \n",
       "2 June  2019 Trip_3    ML2_Cluster_78_3_cf ⋯ 3             NA blue4      \n",
       "  colour_genotype colour_reef_genotype colour_timepoint colour_timepoint_reef\n",
       "1 orangered       yellow3              maroon2          black                \n",
       "2 orangered       yellow3              maroon2          black                \n",
       "  cluster_latitude cluster_longitude cluster_depth\n",
       "1 25.2207          -80.21037         20.9         \n",
       "2 25.2207          -80.21037         20.9         "
      ]
     },
     "metadata": {},
     "output_type": "display_data"
    },
    {
     "data": {
      "text/html": [
       "<style>\n",
       ".list-inline {list-style: none; margin:0; padding: 0}\n",
       ".list-inline>li {display: inline-block}\n",
       ".list-inline>li:not(:last-child)::after {content: \"\\00b7\"; padding: 0 .5ex}\n",
       "</style>\n",
       "<ol class=list-inline><li>363</li><li>26</li></ol>\n"
      ],
      "text/latex": [
       "\\begin{enumerate*}\n",
       "\\item 363\n",
       "\\item 26\n",
       "\\end{enumerate*}\n"
      ],
      "text/markdown": [
       "1. 363\n",
       "2. 26\n",
       "\n",
       "\n"
      ],
      "text/plain": [
       "[1] 363  26"
      ]
     },
     "metadata": {},
     "output_type": "display_data"
    }
   ],
   "source": [
    "#added column header\n",
    "meta = read.csv(\"/Users/stephanie.rosales/Documents/omics_projects/POR_16S/CoralPersistence/metadata/POR_meta_seq.csv\", \n",
    "                header = T\n",
    ")\n",
    "head(meta, n=2)\n",
    "dim(meta)"
   ]
  },
  {
   "cell_type": "code",
   "execution_count": 22,
   "id": "8536cd0c-ead8-4c8c-ac5f-48b2a6d746ac",
   "metadata": {},
   "outputs": [
    {
     "data": {
      "text/html": [
       "<table class=\"dataframe\">\n",
       "<caption>A data.frame: 2 × 23</caption>\n",
       "<thead>\n",
       "\t<tr><th></th><th scope=col>Samp_trip</th><th scope=col>file</th><th scope=col>zhang_ID</th><th scope=col>reef</th><th scope=col>collection_date</th><th scope=col>Month</th><th scope=col>Year</th><th scope=col>Si.uM.</th><th scope=col>NO2.uM.</th><th scope=col>N.N.uM.</th><th scope=col>⋯</th><th scope=col>date_processed</th><th scope=col>STD</th><th scope=col>Wash</th><th scope=col>watercolumn</th><th scope=col>transect</th><th scope=col>filtered</th><th scope=col>chloroform</th><th scope=col>dilution_factor</th><th scope=col>latitude</th><th scope=col>longitude</th></tr>\n",
       "\t<tr><th></th><th scope=col>&lt;int&gt;</th><th scope=col>&lt;chr&gt;</th><th scope=col>&lt;chr&gt;</th><th scope=col>&lt;chr&gt;</th><th scope=col>&lt;chr&gt;</th><th scope=col>&lt;chr&gt;</th><th scope=col>&lt;int&gt;</th><th scope=col>&lt;dbl&gt;</th><th scope=col>&lt;dbl&gt;</th><th scope=col>&lt;dbl&gt;</th><th scope=col>⋯</th><th scope=col>&lt;chr&gt;</th><th scope=col>&lt;chr&gt;</th><th scope=col>&lt;chr&gt;</th><th scope=col>&lt;chr&gt;</th><th scope=col>&lt;chr&gt;</th><th scope=col>&lt;chr&gt;</th><th scope=col>&lt;chr&gt;</th><th scope=col>&lt;int&gt;</th><th scope=col>&lt;dbl&gt;</th><th scope=col>&lt;dbl&gt;</th></tr>\n",
       "</thead>\n",
       "<tbody>\n",
       "\t<tr><th scope=row>1</th><td>1</td><td>POR_nutrients_samp_trip1</td><td>Zhang-03</td><td>cf</td><td>26-Nov-18</td><td>November</td><td>2018</td><td>1.153</td><td>0.023</td><td>0.673</td><td>⋯</td><td>12/20/18</td><td>LNSW</td><td>LNSW</td><td>bottom</td><td>AC12 </td><td>yes</td><td>yes</td><td>NA</td><td>NA</td><td>NA</td></tr>\n",
       "\t<tr><th scope=row>2</th><td>2</td><td>POR_nutrients_samp_trip2</td><td>Zhang-01</td><td>cf</td><td>28-Feb-19</td><td>February</td><td>2019</td><td>0.335</td><td>0.022</td><td>0.996</td><td>⋯</td><td>3/7/19  </td><td>LNSW</td><td>LNSW</td><td>bottom</td><td>Ap 35</td><td>yes</td><td>yes</td><td>NA</td><td>NA</td><td>NA</td></tr>\n",
       "</tbody>\n",
       "</table>\n"
      ],
      "text/latex": [
       "A data.frame: 2 × 23\n",
       "\\begin{tabular}{r|lllllllllllllllllllll}\n",
       "  & Samp\\_trip & file & zhang\\_ID & reef & collection\\_date & Month & Year & Si.uM. & NO2.uM. & N.N.uM. & ⋯ & date\\_processed & STD & Wash & watercolumn & transect & filtered & chloroform & dilution\\_factor & latitude & longitude\\\\\n",
       "  & <int> & <chr> & <chr> & <chr> & <chr> & <chr> & <int> & <dbl> & <dbl> & <dbl> & ⋯ & <chr> & <chr> & <chr> & <chr> & <chr> & <chr> & <chr> & <int> & <dbl> & <dbl>\\\\\n",
       "\\hline\n",
       "\t1 & 1 & POR\\_nutrients\\_samp\\_trip1 & Zhang-03 & cf & 26-Nov-18 & November & 2018 & 1.153 & 0.023 & 0.673 & ⋯ & 12/20/18 & LNSW & LNSW & bottom & AC12  & yes & yes & NA & NA & NA\\\\\n",
       "\t2 & 2 & POR\\_nutrients\\_samp\\_trip2 & Zhang-01 & cf & 28-Feb-19 & February & 2019 & 0.335 & 0.022 & 0.996 & ⋯ & 3/7/19   & LNSW & LNSW & bottom & Ap 35 & yes & yes & NA & NA & NA\\\\\n",
       "\\end{tabular}\n"
      ],
      "text/markdown": [
       "\n",
       "A data.frame: 2 × 23\n",
       "\n",
       "| <!--/--> | Samp_trip &lt;int&gt; | file &lt;chr&gt; | zhang_ID &lt;chr&gt; | reef &lt;chr&gt; | collection_date &lt;chr&gt; | Month &lt;chr&gt; | Year &lt;int&gt; | Si.uM. &lt;dbl&gt; | NO2.uM. &lt;dbl&gt; | N.N.uM. &lt;dbl&gt; | ⋯ ⋯ | date_processed &lt;chr&gt; | STD &lt;chr&gt; | Wash &lt;chr&gt; | watercolumn &lt;chr&gt; | transect &lt;chr&gt; | filtered &lt;chr&gt; | chloroform &lt;chr&gt; | dilution_factor &lt;int&gt; | latitude &lt;dbl&gt; | longitude &lt;dbl&gt; |\n",
       "|---|---|---|---|---|---|---|---|---|---|---|---|---|---|---|---|---|---|---|---|---|---|\n",
       "| 1 | 1 | POR_nutrients_samp_trip1 | Zhang-03 | cf | 26-Nov-18 | November | 2018 | 1.153 | 0.023 | 0.673 | ⋯ | 12/20/18 | LNSW | LNSW | bottom | AC12  | yes | yes | NA | NA | NA |\n",
       "| 2 | 2 | POR_nutrients_samp_trip2 | Zhang-01 | cf | 28-Feb-19 | February | 2019 | 0.335 | 0.022 | 0.996 | ⋯ | 3/7/19   | LNSW | LNSW | bottom | Ap 35 | yes | yes | NA | NA | NA |\n",
       "\n"
      ],
      "text/plain": [
       "  Samp_trip file                     zhang_ID reef collection_date Month   \n",
       "1 1         POR_nutrients_samp_trip1 Zhang-03 cf   26-Nov-18       November\n",
       "2 2         POR_nutrients_samp_trip2 Zhang-01 cf   28-Feb-19       February\n",
       "  Year Si.uM. NO2.uM. N.N.uM. ⋯ date_processed STD  Wash watercolumn transect\n",
       "1 2018 1.153  0.023   0.673   ⋯ 12/20/18       LNSW LNSW bottom      AC12    \n",
       "2 2019 0.335  0.022   0.996   ⋯ 3/7/19         LNSW LNSW bottom      Ap 35   \n",
       "  filtered chloroform dilution_factor latitude longitude\n",
       "1 yes      yes        NA              NA       NA       \n",
       "2 yes      yes        NA              NA       NA       "
      ]
     },
     "metadata": {},
     "output_type": "display_data"
    },
    {
     "data": {
      "text/html": [
       "<style>\n",
       ".list-inline {list-style: none; margin:0; padding: 0}\n",
       ".list-inline>li {display: inline-block}\n",
       ".list-inline>li:not(:last-child)::after {content: \"\\00b7\"; padding: 0 .5ex}\n",
       "</style>\n",
       "<ol class=list-inline><li>80</li><li>23</li></ol>\n"
      ],
      "text/latex": [
       "\\begin{enumerate*}\n",
       "\\item 80\n",
       "\\item 23\n",
       "\\end{enumerate*}\n"
      ],
      "text/markdown": [
       "1. 80\n",
       "2. 23\n",
       "\n",
       "\n"
      ],
      "text/plain": [
       "[1] 80 23"
      ]
     },
     "metadata": {},
     "output_type": "display_data"
    }
   ],
   "source": [
    "head(nutri, n=2)\n",
    "dim(nutri)"
   ]
  },
  {
   "cell_type": "code",
   "execution_count": 23,
   "id": "d4f38ed8-3a26-44ae-b0e6-b2be60d0d4f6",
   "metadata": {},
   "outputs": [
    {
     "name": "stderr",
     "output_type": "stream",
     "text": [
      "\u001b[1m\u001b[22m`summarise()` has grouped output by 'collection_date'. You can override using\n",
      "the `.groups` argument.\n",
      "\u001b[1m\u001b[22mJoining with `by = join_by(collection_date, reef, Year)`\n"
     ]
    },
    {
     "data": {
      "text/html": [
       "<table class=\"dataframe\">\n",
       "<caption>A grouped_df: 2 × 31</caption>\n",
       "<thead>\n",
       "\t<tr><th scope=col>collection_date</th><th scope=col>reef</th><th scope=col>Year</th><th scope=col>Si.uM.</th><th scope=col>NO2.uM.</th><th scope=col>N.N.uM.</th><th scope=col>NO3.uM.</th><th scope=col>PO4.uM.</th><th scope=col>sample_ID</th><th scope=col>bag_num</th><th scope=col>⋯</th><th scope=col>sampling_trip</th><th scope=col>X</th><th scope=col>colour_reef</th><th scope=col>colour_genotype</th><th scope=col>colour_reef_genotype</th><th scope=col>colour_timepoint</th><th scope=col>colour_timepoint_reef</th><th scope=col>cluster_latitude</th><th scope=col>cluster_longitude</th><th scope=col>cluster_depth</th></tr>\n",
       "\t<tr><th scope=col>&lt;chr&gt;</th><th scope=col>&lt;chr&gt;</th><th scope=col>&lt;dbl&gt;</th><th scope=col>&lt;dbl&gt;</th><th scope=col>&lt;dbl&gt;</th><th scope=col>&lt;dbl&gt;</th><th scope=col>&lt;dbl&gt;</th><th scope=col>&lt;dbl&gt;</th><th scope=col>&lt;chr&gt;</th><th scope=col>&lt;chr&gt;</th><th scope=col>⋯</th><th scope=col>&lt;int&gt;</th><th scope=col>&lt;lgl&gt;</th><th scope=col>&lt;chr&gt;</th><th scope=col>&lt;chr&gt;</th><th scope=col>&lt;chr&gt;</th><th scope=col>&lt;chr&gt;</th><th scope=col>&lt;chr&gt;</th><th scope=col>&lt;dbl&gt;</th><th scope=col>&lt;dbl&gt;</th><th scope=col>&lt;dbl&gt;</th></tr>\n",
       "</thead>\n",
       "<tbody>\n",
       "\t<tr><td>1-Mar-19</td><td>pr</td><td>2019</td><td>0.504</td><td>0.015</td><td>0.729</td><td>0.714</td><td>0.037</td><td>apal_pr_gCN2_cl75_fr3_AH_2019-03-01</td><td>bagnumber-584</td><td>⋯</td><td>2</td><td>NA</td><td>greenyellow</td><td>blue4</td><td>maroon2</td><td>blue4</td><td>orangered</td><td>24.98454</td><td>-80.41658</td><td>15.7</td></tr>\n",
       "\t<tr><td>1-Mar-19</td><td>pr</td><td>2019</td><td>0.504</td><td>0.015</td><td>0.729</td><td>0.714</td><td>0.037</td><td>apal_pr_gCN2_cl75_fr4_AH_2019-03-01</td><td>bagnumber-585</td><td>⋯</td><td>2</td><td>NA</td><td>greenyellow</td><td>blue4</td><td>maroon2</td><td>blue4</td><td>orangered</td><td>24.98454</td><td>-80.41658</td><td>15.7</td></tr>\n",
       "</tbody>\n",
       "</table>\n"
      ],
      "text/latex": [
       "A grouped\\_df: 2 × 31\n",
       "\\begin{tabular}{lllllllllllllllllllll}\n",
       " collection\\_date & reef & Year & Si.uM. & NO2.uM. & N.N.uM. & NO3.uM. & PO4.uM. & sample\\_ID & bag\\_num & ⋯ & sampling\\_trip & X & colour\\_reef & colour\\_genotype & colour\\_reef\\_genotype & colour\\_timepoint & colour\\_timepoint\\_reef & cluster\\_latitude & cluster\\_longitude & cluster\\_depth\\\\\n",
       " <chr> & <chr> & <dbl> & <dbl> & <dbl> & <dbl> & <dbl> & <dbl> & <chr> & <chr> & ⋯ & <int> & <lgl> & <chr> & <chr> & <chr> & <chr> & <chr> & <dbl> & <dbl> & <dbl>\\\\\n",
       "\\hline\n",
       "\t 1-Mar-19 & pr & 2019 & 0.504 & 0.015 & 0.729 & 0.714 & 0.037 & apal\\_pr\\_gCN2\\_cl75\\_fr3\\_AH\\_2019-03-01 & bagnumber-584 & ⋯ & 2 & NA & greenyellow & blue4 & maroon2 & blue4 & orangered & 24.98454 & -80.41658 & 15.7\\\\\n",
       "\t 1-Mar-19 & pr & 2019 & 0.504 & 0.015 & 0.729 & 0.714 & 0.037 & apal\\_pr\\_gCN2\\_cl75\\_fr4\\_AH\\_2019-03-01 & bagnumber-585 & ⋯ & 2 & NA & greenyellow & blue4 & maroon2 & blue4 & orangered & 24.98454 & -80.41658 & 15.7\\\\\n",
       "\\end{tabular}\n"
      ],
      "text/markdown": [
       "\n",
       "A grouped_df: 2 × 31\n",
       "\n",
       "| collection_date &lt;chr&gt; | reef &lt;chr&gt; | Year &lt;dbl&gt; | Si.uM. &lt;dbl&gt; | NO2.uM. &lt;dbl&gt; | N.N.uM. &lt;dbl&gt; | NO3.uM. &lt;dbl&gt; | PO4.uM. &lt;dbl&gt; | sample_ID &lt;chr&gt; | bag_num &lt;chr&gt; | ⋯ ⋯ | sampling_trip &lt;int&gt; | X &lt;lgl&gt; | colour_reef &lt;chr&gt; | colour_genotype &lt;chr&gt; | colour_reef_genotype &lt;chr&gt; | colour_timepoint &lt;chr&gt; | colour_timepoint_reef &lt;chr&gt; | cluster_latitude &lt;dbl&gt; | cluster_longitude &lt;dbl&gt; | cluster_depth &lt;dbl&gt; |\n",
       "|---|---|---|---|---|---|---|---|---|---|---|---|---|---|---|---|---|---|---|---|---|\n",
       "| 1-Mar-19 | pr | 2019 | 0.504 | 0.015 | 0.729 | 0.714 | 0.037 | apal_pr_gCN2_cl75_fr3_AH_2019-03-01 | bagnumber-584 | ⋯ | 2 | NA | greenyellow | blue4 | maroon2 | blue4 | orangered | 24.98454 | -80.41658 | 15.7 |\n",
       "| 1-Mar-19 | pr | 2019 | 0.504 | 0.015 | 0.729 | 0.714 | 0.037 | apal_pr_gCN2_cl75_fr4_AH_2019-03-01 | bagnumber-585 | ⋯ | 2 | NA | greenyellow | blue4 | maroon2 | blue4 | orangered | 24.98454 | -80.41658 | 15.7 |\n",
       "\n"
      ],
      "text/plain": [
       "  collection_date reef Year Si.uM. NO2.uM. N.N.uM. NO3.uM. PO4.uM.\n",
       "1 1-Mar-19        pr   2019 0.504  0.015   0.729   0.714   0.037  \n",
       "2 1-Mar-19        pr   2019 0.504  0.015   0.729   0.714   0.037  \n",
       "  sample_ID                           bag_num       ⋯ sampling_trip X \n",
       "1 apal_pr_gCN2_cl75_fr3_AH_2019-03-01 bagnumber-584 ⋯ 2             NA\n",
       "2 apal_pr_gCN2_cl75_fr4_AH_2019-03-01 bagnumber-585 ⋯ 2             NA\n",
       "  colour_reef colour_genotype colour_reef_genotype colour_timepoint\n",
       "1 greenyellow blue4           maroon2              blue4           \n",
       "2 greenyellow blue4           maroon2              blue4           \n",
       "  colour_timepoint_reef cluster_latitude cluster_longitude cluster_depth\n",
       "1 orangered             24.98454         -80.41658         15.7         \n",
       "2 orangered             24.98454         -80.41658         15.7         "
      ]
     },
     "metadata": {},
     "output_type": "display_data"
    }
   ],
   "source": [
    "nutri_sum= nutri %>%\n",
    "filter(chloroform==\"yes\") %>%\n",
    "filter(filtered==\"yes\") %>%\n",
    "select(-c(STD, Wash, file, zhang_ID, latitude,longitude, NH4.uM.,  dilution_factor, Samp_trip)) %>%\n",
    "group_by(collection_date, reef) %>%\n",
    "summarise(across(where(is.numeric), ~ mean(.x, na.rm = TRUE)))  %>%\n",
    "right_join(meta)\n",
    "\n",
    "head(nutri_sum, n=2)"
   ]
  },
  {
   "cell_type": "code",
   "execution_count": 24,
   "id": "4adabb16-ea80-4413-a646-24af31a3b85e",
   "metadata": {},
   "outputs": [
    {
     "data": {
      "text/html": [
       "<table class=\"dataframe\">\n",
       "<caption>A grouped_df: 2 × 39</caption>\n",
       "<thead>\n",
       "\t<tr><th scope=col>collection_date</th><th scope=col>reef</th><th scope=col>Year.x</th><th scope=col>Si.uM.</th><th scope=col>NO2.uM.</th><th scope=col>N.N.uM.</th><th scope=col>NO3.uM.</th><th scope=col>PO4.uM.</th><th scope=col>sample_ID</th><th scope=col>bag_num</th><th scope=col>⋯</th><th scope=col>cluster_longitude</th><th scope=col>cluster_depth</th><th scope=col>Year.y</th><th scope=col>Month.y</th><th scope=col>Lat_decimal</th><th scope=col>Long_decimal</th><th scope=col>avgchla_mgm.3</th><th scope=col>sdchla_mgm.3</th><th scope=col>avgSST_degC</th><th scope=col>sdSST_degC</th></tr>\n",
       "\t<tr><th scope=col>&lt;chr&gt;</th><th scope=col>&lt;chr&gt;</th><th scope=col>&lt;dbl&gt;</th><th scope=col>&lt;dbl&gt;</th><th scope=col>&lt;dbl&gt;</th><th scope=col>&lt;dbl&gt;</th><th scope=col>&lt;dbl&gt;</th><th scope=col>&lt;dbl&gt;</th><th scope=col>&lt;chr&gt;</th><th scope=col>&lt;chr&gt;</th><th scope=col>⋯</th><th scope=col>&lt;dbl&gt;</th><th scope=col>&lt;dbl&gt;</th><th scope=col>&lt;int&gt;</th><th scope=col>&lt;chr&gt;</th><th scope=col>&lt;dbl&gt;</th><th scope=col>&lt;dbl&gt;</th><th scope=col>&lt;dbl&gt;</th><th scope=col>&lt;dbl&gt;</th><th scope=col>&lt;dbl&gt;</th><th scope=col>&lt;dbl&gt;</th></tr>\n",
       "</thead>\n",
       "<tbody>\n",
       "\t<tr><td>1-Mar-19</td><td>pr</td><td>2019</td><td>0.504</td><td>0.015</td><td>0.729</td><td>0.714</td><td>0.037</td><td>apal_pr_gCN2_cl75_fr3_AH_2019-03-01</td><td>bagnumber-584</td><td>⋯</td><td>-80.41658</td><td>15.7</td><td>2019</td><td>March</td><td>24.985</td><td>-80.416</td><td>0.3999531</td><td>0.163012</td><td>25.99442</td><td>0.2483825</td></tr>\n",
       "\t<tr><td>1-Mar-19</td><td>pr</td><td>2019</td><td>0.504</td><td>0.015</td><td>0.729</td><td>0.714</td><td>0.037</td><td>apal_pr_gCN2_cl75_fr4_AH_2019-03-01</td><td>bagnumber-585</td><td>⋯</td><td>-80.41658</td><td>15.7</td><td>2019</td><td>March</td><td>24.985</td><td>-80.416</td><td>0.3999531</td><td>0.163012</td><td>25.99442</td><td>0.2483825</td></tr>\n",
       "</tbody>\n",
       "</table>\n"
      ],
      "text/latex": [
       "A grouped\\_df: 2 × 39\n",
       "\\begin{tabular}{lllllllllllllllllllll}\n",
       " collection\\_date & reef & Year.x & Si.uM. & NO2.uM. & N.N.uM. & NO3.uM. & PO4.uM. & sample\\_ID & bag\\_num & ⋯ & cluster\\_longitude & cluster\\_depth & Year.y & Month.y & Lat\\_decimal & Long\\_decimal & avgchla\\_mgm.3 & sdchla\\_mgm.3 & avgSST\\_degC & sdSST\\_degC\\\\\n",
       " <chr> & <chr> & <dbl> & <dbl> & <dbl> & <dbl> & <dbl> & <dbl> & <chr> & <chr> & ⋯ & <dbl> & <dbl> & <int> & <chr> & <dbl> & <dbl> & <dbl> & <dbl> & <dbl> & <dbl>\\\\\n",
       "\\hline\n",
       "\t 1-Mar-19 & pr & 2019 & 0.504 & 0.015 & 0.729 & 0.714 & 0.037 & apal\\_pr\\_gCN2\\_cl75\\_fr3\\_AH\\_2019-03-01 & bagnumber-584 & ⋯ & -80.41658 & 15.7 & 2019 & March & 24.985 & -80.416 & 0.3999531 & 0.163012 & 25.99442 & 0.2483825\\\\\n",
       "\t 1-Mar-19 & pr & 2019 & 0.504 & 0.015 & 0.729 & 0.714 & 0.037 & apal\\_pr\\_gCN2\\_cl75\\_fr4\\_AH\\_2019-03-01 & bagnumber-585 & ⋯ & -80.41658 & 15.7 & 2019 & March & 24.985 & -80.416 & 0.3999531 & 0.163012 & 25.99442 & 0.2483825\\\\\n",
       "\\end{tabular}\n"
      ],
      "text/markdown": [
       "\n",
       "A grouped_df: 2 × 39\n",
       "\n",
       "| collection_date &lt;chr&gt; | reef &lt;chr&gt; | Year.x &lt;dbl&gt; | Si.uM. &lt;dbl&gt; | NO2.uM. &lt;dbl&gt; | N.N.uM. &lt;dbl&gt; | NO3.uM. &lt;dbl&gt; | PO4.uM. &lt;dbl&gt; | sample_ID &lt;chr&gt; | bag_num &lt;chr&gt; | ⋯ ⋯ | cluster_longitude &lt;dbl&gt; | cluster_depth &lt;dbl&gt; | Year.y &lt;int&gt; | Month.y &lt;chr&gt; | Lat_decimal &lt;dbl&gt; | Long_decimal &lt;dbl&gt; | avgchla_mgm.3 &lt;dbl&gt; | sdchla_mgm.3 &lt;dbl&gt; | avgSST_degC &lt;dbl&gt; | sdSST_degC &lt;dbl&gt; |\n",
       "|---|---|---|---|---|---|---|---|---|---|---|---|---|---|---|---|---|---|---|---|---|\n",
       "| 1-Mar-19 | pr | 2019 | 0.504 | 0.015 | 0.729 | 0.714 | 0.037 | apal_pr_gCN2_cl75_fr3_AH_2019-03-01 | bagnumber-584 | ⋯ | -80.41658 | 15.7 | 2019 | March | 24.985 | -80.416 | 0.3999531 | 0.163012 | 25.99442 | 0.2483825 |\n",
       "| 1-Mar-19 | pr | 2019 | 0.504 | 0.015 | 0.729 | 0.714 | 0.037 | apal_pr_gCN2_cl75_fr4_AH_2019-03-01 | bagnumber-585 | ⋯ | -80.41658 | 15.7 | 2019 | March | 24.985 | -80.416 | 0.3999531 | 0.163012 | 25.99442 | 0.2483825 |\n",
       "\n"
      ],
      "text/plain": [
       "  collection_date reef Year.x Si.uM. NO2.uM. N.N.uM. NO3.uM. PO4.uM.\n",
       "1 1-Mar-19        pr   2019   0.504  0.015   0.729   0.714   0.037  \n",
       "2 1-Mar-19        pr   2019   0.504  0.015   0.729   0.714   0.037  \n",
       "  sample_ID                           bag_num       ⋯ cluster_longitude\n",
       "1 apal_pr_gCN2_cl75_fr3_AH_2019-03-01 bagnumber-584 ⋯ -80.41658        \n",
       "2 apal_pr_gCN2_cl75_fr4_AH_2019-03-01 bagnumber-585 ⋯ -80.41658        \n",
       "  cluster_depth Year.y Month.y Lat_decimal Long_decimal avgchla_mgm.3\n",
       "1 15.7          2019   March   24.985      -80.416      0.3999531    \n",
       "2 15.7          2019   March   24.985      -80.416      0.3999531    \n",
       "  sdchla_mgm.3 avgSST_degC sdSST_degC\n",
       "1 0.163012     25.99442    0.2483825 \n",
       "2 0.163012     25.99442    0.2483825 "
      ]
     },
     "metadata": {},
     "output_type": "display_data"
    },
    {
     "data": {
      "text/html": [
       "<style>\n",
       ".list-inline {list-style: none; margin:0; padding: 0}\n",
       ".list-inline>li {display: inline-block}\n",
       ".list-inline>li:not(:last-child)::after {content: \"\\00b7\"; padding: 0 .5ex}\n",
       "</style>\n",
       "<ol class=list-inline><li>363</li><li>39</li></ol>\n"
      ],
      "text/latex": [
       "\\begin{enumerate*}\n",
       "\\item 363\n",
       "\\item 39\n",
       "\\end{enumerate*}\n"
      ],
      "text/markdown": [
       "1. 363\n",
       "2. 39\n",
       "\n",
       "\n"
      ],
      "text/plain": [
       "[1] 363  39"
      ]
     },
     "metadata": {},
     "output_type": "display_data"
    }
   ],
   "source": [
    "sst_sum=nutri_sum %>%\n",
    "left_join(sst, join_by( collection_date,reef))\n",
    "\n",
    "head(sst_sum, n=2)\n",
    "dim(sst_sum)"
   ]
  },
  {
   "cell_type": "code",
   "execution_count": 25,
   "id": "d50cc85c-b8bc-4cab-8db0-6cbab6632409",
   "metadata": {},
   "outputs": [
    {
     "name": "stderr",
     "output_type": "stream",
     "text": [
      "\u001b[1m\u001b[22m`summarise()` has grouped output by 'collection_date', 'reef', 'Genotype',\n",
      "'Fragment_number', 'Month'. You can override using the `.groups` argument.\n",
      "\u001b[1m\u001b[22mJoining with `by = join_by(collection_date, reef, Genotype, Fragment_number)`\n"
     ]
    },
    {
     "data": {
      "text/html": [
       "<table class=\"dataframe\">\n",
       "<caption>A grouped_df: 2 × 50</caption>\n",
       "<thead>\n",
       "\t<tr><th scope=col>collection_date</th><th scope=col>reef</th><th scope=col>Genotype</th><th scope=col>Fragment_number</th><th scope=col>Month</th><th scope=col>Year</th><th scope=col>Fragment_num</th><th scope=col>day</th><th scope=col>Survey.</th><th scope=col>LiveFrag</th><th scope=col>⋯</th><th scope=col>cluster_longitude</th><th scope=col>cluster_depth</th><th scope=col>Year.y</th><th scope=col>Month.y</th><th scope=col>Lat_decimal</th><th scope=col>Long_decimal</th><th scope=col>avgchla_mgm.3</th><th scope=col>sdchla_mgm.3</th><th scope=col>avgSST_degC</th><th scope=col>sdSST_degC</th></tr>\n",
       "\t<tr><th scope=col>&lt;chr&gt;</th><th scope=col>&lt;chr&gt;</th><th scope=col>&lt;chr&gt;</th><th scope=col>&lt;chr&gt;</th><th scope=col>&lt;chr&gt;</th><th scope=col>&lt;int&gt;</th><th scope=col>&lt;dbl&gt;</th><th scope=col>&lt;dbl&gt;</th><th scope=col>&lt;dbl&gt;</th><th scope=col>&lt;dbl&gt;</th><th scope=col>⋯</th><th scope=col>&lt;dbl&gt;</th><th scope=col>&lt;dbl&gt;</th><th scope=col>&lt;int&gt;</th><th scope=col>&lt;chr&gt;</th><th scope=col>&lt;dbl&gt;</th><th scope=col>&lt;dbl&gt;</th><th scope=col>&lt;dbl&gt;</th><th scope=col>&lt;dbl&gt;</th><th scope=col>&lt;dbl&gt;</th><th scope=col>&lt;dbl&gt;</th></tr>\n",
       "</thead>\n",
       "<tbody>\n",
       "\t<tr><td>1-Mar-19</td><td>pr</td><td>CN2</td><td>3</td><td>March</td><td>2019</td><td>78.33333</td><td>1</td><td>5</td><td>1</td><td>⋯</td><td>-80.41658</td><td>15.7</td><td>2019</td><td>March</td><td>24.985</td><td>-80.416</td><td>0.3999531</td><td>0.163012</td><td>25.99442</td><td>0.2483825</td></tr>\n",
       "\t<tr><td>1-Mar-19</td><td>pr</td><td>CN2</td><td>3</td><td>March</td><td>2019</td><td>78.33333</td><td>1</td><td>5</td><td>1</td><td>⋯</td><td>-80.41659</td><td>16.7</td><td>2019</td><td>March</td><td>24.985</td><td>-80.416</td><td>0.3999531</td><td>0.163012</td><td>25.99442</td><td>0.2483825</td></tr>\n",
       "</tbody>\n",
       "</table>\n"
      ],
      "text/latex": [
       "A grouped\\_df: 2 × 50\n",
       "\\begin{tabular}{lllllllllllllllllllll}\n",
       " collection\\_date & reef & Genotype & Fragment\\_number & Month & Year & Fragment\\_num & day & Survey. & LiveFrag & ⋯ & cluster\\_longitude & cluster\\_depth & Year.y & Month.y & Lat\\_decimal & Long\\_decimal & avgchla\\_mgm.3 & sdchla\\_mgm.3 & avgSST\\_degC & sdSST\\_degC\\\\\n",
       " <chr> & <chr> & <chr> & <chr> & <chr> & <int> & <dbl> & <dbl> & <dbl> & <dbl> & ⋯ & <dbl> & <dbl> & <int> & <chr> & <dbl> & <dbl> & <dbl> & <dbl> & <dbl> & <dbl>\\\\\n",
       "\\hline\n",
       "\t 1-Mar-19 & pr & CN2 & 3 & March & 2019 & 78.33333 & 1 & 5 & 1 & ⋯ & -80.41658 & 15.7 & 2019 & March & 24.985 & -80.416 & 0.3999531 & 0.163012 & 25.99442 & 0.2483825\\\\\n",
       "\t 1-Mar-19 & pr & CN2 & 3 & March & 2019 & 78.33333 & 1 & 5 & 1 & ⋯ & -80.41659 & 16.7 & 2019 & March & 24.985 & -80.416 & 0.3999531 & 0.163012 & 25.99442 & 0.2483825\\\\\n",
       "\\end{tabular}\n"
      ],
      "text/markdown": [
       "\n",
       "A grouped_df: 2 × 50\n",
       "\n",
       "| collection_date &lt;chr&gt; | reef &lt;chr&gt; | Genotype &lt;chr&gt; | Fragment_number &lt;chr&gt; | Month &lt;chr&gt; | Year &lt;int&gt; | Fragment_num &lt;dbl&gt; | day &lt;dbl&gt; | Survey. &lt;dbl&gt; | LiveFrag &lt;dbl&gt; | ⋯ ⋯ | cluster_longitude &lt;dbl&gt; | cluster_depth &lt;dbl&gt; | Year.y &lt;int&gt; | Month.y &lt;chr&gt; | Lat_decimal &lt;dbl&gt; | Long_decimal &lt;dbl&gt; | avgchla_mgm.3 &lt;dbl&gt; | sdchla_mgm.3 &lt;dbl&gt; | avgSST_degC &lt;dbl&gt; | sdSST_degC &lt;dbl&gt; |\n",
       "|---|---|---|---|---|---|---|---|---|---|---|---|---|---|---|---|---|---|---|---|---|\n",
       "| 1-Mar-19 | pr | CN2 | 3 | March | 2019 | 78.33333 | 1 | 5 | 1 | ⋯ | -80.41658 | 15.7 | 2019 | March | 24.985 | -80.416 | 0.3999531 | 0.163012 | 25.99442 | 0.2483825 |\n",
       "| 1-Mar-19 | pr | CN2 | 3 | March | 2019 | 78.33333 | 1 | 5 | 1 | ⋯ | -80.41659 | 16.7 | 2019 | March | 24.985 | -80.416 | 0.3999531 | 0.163012 | 25.99442 | 0.2483825 |\n",
       "\n"
      ],
      "text/plain": [
       "  collection_date reef Genotype Fragment_number Month Year Fragment_num day\n",
       "1 1-Mar-19        pr   CN2      3               March 2019 78.33333     1  \n",
       "2 1-Mar-19        pr   CN2      3               March 2019 78.33333     1  \n",
       "  Survey. LiveFrag ⋯ cluster_longitude cluster_depth Year.y Month.y Lat_decimal\n",
       "1 5       1        ⋯ -80.41658         15.7          2019   March   24.985     \n",
       "2 5       1        ⋯ -80.41659         16.7          2019   March   24.985     \n",
       "  Long_decimal avgchla_mgm.3 sdchla_mgm.3 avgSST_degC sdSST_degC\n",
       "1 -80.416      0.3999531     0.163012     25.99442    0.2483825 \n",
       "2 -80.416      0.3999531     0.163012     25.99442    0.2483825 "
      ]
     },
     "metadata": {},
     "output_type": "display_data"
    }
   ],
   "source": [
    "live_sum= live %>%\n",
    "group_by(collection_date, reef, Genotype, Fragment_number, Month, Year) %>%\n",
    "summarise(across(where(is.numeric), ~ mean(.x, na.rm = TRUE)))  %>%\n",
    "right_join(sst_sum)\n",
    "head(live_sum, n=2)"
   ]
  },
  {
   "cell_type": "code",
   "execution_count": 26,
   "id": "d981c717-0a10-425f-b818-f829481d46df",
   "metadata": {},
   "outputs": [
    {
     "name": "stderr",
     "output_type": "stream",
     "text": [
      "\u001b[1m\u001b[22mJoining with `by = join_by(collection_date)`\n"
     ]
    },
    {
     "data": {
      "text/html": [
       "<table class=\"dataframe\">\n",
       "<caption>A tibble: 2 × 55</caption>\n",
       "<thead>\n",
       "\t<tr><th scope=col>collection_date</th><th scope=col>Speed.cm.s.</th><th scope=col>Bearing.degrees.</th><th scope=col>Velocity.N.cm.s.</th><th scope=col>Velocity.E.cm.s.</th><th scope=col>Temperature.C.</th><th scope=col>reef</th><th scope=col>Genotype</th><th scope=col>Fragment_number</th><th scope=col>Month</th><th scope=col>⋯</th><th scope=col>cluster_longitude</th><th scope=col>cluster_depth</th><th scope=col>Year.y</th><th scope=col>Month.y</th><th scope=col>Lat_decimal</th><th scope=col>Long_decimal</th><th scope=col>avgchla_mgm.3</th><th scope=col>sdchla_mgm.3</th><th scope=col>avgSST_degC</th><th scope=col>sdSST_degC</th></tr>\n",
       "\t<tr><th scope=col>&lt;chr&gt;</th><th scope=col>&lt;dbl&gt;</th><th scope=col>&lt;dbl&gt;</th><th scope=col>&lt;dbl&gt;</th><th scope=col>&lt;dbl&gt;</th><th scope=col>&lt;dbl&gt;</th><th scope=col>&lt;chr&gt;</th><th scope=col>&lt;chr&gt;</th><th scope=col>&lt;chr&gt;</th><th scope=col>&lt;chr&gt;</th><th scope=col>⋯</th><th scope=col>&lt;dbl&gt;</th><th scope=col>&lt;dbl&gt;</th><th scope=col>&lt;int&gt;</th><th scope=col>&lt;chr&gt;</th><th scope=col>&lt;dbl&gt;</th><th scope=col>&lt;dbl&gt;</th><th scope=col>&lt;dbl&gt;</th><th scope=col>&lt;dbl&gt;</th><th scope=col>&lt;dbl&gt;</th><th scope=col>&lt;dbl&gt;</th></tr>\n",
       "</thead>\n",
       "<tbody>\n",
       "\t<tr><td>1-Mar-19</td><td>5.331549</td><td>147.0395</td><td>-1.81184</td><td>-0.7369632</td><td>26.09619</td><td>pr</td><td>CN2</td><td>3</td><td>March</td><td>⋯</td><td>-80.41658</td><td>15.7</td><td>2019</td><td>March</td><td>24.985</td><td>-80.416</td><td>0.3999531</td><td>0.163012</td><td>25.99442</td><td>0.2483825</td></tr>\n",
       "\t<tr><td>1-Mar-19</td><td>5.331549</td><td>147.0395</td><td>-1.81184</td><td>-0.7369632</td><td>26.09619</td><td>pr</td><td>CN2</td><td>3</td><td>March</td><td>⋯</td><td>-80.41659</td><td>16.7</td><td>2019</td><td>March</td><td>24.985</td><td>-80.416</td><td>0.3999531</td><td>0.163012</td><td>25.99442</td><td>0.2483825</td></tr>\n",
       "</tbody>\n",
       "</table>\n"
      ],
      "text/latex": [
       "A tibble: 2 × 55\n",
       "\\begin{tabular}{lllllllllllllllllllll}\n",
       " collection\\_date & Speed.cm.s. & Bearing.degrees. & Velocity.N.cm.s. & Velocity.E.cm.s. & Temperature.C. & reef & Genotype & Fragment\\_number & Month & ⋯ & cluster\\_longitude & cluster\\_depth & Year.y & Month.y & Lat\\_decimal & Long\\_decimal & avgchla\\_mgm.3 & sdchla\\_mgm.3 & avgSST\\_degC & sdSST\\_degC\\\\\n",
       " <chr> & <dbl> & <dbl> & <dbl> & <dbl> & <dbl> & <chr> & <chr> & <chr> & <chr> & ⋯ & <dbl> & <dbl> & <int> & <chr> & <dbl> & <dbl> & <dbl> & <dbl> & <dbl> & <dbl>\\\\\n",
       "\\hline\n",
       "\t 1-Mar-19 & 5.331549 & 147.0395 & -1.81184 & -0.7369632 & 26.09619 & pr & CN2 & 3 & March & ⋯ & -80.41658 & 15.7 & 2019 & March & 24.985 & -80.416 & 0.3999531 & 0.163012 & 25.99442 & 0.2483825\\\\\n",
       "\t 1-Mar-19 & 5.331549 & 147.0395 & -1.81184 & -0.7369632 & 26.09619 & pr & CN2 & 3 & March & ⋯ & -80.41659 & 16.7 & 2019 & March & 24.985 & -80.416 & 0.3999531 & 0.163012 & 25.99442 & 0.2483825\\\\\n",
       "\\end{tabular}\n"
      ],
      "text/markdown": [
       "\n",
       "A tibble: 2 × 55\n",
       "\n",
       "| collection_date &lt;chr&gt; | Speed.cm.s. &lt;dbl&gt; | Bearing.degrees. &lt;dbl&gt; | Velocity.N.cm.s. &lt;dbl&gt; | Velocity.E.cm.s. &lt;dbl&gt; | Temperature.C. &lt;dbl&gt; | reef &lt;chr&gt; | Genotype &lt;chr&gt; | Fragment_number &lt;chr&gt; | Month &lt;chr&gt; | ⋯ ⋯ | cluster_longitude &lt;dbl&gt; | cluster_depth &lt;dbl&gt; | Year.y &lt;int&gt; | Month.y &lt;chr&gt; | Lat_decimal &lt;dbl&gt; | Long_decimal &lt;dbl&gt; | avgchla_mgm.3 &lt;dbl&gt; | sdchla_mgm.3 &lt;dbl&gt; | avgSST_degC &lt;dbl&gt; | sdSST_degC &lt;dbl&gt; |\n",
       "|---|---|---|---|---|---|---|---|---|---|---|---|---|---|---|---|---|---|---|---|---|\n",
       "| 1-Mar-19 | 5.331549 | 147.0395 | -1.81184 | -0.7369632 | 26.09619 | pr | CN2 | 3 | March | ⋯ | -80.41658 | 15.7 | 2019 | March | 24.985 | -80.416 | 0.3999531 | 0.163012 | 25.99442 | 0.2483825 |\n",
       "| 1-Mar-19 | 5.331549 | 147.0395 | -1.81184 | -0.7369632 | 26.09619 | pr | CN2 | 3 | March | ⋯ | -80.41659 | 16.7 | 2019 | March | 24.985 | -80.416 | 0.3999531 | 0.163012 | 25.99442 | 0.2483825 |\n",
       "\n"
      ],
      "text/plain": [
       "  collection_date Speed.cm.s. Bearing.degrees. Velocity.N.cm.s.\n",
       "1 1-Mar-19        5.331549    147.0395         -1.81184        \n",
       "2 1-Mar-19        5.331549    147.0395         -1.81184        \n",
       "  Velocity.E.cm.s. Temperature.C. reef Genotype Fragment_number Month ⋯\n",
       "1 -0.7369632       26.09619       pr   CN2      3               March ⋯\n",
       "2 -0.7369632       26.09619       pr   CN2      3               March ⋯\n",
       "  cluster_longitude cluster_depth Year.y Month.y Lat_decimal Long_decimal\n",
       "1 -80.41658         15.7          2019   March   24.985      -80.416     \n",
       "2 -80.41659         16.7          2019   March   24.985      -80.416     \n",
       "  avgchla_mgm.3 sdchla_mgm.3 avgSST_degC sdSST_degC\n",
       "1 0.3999531     0.163012     25.99442    0.2483825 \n",
       "2 0.3999531     0.163012     25.99442    0.2483825 "
      ]
     },
     "metadata": {},
     "output_type": "display_data"
    }
   ],
   "source": [
    "tcm_sum= tcm %>%\n",
    "filter(Speed.cm.s. <=25) %>%\n",
    "group_by(collection_date) %>%\n",
    "summarise(across(where(is.numeric), ~ mean(.x, na.rm = TRUE))) %>%\n",
    "right_join(live_sum) \n",
    "head(tcm_sum, n=2)"
   ]
  },
  {
   "cell_type": "code",
   "execution_count": 27,
   "id": "bd4fe1e6-d1f5-4a2d-b56f-35d9c2ef95fb",
   "metadata": {},
   "outputs": [
    {
     "data": {
      "text/html": [
       "<style>\n",
       ".list-inline {list-style: none; margin:0; padding: 0}\n",
       ".list-inline>li {display: inline-block}\n",
       ".list-inline>li:not(:last-child)::after {content: \"\\00b7\"; padding: 0 .5ex}\n",
       "</style>\n",
       "<ol class=list-inline><li>363</li><li>55</li></ol>\n"
      ],
      "text/latex": [
       "\\begin{enumerate*}\n",
       "\\item 363\n",
       "\\item 55\n",
       "\\end{enumerate*}\n"
      ],
      "text/markdown": [
       "1. 363\n",
       "2. 55\n",
       "\n",
       "\n"
      ],
      "text/plain": [
       "[1] 363  55"
      ]
     },
     "metadata": {},
     "output_type": "display_data"
    }
   ],
   "source": [
    "all_meta=tcm_sum %>%\n",
    "relocate(bag_num, .before = collection_date)\n",
    "dim(all_meta)"
   ]
  },
  {
   "cell_type": "code",
   "execution_count": 28,
   "id": "26f51e58-61c3-4fc8-8156-d82a1500626e",
   "metadata": {},
   "outputs": [
    {
     "data": {
      "text/html": [
       "<style>\n",
       ".list-inline {list-style: none; margin:0; padding: 0}\n",
       ".list-inline>li {display: inline-block}\n",
       ".list-inline>li:not(:last-child)::after {content: \"\\00b7\"; padding: 0 .5ex}\n",
       "</style>\n",
       "<ol class=list-inline><li>'bag_num'</li><li>'collection_date'</li><li>'Speed.cm.s.'</li><li>'Bearing.degrees.'</li><li>'Velocity.N.cm.s.'</li><li>'Velocity.E.cm.s.'</li><li>'Temperature.C.'</li><li>'reef'</li><li>'Genotype'</li><li>'Fragment_number'</li><li>'Month'</li><li>'Year'</li><li>'Fragment_num'</li><li>'day'</li><li>'Survey.'</li><li>'LiveFrag'</li><li>'L'</li><li>'W'</li><li>'H'</li><li>'Adjusted.Area'</li><li>'S01FragCount'</li><li>'Year.x'</li><li>'Si.uM.'</li><li>'NO2.uM.'</li><li>'N.N.uM.'</li><li>'NO3.uM.'</li><li>'PO4.uM.'</li><li>'sample_ID'</li><li>'sample_ID2'</li><li>'Health'</li><li>'Month.x'</li><li>'Samp_trip'</li><li>'joining_info'</li><li>'order'</li><li>'species'</li><li>'time_Reef'</li><li>'Cluster'</li><li>'sampling_trip'</li><li>'X'</li><li>'colour_reef'</li><li>'colour_genotype'</li><li>'colour_reef_genotype'</li><li>'colour_timepoint'</li><li>'colour_timepoint_reef'</li><li>'cluster_latitude'</li><li>'cluster_longitude'</li><li>'cluster_depth'</li><li>'Year.y'</li><li>'Month.y'</li><li>'Lat_decimal'</li><li>'Long_decimal'</li><li>'avgchla_mgm.3'</li><li>'sdchla_mgm.3'</li><li>'avgSST_degC'</li><li>'sdSST_degC'</li></ol>\n"
      ],
      "text/latex": [
       "\\begin{enumerate*}\n",
       "\\item 'bag\\_num'\n",
       "\\item 'collection\\_date'\n",
       "\\item 'Speed.cm.s.'\n",
       "\\item 'Bearing.degrees.'\n",
       "\\item 'Velocity.N.cm.s.'\n",
       "\\item 'Velocity.E.cm.s.'\n",
       "\\item 'Temperature.C.'\n",
       "\\item 'reef'\n",
       "\\item 'Genotype'\n",
       "\\item 'Fragment\\_number'\n",
       "\\item 'Month'\n",
       "\\item 'Year'\n",
       "\\item 'Fragment\\_num'\n",
       "\\item 'day'\n",
       "\\item 'Survey.'\n",
       "\\item 'LiveFrag'\n",
       "\\item 'L'\n",
       "\\item 'W'\n",
       "\\item 'H'\n",
       "\\item 'Adjusted.Area'\n",
       "\\item 'S01FragCount'\n",
       "\\item 'Year.x'\n",
       "\\item 'Si.uM.'\n",
       "\\item 'NO2.uM.'\n",
       "\\item 'N.N.uM.'\n",
       "\\item 'NO3.uM.'\n",
       "\\item 'PO4.uM.'\n",
       "\\item 'sample\\_ID'\n",
       "\\item 'sample\\_ID2'\n",
       "\\item 'Health'\n",
       "\\item 'Month.x'\n",
       "\\item 'Samp\\_trip'\n",
       "\\item 'joining\\_info'\n",
       "\\item 'order'\n",
       "\\item 'species'\n",
       "\\item 'time\\_Reef'\n",
       "\\item 'Cluster'\n",
       "\\item 'sampling\\_trip'\n",
       "\\item 'X'\n",
       "\\item 'colour\\_reef'\n",
       "\\item 'colour\\_genotype'\n",
       "\\item 'colour\\_reef\\_genotype'\n",
       "\\item 'colour\\_timepoint'\n",
       "\\item 'colour\\_timepoint\\_reef'\n",
       "\\item 'cluster\\_latitude'\n",
       "\\item 'cluster\\_longitude'\n",
       "\\item 'cluster\\_depth'\n",
       "\\item 'Year.y'\n",
       "\\item 'Month.y'\n",
       "\\item 'Lat\\_decimal'\n",
       "\\item 'Long\\_decimal'\n",
       "\\item 'avgchla\\_mgm.3'\n",
       "\\item 'sdchla\\_mgm.3'\n",
       "\\item 'avgSST\\_degC'\n",
       "\\item 'sdSST\\_degC'\n",
       "\\end{enumerate*}\n"
      ],
      "text/markdown": [
       "1. 'bag_num'\n",
       "2. 'collection_date'\n",
       "3. 'Speed.cm.s.'\n",
       "4. 'Bearing.degrees.'\n",
       "5. 'Velocity.N.cm.s.'\n",
       "6. 'Velocity.E.cm.s.'\n",
       "7. 'Temperature.C.'\n",
       "8. 'reef'\n",
       "9. 'Genotype'\n",
       "10. 'Fragment_number'\n",
       "11. 'Month'\n",
       "12. 'Year'\n",
       "13. 'Fragment_num'\n",
       "14. 'day'\n",
       "15. 'Survey.'\n",
       "16. 'LiveFrag'\n",
       "17. 'L'\n",
       "18. 'W'\n",
       "19. 'H'\n",
       "20. 'Adjusted.Area'\n",
       "21. 'S01FragCount'\n",
       "22. 'Year.x'\n",
       "23. 'Si.uM.'\n",
       "24. 'NO2.uM.'\n",
       "25. 'N.N.uM.'\n",
       "26. 'NO3.uM.'\n",
       "27. 'PO4.uM.'\n",
       "28. 'sample_ID'\n",
       "29. 'sample_ID2'\n",
       "30. 'Health'\n",
       "31. 'Month.x'\n",
       "32. 'Samp_trip'\n",
       "33. 'joining_info'\n",
       "34. 'order'\n",
       "35. 'species'\n",
       "36. 'time_Reef'\n",
       "37. 'Cluster'\n",
       "38. 'sampling_trip'\n",
       "39. 'X'\n",
       "40. 'colour_reef'\n",
       "41. 'colour_genotype'\n",
       "42. 'colour_reef_genotype'\n",
       "43. 'colour_timepoint'\n",
       "44. 'colour_timepoint_reef'\n",
       "45. 'cluster_latitude'\n",
       "46. 'cluster_longitude'\n",
       "47. 'cluster_depth'\n",
       "48. 'Year.y'\n",
       "49. 'Month.y'\n",
       "50. 'Lat_decimal'\n",
       "51. 'Long_decimal'\n",
       "52. 'avgchla_mgm.3'\n",
       "53. 'sdchla_mgm.3'\n",
       "54. 'avgSST_degC'\n",
       "55. 'sdSST_degC'\n",
       "\n",
       "\n"
      ],
      "text/plain": [
       " [1] \"bag_num\"               \"collection_date\"       \"Speed.cm.s.\"          \n",
       " [4] \"Bearing.degrees.\"      \"Velocity.N.cm.s.\"      \"Velocity.E.cm.s.\"     \n",
       " [7] \"Temperature.C.\"        \"reef\"                  \"Genotype\"             \n",
       "[10] \"Fragment_number\"       \"Month\"                 \"Year\"                 \n",
       "[13] \"Fragment_num\"          \"day\"                   \"Survey.\"              \n",
       "[16] \"LiveFrag\"              \"L\"                     \"W\"                    \n",
       "[19] \"H\"                     \"Adjusted.Area\"         \"S01FragCount\"         \n",
       "[22] \"Year.x\"                \"Si.uM.\"                \"NO2.uM.\"              \n",
       "[25] \"N.N.uM.\"               \"NO3.uM.\"               \"PO4.uM.\"              \n",
       "[28] \"sample_ID\"             \"sample_ID2\"            \"Health\"               \n",
       "[31] \"Month.x\"               \"Samp_trip\"             \"joining_info\"         \n",
       "[34] \"order\"                 \"species\"               \"time_Reef\"            \n",
       "[37] \"Cluster\"               \"sampling_trip\"         \"X\"                    \n",
       "[40] \"colour_reef\"           \"colour_genotype\"       \"colour_reef_genotype\" \n",
       "[43] \"colour_timepoint\"      \"colour_timepoint_reef\" \"cluster_latitude\"     \n",
       "[46] \"cluster_longitude\"     \"cluster_depth\"         \"Year.y\"               \n",
       "[49] \"Month.y\"               \"Lat_decimal\"           \"Long_decimal\"         \n",
       "[52] \"avgchla_mgm.3\"         \"sdchla_mgm.3\"          \"avgSST_degC\"          \n",
       "[55] \"sdSST_degC\"           "
      ]
     },
     "metadata": {},
     "output_type": "display_data"
    }
   ],
   "source": [
    "colnames(all_meta)"
   ]
  },
  {
   "cell_type": "code",
   "execution_count": 29,
   "id": "cc24112a-93dd-41eb-829e-6aafd4fe1015",
   "metadata": {},
   "outputs": [],
   "source": [
    "write.csv(all_meta, \"/Users/stephanie.rosales/Documents/omics_projects/POR_16S/CoralPersistence/metadata/POR_combo_meta.csv\", \n",
    "       row.names = FALSE)"
   ]
  },
  {
   "cell_type": "code",
   "execution_count": 30,
   "id": "cdf69d51-7f63-414c-8c3e-cee5ba36588d",
   "metadata": {},
   "outputs": [
    {
     "data": {
      "text/html": [
       "<style>\n",
       ".list-inline {list-style: none; margin:0; padding: 0}\n",
       ".list-inline>li {display: inline-block}\n",
       ".list-inline>li:not(:last-child)::after {content: \"\\00b7\"; padding: 0 .5ex}\n",
       "</style>\n",
       "<ol class=list-inline><li>'25-Jun-19'</li><li>'26-Jun-19'</li><li>'2-Jul-19'</li><li>'25-Sep-19'</li><li>'26-Sep-19'</li><li>'18-Nov-19'</li><li>'19-Nov-19'</li><li>'28-Feb-19'</li><li>'1-Mar-19'</li><li>'4-Mar-19'</li></ol>\n"
      ],
      "text/latex": [
       "\\begin{enumerate*}\n",
       "\\item '25-Jun-19'\n",
       "\\item '26-Jun-19'\n",
       "\\item '2-Jul-19'\n",
       "\\item '25-Sep-19'\n",
       "\\item '26-Sep-19'\n",
       "\\item '18-Nov-19'\n",
       "\\item '19-Nov-19'\n",
       "\\item '28-Feb-19'\n",
       "\\item '1-Mar-19'\n",
       "\\item '4-Mar-19'\n",
       "\\end{enumerate*}\n"
      ],
      "text/markdown": [
       "1. '25-Jun-19'\n",
       "2. '26-Jun-19'\n",
       "3. '2-Jul-19'\n",
       "4. '25-Sep-19'\n",
       "5. '26-Sep-19'\n",
       "6. '18-Nov-19'\n",
       "7. '19-Nov-19'\n",
       "8. '28-Feb-19'\n",
       "9. '1-Mar-19'\n",
       "10. '4-Mar-19'\n",
       "\n",
       "\n"
      ],
      "text/plain": [
       " [1] \"25-Jun-19\" \"26-Jun-19\" \"2-Jul-19\"  \"25-Sep-19\" \"26-Sep-19\" \"18-Nov-19\"\n",
       " [7] \"19-Nov-19\" \"28-Feb-19\" \"1-Mar-19\"  \"4-Mar-19\" "
      ]
     },
     "metadata": {},
     "output_type": "display_data"
    }
   ],
   "source": [
    "unique(meta$collection_date)"
   ]
  }
 ],
 "metadata": {
  "kernelspec": {
   "display_name": "R",
   "language": "R",
   "name": "ir"
  },
  "language_info": {
   "codemirror_mode": "r",
   "file_extension": ".r",
   "mimetype": "text/x-r-source",
   "name": "R",
   "pygments_lexer": "r",
   "version": "4.3.2"
  }
 },
 "nbformat": 4,
 "nbformat_minor": 5
}
