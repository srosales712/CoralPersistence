{
 "cells": [
  {
   "cell_type": "code",
   "execution_count": 2,
   "id": "fcf3cb3f-194b-4029-aa2b-538c47429ceb",
   "metadata": {},
   "outputs": [
    {
     "data": {
      "text/plain": [
       "[1] ‘1.46.0’"
      ]
     },
     "metadata": {},
     "output_type": "display_data"
    },
    {
     "name": "stderr",
     "output_type": "stream",
     "text": [
      "── \u001b[1mAttaching core tidyverse packages\u001b[22m ──────────────────────── tidyverse 2.0.0 ──\n",
      "\u001b[32m✔\u001b[39m \u001b[34mdplyr    \u001b[39m 1.1.4     \u001b[32m✔\u001b[39m \u001b[34mreadr    \u001b[39m 2.1.4\n",
      "\u001b[32m✔\u001b[39m \u001b[34mforcats  \u001b[39m 1.0.0     \u001b[32m✔\u001b[39m \u001b[34mstringr  \u001b[39m 1.5.1\n",
      "\u001b[32m✔\u001b[39m \u001b[34mlubridate\u001b[39m 1.9.3     \u001b[32m✔\u001b[39m \u001b[34mtibble   \u001b[39m 3.2.1\n",
      "\u001b[32m✔\u001b[39m \u001b[34mpurrr    \u001b[39m 1.0.2     \u001b[32m✔\u001b[39m \u001b[34mtidyr    \u001b[39m 1.3.0\n",
      "── \u001b[1mConflicts\u001b[22m ────────────────────────────────────────── tidyverse_conflicts() ──\n",
      "\u001b[31m✖\u001b[39m \u001b[34mmicrobiome\u001b[39m::\u001b[32malpha()\u001b[39m masks \u001b[34mggplot2\u001b[39m::alpha()\n",
      "\u001b[31m✖\u001b[39m \u001b[34mdplyr\u001b[39m::\u001b[32mfilter()\u001b[39m     masks \u001b[34mstats\u001b[39m::filter()\n",
      "\u001b[31m✖\u001b[39m \u001b[34mdplyr\u001b[39m::\u001b[32mlag()\u001b[39m        masks \u001b[34mstats\u001b[39m::lag()\n",
      "\u001b[36mℹ\u001b[39m Use the conflicted package (\u001b[3m\u001b[34m<http://conflicted.r-lib.org/>\u001b[39m\u001b[23m) to force all conflicts to become errors\n",
      "Loading required package: permute\n",
      "\n",
      "Loading required package: lattice\n",
      "\n",
      "This is vegan 2.6-4\n",
      "\n",
      "\n",
      "Attaching package: ‘vegan’\n",
      "\n",
      "\n",
      "The following object is masked from ‘package:microbiome’:\n",
      "\n",
      "    diversity\n",
      "\n",
      "\n",
      "Loading required package: ggrepel\n",
      "\n",
      "\n",
      "Attaching package: ‘PCAtools’\n",
      "\n",
      "\n",
      "The following objects are masked from ‘package:stats’:\n",
      "\n",
      "    biplot, screeplot\n",
      "\n",
      "\n",
      "Registered S3 method overwritten by 'GGally':\n",
      "  method from   \n",
      "  +.gg   ggplot2\n",
      "\n",
      "Loading required package: ggpp\n",
      "\n",
      "Registered S3 methods overwritten by 'ggpp':\n",
      "  method                  from   \n",
      "  heightDetails.titleGrob ggplot2\n",
      "  widthDetails.titleGrob  ggplot2\n",
      "\n",
      "\n",
      "Attaching package: ‘ggpp’\n",
      "\n",
      "\n",
      "The following object is masked from ‘package:ggplot2’:\n",
      "\n",
      "    annotate\n",
      "\n",
      "\n",
      "Registered S3 method overwritten by 'ggpmisc':\n",
      "  method                  from   \n",
      "  as.character.polynomial polynom\n",
      "\n",
      "\n",
      "Attaching package: ‘speedyseq’\n",
      "\n",
      "\n",
      "The following objects are masked from ‘package:phyloseq’:\n",
      "\n",
      "    filter_taxa, plot_bar, plot_heatmap, plot_tree, psmelt, tax_glom,\n",
      "    tip_glom, transform_sample_counts\n",
      "\n",
      "\n",
      "Loading required package: cluster\n",
      "\n"
     ]
    },
    {
     "data": {
      "text/plain": [
       "[1] ‘0.4.1’"
      ]
     },
     "metadata": {},
     "output_type": "display_data"
    }
   ],
   "source": [
    "library(microbiome)\n",
    "library(phyloseq); packageVersion(\"phyloseq\")\n",
    "library(\"tidyverse\")\n",
    "library(\"dplyr\")\n",
    "library(vegan)\n",
    "#library(\"lubridate\")\n",
    "library('PCAtools')\n",
    "library(\"GGally\")\n",
    "library(\"ggpmisc\")\n",
    "library(\"speedyseq\")\n",
    "library(patchwork)\n",
    "library(\"pairwiseAdonis\"); packageVersion(\"pairwiseAdonis\")\n"
   ]
  },
  {
   "cell_type": "code",
   "execution_count": 3,
   "id": "e8fac738-9656-446d-ac85-bffebf834512",
   "metadata": {},
   "outputs": [
    {
     "data": {
      "text/plain": [
       "[1] ‘1.46.0’"
      ]
     },
     "metadata": {},
     "output_type": "display_data"
    }
   ],
   "source": [
    "library(phyloseq); packageVersion(\"phyloseq\")"
   ]
  },
  {
   "cell_type": "code",
   "execution_count": 3,
   "id": "f78923e7-4416-4ae1-b3ae-9426cfa8e2b6",
   "metadata": {},
   "outputs": [],
   "source": [
    "#load(\"/Users/stephanie.rosales/Documents/omics_projects/POR_16S/CoralPersistence/data/POR_treatment_4_analysis.RData\")\n",
    "load(\"/Users/stephanie.rosales/Documents/omics_projects/POR_16S/CoralPersistence/data/POR_counts_4_analysis.RData\")\n",
    "load(\"/Users/stephanie.rosales/Documents/omics_projects/POR_16S/CoralPersistence/data/POR_taxo_4_analysis.RData\")\n"
   ]
  },
  {
   "cell_type": "code",
   "execution_count": 4,
   "id": "16cee90c-106d-4111-a4f6-0e728902da36",
   "metadata": {},
   "outputs": [
    {
     "data": {
      "text/html": [
       "<table class=\"dataframe\">\n",
       "<caption>A data.frame: 2 × 56</caption>\n",
       "<thead>\n",
       "\t<tr><th></th><th scope=col>collection_date</th><th scope=col>Speed.cm.s.</th><th scope=col>Bearing.degrees.</th><th scope=col>Velocity.N.cm.s.</th><th scope=col>Velocity.E.cm.s.</th><th scope=col>Temperature.C.</th><th scope=col>reef</th><th scope=col>Genotype</th><th scope=col>Fragment_number</th><th scope=col>Month</th><th scope=col>⋯</th><th scope=col>cluster_depth</th><th scope=col>depth</th><th scope=col>Year.y</th><th scope=col>Month.y</th><th scope=col>Lat_decimal</th><th scope=col>Long_decimal</th><th scope=col>avgchla_mgm.3</th><th scope=col>sdchla_mgm.3</th><th scope=col>avgSST_degC</th><th scope=col>sdSST_degC</th></tr>\n",
       "\t<tr><th></th><th scope=col>&lt;chr&gt;</th><th scope=col>&lt;dbl&gt;</th><th scope=col>&lt;dbl&gt;</th><th scope=col>&lt;dbl&gt;</th><th scope=col>&lt;dbl&gt;</th><th scope=col>&lt;dbl&gt;</th><th scope=col>&lt;chr&gt;</th><th scope=col>&lt;chr&gt;</th><th scope=col>&lt;chr&gt;</th><th scope=col>&lt;fct&gt;</th><th scope=col>⋯</th><th scope=col>&lt;dbl&gt;</th><th scope=col>&lt;chr&gt;</th><th scope=col>&lt;int&gt;</th><th scope=col>&lt;chr&gt;</th><th scope=col>&lt;dbl&gt;</th><th scope=col>&lt;dbl&gt;</th><th scope=col>&lt;dbl&gt;</th><th scope=col>&lt;dbl&gt;</th><th scope=col>&lt;dbl&gt;</th><th scope=col>&lt;dbl&gt;</th></tr>\n",
       "</thead>\n",
       "<tbody>\n",
       "\t<tr><th scope=row>bagnumber-734</th><td>1-Mar-19</td><td>5.331549</td><td>147.0395</td><td>-1.81184</td><td>-0.7369632</td><td>26.09619</td><td>pr</td><td>ML2</td><td>3</td><td>March</td><td>⋯</td><td>-18.7</td><td>18.7</td><td>2019</td><td>March</td><td>24.985</td><td>-80.416</td><td>0.3999531</td><td>0.163012</td><td>25.99442</td><td>0.2483825</td></tr>\n",
       "\t<tr><th scope=row>bagnumber-736</th><td>1-Mar-19</td><td>5.331549</td><td>147.0395</td><td>-1.81184</td><td>-0.7369632</td><td>26.09619</td><td>pr</td><td>ML2</td><td>6</td><td>March</td><td>⋯</td><td>-18.7</td><td>18.7</td><td>2019</td><td>March</td><td>24.985</td><td>-80.416</td><td>0.3999531</td><td>0.163012</td><td>25.99442</td><td>0.2483825</td></tr>\n",
       "</tbody>\n",
       "</table>\n"
      ],
      "text/latex": [
       "A data.frame: 2 × 56\n",
       "\\begin{tabular}{r|lllllllllllllllllllll}\n",
       "  & collection\\_date & Speed.cm.s. & Bearing.degrees. & Velocity.N.cm.s. & Velocity.E.cm.s. & Temperature.C. & reef & Genotype & Fragment\\_number & Month & ⋯ & cluster\\_depth & depth & Year.y & Month.y & Lat\\_decimal & Long\\_decimal & avgchla\\_mgm.3 & sdchla\\_mgm.3 & avgSST\\_degC & sdSST\\_degC\\\\\n",
       "  & <chr> & <dbl> & <dbl> & <dbl> & <dbl> & <dbl> & <chr> & <chr> & <chr> & <fct> & ⋯ & <dbl> & <chr> & <int> & <chr> & <dbl> & <dbl> & <dbl> & <dbl> & <dbl> & <dbl>\\\\\n",
       "\\hline\n",
       "\tbagnumber-734 & 1-Mar-19 & 5.331549 & 147.0395 & -1.81184 & -0.7369632 & 26.09619 & pr & ML2 & 3 & March & ⋯ & -18.7 & 18.7 & 2019 & March & 24.985 & -80.416 & 0.3999531 & 0.163012 & 25.99442 & 0.2483825\\\\\n",
       "\tbagnumber-736 & 1-Mar-19 & 5.331549 & 147.0395 & -1.81184 & -0.7369632 & 26.09619 & pr & ML2 & 6 & March & ⋯ & -18.7 & 18.7 & 2019 & March & 24.985 & -80.416 & 0.3999531 & 0.163012 & 25.99442 & 0.2483825\\\\\n",
       "\\end{tabular}\n"
      ],
      "text/markdown": [
       "\n",
       "A data.frame: 2 × 56\n",
       "\n",
       "| <!--/--> | collection_date &lt;chr&gt; | Speed.cm.s. &lt;dbl&gt; | Bearing.degrees. &lt;dbl&gt; | Velocity.N.cm.s. &lt;dbl&gt; | Velocity.E.cm.s. &lt;dbl&gt; | Temperature.C. &lt;dbl&gt; | reef &lt;chr&gt; | Genotype &lt;chr&gt; | Fragment_number &lt;chr&gt; | Month &lt;fct&gt; | ⋯ ⋯ | cluster_depth &lt;dbl&gt; | depth &lt;chr&gt; | Year.y &lt;int&gt; | Month.y &lt;chr&gt; | Lat_decimal &lt;dbl&gt; | Long_decimal &lt;dbl&gt; | avgchla_mgm.3 &lt;dbl&gt; | sdchla_mgm.3 &lt;dbl&gt; | avgSST_degC &lt;dbl&gt; | sdSST_degC &lt;dbl&gt; |\n",
       "|---|---|---|---|---|---|---|---|---|---|---|---|---|---|---|---|---|---|---|---|---|---|\n",
       "| bagnumber-734 | 1-Mar-19 | 5.331549 | 147.0395 | -1.81184 | -0.7369632 | 26.09619 | pr | ML2 | 3 | March | ⋯ | -18.7 | 18.7 | 2019 | March | 24.985 | -80.416 | 0.3999531 | 0.163012 | 25.99442 | 0.2483825 |\n",
       "| bagnumber-736 | 1-Mar-19 | 5.331549 | 147.0395 | -1.81184 | -0.7369632 | 26.09619 | pr | ML2 | 6 | March | ⋯ | -18.7 | 18.7 | 2019 | March | 24.985 | -80.416 | 0.3999531 | 0.163012 | 25.99442 | 0.2483825 |\n",
       "\n"
      ],
      "text/plain": [
       "              collection_date Speed.cm.s. Bearing.degrees. Velocity.N.cm.s.\n",
       "bagnumber-734 1-Mar-19        5.331549    147.0395         -1.81184        \n",
       "bagnumber-736 1-Mar-19        5.331549    147.0395         -1.81184        \n",
       "              Velocity.E.cm.s. Temperature.C. reef Genotype Fragment_number\n",
       "bagnumber-734 -0.7369632       26.09619       pr   ML2      3              \n",
       "bagnumber-736 -0.7369632       26.09619       pr   ML2      6              \n",
       "              Month ⋯ cluster_depth depth Year.y Month.y Lat_decimal\n",
       "bagnumber-734 March ⋯ -18.7         18.7  2019   March   24.985     \n",
       "bagnumber-736 March ⋯ -18.7         18.7  2019   March   24.985     \n",
       "              Long_decimal avgchla_mgm.3 sdchla_mgm.3 avgSST_degC sdSST_degC\n",
       "bagnumber-734 -80.416      0.3999531     0.163012     25.99442    0.2483825 \n",
       "bagnumber-736 -80.416      0.3999531     0.163012     25.99442    0.2483825 "
      ]
     },
     "metadata": {},
     "output_type": "display_data"
    }
   ],
   "source": [
    "#load metadata\n",
    "meta = read.csv (\"/Users/stephanie.rosales/Documents/omics_projects/POR_16S/CoralPersistence/metadata/POR_combo_meta.csv\",\n",
    "row.names=1, header = T)%>%\n",
    "  mutate(\n",
    "    Month = factor(Month, levels = month.name)\n",
    "  ) %>%\n",
    "  arrange(Month) %>%\n",
    "arrange(collection_date)\n",
    "\n",
    "head(meta, n=2)"
   ]
  },
  {
   "cell_type": "code",
   "execution_count": 5,
   "id": "10481341-bb5e-4327-abff-f1ffa3d8aac5",
   "metadata": {},
   "outputs": [],
   "source": [
    "## taxonomy and counts as matrices\n",
    "taxo_mat <- as.matrix(POR_taxo_4_analysis)\n",
    "count_mat <- as.matrix(POR_counts_4_analysis)"
   ]
  },
  {
   "cell_type": "code",
   "execution_count": 6,
   "id": "60962d96-28b5-428c-b3e7-aa5f85b1fffd",
   "metadata": {},
   "outputs": [
    {
     "data": {
      "text/plain": [
       "phyloseq-class experiment-level object\n",
       "otu_table()   OTU Table:          [ 27534 taxa and 363 samples ]:\n",
       "sample_data() Sample Data:        [ 363 samples by 56 sample variables ]:\n",
       "tax_table()   Taxonomy Table:     [ 27534 taxa by 7 taxonomic ranks ]:\n",
       "taxa are rows"
      ]
     },
     "metadata": {},
     "output_type": "display_data"
    }
   ],
   "source": [
    "#make phyloseq object\n",
    "ASV <- otu_table(as.matrix(POR_counts_4_analysis), \n",
    "                 taxa_are_rows = T)\n",
    "TAX <- tax_table(taxo_mat)\n",
    "SAMP <- sample_data(meta)\n",
    "\n",
    "ps <- phyloseq(ASV, TAX, SAMP)\n",
    "ps"
   ]
  },
  {
   "cell_type": "code",
   "execution_count": 7,
   "id": "6eb44c58-0c3e-46c2-9662-3d927aa20fce",
   "metadata": {},
   "outputs": [
    {
     "name": "stderr",
     "output_type": "stream",
     "text": [
      "Compositional = NO2\n",
      "\n",
      "1] Min. number of reads = 8182] Max. number of reads = 3300333] Total number of reads = 240649454] Average number of reads = 66294.61432506895] Median number of reads = 491797] Sparsity = 0.9856499982691076] Any OTU sum to 1 or less? YES8] Number of singletons = 679] Percent of OTUs that are singletons \n",
      "        (i.e. exactly one read detected across all samples)0.14527493281034410] Number of sample variables are: 56collection_dateSpeed.cm.s.Bearing.degrees.Velocity.N.cm.s.Velocity.E.cm.s.Temperature.C.reefGenotypeFragment_numberMonthYearFragment_numdaySurvey.LiveFragLWHAdjusted.AreaS01FragCountYear.xSi.uM.NO2.uM.N.N.uM.NO3.uM.PO4.uM.sample_IDsample_ID2HealthMonth.xSamp_tripjoining_infoorderspeciestime_ReefClustersampling_tripgeno_clusXcolour_reefcolour_genotypecolour_reef_genotypecolour_timepointcolour_timepoint_reefcluster_latitudecluster_longitudecluster_depthdepthYear.yMonth.yLat_decimalLong_decimalavgchla_mgm.3sdchla_mgm.3avgSST_degCsdSST_degC2\n",
      "\n"
     ]
    },
    {
     "data": {
      "text/html": [
       "<ol>\n",
       "\t<li>'1] Min. number of reads = 818'</li>\n",
       "\t<li>'2] Max. number of reads = 330033'</li>\n",
       "\t<li>'3] Total number of reads = 24064945'</li>\n",
       "\t<li>'4] Average number of reads = 66294.6143250689'</li>\n",
       "\t<li>'5] Median number of reads = 49179'</li>\n",
       "\t<li>'7] Sparsity = 0.985649998269107'</li>\n",
       "\t<li>'6] Any OTU sum to 1 or less? YES'</li>\n",
       "\t<li>'8] Number of singletons = 67'</li>\n",
       "\t<li><span style=white-space:pre-wrap>'9] Percent of OTUs that are singletons \\n        (i.e. exactly one read detected across all samples)0.145274932810344'</span></li>\n",
       "\t<li>'10] Number of sample variables are: 56'</li>\n",
       "\t<li><style>\n",
       ".list-inline {list-style: none; margin:0; padding: 0}\n",
       ".list-inline>li {display: inline-block}\n",
       ".list-inline>li:not(:last-child)::after {content: \"\\00b7\"; padding: 0 .5ex}\n",
       "</style>\n",
       "<ol class=list-inline><li>'collection_date'</li><li>'Speed.cm.s.'</li><li>'Bearing.degrees.'</li><li>'Velocity.N.cm.s.'</li><li>'Velocity.E.cm.s.'</li><li>'Temperature.C.'</li><li>'reef'</li><li>'Genotype'</li><li>'Fragment_number'</li><li>'Month'</li><li>'Year'</li><li>'Fragment_num'</li><li>'day'</li><li>'Survey.'</li><li>'LiveFrag'</li><li>'L'</li><li>'W'</li><li>'H'</li><li>'Adjusted.Area'</li><li>'S01FragCount'</li><li>'Year.x'</li><li>'Si.uM.'</li><li>'NO2.uM.'</li><li>'N.N.uM.'</li><li>'NO3.uM.'</li><li>'PO4.uM.'</li><li>'sample_ID'</li><li>'sample_ID2'</li><li>'Health'</li><li>'Month.x'</li><li>'Samp_trip'</li><li>'joining_info'</li><li>'order'</li><li>'species'</li><li>'time_Reef'</li><li>'Cluster'</li><li>'sampling_trip'</li><li>'geno_clus'</li><li>'X'</li><li>'colour_reef'</li><li>'colour_genotype'</li><li>'colour_reef_genotype'</li><li>'colour_timepoint'</li><li>'colour_timepoint_reef'</li><li>'cluster_latitude'</li><li>'cluster_longitude'</li><li>'cluster_depth'</li><li>'depth'</li><li>'Year.y'</li><li>'Month.y'</li><li>'Lat_decimal'</li><li>'Long_decimal'</li><li>'avgchla_mgm.3'</li><li>'sdchla_mgm.3'</li><li>'avgSST_degC'</li><li>'sdSST_degC'</li></ol>\n",
       "</li>\n",
       "</ol>\n"
      ],
      "text/latex": [
       "\\begin{enumerate}\n",
       "\\item '1{]} Min. number of reads = 818'\n",
       "\\item '2{]} Max. number of reads = 330033'\n",
       "\\item '3{]} Total number of reads = 24064945'\n",
       "\\item '4{]} Average number of reads = 66294.6143250689'\n",
       "\\item '5{]} Median number of reads = 49179'\n",
       "\\item '7{]} Sparsity = 0.985649998269107'\n",
       "\\item '6{]} Any OTU sum to 1 or less? YES'\n",
       "\\item '8{]} Number of singletons = 67'\n",
       "\\item '9{]} Percent of OTUs that are singletons \\textbackslash{}n        (i.e. exactly one read detected across all samples)0.145274932810344'\n",
       "\\item '10{]} Number of sample variables are: 56'\n",
       "\\item \\begin{enumerate*}\n",
       "\\item 'collection\\_date'\n",
       "\\item 'Speed.cm.s.'\n",
       "\\item 'Bearing.degrees.'\n",
       "\\item 'Velocity.N.cm.s.'\n",
       "\\item 'Velocity.E.cm.s.'\n",
       "\\item 'Temperature.C.'\n",
       "\\item 'reef'\n",
       "\\item 'Genotype'\n",
       "\\item 'Fragment\\_number'\n",
       "\\item 'Month'\n",
       "\\item 'Year'\n",
       "\\item 'Fragment\\_num'\n",
       "\\item 'day'\n",
       "\\item 'Survey.'\n",
       "\\item 'LiveFrag'\n",
       "\\item 'L'\n",
       "\\item 'W'\n",
       "\\item 'H'\n",
       "\\item 'Adjusted.Area'\n",
       "\\item 'S01FragCount'\n",
       "\\item 'Year.x'\n",
       "\\item 'Si.uM.'\n",
       "\\item 'NO2.uM.'\n",
       "\\item 'N.N.uM.'\n",
       "\\item 'NO3.uM.'\n",
       "\\item 'PO4.uM.'\n",
       "\\item 'sample\\_ID'\n",
       "\\item 'sample\\_ID2'\n",
       "\\item 'Health'\n",
       "\\item 'Month.x'\n",
       "\\item 'Samp\\_trip'\n",
       "\\item 'joining\\_info'\n",
       "\\item 'order'\n",
       "\\item 'species'\n",
       "\\item 'time\\_Reef'\n",
       "\\item 'Cluster'\n",
       "\\item 'sampling\\_trip'\n",
       "\\item 'geno\\_clus'\n",
       "\\item 'X'\n",
       "\\item 'colour\\_reef'\n",
       "\\item 'colour\\_genotype'\n",
       "\\item 'colour\\_reef\\_genotype'\n",
       "\\item 'colour\\_timepoint'\n",
       "\\item 'colour\\_timepoint\\_reef'\n",
       "\\item 'cluster\\_latitude'\n",
       "\\item 'cluster\\_longitude'\n",
       "\\item 'cluster\\_depth'\n",
       "\\item 'depth'\n",
       "\\item 'Year.y'\n",
       "\\item 'Month.y'\n",
       "\\item 'Lat\\_decimal'\n",
       "\\item 'Long\\_decimal'\n",
       "\\item 'avgchla\\_mgm.3'\n",
       "\\item 'sdchla\\_mgm.3'\n",
       "\\item 'avgSST\\_degC'\n",
       "\\item 'sdSST\\_degC'\n",
       "\\end{enumerate*}\n",
       "\n",
       "\\end{enumerate}\n"
      ],
      "text/markdown": [
       "1. '1] Min. number of reads = 818'\n",
       "2. '2] Max. number of reads = 330033'\n",
       "3. '3] Total number of reads = 24064945'\n",
       "4. '4] Average number of reads = 66294.6143250689'\n",
       "5. '5] Median number of reads = 49179'\n",
       "6. '7] Sparsity = 0.985649998269107'\n",
       "7. '6] Any OTU sum to 1 or less? YES'\n",
       "8. '8] Number of singletons = 67'\n",
       "9. <span style=white-space:pre-wrap>'9] Percent of OTUs that are singletons \\n        (i.e. exactly one read detected across all samples)0.145274932810344'</span>\n",
       "10. '10] Number of sample variables are: 56'\n",
       "11. 1. 'collection_date'\n",
       "2. 'Speed.cm.s.'\n",
       "3. 'Bearing.degrees.'\n",
       "4. 'Velocity.N.cm.s.'\n",
       "5. 'Velocity.E.cm.s.'\n",
       "6. 'Temperature.C.'\n",
       "7. 'reef'\n",
       "8. 'Genotype'\n",
       "9. 'Fragment_number'\n",
       "10. 'Month'\n",
       "11. 'Year'\n",
       "12. 'Fragment_num'\n",
       "13. 'day'\n",
       "14. 'Survey.'\n",
       "15. 'LiveFrag'\n",
       "16. 'L'\n",
       "17. 'W'\n",
       "18. 'H'\n",
       "19. 'Adjusted.Area'\n",
       "20. 'S01FragCount'\n",
       "21. 'Year.x'\n",
       "22. 'Si.uM.'\n",
       "23. 'NO2.uM.'\n",
       "24. 'N.N.uM.'\n",
       "25. 'NO3.uM.'\n",
       "26. 'PO4.uM.'\n",
       "27. 'sample_ID'\n",
       "28. 'sample_ID2'\n",
       "29. 'Health'\n",
       "30. 'Month.x'\n",
       "31. 'Samp_trip'\n",
       "32. 'joining_info'\n",
       "33. 'order'\n",
       "34. 'species'\n",
       "35. 'time_Reef'\n",
       "36. 'Cluster'\n",
       "37. 'sampling_trip'\n",
       "38. 'geno_clus'\n",
       "39. 'X'\n",
       "40. 'colour_reef'\n",
       "41. 'colour_genotype'\n",
       "42. 'colour_reef_genotype'\n",
       "43. 'colour_timepoint'\n",
       "44. 'colour_timepoint_reef'\n",
       "45. 'cluster_latitude'\n",
       "46. 'cluster_longitude'\n",
       "47. 'cluster_depth'\n",
       "48. 'depth'\n",
       "49. 'Year.y'\n",
       "50. 'Month.y'\n",
       "51. 'Lat_decimal'\n",
       "52. 'Long_decimal'\n",
       "53. 'avgchla_mgm.3'\n",
       "54. 'sdchla_mgm.3'\n",
       "55. 'avgSST_degC'\n",
       "56. 'sdSST_degC'\n",
       "\n",
       "\n",
       "\n",
       "\n",
       "\n"
      ],
      "text/plain": [
       "[[1]]\n",
       "[1] \"1] Min. number of reads = 818\"\n",
       "\n",
       "[[2]]\n",
       "[1] \"2] Max. number of reads = 330033\"\n",
       "\n",
       "[[3]]\n",
       "[1] \"3] Total number of reads = 24064945\"\n",
       "\n",
       "[[4]]\n",
       "[1] \"4] Average number of reads = 66294.6143250689\"\n",
       "\n",
       "[[5]]\n",
       "[1] \"5] Median number of reads = 49179\"\n",
       "\n",
       "[[6]]\n",
       "[1] \"7] Sparsity = 0.985649998269107\"\n",
       "\n",
       "[[7]]\n",
       "[1] \"6] Any OTU sum to 1 or less? YES\"\n",
       "\n",
       "[[8]]\n",
       "[1] \"8] Number of singletons = 67\"\n",
       "\n",
       "[[9]]\n",
       "[1] \"9] Percent of OTUs that are singletons \\n        (i.e. exactly one read detected across all samples)0.145274932810344\"\n",
       "\n",
       "[[10]]\n",
       "[1] \"10] Number of sample variables are: 56\"\n",
       "\n",
       "[[11]]\n",
       " [1] \"collection_date\"       \"Speed.cm.s.\"           \"Bearing.degrees.\"     \n",
       " [4] \"Velocity.N.cm.s.\"      \"Velocity.E.cm.s.\"      \"Temperature.C.\"       \n",
       " [7] \"reef\"                  \"Genotype\"              \"Fragment_number\"      \n",
       "[10] \"Month\"                 \"Year\"                  \"Fragment_num\"         \n",
       "[13] \"day\"                   \"Survey.\"               \"LiveFrag\"             \n",
       "[16] \"L\"                     \"W\"                     \"H\"                    \n",
       "[19] \"Adjusted.Area\"         \"S01FragCount\"          \"Year.x\"               \n",
       "[22] \"Si.uM.\"                \"NO2.uM.\"               \"N.N.uM.\"              \n",
       "[25] \"NO3.uM.\"               \"PO4.uM.\"               \"sample_ID\"            \n",
       "[28] \"sample_ID2\"            \"Health\"                \"Month.x\"              \n",
       "[31] \"Samp_trip\"             \"joining_info\"          \"order\"                \n",
       "[34] \"species\"               \"time_Reef\"             \"Cluster\"              \n",
       "[37] \"sampling_trip\"         \"geno_clus\"             \"X\"                    \n",
       "[40] \"colour_reef\"           \"colour_genotype\"       \"colour_reef_genotype\" \n",
       "[43] \"colour_timepoint\"      \"colour_timepoint_reef\" \"cluster_latitude\"     \n",
       "[46] \"cluster_longitude\"     \"cluster_depth\"         \"depth\"                \n",
       "[49] \"Year.y\"                \"Month.y\"               \"Lat_decimal\"          \n",
       "[52] \"Long_decimal\"          \"avgchla_mgm.3\"         \"sdchla_mgm.3\"         \n",
       "[55] \"avgSST_degC\"           \"sdSST_degC\"           \n"
      ]
     },
     "metadata": {},
     "output_type": "display_data"
    }
   ],
   "source": [
    "#summary of data\n",
    "microbiome::summarize_phyloseq(ps)"
   ]
  },
  {
   "cell_type": "code",
   "execution_count": 8,
   "id": "53a9bdb2-4e47-4a8e-87cb-6cab615dfe57",
   "metadata": {},
   "outputs": [
    {
     "data": {
      "text/plain": [
       "phyloseq-class experiment-level object\n",
       "otu_table()   OTU Table:          [ 27486 taxa and 363 samples ]:\n",
       "sample_data() Sample Data:        [ 363 samples by 56 sample variables ]:\n",
       "tax_table()   Taxonomy Table:     [ 27486 taxa by 7 taxonomic ranks ]:\n",
       "taxa are rows"
      ]
     },
     "metadata": {},
     "output_type": "display_data"
    }
   ],
   "source": [
    "#list of ASVs that Blasted as Eukaryote\n",
    "euk_asvs <- c(\"ASV_10673\",\"ASV_10883\",\t\"ASV_11806\",\"ASV_12333\",\t\"ASV_12335\",\t\"ASV_13587\",\t\"ASV_14757\",\t\"ASV_15238\",\t\"ASV_15259\",\t\"ASV_16364\",\t\"ASV_16936\",\t\"ASV_17406\",\t\"ASV_18096\",\t\"ASV_18375\",\t\"ASV_18682\",\t\"ASV_19529\",\t\"ASV_19795\",\t\"ASV_19953\",\t\"ASV_2\",\t\"ASV_20640\",\t\"ASV_2100\",\t\"ASV_22284\",\t\"ASV_22692\",\t\"ASV_23038\",\t\"ASV_23144\",\t\"ASV_24135\",\t\"ASV_24243\",\t\"ASV_27014\",\t\"ASV_29665\",\t\"ASV_30547\",\t\"ASV_30626\",\t\"ASV_30884\",\t\"ASV_4161\",\t\"ASV_4498\",\t\"ASV_476\",\t\"ASV_4797\",\t\"ASV_4966\",\t\"ASV_5018\",\t\"ASV_5118\",\t\"ASV_5154\",\t\"ASV_6282\",\t\"ASV_653\",\t\"ASV_6843\",\t\"ASV_7264\",\t\"ASV_7427\",\t\"ASV_8\",\t\"ASV_9248\",\t\"ASV_9692\")\n",
    "allTaxa = taxa_names(ps)\n",
    "allTaxa <- allTaxa[!(allTaxa %in% euk_asvs)]\n",
    "ps_fill_euk = prune_taxa(allTaxa, ps)\n",
    "# new phyloseq object with removed eukaryotes \n",
    "ps_fill_euk"
   ]
  },
  {
   "cell_type": "code",
   "execution_count": 9,
   "id": "1139151c-4b46-4f54-aa31-f88c9db5e778",
   "metadata": {},
   "outputs": [
    {
     "data": {
      "text/plain": [
       "phyloseq-class experiment-level object\n",
       "otu_table()   OTU Table:          [ 27486 taxa and 125 samples ]:\n",
       "sample_data() Sample Data:        [ 125 samples by 56 sample variables ]:\n",
       "tax_table()   Taxonomy Table:     [ 27486 taxa by 7 taxonomic ranks ]:\n",
       "taxa are rows"
      ]
     },
     "metadata": {},
     "output_type": "display_data"
    }
   ],
   "source": [
    "ps_merge = merge_samples2(ps_fill_euk, \"geno_clus\")\n",
    "ps_merge"
   ]
  },
  {
   "cell_type": "code",
   "execution_count": 10,
   "id": "80c6a102-6f5b-4b57-b637-2c490c4998d3",
   "metadata": {},
   "outputs": [
    {
     "data": {
      "text/plain": [
       "phyloseq-class experiment-level object\n",
       "otu_table()   OTU Table:          [ 481 taxa and 125 samples ]:\n",
       "sample_data() Sample Data:        [ 125 samples by 56 sample variables ]:\n",
       "tax_table()   Taxonomy Table:     [ 481 taxa by 7 taxonomic ranks ]:\n",
       "taxa are rows"
      ]
     },
     "metadata": {},
     "output_type": "display_data"
    },
    {
     "name": "stderr",
     "output_type": "stream",
     "text": [
      "Compositional = NO2\n",
      "\n",
      "1] Min. number of reads = 159392] Max. number of reads = 3983363] Total number of reads = 156660364] Average number of reads = 125328.2885] Median number of reads = 1089467] Sparsity = 0.4704698544698546] Any OTU sum to 1 or less? NO8] Number of singletons = 09] Percent of OTUs that are singletons \n",
      "        (i.e. exactly one read detected across all samples)010] Number of sample variables are: 56collection_dateSpeed.cm.s.Bearing.degrees.Velocity.N.cm.s.Velocity.E.cm.s.Temperature.C.reefGenotypeFragment_numberMonthYearFragment_numdaySurvey.LiveFragLWHAdjusted.AreaS01FragCountYear.xSi.uM.NO2.uM.N.N.uM.NO3.uM.PO4.uM.sample_IDsample_ID2HealthMonth.xSamp_tripjoining_infoorderspeciestime_ReefClustersampling_tripgeno_clusXcolour_reefcolour_genotypecolour_reef_genotypecolour_timepointcolour_timepoint_reefcluster_latitudecluster_longitudecluster_depthdepthYear.yMonth.yLat_decimalLong_decimalavgchla_mgm.3sdchla_mgm.3avgSST_degCsdSST_degC2\n",
      "\n"
     ]
    },
    {
     "data": {
      "text/html": [
       "<ol>\n",
       "\t<li>'1] Min. number of reads = 15939'</li>\n",
       "\t<li>'2] Max. number of reads = 398336'</li>\n",
       "\t<li>'3] Total number of reads = 15666036'</li>\n",
       "\t<li>'4] Average number of reads = 125328.288'</li>\n",
       "\t<li>'5] Median number of reads = 108946'</li>\n",
       "\t<li>'7] Sparsity = 0.470469854469854'</li>\n",
       "\t<li>'6] Any OTU sum to 1 or less? NO'</li>\n",
       "\t<li>'8] Number of singletons = 0'</li>\n",
       "\t<li><span style=white-space:pre-wrap>'9] Percent of OTUs that are singletons \\n        (i.e. exactly one read detected across all samples)0'</span></li>\n",
       "\t<li>'10] Number of sample variables are: 56'</li>\n",
       "\t<li><style>\n",
       ".list-inline {list-style: none; margin:0; padding: 0}\n",
       ".list-inline>li {display: inline-block}\n",
       ".list-inline>li:not(:last-child)::after {content: \"\\00b7\"; padding: 0 .5ex}\n",
       "</style>\n",
       "<ol class=list-inline><li>'collection_date'</li><li>'Speed.cm.s.'</li><li>'Bearing.degrees.'</li><li>'Velocity.N.cm.s.'</li><li>'Velocity.E.cm.s.'</li><li>'Temperature.C.'</li><li>'reef'</li><li>'Genotype'</li><li>'Fragment_number'</li><li>'Month'</li><li>'Year'</li><li>'Fragment_num'</li><li>'day'</li><li>'Survey.'</li><li>'LiveFrag'</li><li>'L'</li><li>'W'</li><li>'H'</li><li>'Adjusted.Area'</li><li>'S01FragCount'</li><li>'Year.x'</li><li>'Si.uM.'</li><li>'NO2.uM.'</li><li>'N.N.uM.'</li><li>'NO3.uM.'</li><li>'PO4.uM.'</li><li>'sample_ID'</li><li>'sample_ID2'</li><li>'Health'</li><li>'Month.x'</li><li>'Samp_trip'</li><li>'joining_info'</li><li>'order'</li><li>'species'</li><li>'time_Reef'</li><li>'Cluster'</li><li>'sampling_trip'</li><li>'geno_clus'</li><li>'X'</li><li>'colour_reef'</li><li>'colour_genotype'</li><li>'colour_reef_genotype'</li><li>'colour_timepoint'</li><li>'colour_timepoint_reef'</li><li>'cluster_latitude'</li><li>'cluster_longitude'</li><li>'cluster_depth'</li><li>'depth'</li><li>'Year.y'</li><li>'Month.y'</li><li>'Lat_decimal'</li><li>'Long_decimal'</li><li>'avgchla_mgm.3'</li><li>'sdchla_mgm.3'</li><li>'avgSST_degC'</li><li>'sdSST_degC'</li></ol>\n",
       "</li>\n",
       "</ol>\n"
      ],
      "text/latex": [
       "\\begin{enumerate}\n",
       "\\item '1{]} Min. number of reads = 15939'\n",
       "\\item '2{]} Max. number of reads = 398336'\n",
       "\\item '3{]} Total number of reads = 15666036'\n",
       "\\item '4{]} Average number of reads = 125328.288'\n",
       "\\item '5{]} Median number of reads = 108946'\n",
       "\\item '7{]} Sparsity = 0.470469854469854'\n",
       "\\item '6{]} Any OTU sum to 1 or less? NO'\n",
       "\\item '8{]} Number of singletons = 0'\n",
       "\\item '9{]} Percent of OTUs that are singletons \\textbackslash{}n        (i.e. exactly one read detected across all samples)0'\n",
       "\\item '10{]} Number of sample variables are: 56'\n",
       "\\item \\begin{enumerate*}\n",
       "\\item 'collection\\_date'\n",
       "\\item 'Speed.cm.s.'\n",
       "\\item 'Bearing.degrees.'\n",
       "\\item 'Velocity.N.cm.s.'\n",
       "\\item 'Velocity.E.cm.s.'\n",
       "\\item 'Temperature.C.'\n",
       "\\item 'reef'\n",
       "\\item 'Genotype'\n",
       "\\item 'Fragment\\_number'\n",
       "\\item 'Month'\n",
       "\\item 'Year'\n",
       "\\item 'Fragment\\_num'\n",
       "\\item 'day'\n",
       "\\item 'Survey.'\n",
       "\\item 'LiveFrag'\n",
       "\\item 'L'\n",
       "\\item 'W'\n",
       "\\item 'H'\n",
       "\\item 'Adjusted.Area'\n",
       "\\item 'S01FragCount'\n",
       "\\item 'Year.x'\n",
       "\\item 'Si.uM.'\n",
       "\\item 'NO2.uM.'\n",
       "\\item 'N.N.uM.'\n",
       "\\item 'NO3.uM.'\n",
       "\\item 'PO4.uM.'\n",
       "\\item 'sample\\_ID'\n",
       "\\item 'sample\\_ID2'\n",
       "\\item 'Health'\n",
       "\\item 'Month.x'\n",
       "\\item 'Samp\\_trip'\n",
       "\\item 'joining\\_info'\n",
       "\\item 'order'\n",
       "\\item 'species'\n",
       "\\item 'time\\_Reef'\n",
       "\\item 'Cluster'\n",
       "\\item 'sampling\\_trip'\n",
       "\\item 'geno\\_clus'\n",
       "\\item 'X'\n",
       "\\item 'colour\\_reef'\n",
       "\\item 'colour\\_genotype'\n",
       "\\item 'colour\\_reef\\_genotype'\n",
       "\\item 'colour\\_timepoint'\n",
       "\\item 'colour\\_timepoint\\_reef'\n",
       "\\item 'cluster\\_latitude'\n",
       "\\item 'cluster\\_longitude'\n",
       "\\item 'cluster\\_depth'\n",
       "\\item 'depth'\n",
       "\\item 'Year.y'\n",
       "\\item 'Month.y'\n",
       "\\item 'Lat\\_decimal'\n",
       "\\item 'Long\\_decimal'\n",
       "\\item 'avgchla\\_mgm.3'\n",
       "\\item 'sdchla\\_mgm.3'\n",
       "\\item 'avgSST\\_degC'\n",
       "\\item 'sdSST\\_degC'\n",
       "\\end{enumerate*}\n",
       "\n",
       "\\end{enumerate}\n"
      ],
      "text/markdown": [
       "1. '1] Min. number of reads = 15939'\n",
       "2. '2] Max. number of reads = 398336'\n",
       "3. '3] Total number of reads = 15666036'\n",
       "4. '4] Average number of reads = 125328.288'\n",
       "5. '5] Median number of reads = 108946'\n",
       "6. '7] Sparsity = 0.470469854469854'\n",
       "7. '6] Any OTU sum to 1 or less? NO'\n",
       "8. '8] Number of singletons = 0'\n",
       "9. <span style=white-space:pre-wrap>'9] Percent of OTUs that are singletons \\n        (i.e. exactly one read detected across all samples)0'</span>\n",
       "10. '10] Number of sample variables are: 56'\n",
       "11. 1. 'collection_date'\n",
       "2. 'Speed.cm.s.'\n",
       "3. 'Bearing.degrees.'\n",
       "4. 'Velocity.N.cm.s.'\n",
       "5. 'Velocity.E.cm.s.'\n",
       "6. 'Temperature.C.'\n",
       "7. 'reef'\n",
       "8. 'Genotype'\n",
       "9. 'Fragment_number'\n",
       "10. 'Month'\n",
       "11. 'Year'\n",
       "12. 'Fragment_num'\n",
       "13. 'day'\n",
       "14. 'Survey.'\n",
       "15. 'LiveFrag'\n",
       "16. 'L'\n",
       "17. 'W'\n",
       "18. 'H'\n",
       "19. 'Adjusted.Area'\n",
       "20. 'S01FragCount'\n",
       "21. 'Year.x'\n",
       "22. 'Si.uM.'\n",
       "23. 'NO2.uM.'\n",
       "24. 'N.N.uM.'\n",
       "25. 'NO3.uM.'\n",
       "26. 'PO4.uM.'\n",
       "27. 'sample_ID'\n",
       "28. 'sample_ID2'\n",
       "29. 'Health'\n",
       "30. 'Month.x'\n",
       "31. 'Samp_trip'\n",
       "32. 'joining_info'\n",
       "33. 'order'\n",
       "34. 'species'\n",
       "35. 'time_Reef'\n",
       "36. 'Cluster'\n",
       "37. 'sampling_trip'\n",
       "38. 'geno_clus'\n",
       "39. 'X'\n",
       "40. 'colour_reef'\n",
       "41. 'colour_genotype'\n",
       "42. 'colour_reef_genotype'\n",
       "43. 'colour_timepoint'\n",
       "44. 'colour_timepoint_reef'\n",
       "45. 'cluster_latitude'\n",
       "46. 'cluster_longitude'\n",
       "47. 'cluster_depth'\n",
       "48. 'depth'\n",
       "49. 'Year.y'\n",
       "50. 'Month.y'\n",
       "51. 'Lat_decimal'\n",
       "52. 'Long_decimal'\n",
       "53. 'avgchla_mgm.3'\n",
       "54. 'sdchla_mgm.3'\n",
       "55. 'avgSST_degC'\n",
       "56. 'sdSST_degC'\n",
       "\n",
       "\n",
       "\n",
       "\n",
       "\n"
      ],
      "text/plain": [
       "[[1]]\n",
       "[1] \"1] Min. number of reads = 15939\"\n",
       "\n",
       "[[2]]\n",
       "[1] \"2] Max. number of reads = 398336\"\n",
       "\n",
       "[[3]]\n",
       "[1] \"3] Total number of reads = 15666036\"\n",
       "\n",
       "[[4]]\n",
       "[1] \"4] Average number of reads = 125328.288\"\n",
       "\n",
       "[[5]]\n",
       "[1] \"5] Median number of reads = 108946\"\n",
       "\n",
       "[[6]]\n",
       "[1] \"7] Sparsity = 0.470469854469854\"\n",
       "\n",
       "[[7]]\n",
       "[1] \"6] Any OTU sum to 1 or less? NO\"\n",
       "\n",
       "[[8]]\n",
       "[1] \"8] Number of singletons = 0\"\n",
       "\n",
       "[[9]]\n",
       "[1] \"9] Percent of OTUs that are singletons \\n        (i.e. exactly one read detected across all samples)0\"\n",
       "\n",
       "[[10]]\n",
       "[1] \"10] Number of sample variables are: 56\"\n",
       "\n",
       "[[11]]\n",
       " [1] \"collection_date\"       \"Speed.cm.s.\"           \"Bearing.degrees.\"     \n",
       " [4] \"Velocity.N.cm.s.\"      \"Velocity.E.cm.s.\"      \"Temperature.C.\"       \n",
       " [7] \"reef\"                  \"Genotype\"              \"Fragment_number\"      \n",
       "[10] \"Month\"                 \"Year\"                  \"Fragment_num\"         \n",
       "[13] \"day\"                   \"Survey.\"               \"LiveFrag\"             \n",
       "[16] \"L\"                     \"W\"                     \"H\"                    \n",
       "[19] \"Adjusted.Area\"         \"S01FragCount\"          \"Year.x\"               \n",
       "[22] \"Si.uM.\"                \"NO2.uM.\"               \"N.N.uM.\"              \n",
       "[25] \"NO3.uM.\"               \"PO4.uM.\"               \"sample_ID\"            \n",
       "[28] \"sample_ID2\"            \"Health\"                \"Month.x\"              \n",
       "[31] \"Samp_trip\"             \"joining_info\"          \"order\"                \n",
       "[34] \"species\"               \"time_Reef\"             \"Cluster\"              \n",
       "[37] \"sampling_trip\"         \"geno_clus\"             \"X\"                    \n",
       "[40] \"colour_reef\"           \"colour_genotype\"       \"colour_reef_genotype\" \n",
       "[43] \"colour_timepoint\"      \"colour_timepoint_reef\" \"cluster_latitude\"     \n",
       "[46] \"cluster_longitude\"     \"cluster_depth\"         \"depth\"                \n",
       "[49] \"Year.y\"                \"Month.y\"               \"Lat_decimal\"          \n",
       "[52] \"Long_decimal\"          \"avgchla_mgm.3\"         \"sdchla_mgm.3\"         \n",
       "[55] \"avgSST_degC\"           \"sdSST_degC\"           \n"
      ]
     },
     "metadata": {},
     "output_type": "display_data"
    }
   ],
   "source": [
    "#filter to remove noise from data\n",
    "ps_fill = filter_taxa(ps_merge, function(x) sum(x > 10) > (0.15*length(x)), TRUE)\n",
    "ps_fill\n",
    "#summarize filtration\n",
    "microbiome::summarize_phyloseq(ps_fill)                      "
   ]
  },
  {
   "cell_type": "code",
   "execution_count": 12,
   "id": "5fc18d27-8069-4b96-9ee4-25f5c74b8035",
   "metadata": {
    "scrolled": true
   },
   "outputs": [],
   "source": [
    "# transform data into relative abundance and ordinate\n",
    "ps_clr <- microbiome::transform(ps_fill, 'clr')\n",
    "psr_clr_ord <- ordinate(ps_clr, \"RDA\", \"euclidean\")"
   ]
  },
  {
   "cell_type": "markdown",
   "id": "05c7289b-f159-4429-880e-d0c54ffb4638",
   "metadata": {},
   "source": [
    "### Dispersion"
   ]
  },
  {
   "cell_type": "code",
   "execution_count": 17,
   "id": "fa7c4039-a299-4a62-8086-5c69f97e2e3d",
   "metadata": {},
   "outputs": [
    {
     "data": {
      "text/html": [
       "<style>\n",
       ".list-inline {list-style: none; margin:0; padding: 0}\n",
       ".list-inline>li {display: inline-block}\n",
       ".list-inline>li:not(:last-child)::after {content: \"\\00b7\"; padding: 0 .5ex}\n",
       "</style>\n",
       "<ol class=list-inline><li>125</li><li>1</li></ol>\n"
      ],
      "text/latex": [
       "\\begin{enumerate*}\n",
       "\\item 125\n",
       "\\item 1\n",
       "\\end{enumerate*}\n"
      ],
      "text/markdown": [
       "1. 125\n",
       "2. 1\n",
       "\n",
       "\n"
      ],
      "text/plain": [
       "[1] 125   1"
      ]
     },
     "metadata": {},
     "output_type": "display_data"
    },
    {
     "data": {
      "text/plain": [
       "  Tukey multiple comparisons of means\n",
       "    95% family-wise confidence level\n",
       "\n",
       "Fit: aov(formula = distances ~ group, data = df)\n",
       "\n",
       "$group\n",
       "              diff       lwr        upr     p adj\n",
       "CN4-CN2 -0.4024861 -3.787672  2.9826998 0.9896482\n",
       "HS1-CN2 -3.6420231 -6.795623 -0.4884228 0.0166383\n",
       "ML2-CN2 -5.2504627 -8.673078 -1.8278479 0.0006352\n",
       "HS1-CN4 -3.2395370 -6.665284  0.1862096 0.0709559\n",
       "ML2-CN4 -4.8479766 -8.522869 -1.1730839 0.0044351\n",
       "ML2-HS1 -1.6084396 -5.071177  1.8542974 0.6216858\n"
      ]
     },
     "metadata": {},
     "output_type": "display_data"
    },
    {
     "data": {
      "text/plain": [
       "\n",
       "Permutation test for homogeneity of multivariate dispersions\n",
       "Permutation: free\n",
       "Number of permutations: 999\n",
       "\n",
       "Response: Distances\n",
       "           Df Sum Sq Mean Sq      F N.Perm Pr(>F)    \n",
       "Groups      3  581.0 193.679 7.3482    999  0.001 ***\n",
       "Residuals 121 3189.3  26.357                         \n",
       "---\n",
       "Signif. codes:  0 ‘***’ 0.001 ‘**’ 0.01 ‘*’ 0.05 ‘.’ 0.1 ‘ ’ 1\n",
       "\n",
       "Pairwise comparisons:\n",
       "(Observed p-value below diagonal, permuted p-value above diagonal)\n",
       "           CN2        CN4        HS1   ML2\n",
       "CN2            0.79400000 0.00500000 0.001\n",
       "CN4 0.77461076            0.00800000 0.003\n",
       "HS1 0.00231449 0.01315906            0.193\n",
       "ML2 0.00027248 0.00215234 0.18975273      "
      ]
     },
     "metadata": {},
     "output_type": "display_data"
    }
   ],
   "source": [
    "\n",
    "#dispersion\n",
    "ps_veg <- vegdist(otu_table(t(ps_clr)), method =\"euclidean\")\n",
    "\n",
    "mod_geno <- betadisper(ps_veg, sample_data(ps_clr)$Genotype, type =\"centroid\")\n",
    "#test the pair-wise comparisons for Multivariate Homogeneity Of Groups Dispersions (Variances)\n",
    "\n",
    "mod_dist= as.data.frame(mod_geno$distances)\n",
    "dim(mod_dist)\n",
    "mod_dist_df=cbind(sample_data(ps_clr), mod_dist) \n",
    "\n",
    "#test the pair-wise comparisons for Multivariate Homogeneity Of Groups Dispersions (Variances)\n",
    "TukeyHSD(mod_geno)\n",
    "permutest(mod_geno, pairwise = TRUE, permutations = 999)\n",
    "\n",
    "#results: only  CN4-CN2 are not different\n"
   ]
  },
  {
   "cell_type": "code",
   "execution_count": 18,
   "id": "eb8e72c5-65a9-4355-87b8-ae4e97e8b0aa",
   "metadata": {},
   "outputs": [
    {
     "data": {
      "text/html": [
       "<style>\n",
       ".list-inline {list-style: none; margin:0; padding: 0}\n",
       ".list-inline>li {display: inline-block}\n",
       ".list-inline>li:not(:last-child)::after {content: \"\\00b7\"; padding: 0 .5ex}\n",
       "</style>\n",
       "<ol class=list-inline><li>125</li><li>1</li></ol>\n"
      ],
      "text/latex": [
       "\\begin{enumerate*}\n",
       "\\item 125\n",
       "\\item 1\n",
       "\\end{enumerate*}\n"
      ],
      "text/markdown": [
       "1. 125\n",
       "2. 1\n",
       "\n",
       "\n"
      ],
      "text/plain": [
       "[1] 125   1"
      ]
     },
     "metadata": {},
     "output_type": "display_data"
    },
    {
     "data": {
      "text/plain": [
       "  Tukey multiple comparisons of means\n",
       "    95% family-wise confidence level\n",
       "\n",
       "Fit: aov(formula = distances ~ group, data = df)\n",
       "\n",
       "$group\n",
       "             diff       lwr       upr     p adj\n",
       "ndr-cf -1.4133520 -4.517811 1.6911072 0.5281515\n",
       "pr-cf  -2.2329874 -5.337447 0.8714717 0.2068400\n",
       "pr-ndr -0.8196355 -3.587434 1.9481632 0.7623960\n"
      ]
     },
     "metadata": {},
     "output_type": "display_data"
    },
    {
     "data": {
      "text/plain": [
       "\n",
       "Permutation test for homogeneity of multivariate dispersions\n",
       "Permutation: free\n",
       "Number of permutations: 999\n",
       "\n",
       "Response: Distances\n",
       "           Df Sum Sq Mean Sq      F N.Perm Pr(>F)\n",
       "Groups      2   93.3  46.638 1.4584    999  0.253\n",
       "Residuals 122 3901.4  31.979                     \n",
       "\n",
       "Pairwise comparisons:\n",
       "(Observed p-value below diagonal, permuted p-value above diagonal)\n",
       "          cf      ndr    pr\n",
       "cf           0.309000 0.045\n",
       "ndr 0.318849          0.516\n",
       "pr  0.040313 0.512510      "
      ]
     },
     "metadata": {},
     "output_type": "display_data"
    }
   ],
   "source": [
    "#dispersion\n",
    "ps_veg <- vegdist(otu_table(t(ps_clr)), method =\"euclidean\")\n",
    "\n",
    "mod_reef <- betadisper(ps_veg, sample_data(ps_clr)$reef, type =\"centroid\")\n",
    "#test the pair-wise comparisons for Multivariate Homogeneity Of Groups Dispersions (Variances)\n",
    "\n",
    "mod_dist= as.data.frame(mod_reef$distances)\n",
    "dim(mod_dist)\n",
    "mod_dist_df=cbind(sample_data(ps_clr), mod_dist) \n",
    "\n",
    "#test the pair-wise comparisons for Multivariate Homogeneity Of Groups Dispersions (Variances)\n",
    "TukeyHSD(mod_reef)\n",
    "permutest(mod_reef, pairwise = TRUE, permutations = 999)\n",
    "\n"
   ]
  },
  {
   "cell_type": "code",
   "execution_count": 30,
   "id": "22665b84-87f0-4fd6-9ed3-daa2174f3fcc",
   "metadata": {},
   "outputs": [
    {
     "data": {
      "text/plain": [
       "\n",
       "\tHomogeneity of multivariate dispersions\n",
       "\n",
       "Call: betadisper(d = ps_veg, group = sample_data(ps_clr)$Samp_trip,\n",
       "type = \"centroid\")\n",
       "\n",
       "No. of Positive Eigenvalues: 124\n",
       "No. of Negative Eigenvalues: 0\n",
       "\n",
       "Average distance to centroid:\n",
       "Trip_2 Trip_3 Trip_4 Trip_5 \n",
       " 45.64  50.12  46.64  46.44 \n",
       "\n",
       "Eigenvalues for PCoA axes:\n",
       "(Showing 8 of 124 eigenvalues)\n",
       "PCoA1 PCoA2 PCoA3 PCoA4 PCoA5 PCoA6 PCoA7 PCoA8 \n",
       "33523 24806 13331 11943  8506  8283  7047  5998 "
      ]
     },
     "metadata": {},
     "output_type": "display_data"
    },
    {
     "data": {
      "text/html": [
       "<style>\n",
       ".list-inline {list-style: none; margin:0; padding: 0}\n",
       ".list-inline>li {display: inline-block}\n",
       ".list-inline>li:not(:last-child)::after {content: \"\\00b7\"; padding: 0 .5ex}\n",
       "</style>\n",
       "<ol class=list-inline><li>125</li><li>1</li></ol>\n"
      ],
      "text/latex": [
       "\\begin{enumerate*}\n",
       "\\item 125\n",
       "\\item 1\n",
       "\\end{enumerate*}\n"
      ],
      "text/markdown": [
       "1. 125\n",
       "2. 1\n",
       "\n",
       "\n"
      ],
      "text/plain": [
       "[1] 125   1"
      ]
     },
     "metadata": {},
     "output_type": "display_data"
    },
    {
     "data": {
      "text/html": [
       "<table class=\"dataframe\">\n",
       "<caption>A data.frame: 6 × 1</caption>\n",
       "<thead>\n",
       "\t<tr><th></th><th scope=col>mod_month$distances</th></tr>\n",
       "\t<tr><th></th><th scope=col>&lt;dbl&gt;</th></tr>\n",
       "</thead>\n",
       "<tbody>\n",
       "\t<tr><th scope=row>ML2_78_cf_Trip_3</th><td>42.49984</td></tr>\n",
       "\t<tr><th scope=row>CN4_35_cf_Trip_3</th><td>46.00207</td></tr>\n",
       "\t<tr><th scope=row>CN4_25_cf_Trip_3</th><td>52.33498</td></tr>\n",
       "\t<tr><th scope=row>HS1_18_cf_Trip_3</th><td>44.95970</td></tr>\n",
       "\t<tr><th scope=row>HS1_17_cf_Trip_3</th><td>51.22930</td></tr>\n",
       "\t<tr><th scope=row>HS1_15_cf_Trip_3</th><td>47.99905</td></tr>\n",
       "</tbody>\n",
       "</table>\n"
      ],
      "text/latex": [
       "A data.frame: 6 × 1\n",
       "\\begin{tabular}{r|l}\n",
       "  & mod\\_month\\$distances\\\\\n",
       "  & <dbl>\\\\\n",
       "\\hline\n",
       "\tML2\\_78\\_cf\\_Trip\\_3 & 42.49984\\\\\n",
       "\tCN4\\_35\\_cf\\_Trip\\_3 & 46.00207\\\\\n",
       "\tCN4\\_25\\_cf\\_Trip\\_3 & 52.33498\\\\\n",
       "\tHS1\\_18\\_cf\\_Trip\\_3 & 44.95970\\\\\n",
       "\tHS1\\_17\\_cf\\_Trip\\_3 & 51.22930\\\\\n",
       "\tHS1\\_15\\_cf\\_Trip\\_3 & 47.99905\\\\\n",
       "\\end{tabular}\n"
      ],
      "text/markdown": [
       "\n",
       "A data.frame: 6 × 1\n",
       "\n",
       "| <!--/--> | mod_month$distances &lt;dbl&gt; |\n",
       "|---|---|\n",
       "| ML2_78_cf_Trip_3 | 42.49984 |\n",
       "| CN4_35_cf_Trip_3 | 46.00207 |\n",
       "| CN4_25_cf_Trip_3 | 52.33498 |\n",
       "| HS1_18_cf_Trip_3 | 44.95970 |\n",
       "| HS1_17_cf_Trip_3 | 51.22930 |\n",
       "| HS1_15_cf_Trip_3 | 47.99905 |\n",
       "\n"
      ],
      "text/plain": [
       "                 mod_month$distances\n",
       "ML2_78_cf_Trip_3 42.49984           \n",
       "CN4_35_cf_Trip_3 46.00207           \n",
       "CN4_25_cf_Trip_3 52.33498           \n",
       "HS1_18_cf_Trip_3 44.95970           \n",
       "HS1_17_cf_Trip_3 51.22930           \n",
       "HS1_15_cf_Trip_3 47.99905           "
      ]
     },
     "metadata": {},
     "output_type": "display_data"
    },
    {
     "data": {
      "text/plain": [
       "  Tukey multiple comparisons of means\n",
       "    95% family-wise confidence level\n",
       "\n",
       "Fit: aov(formula = distances ~ group, data = df)\n",
       "\n",
       "$group\n",
       "                    diff       lwr         upr     p adj\n",
       "Trip_3-Trip_2  4.4827803  1.078874  7.88668673 0.0045212\n",
       "Trip_4-Trip_2  1.0014226 -2.553368  4.55621317 0.8832811\n",
       "Trip_5-Trip_2  0.7981742 -2.691031  4.28737970 0.9331287\n",
       "Trip_4-Trip_3 -3.4813576 -7.060390  0.09767432 0.0597517\n",
       "Trip_5-Trip_3 -3.6846060 -7.198505 -0.17070666 0.0359798\n",
       "Trip_5-Trip_4 -0.2032484 -3.863501  3.45700368 0.9989148\n"
      ]
     },
     "metadata": {},
     "output_type": "display_data"
    },
    {
     "data": {
      "text/plain": [
       "\n",
       "Permutation test for homogeneity of multivariate dispersions\n",
       "Permutation: free\n",
       "Number of permutations: 999\n",
       "\n",
       "Response: Distances\n",
       "           Df Sum Sq Mean Sq     F N.Perm Pr(>F)   \n",
       "Groups      3  390.6 130.201 4.554    999  0.007 **\n",
       "Residuals 121 3459.5  28.591                       \n",
       "---\n",
       "Signif. codes:  0 ‘***’ 0.001 ‘**’ 0.01 ‘*’ 0.05 ‘.’ 0.1 ‘ ’ 1\n",
       "\n",
       "Pairwise comparisons:\n",
       "(Observed p-value below diagonal, permuted p-value above diagonal)\n",
       "           Trip_2     Trip_3     Trip_4 Trip_5\n",
       "Trip_2            1.0000e-03 4.3700e-01  0.584\n",
       "Trip_3 3.5857e-05            7.0000e-03  0.014\n",
       "Trip_4 4.1186e-01 4.0618e-03             0.901\n",
       "Trip_5 5.9858e-01 1.5694e-02 9.0537e-01       "
      ]
     },
     "metadata": {},
     "output_type": "display_data"
    }
   ],
   "source": [
    "#distances between\n",
    "ps_veg <- vegdist(otu_table(t(ps_clr)), method =\"euclidean\")\n",
    "\n",
    "mod_month <- betadisper(ps_veg, sample_data(ps_clr)$Samp_trip, type =\"centroid\")\n",
    "#test the pair-wise comparisons for Multivariate Homogeneity Of Groups Dispersions (Variances)\n",
    "mod_month\n",
    "\n",
    "mod_dist= as.data.frame(mod_month$distances)\n",
    "dim(mod_dist)\n",
    "mod_dist_df=cbind(sample_data(ps_clr), mod_dist) \n",
    "head(mod_dist)\n",
    "\n",
    "#test the pair-wise comparisons for Multivariate Homogeneity Of Groups Dispersions (Variances)\n",
    "TukeyHSD(mod_month)\n",
    "permutest(mod_month, pairwise = TRUE, permutations = 999)\n"
   ]
  },
  {
   "cell_type": "markdown",
   "id": "5e274145-c599-4f24-aba6-6704e4bdfe2f",
   "metadata": {},
   "source": [
    "### PERMANOVA"
   ]
  },
  {
   "cell_type": "code",
   "execution_count": 32,
   "id": "d133ad57-96e6-42e3-b543-730d0cbc8204",
   "metadata": {},
   "outputs": [
    {
     "data": {
      "text/plain": [
       "phyloseq-class experiment-level object\n",
       "otu_table()   OTU Table:          [ 481 taxa and 123 samples ]:\n",
       "sample_data() Sample Data:        [ 123 samples by 56 sample variables ]:\n",
       "tax_table()   Taxonomy Table:     [ 481 taxa by 7 taxonomic ranks ]:\n",
       "taxa are rows"
      ]
     },
     "metadata": {},
     "output_type": "display_data"
    },
    {
     "data": {
      "text/html": [
       "<table class=\"dataframe\">\n",
       "<caption>A data.frame: 6 × 56</caption>\n",
       "<thead>\n",
       "\t<tr><th></th><th scope=col>collection_date</th><th scope=col>Speed.cm.s.</th><th scope=col>Bearing.degrees.</th><th scope=col>Velocity.N.cm.s.</th><th scope=col>Velocity.E.cm.s.</th><th scope=col>Temperature.C.</th><th scope=col>reef</th><th scope=col>Genotype</th><th scope=col>Fragment_number</th><th scope=col>Month</th><th scope=col>⋯</th><th scope=col>cluster_depth</th><th scope=col>depth</th><th scope=col>Year.y</th><th scope=col>Month.y</th><th scope=col>Lat_decimal</th><th scope=col>Long_decimal</th><th scope=col>avgchla_mgm.3</th><th scope=col>sdchla_mgm.3</th><th scope=col>avgSST_degC</th><th scope=col>sdSST_degC</th></tr>\n",
       "\t<tr><th></th><th scope=col>&lt;chr&gt;</th><th scope=col>&lt;dbl&gt;</th><th scope=col>&lt;dbl&gt;</th><th scope=col>&lt;dbl&gt;</th><th scope=col>&lt;dbl&gt;</th><th scope=col>&lt;dbl&gt;</th><th scope=col>&lt;chr&gt;</th><th scope=col>&lt;chr&gt;</th><th scope=col>&lt;chr&gt;</th><th scope=col>&lt;fct&gt;</th><th scope=col>⋯</th><th scope=col>&lt;dbl&gt;</th><th scope=col>&lt;chr&gt;</th><th scope=col>&lt;int&gt;</th><th scope=col>&lt;chr&gt;</th><th scope=col>&lt;dbl&gt;</th><th scope=col>&lt;dbl&gt;</th><th scope=col>&lt;dbl&gt;</th><th scope=col>&lt;dbl&gt;</th><th scope=col>&lt;dbl&gt;</th><th scope=col>&lt;dbl&gt;</th></tr>\n",
       "</thead>\n",
       "<tbody>\n",
       "\t<tr><th scope=row>ML2_78_cf_Trip_3</th><td>25-Jun-19</td><td>4.852118</td><td>122.786</td><td>0.9382899</td><td>3.174028</td><td>30.40801</td><td>cf</td><td>ML2</td><td>NA</td><td>June</td><td>⋯</td><td>-20.9</td><td>20.9</td><td>2019</td><td>June</td><td>25.221</td><td>-80.21</td><td>1.792092</td><td>0.3763544</td><td>29.63623</td><td>0.5081026</td></tr>\n",
       "\t<tr><th scope=row>CN4_35_cf_Trip_3</th><td>25-Jun-19</td><td>4.852118</td><td>122.786</td><td>0.9382899</td><td>3.174028</td><td>30.40801</td><td>cf</td><td>CN4</td><td>NA</td><td>June</td><td>⋯</td><td>-17.9</td><td>17.9</td><td>2019</td><td>June</td><td>25.221</td><td>-80.21</td><td>1.792092</td><td>0.3763544</td><td>29.63623</td><td>0.5081026</td></tr>\n",
       "\t<tr><th scope=row>CN4_25_cf_Trip_3</th><td>25-Jun-19</td><td>4.852118</td><td>122.786</td><td>0.9382899</td><td>3.174028</td><td>30.40801</td><td>cf</td><td>CN4</td><td>A </td><td>June</td><td>⋯</td><td>-20.8</td><td>20.8</td><td>2019</td><td>June</td><td>25.221</td><td>-80.21</td><td>1.792092</td><td>0.3763544</td><td>29.63623</td><td>0.5081026</td></tr>\n",
       "\t<tr><th scope=row>HS1_18_cf_Trip_3</th><td>25-Jun-19</td><td>4.852118</td><td>122.786</td><td>0.9382899</td><td>3.174028</td><td>30.40801</td><td>cf</td><td>HS1</td><td>NA</td><td>June</td><td>⋯</td><td>-18.8</td><td>18.8</td><td>2019</td><td>June</td><td>25.221</td><td>-80.21</td><td>1.792092</td><td>0.3763544</td><td>29.63623</td><td>0.5081026</td></tr>\n",
       "\t<tr><th scope=row>HS1_17_cf_Trip_3</th><td>25-Jun-19</td><td>4.852118</td><td>122.786</td><td>0.9382899</td><td>3.174028</td><td>30.40801</td><td>cf</td><td>HS1</td><td>NA</td><td>June</td><td>⋯</td><td>-17.8</td><td>17.8</td><td>2019</td><td>June</td><td>25.221</td><td>-80.21</td><td>1.792092</td><td>0.3763544</td><td>29.63623</td><td>0.5081026</td></tr>\n",
       "\t<tr><th scope=row>HS1_15_cf_Trip_3</th><td>25-Jun-19</td><td>4.852118</td><td>122.786</td><td>0.9382899</td><td>3.174028</td><td>30.40801</td><td>cf</td><td>HS1</td><td>NA</td><td>June</td><td>⋯</td><td>-17.6</td><td>17.6</td><td>2019</td><td>June</td><td>25.221</td><td>-80.21</td><td>1.792092</td><td>0.3763544</td><td>29.63623</td><td>0.5081026</td></tr>\n",
       "</tbody>\n",
       "</table>\n"
      ],
      "text/latex": [
       "A data.frame: 6 × 56\n",
       "\\begin{tabular}{r|lllllllllllllllllllll}\n",
       "  & collection\\_date & Speed.cm.s. & Bearing.degrees. & Velocity.N.cm.s. & Velocity.E.cm.s. & Temperature.C. & reef & Genotype & Fragment\\_number & Month & ⋯ & cluster\\_depth & depth & Year.y & Month.y & Lat\\_decimal & Long\\_decimal & avgchla\\_mgm.3 & sdchla\\_mgm.3 & avgSST\\_degC & sdSST\\_degC\\\\\n",
       "  & <chr> & <dbl> & <dbl> & <dbl> & <dbl> & <dbl> & <chr> & <chr> & <chr> & <fct> & ⋯ & <dbl> & <chr> & <int> & <chr> & <dbl> & <dbl> & <dbl> & <dbl> & <dbl> & <dbl>\\\\\n",
       "\\hline\n",
       "\tML2\\_78\\_cf\\_Trip\\_3 & 25-Jun-19 & 4.852118 & 122.786 & 0.9382899 & 3.174028 & 30.40801 & cf & ML2 & NA & June & ⋯ & -20.9 & 20.9 & 2019 & June & 25.221 & -80.21 & 1.792092 & 0.3763544 & 29.63623 & 0.5081026\\\\\n",
       "\tCN4\\_35\\_cf\\_Trip\\_3 & 25-Jun-19 & 4.852118 & 122.786 & 0.9382899 & 3.174028 & 30.40801 & cf & CN4 & NA & June & ⋯ & -17.9 & 17.9 & 2019 & June & 25.221 & -80.21 & 1.792092 & 0.3763544 & 29.63623 & 0.5081026\\\\\n",
       "\tCN4\\_25\\_cf\\_Trip\\_3 & 25-Jun-19 & 4.852118 & 122.786 & 0.9382899 & 3.174028 & 30.40801 & cf & CN4 & A  & June & ⋯ & -20.8 & 20.8 & 2019 & June & 25.221 & -80.21 & 1.792092 & 0.3763544 & 29.63623 & 0.5081026\\\\\n",
       "\tHS1\\_18\\_cf\\_Trip\\_3 & 25-Jun-19 & 4.852118 & 122.786 & 0.9382899 & 3.174028 & 30.40801 & cf & HS1 & NA & June & ⋯ & -18.8 & 18.8 & 2019 & June & 25.221 & -80.21 & 1.792092 & 0.3763544 & 29.63623 & 0.5081026\\\\\n",
       "\tHS1\\_17\\_cf\\_Trip\\_3 & 25-Jun-19 & 4.852118 & 122.786 & 0.9382899 & 3.174028 & 30.40801 & cf & HS1 & NA & June & ⋯ & -17.8 & 17.8 & 2019 & June & 25.221 & -80.21 & 1.792092 & 0.3763544 & 29.63623 & 0.5081026\\\\\n",
       "\tHS1\\_15\\_cf\\_Trip\\_3 & 25-Jun-19 & 4.852118 & 122.786 & 0.9382899 & 3.174028 & 30.40801 & cf & HS1 & NA & June & ⋯ & -17.6 & 17.6 & 2019 & June & 25.221 & -80.21 & 1.792092 & 0.3763544 & 29.63623 & 0.5081026\\\\\n",
       "\\end{tabular}\n"
      ],
      "text/markdown": [
       "\n",
       "A data.frame: 6 × 56\n",
       "\n",
       "| <!--/--> | collection_date &lt;chr&gt; | Speed.cm.s. &lt;dbl&gt; | Bearing.degrees. &lt;dbl&gt; | Velocity.N.cm.s. &lt;dbl&gt; | Velocity.E.cm.s. &lt;dbl&gt; | Temperature.C. &lt;dbl&gt; | reef &lt;chr&gt; | Genotype &lt;chr&gt; | Fragment_number &lt;chr&gt; | Month &lt;fct&gt; | ⋯ ⋯ | cluster_depth &lt;dbl&gt; | depth &lt;chr&gt; | Year.y &lt;int&gt; | Month.y &lt;chr&gt; | Lat_decimal &lt;dbl&gt; | Long_decimal &lt;dbl&gt; | avgchla_mgm.3 &lt;dbl&gt; | sdchla_mgm.3 &lt;dbl&gt; | avgSST_degC &lt;dbl&gt; | sdSST_degC &lt;dbl&gt; |\n",
       "|---|---|---|---|---|---|---|---|---|---|---|---|---|---|---|---|---|---|---|---|---|---|\n",
       "| ML2_78_cf_Trip_3 | 25-Jun-19 | 4.852118 | 122.786 | 0.9382899 | 3.174028 | 30.40801 | cf | ML2 | NA | June | ⋯ | -20.9 | 20.9 | 2019 | June | 25.221 | -80.21 | 1.792092 | 0.3763544 | 29.63623 | 0.5081026 |\n",
       "| CN4_35_cf_Trip_3 | 25-Jun-19 | 4.852118 | 122.786 | 0.9382899 | 3.174028 | 30.40801 | cf | CN4 | NA | June | ⋯ | -17.9 | 17.9 | 2019 | June | 25.221 | -80.21 | 1.792092 | 0.3763544 | 29.63623 | 0.5081026 |\n",
       "| CN4_25_cf_Trip_3 | 25-Jun-19 | 4.852118 | 122.786 | 0.9382899 | 3.174028 | 30.40801 | cf | CN4 | A  | June | ⋯ | -20.8 | 20.8 | 2019 | June | 25.221 | -80.21 | 1.792092 | 0.3763544 | 29.63623 | 0.5081026 |\n",
       "| HS1_18_cf_Trip_3 | 25-Jun-19 | 4.852118 | 122.786 | 0.9382899 | 3.174028 | 30.40801 | cf | HS1 | NA | June | ⋯ | -18.8 | 18.8 | 2019 | June | 25.221 | -80.21 | 1.792092 | 0.3763544 | 29.63623 | 0.5081026 |\n",
       "| HS1_17_cf_Trip_3 | 25-Jun-19 | 4.852118 | 122.786 | 0.9382899 | 3.174028 | 30.40801 | cf | HS1 | NA | June | ⋯ | -17.8 | 17.8 | 2019 | June | 25.221 | -80.21 | 1.792092 | 0.3763544 | 29.63623 | 0.5081026 |\n",
       "| HS1_15_cf_Trip_3 | 25-Jun-19 | 4.852118 | 122.786 | 0.9382899 | 3.174028 | 30.40801 | cf | HS1 | NA | June | ⋯ | -17.6 | 17.6 | 2019 | June | 25.221 | -80.21 | 1.792092 | 0.3763544 | 29.63623 | 0.5081026 |\n",
       "\n"
      ],
      "text/plain": [
       "                 collection_date Speed.cm.s. Bearing.degrees. Velocity.N.cm.s.\n",
       "ML2_78_cf_Trip_3 25-Jun-19       4.852118    122.786          0.9382899       \n",
       "CN4_35_cf_Trip_3 25-Jun-19       4.852118    122.786          0.9382899       \n",
       "CN4_25_cf_Trip_3 25-Jun-19       4.852118    122.786          0.9382899       \n",
       "HS1_18_cf_Trip_3 25-Jun-19       4.852118    122.786          0.9382899       \n",
       "HS1_17_cf_Trip_3 25-Jun-19       4.852118    122.786          0.9382899       \n",
       "HS1_15_cf_Trip_3 25-Jun-19       4.852118    122.786          0.9382899       \n",
       "                 Velocity.E.cm.s. Temperature.C. reef Genotype Fragment_number\n",
       "ML2_78_cf_Trip_3 3.174028         30.40801       cf   ML2      NA             \n",
       "CN4_35_cf_Trip_3 3.174028         30.40801       cf   CN4      NA             \n",
       "CN4_25_cf_Trip_3 3.174028         30.40801       cf   CN4      A              \n",
       "HS1_18_cf_Trip_3 3.174028         30.40801       cf   HS1      NA             \n",
       "HS1_17_cf_Trip_3 3.174028         30.40801       cf   HS1      NA             \n",
       "HS1_15_cf_Trip_3 3.174028         30.40801       cf   HS1      NA             \n",
       "                 Month ⋯ cluster_depth depth Year.y Month.y Lat_decimal\n",
       "ML2_78_cf_Trip_3 June  ⋯ -20.9         20.9  2019   June    25.221     \n",
       "CN4_35_cf_Trip_3 June  ⋯ -17.9         17.9  2019   June    25.221     \n",
       "CN4_25_cf_Trip_3 June  ⋯ -20.8         20.8  2019   June    25.221     \n",
       "HS1_18_cf_Trip_3 June  ⋯ -18.8         18.8  2019   June    25.221     \n",
       "HS1_17_cf_Trip_3 June  ⋯ -17.8         17.8  2019   June    25.221     \n",
       "HS1_15_cf_Trip_3 June  ⋯ -17.6         17.6  2019   June    25.221     \n",
       "                 Long_decimal avgchla_mgm.3 sdchla_mgm.3 avgSST_degC sdSST_degC\n",
       "ML2_78_cf_Trip_3 -80.21       1.792092      0.3763544    29.63623    0.5081026 \n",
       "CN4_35_cf_Trip_3 -80.21       1.792092      0.3763544    29.63623    0.5081026 \n",
       "CN4_25_cf_Trip_3 -80.21       1.792092      0.3763544    29.63623    0.5081026 \n",
       "HS1_18_cf_Trip_3 -80.21       1.792092      0.3763544    29.63623    0.5081026 \n",
       "HS1_17_cf_Trip_3 -80.21       1.792092      0.3763544    29.63623    0.5081026 \n",
       "HS1_15_cf_Trip_3 -80.21       1.792092      0.3763544    29.63623    0.5081026 "
      ]
     },
     "metadata": {},
     "output_type": "display_data"
    },
    {
     "data": {
      "text/html": [
       "<style>\n",
       ".list-inline {list-style: none; margin:0; padding: 0}\n",
       ".list-inline>li {display: inline-block}\n",
       ".list-inline>li:not(:last-child)::after {content: \"\\00b7\"; padding: 0 .5ex}\n",
       "</style>\n",
       "<ol class=list-inline><li>123</li><li>56</li></ol>\n"
      ],
      "text/latex": [
       "\\begin{enumerate*}\n",
       "\\item 123\n",
       "\\item 56\n",
       "\\end{enumerate*}\n"
      ],
      "text/markdown": [
       "1. 123\n",
       "2. 56\n",
       "\n",
       "\n"
      ],
      "text/plain": [
       "[1] 123  56"
      ]
     },
     "metadata": {},
     "output_type": "display_data"
    },
    {
     "data": {
      "text/html": [
       "<table class=\"dataframe\">\n",
       "<caption>A anova.cca: 9 × 5</caption>\n",
       "<thead>\n",
       "\t<tr><th></th><th scope=col>Df</th><th scope=col>SumOfSqs</th><th scope=col>R2</th><th scope=col>F</th><th scope=col>Pr(&gt;F)</th></tr>\n",
       "\t<tr><th></th><th scope=col>&lt;dbl&gt;</th><th scope=col>&lt;dbl&gt;</th><th scope=col>&lt;dbl&gt;</th><th scope=col>&lt;dbl&gt;</th><th scope=col>&lt;dbl&gt;</th></tr>\n",
       "</thead>\n",
       "<tbody>\n",
       "\t<tr><th scope=row>Samp_trip</th><td>  3</td><td> 26165.65</td><td>0.08579533</td><td>4.327800</td><td>0.001</td></tr>\n",
       "\t<tr><th scope=row>Genotype</th><td>  3</td><td> 12333.48</td><td>0.04044062</td><td>2.039959</td><td>0.001</td></tr>\n",
       "\t<tr><th scope=row>reef</th><td>  2</td><td> 19771.06</td><td>0.06482792</td><td>4.905203</td><td>0.001</td></tr>\n",
       "\t<tr><th scope=row>Samp_trip:Genotype</th><td>  9</td><td> 18693.96</td><td>0.06129619</td><td>1.030661</td><td>0.317</td></tr>\n",
       "\t<tr><th scope=row>Samp_trip:reef</th><td>  6</td><td> 23014.92</td><td>0.07546431</td><td>1.903335</td><td>0.001</td></tr>\n",
       "\t<tr><th scope=row>Genotype:reef</th><td>  6</td><td> 15210.94</td><td>0.04987562</td><td>1.257946</td><td>0.002</td></tr>\n",
       "\t<tr><th scope=row>Samp_trip:Genotype:reef</th><td> 15</td><td> 32592.92</td><td>0.10686989</td><td>1.078174</td><td>0.089</td></tr>\n",
       "\t<tr><th scope=row>Residual</th><td> 78</td><td>157194.61</td><td>0.51543011</td><td>      NA</td><td>   NA</td></tr>\n",
       "\t<tr><th scope=row>Total</th><td>122</td><td>304977.55</td><td>1.00000000</td><td>      NA</td><td>   NA</td></tr>\n",
       "</tbody>\n",
       "</table>\n"
      ],
      "text/latex": [
       "A anova.cca: 9 × 5\n",
       "\\begin{tabular}{r|lllll}\n",
       "  & Df & SumOfSqs & R2 & F & Pr(>F)\\\\\n",
       "  & <dbl> & <dbl> & <dbl> & <dbl> & <dbl>\\\\\n",
       "\\hline\n",
       "\tSamp\\_trip &   3 &  26165.65 & 0.08579533 & 4.327800 & 0.001\\\\\n",
       "\tGenotype &   3 &  12333.48 & 0.04044062 & 2.039959 & 0.001\\\\\n",
       "\treef &   2 &  19771.06 & 0.06482792 & 4.905203 & 0.001\\\\\n",
       "\tSamp\\_trip:Genotype &   9 &  18693.96 & 0.06129619 & 1.030661 & 0.317\\\\\n",
       "\tSamp\\_trip:reef &   6 &  23014.92 & 0.07546431 & 1.903335 & 0.001\\\\\n",
       "\tGenotype:reef &   6 &  15210.94 & 0.04987562 & 1.257946 & 0.002\\\\\n",
       "\tSamp\\_trip:Genotype:reef &  15 &  32592.92 & 0.10686989 & 1.078174 & 0.089\\\\\n",
       "\tResidual &  78 & 157194.61 & 0.51543011 &       NA &    NA\\\\\n",
       "\tTotal & 122 & 304977.55 & 1.00000000 &       NA &    NA\\\\\n",
       "\\end{tabular}\n"
      ],
      "text/markdown": [
       "\n",
       "A anova.cca: 9 × 5\n",
       "\n",
       "| <!--/--> | Df &lt;dbl&gt; | SumOfSqs &lt;dbl&gt; | R2 &lt;dbl&gt; | F &lt;dbl&gt; | Pr(&gt;F) &lt;dbl&gt; |\n",
       "|---|---|---|---|---|---|\n",
       "| Samp_trip |   3 |  26165.65 | 0.08579533 | 4.327800 | 0.001 |\n",
       "| Genotype |   3 |  12333.48 | 0.04044062 | 2.039959 | 0.001 |\n",
       "| reef |   2 |  19771.06 | 0.06482792 | 4.905203 | 0.001 |\n",
       "| Samp_trip:Genotype |   9 |  18693.96 | 0.06129619 | 1.030661 | 0.317 |\n",
       "| Samp_trip:reef |   6 |  23014.92 | 0.07546431 | 1.903335 | 0.001 |\n",
       "| Genotype:reef |   6 |  15210.94 | 0.04987562 | 1.257946 | 0.002 |\n",
       "| Samp_trip:Genotype:reef |  15 |  32592.92 | 0.10686989 | 1.078174 | 0.089 |\n",
       "| Residual |  78 | 157194.61 | 0.51543011 |       NA |    NA |\n",
       "| Total | 122 | 304977.55 | 1.00000000 |       NA |    NA |\n",
       "\n"
      ],
      "text/plain": [
       "                        Df  SumOfSqs  R2         F        Pr(>F)\n",
       "Samp_trip                 3  26165.65 0.08579533 4.327800 0.001 \n",
       "Genotype                  3  12333.48 0.04044062 2.039959 0.001 \n",
       "reef                      2  19771.06 0.06482792 4.905203 0.001 \n",
       "Samp_trip:Genotype        9  18693.96 0.06129619 1.030661 0.317 \n",
       "Samp_trip:reef            6  23014.92 0.07546431 1.903335 0.001 \n",
       "Genotype:reef             6  15210.94 0.04987562 1.257946 0.002 \n",
       "Samp_trip:Genotype:reef  15  32592.92 0.10686989 1.078174 0.089 \n",
       "Residual                 78 157194.61 0.51543011       NA    NA \n",
       "Total                   122 304977.55 1.00000000       NA    NA "
      ]
     },
     "metadata": {},
     "output_type": "display_data"
    }
   ],
   "source": [
    "ps_ra_ad =  subset_samples(ps_clr, cluster_depth!= \"NA\")\n",
    "ps_ra_ad \n",
    "ps_ra_ad_meta= data.frame(sample_data(ps_ra_ad))\n",
    "head(ps_ra_ad_meta)\n",
    "dim(ps_ra_ad_meta)\n",
    "#ps_ra_ad\n",
    "#distances between\n",
    "ps_veg_ad = dist(otu_table(t(ps_ra_ad)), method =\"euclidean\")\n",
    "#  adonis(formula = abund_table ~ ., data = meta_table) \n",
    "\n",
    "adonis2(ps_veg_ad~Samp_trip*Genotype*reef, \n",
    "       data =ps_ra_ad_meta, \n",
    "         method = \"euclidean\", permutations = 999)"
   ]
  },
  {
   "cell_type": "code",
   "execution_count": 35,
   "id": "611d716e-4350-4166-ae6c-a8704de9784c",
   "metadata": {},
   "outputs": [
    {
     "data": {
      "text/html": [
       "<table class=\"dataframe\">\n",
       "<caption>A pwadonis: 3 × 8</caption>\n",
       "<thead>\n",
       "\t<tr><th scope=col>pairs</th><th scope=col>Df</th><th scope=col>SumsOfSqs</th><th scope=col>F.Model</th><th scope=col>R2</th><th scope=col>p.value</th><th scope=col>p.adjusted</th><th scope=col>sig</th></tr>\n",
       "\t<tr><th scope=col>&lt;chr&gt;</th><th scope=col>&lt;dbl&gt;</th><th scope=col>&lt;dbl&gt;</th><th scope=col>&lt;dbl&gt;</th><th scope=col>&lt;dbl&gt;</th><th scope=col>&lt;dbl&gt;</th><th scope=col>&lt;dbl&gt;</th><th scope=col>&lt;chr&gt;</th></tr>\n",
       "</thead>\n",
       "<tbody>\n",
       "\t<tr><td>cf vs ndr</td><td>1</td><td> 6382.467</td><td>2.617850</td><td>0.03372742</td><td>0.001</td><td>0.003</td><td>*</td></tr>\n",
       "\t<tr><td>cf vs pr </td><td>1</td><td> 7549.765</td><td>3.186346</td><td>0.04075323</td><td>0.001</td><td>0.003</td><td>*</td></tr>\n",
       "\t<tr><td>ndr vs pr</td><td>1</td><td>14892.302</td><td>6.392356</td><td>0.06631600</td><td>0.001</td><td>0.003</td><td>*</td></tr>\n",
       "</tbody>\n",
       "</table>\n"
      ],
      "text/latex": [
       "A pwadonis: 3 × 8\n",
       "\\begin{tabular}{llllllll}\n",
       " pairs & Df & SumsOfSqs & F.Model & R2 & p.value & p.adjusted & sig\\\\\n",
       " <chr> & <dbl> & <dbl> & <dbl> & <dbl> & <dbl> & <dbl> & <chr>\\\\\n",
       "\\hline\n",
       "\t cf vs ndr & 1 &  6382.467 & 2.617850 & 0.03372742 & 0.001 & 0.003 & *\\\\\n",
       "\t cf vs pr  & 1 &  7549.765 & 3.186346 & 0.04075323 & 0.001 & 0.003 & *\\\\\n",
       "\t ndr vs pr & 1 & 14892.302 & 6.392356 & 0.06631600 & 0.001 & 0.003 & *\\\\\n",
       "\\end{tabular}\n"
      ],
      "text/markdown": [
       "\n",
       "A pwadonis: 3 × 8\n",
       "\n",
       "| pairs &lt;chr&gt; | Df &lt;dbl&gt; | SumsOfSqs &lt;dbl&gt; | F.Model &lt;dbl&gt; | R2 &lt;dbl&gt; | p.value &lt;dbl&gt; | p.adjusted &lt;dbl&gt; | sig &lt;chr&gt; |\n",
       "|---|---|---|---|---|---|---|---|\n",
       "| cf vs ndr | 1 |  6382.467 | 2.617850 | 0.03372742 | 0.001 | 0.003 | * |\n",
       "| cf vs pr  | 1 |  7549.765 | 3.186346 | 0.04075323 | 0.001 | 0.003 | * |\n",
       "| ndr vs pr | 1 | 14892.302 | 6.392356 | 0.06631600 | 0.001 | 0.003 | * |\n",
       "\n"
      ],
      "text/plain": [
       "  pairs     Df SumsOfSqs F.Model  R2         p.value p.adjusted sig\n",
       "1 cf vs ndr 1   6382.467 2.617850 0.03372742 0.001   0.003      *  \n",
       "2 cf vs pr  1   7549.765 3.186346 0.04075323 0.001   0.003      *  \n",
       "3 ndr vs pr 1  14892.302 6.392356 0.06631600 0.001   0.003      *  "
      ]
     },
     "metadata": {},
     "output_type": "display_data"
    },
    {
     "data": {
      "text/html": [
       "<table class=\"dataframe\">\n",
       "<caption>A pwadonis: 6 × 8</caption>\n",
       "<thead>\n",
       "\t<tr><th scope=col>pairs</th><th scope=col>Df</th><th scope=col>SumsOfSqs</th><th scope=col>F.Model</th><th scope=col>R2</th><th scope=col>p.value</th><th scope=col>p.adjusted</th><th scope=col>sig</th></tr>\n",
       "\t<tr><th scope=col>&lt;chr&gt;</th><th scope=col>&lt;dbl&gt;</th><th scope=col>&lt;dbl&gt;</th><th scope=col>&lt;dbl&gt;</th><th scope=col>&lt;dbl&gt;</th><th scope=col>&lt;dbl&gt;</th><th scope=col>&lt;dbl&gt;</th><th scope=col>&lt;chr&gt;</th></tr>\n",
       "</thead>\n",
       "<tbody>\n",
       "\t<tr><td>Trip_3 vs Trip_4</td><td>1</td><td> 9523.459</td><td>3.848625</td><td>0.06324917</td><td>0.001</td><td>0.006</td><td>*</td></tr>\n",
       "\t<tr><td>Trip_3 vs Trip_5</td><td>1</td><td> 9351.404</td><td>3.810356</td><td>0.05879239</td><td>0.001</td><td>0.006</td><td>*</td></tr>\n",
       "\t<tr><td>Trip_3 vs Trip_2</td><td>1</td><td>10115.155</td><td>4.246289</td><td>0.06132154</td><td>0.001</td><td>0.006</td><td>*</td></tr>\n",
       "\t<tr><td>Trip_4 vs Trip_5</td><td>1</td><td> 7107.706</td><td>3.095932</td><td>0.05422333</td><td>0.001</td><td>0.006</td><td>*</td></tr>\n",
       "\t<tr><td>Trip_4 vs Trip_2</td><td>1</td><td> 9317.472</td><td>4.185837</td><td>0.06731174</td><td>0.001</td><td>0.006</td><td>*</td></tr>\n",
       "\t<tr><td>Trip_5 vs Trip_2</td><td>1</td><td> 6758.707</td><td>3.041703</td><td>0.04676543</td><td>0.001</td><td>0.006</td><td>*</td></tr>\n",
       "</tbody>\n",
       "</table>\n"
      ],
      "text/latex": [
       "A pwadonis: 6 × 8\n",
       "\\begin{tabular}{llllllll}\n",
       " pairs & Df & SumsOfSqs & F.Model & R2 & p.value & p.adjusted & sig\\\\\n",
       " <chr> & <dbl> & <dbl> & <dbl> & <dbl> & <dbl> & <dbl> & <chr>\\\\\n",
       "\\hline\n",
       "\t Trip\\_3 vs Trip\\_4 & 1 &  9523.459 & 3.848625 & 0.06324917 & 0.001 & 0.006 & *\\\\\n",
       "\t Trip\\_3 vs Trip\\_5 & 1 &  9351.404 & 3.810356 & 0.05879239 & 0.001 & 0.006 & *\\\\\n",
       "\t Trip\\_3 vs Trip\\_2 & 1 & 10115.155 & 4.246289 & 0.06132154 & 0.001 & 0.006 & *\\\\\n",
       "\t Trip\\_4 vs Trip\\_5 & 1 &  7107.706 & 3.095932 & 0.05422333 & 0.001 & 0.006 & *\\\\\n",
       "\t Trip\\_4 vs Trip\\_2 & 1 &  9317.472 & 4.185837 & 0.06731174 & 0.001 & 0.006 & *\\\\\n",
       "\t Trip\\_5 vs Trip\\_2 & 1 &  6758.707 & 3.041703 & 0.04676543 & 0.001 & 0.006 & *\\\\\n",
       "\\end{tabular}\n"
      ],
      "text/markdown": [
       "\n",
       "A pwadonis: 6 × 8\n",
       "\n",
       "| pairs &lt;chr&gt; | Df &lt;dbl&gt; | SumsOfSqs &lt;dbl&gt; | F.Model &lt;dbl&gt; | R2 &lt;dbl&gt; | p.value &lt;dbl&gt; | p.adjusted &lt;dbl&gt; | sig &lt;chr&gt; |\n",
       "|---|---|---|---|---|---|---|---|\n",
       "| Trip_3 vs Trip_4 | 1 |  9523.459 | 3.848625 | 0.06324917 | 0.001 | 0.006 | * |\n",
       "| Trip_3 vs Trip_5 | 1 |  9351.404 | 3.810356 | 0.05879239 | 0.001 | 0.006 | * |\n",
       "| Trip_3 vs Trip_2 | 1 | 10115.155 | 4.246289 | 0.06132154 | 0.001 | 0.006 | * |\n",
       "| Trip_4 vs Trip_5 | 1 |  7107.706 | 3.095932 | 0.05422333 | 0.001 | 0.006 | * |\n",
       "| Trip_4 vs Trip_2 | 1 |  9317.472 | 4.185837 | 0.06731174 | 0.001 | 0.006 | * |\n",
       "| Trip_5 vs Trip_2 | 1 |  6758.707 | 3.041703 | 0.04676543 | 0.001 | 0.006 | * |\n",
       "\n"
      ],
      "text/plain": [
       "  pairs            Df SumsOfSqs F.Model  R2         p.value p.adjusted sig\n",
       "1 Trip_3 vs Trip_4 1   9523.459 3.848625 0.06324917 0.001   0.006      *  \n",
       "2 Trip_3 vs Trip_5 1   9351.404 3.810356 0.05879239 0.001   0.006      *  \n",
       "3 Trip_3 vs Trip_2 1  10115.155 4.246289 0.06132154 0.001   0.006      *  \n",
       "4 Trip_4 vs Trip_5 1   7107.706 3.095932 0.05422333 0.001   0.006      *  \n",
       "5 Trip_4 vs Trip_2 1   9317.472 4.185837 0.06731174 0.001   0.006      *  \n",
       "6 Trip_5 vs Trip_2 1   6758.707 3.041703 0.04676543 0.001   0.006      *  "
      ]
     },
     "metadata": {},
     "output_type": "display_data"
    },
    {
     "data": {
      "text/html": [
       "<table class=\"dataframe\">\n",
       "<caption>A pwadonis: 6 × 8</caption>\n",
       "<thead>\n",
       "\t<tr><th scope=col>pairs</th><th scope=col>Df</th><th scope=col>SumsOfSqs</th><th scope=col>F.Model</th><th scope=col>R2</th><th scope=col>p.value</th><th scope=col>p.adjusted</th><th scope=col>sig</th></tr>\n",
       "\t<tr><th scope=col>&lt;chr&gt;</th><th scope=col>&lt;dbl&gt;</th><th scope=col>&lt;dbl&gt;</th><th scope=col>&lt;dbl&gt;</th><th scope=col>&lt;dbl&gt;</th><th scope=col>&lt;dbl&gt;</th><th scope=col>&lt;dbl&gt;</th><th scope=col>&lt;chr&gt;</th></tr>\n",
       "</thead>\n",
       "<tbody>\n",
       "\t<tr><td>ML2 vs CN4</td><td>1</td><td>2429.376</td><td>1.005046</td><td>0.01970484</td><td>0.415</td><td>1.000</td><td> </td></tr>\n",
       "\t<tr><td>ML2 vs HS1</td><td>1</td><td>3907.953</td><td>1.746458</td><td>0.02923115</td><td>0.005</td><td>0.030</td><td>.</td></tr>\n",
       "\t<tr><td>ML2 vs CN2</td><td>1</td><td>3661.424</td><td>1.482307</td><td>0.02450811</td><td>0.037</td><td>0.222</td><td> </td></tr>\n",
       "\t<tr><td>CN4 vs HS1</td><td>1</td><td>4124.963</td><td>1.686427</td><td>0.02733870</td><td>0.009</td><td>0.054</td><td> </td></tr>\n",
       "\t<tr><td>CN4 vs CN2</td><td>1</td><td>4119.776</td><td>1.544502</td><td>0.02469445</td><td>0.026</td><td>0.156</td><td> </td></tr>\n",
       "\t<tr><td>HS1 vs CN2</td><td>1</td><td>6141.892</td><td>2.469142</td><td>0.03454836</td><td>0.001</td><td>0.006</td><td>*</td></tr>\n",
       "</tbody>\n",
       "</table>\n"
      ],
      "text/latex": [
       "A pwadonis: 6 × 8\n",
       "\\begin{tabular}{llllllll}\n",
       " pairs & Df & SumsOfSqs & F.Model & R2 & p.value & p.adjusted & sig\\\\\n",
       " <chr> & <dbl> & <dbl> & <dbl> & <dbl> & <dbl> & <dbl> & <chr>\\\\\n",
       "\\hline\n",
       "\t ML2 vs CN4 & 1 & 2429.376 & 1.005046 & 0.01970484 & 0.415 & 1.000 &  \\\\\n",
       "\t ML2 vs HS1 & 1 & 3907.953 & 1.746458 & 0.02923115 & 0.005 & 0.030 & .\\\\\n",
       "\t ML2 vs CN2 & 1 & 3661.424 & 1.482307 & 0.02450811 & 0.037 & 0.222 &  \\\\\n",
       "\t CN4 vs HS1 & 1 & 4124.963 & 1.686427 & 0.02733870 & 0.009 & 0.054 &  \\\\\n",
       "\t CN4 vs CN2 & 1 & 4119.776 & 1.544502 & 0.02469445 & 0.026 & 0.156 &  \\\\\n",
       "\t HS1 vs CN2 & 1 & 6141.892 & 2.469142 & 0.03454836 & 0.001 & 0.006 & *\\\\\n",
       "\\end{tabular}\n"
      ],
      "text/markdown": [
       "\n",
       "A pwadonis: 6 × 8\n",
       "\n",
       "| pairs &lt;chr&gt; | Df &lt;dbl&gt; | SumsOfSqs &lt;dbl&gt; | F.Model &lt;dbl&gt; | R2 &lt;dbl&gt; | p.value &lt;dbl&gt; | p.adjusted &lt;dbl&gt; | sig &lt;chr&gt; |\n",
       "|---|---|---|---|---|---|---|---|\n",
       "| ML2 vs CN4 | 1 | 2429.376 | 1.005046 | 0.01970484 | 0.415 | 1.000 | <!----> |\n",
       "| ML2 vs HS1 | 1 | 3907.953 | 1.746458 | 0.02923115 | 0.005 | 0.030 | . |\n",
       "| ML2 vs CN2 | 1 | 3661.424 | 1.482307 | 0.02450811 | 0.037 | 0.222 | <!----> |\n",
       "| CN4 vs HS1 | 1 | 4124.963 | 1.686427 | 0.02733870 | 0.009 | 0.054 | <!----> |\n",
       "| CN4 vs CN2 | 1 | 4119.776 | 1.544502 | 0.02469445 | 0.026 | 0.156 | <!----> |\n",
       "| HS1 vs CN2 | 1 | 6141.892 | 2.469142 | 0.03454836 | 0.001 | 0.006 | * |\n",
       "\n"
      ],
      "text/plain": [
       "  pairs      Df SumsOfSqs F.Model  R2         p.value p.adjusted sig\n",
       "1 ML2 vs CN4 1  2429.376  1.005046 0.01970484 0.415   1.000         \n",
       "2 ML2 vs HS1 1  3907.953  1.746458 0.02923115 0.005   0.030      .  \n",
       "3 ML2 vs CN2 1  3661.424  1.482307 0.02450811 0.037   0.222         \n",
       "4 CN4 vs HS1 1  4124.963  1.686427 0.02733870 0.009   0.054         \n",
       "5 CN4 vs CN2 1  4119.776  1.544502 0.02469445 0.026   0.156         \n",
       "6 HS1 vs CN2 1  6141.892  2.469142 0.03454836 0.001   0.006      *  "
      ]
     },
     "metadata": {},
     "output_type": "display_data"
    }
   ],
   "source": [
    "pairwise.adonis(ps_veg_ad, phyloseq::sample_data(ps_ra_ad)$reef, sim.method = \"euclidean\",\n",
    "                p.adjust.m = \"bonferroni\")\n",
    "\n",
    "pairwise.adonis(ps_veg_ad, phyloseq::sample_data(ps_ra_ad)$Samp_trip, sim.method = \"euclidean\",\n",
    "                p.adjust.m = \"bonferroni\")\n",
    "\n",
    "pairwise.adonis(ps_veg_ad, phyloseq::sample_data(ps_ra_ad)$Genotype, sim.method = \"euclidean\",\n",
    "                p.adjust.m = \"bonferroni\")"
   ]
  },
  {
   "cell_type": "markdown",
   "id": "c62ae18b-3244-437d-8a1b-ef08ced7bc5a",
   "metadata": {},
   "source": [
    "## PCA correlation"
   ]
  },
  {
   "cell_type": "code",
   "execution_count": 22,
   "id": "9179ec61-58aa-4062-bb64-6918af7f8e4b",
   "metadata": {},
   "outputs": [],
   "source": [
    "ps_ra_df=as.data.frame(otu_table(ps_clr))\n",
    "ps_ra_meta= as(sample_data(ps_clr), \"data.frame\")\n"
   ]
  },
  {
   "cell_type": "code",
   "execution_count": 23,
   "id": "6be1ba86-fdfc-4747-85ca-5b08b9dfa89a",
   "metadata": {},
   "outputs": [
    {
     "name": "stderr",
     "output_type": "stream",
     "text": [
      "-- removing the lower 10% of variables based on variance\n",
      "\n"
     ]
    }
   ],
   "source": [
    "  p <- pca(ps_ra_df, metadata =ps_ra_meta, \n",
    "           removeVar = 0.1)"
   ]
  },
  {
   "cell_type": "code",
   "execution_count": 24,
   "id": "6e89d6c4-ef42-4e4f-bd67-eab430242c53",
   "metadata": {
    "scrolled": true
   },
   "outputs": [
    {
     "name": "stderr",
     "output_type": "stream",
     "text": [
      "Warning message in eigencorplot(p, metavars = c(\"Si.uM.\", \"NO2.uM.\", \"N.N.uM.\", :\n",
      "“Samp_trip is not numeric - please check the source data as non-numeric variables will be coerced to numeric”\n",
      "Warning message in eigencorplot(p, metavars = c(\"Si.uM.\", \"NO2.uM.\", \"N.N.uM.\", :\n",
      "“reef is not numeric - please check the source data as non-numeric variables will be coerced to numeric”\n",
      "Warning message in eigencorplot(p, metavars = c(\"Si.uM.\", \"NO2.uM.\", \"N.N.uM.\", :\n",
      "“Genotype is not numeric - please check the source data as non-numeric variables will be coerced to numeric”\n",
      "Warning message in cor.test.default(xvals[, i], yvals[, j], use = corUSE, method = corFUN):\n",
      "“Cannot compute exact p-value with ties”\n",
      "Warning message in cor.test.default(xvals[, i], yvals[, j], use = corUSE, method = corFUN):\n",
      "“Cannot compute exact p-value with ties”\n",
      "Warning message in cor.test.default(xvals[, i], yvals[, j], use = corUSE, method = corFUN):\n",
      "“Cannot compute exact p-value with ties”\n",
      "Warning message in cor.test.default(xvals[, i], yvals[, j], use = corUSE, method = corFUN):\n",
      "“Cannot compute exact p-value with ties”\n",
      "Warning message in cor.test.default(xvals[, i], yvals[, j], use = corUSE, method = corFUN):\n",
      "“Cannot compute exact p-value with ties”\n",
      "Warning message in cor.test.default(xvals[, i], yvals[, j], use = corUSE, method = corFUN):\n",
      "“Cannot compute exact p-value with ties”\n",
      "Warning message in cor.test.default(xvals[, i], yvals[, j], use = corUSE, method = corFUN):\n",
      "“Cannot compute exact p-value with ties”\n",
      "Warning message in cor.test.default(xvals[, i], yvals[, j], use = corUSE, method = corFUN):\n",
      "“Cannot compute exact p-value with ties”\n",
      "Warning message in cor.test.default(xvals[, i], yvals[, j], use = corUSE, method = corFUN):\n",
      "“Cannot compute exact p-value with ties”\n",
      "Warning message in cor.test.default(xvals[, i], yvals[, j], use = corUSE, method = corFUN):\n",
      "“Cannot compute exact p-value with ties”\n",
      "Warning message in cor.test.default(xvals[, i], yvals[, j], use = corUSE, method = corFUN):\n",
      "“Cannot compute exact p-value with ties”\n",
      "Warning message in cor.test.default(xvals[, i], yvals[, j], use = corUSE, method = corFUN):\n",
      "“Cannot compute exact p-value with ties”\n",
      "Warning message in cor.test.default(xvals[, i], yvals[, j], use = corUSE, method = corFUN):\n",
      "“Cannot compute exact p-value with ties”\n",
      "Warning message in cor.test.default(xvals[, i], yvals[, j], use = corUSE, method = corFUN):\n",
      "“Cannot compute exact p-value with ties”\n",
      "Warning message in cor.test.default(xvals[, i], yvals[, j], use = corUSE, method = corFUN):\n",
      "“Cannot compute exact p-value with ties”\n",
      "Warning message in cor.test.default(xvals[, i], yvals[, j], use = corUSE, method = corFUN):\n",
      "“Cannot compute exact p-value with ties”\n",
      "Warning message in cor.test.default(xvals[, i], yvals[, j], use = corUSE, method = corFUN):\n",
      "“Cannot compute exact p-value with ties”\n",
      "Warning message in cor.test.default(xvals[, i], yvals[, j], use = corUSE, method = corFUN):\n",
      "“Cannot compute exact p-value with ties”\n",
      "Warning message in cor.test.default(xvals[, i], yvals[, j], use = corUSE, method = corFUN):\n",
      "“Cannot compute exact p-value with ties”\n",
      "Warning message in cor.test.default(xvals[, i], yvals[, j], use = corUSE, method = corFUN):\n",
      "“Cannot compute exact p-value with ties”\n",
      "Warning message in cor.test.default(xvals[, i], yvals[, j], use = corUSE, method = corFUN):\n",
      "“Cannot compute exact p-value with ties”\n",
      "Warning message in cor.test.default(xvals[, i], yvals[, j], use = corUSE, method = corFUN):\n",
      "“Cannot compute exact p-value with ties”\n",
      "Warning message in cor.test.default(xvals[, i], yvals[, j], use = corUSE, method = corFUN):\n",
      "“Cannot compute exact p-value with ties”\n",
      "Warning message in cor.test.default(xvals[, i], yvals[, j], use = corUSE, method = corFUN):\n",
      "“Cannot compute exact p-value with ties”\n",
      "Warning message in cor.test.default(xvals[, i], yvals[, j], use = corUSE, method = corFUN):\n",
      "“Cannot compute exact p-value with ties”\n",
      "Warning message in cor.test.default(xvals[, i], yvals[, j], use = corUSE, method = corFUN):\n",
      "“Cannot compute exact p-value with ties”\n",
      "Warning message in cor.test.default(xvals[, i], yvals[, j], use = corUSE, method = corFUN):\n",
      "“Cannot compute exact p-value with ties”\n",
      "Warning message in cor.test.default(xvals[, i], yvals[, j], use = corUSE, method = corFUN):\n",
      "“Cannot compute exact p-value with ties”\n",
      "Warning message in cor.test.default(xvals[, i], yvals[, j], use = corUSE, method = corFUN):\n",
      "“Cannot compute exact p-value with ties”\n",
      "Warning message in cor.test.default(xvals[, i], yvals[, j], use = corUSE, method = corFUN):\n",
      "“Cannot compute exact p-value with ties”\n",
      "Warning message in cor.test.default(xvals[, i], yvals[, j], use = corUSE, method = corFUN):\n",
      "“Cannot compute exact p-value with ties”\n",
      "Warning message in cor.test.default(xvals[, i], yvals[, j], use = corUSE, method = corFUN):\n",
      "“Cannot compute exact p-value with ties”\n",
      "Warning message in cor.test.default(xvals[, i], yvals[, j], use = corUSE, method = corFUN):\n",
      "“Cannot compute exact p-value with ties”\n",
      "Warning message in cor.test.default(xvals[, i], yvals[, j], use = corUSE, method = corFUN):\n",
      "“Cannot compute exact p-value with ties”\n",
      "Warning message in cor.test.default(xvals[, i], yvals[, j], use = corUSE, method = corFUN):\n",
      "“Cannot compute exact p-value with ties”\n",
      "Warning message in cor.test.default(xvals[, i], yvals[, j], use = corUSE, method = corFUN):\n",
      "“Cannot compute exact p-value with ties”\n",
      "Warning message in cor.test.default(xvals[, i], yvals[, j], use = corUSE, method = corFUN):\n",
      "“Cannot compute exact p-value with ties”\n",
      "Warning message in cor.test.default(xvals[, i], yvals[, j], use = corUSE, method = corFUN):\n",
      "“Cannot compute exact p-value with ties”\n",
      "Warning message in cor.test.default(xvals[, i], yvals[, j], use = corUSE, method = corFUN):\n",
      "“Cannot compute exact p-value with ties”\n",
      "Warning message in cor.test.default(xvals[, i], yvals[, j], use = corUSE, method = corFUN):\n",
      "“Cannot compute exact p-value with ties”\n",
      "Warning message in cor.test.default(xvals[, i], yvals[, j], use = corUSE, method = corFUN):\n",
      "“Cannot compute exact p-value with ties”\n",
      "Warning message in cor.test.default(xvals[, i], yvals[, j], use = corUSE, method = corFUN):\n",
      "“Cannot compute exact p-value with ties”\n",
      "Warning message in cor.test.default(xvals[, i], yvals[, j], use = corUSE, method = corFUN):\n",
      "“Cannot compute exact p-value with ties”\n",
      "Warning message in cor.test.default(xvals[, i], yvals[, j], use = corUSE, method = corFUN):\n",
      "“Cannot compute exact p-value with ties”\n",
      "Warning message in cor.test.default(xvals[, i], yvals[, j], use = corUSE, method = corFUN):\n",
      "“Cannot compute exact p-value with ties”\n",
      "Warning message in cor.test.default(xvals[, i], yvals[, j], use = corUSE, method = corFUN):\n",
      "“Cannot compute exact p-value with ties”\n",
      "Warning message in cor.test.default(xvals[, i], yvals[, j], use = corUSE, method = corFUN):\n",
      "“Cannot compute exact p-value with ties”\n",
      "Warning message in cor.test.default(xvals[, i], yvals[, j], use = corUSE, method = corFUN):\n",
      "“Cannot compute exact p-value with ties”\n",
      "Warning message in cor.test.default(xvals[, i], yvals[, j], use = corUSE, method = corFUN):\n",
      "“Cannot compute exact p-value with ties”\n",
      "Warning message in cor.test.default(xvals[, i], yvals[, j], use = corUSE, method = corFUN):\n",
      "“Cannot compute exact p-value with ties”\n",
      "Warning message in cor.test.default(xvals[, i], yvals[, j], use = corUSE, method = corFUN):\n",
      "“Cannot compute exact p-value with ties”\n",
      "Warning message in cor.test.default(xvals[, i], yvals[, j], use = corUSE, method = corFUN):\n",
      "“Cannot compute exact p-value with ties”\n",
      "Warning message in cor.test.default(xvals[, i], yvals[, j], use = corUSE, method = corFUN):\n",
      "“Cannot compute exact p-value with ties”\n",
      "Warning message in cor.test.default(xvals[, i], yvals[, j], use = corUSE, method = corFUN):\n",
      "“Cannot compute exact p-value with ties”\n",
      "Warning message in cor.test.default(xvals[, i], yvals[, j], use = corUSE, method = corFUN):\n",
      "“Cannot compute exact p-value with ties”\n",
      "Warning message in cor.test.default(xvals[, i], yvals[, j], use = corUSE, method = corFUN):\n",
      "“Cannot compute exact p-value with ties”\n",
      "Warning message in cor.test.default(xvals[, i], yvals[, j], use = corUSE, method = corFUN):\n",
      "“Cannot compute exact p-value with ties”\n",
      "Warning message in cor.test.default(xvals[, i], yvals[, j], use = corUSE, method = corFUN):\n",
      "“Cannot compute exact p-value with ties”\n",
      "Warning message in cor.test.default(xvals[, i], yvals[, j], use = corUSE, method = corFUN):\n",
      "“Cannot compute exact p-value with ties”\n",
      "Warning message in cor.test.default(xvals[, i], yvals[, j], use = corUSE, method = corFUN):\n",
      "“Cannot compute exact p-value with ties”\n",
      "Warning message in cor.test.default(xvals[, i], yvals[, j], use = corUSE, method = corFUN):\n",
      "“Cannot compute exact p-value with ties”\n",
      "Warning message in cor.test.default(xvals[, i], yvals[, j], use = corUSE, method = corFUN):\n",
      "“Cannot compute exact p-value with ties”\n",
      "Warning message in cor.test.default(xvals[, i], yvals[, j], use = corUSE, method = corFUN):\n",
      "“Cannot compute exact p-value with ties”\n",
      "Warning message in cor.test.default(xvals[, i], yvals[, j], use = corUSE, method = corFUN):\n",
      "“Cannot compute exact p-value with ties”\n",
      "Warning message in cor.test.default(xvals[, i], yvals[, j], use = corUSE, method = corFUN):\n",
      "“Cannot compute exact p-value with ties”\n",
      "Warning message in cor.test.default(xvals[, i], yvals[, j], use = corUSE, method = corFUN):\n",
      "“Cannot compute exact p-value with ties”\n",
      "Warning message in cor.test.default(xvals[, i], yvals[, j], use = corUSE, method = corFUN):\n",
      "“Cannot compute exact p-value with ties”\n",
      "Warning message in cor.test.default(xvals[, i], yvals[, j], use = corUSE, method = corFUN):\n",
      "“Cannot compute exact p-value with ties”\n",
      "Warning message in cor.test.default(xvals[, i], yvals[, j], use = corUSE, method = corFUN):\n",
      "“Cannot compute exact p-value with ties”\n",
      "Warning message in cor.test.default(xvals[, i], yvals[, j], use = corUSE, method = corFUN):\n",
      "“Cannot compute exact p-value with ties”\n",
      "Warning message in cor.test.default(xvals[, i], yvals[, j], use = corUSE, method = corFUN):\n",
      "“Cannot compute exact p-value with ties”\n",
      "Warning message in cor.test.default(xvals[, i], yvals[, j], use = corUSE, method = corFUN):\n",
      "“Cannot compute exact p-value with ties”\n",
      "Warning message in cor.test.default(xvals[, i], yvals[, j], use = corUSE, method = corFUN):\n",
      "“Cannot compute exact p-value with ties”\n",
      "Warning message in cor.test.default(xvals[, i], yvals[, j], use = corUSE, method = corFUN):\n",
      "“Cannot compute exact p-value with ties”\n",
      "Warning message in cor.test.default(xvals[, i], yvals[, j], use = corUSE, method = corFUN):\n",
      "“Cannot compute exact p-value with ties”\n",
      "Warning message in cor.test.default(xvals[, i], yvals[, j], use = corUSE, method = corFUN):\n",
      "“Cannot compute exact p-value with ties”\n",
      "Warning message in cor.test.default(xvals[, i], yvals[, j], use = corUSE, method = corFUN):\n",
      "“Cannot compute exact p-value with ties”\n",
      "Warning message in cor.test.default(xvals[, i], yvals[, j], use = corUSE, method = corFUN):\n",
      "“Cannot compute exact p-value with ties”\n",
      "Warning message in cor.test.default(xvals[, i], yvals[, j], use = corUSE, method = corFUN):\n",
      "“Cannot compute exact p-value with ties”\n",
      "Warning message in cor.test.default(xvals[, i], yvals[, j], use = corUSE, method = corFUN):\n",
      "“Cannot compute exact p-value with ties”\n",
      "Warning message in cor.test.default(xvals[, i], yvals[, j], use = corUSE, method = corFUN):\n",
      "“Cannot compute exact p-value with ties”\n",
      "Warning message in cor.test.default(xvals[, i], yvals[, j], use = corUSE, method = corFUN):\n",
      "“Cannot compute exact p-value with ties”\n",
      "Warning message in cor.test.default(xvals[, i], yvals[, j], use = corUSE, method = corFUN):\n",
      "“Cannot compute exact p-value with ties”\n",
      "Warning message in cor.test.default(xvals[, i], yvals[, j], use = corUSE, method = corFUN):\n",
      "“Cannot compute exact p-value with ties”\n",
      "Warning message in cor.test.default(xvals[, i], yvals[, j], use = corUSE, method = corFUN):\n",
      "“Cannot compute exact p-value with ties”\n",
      "Warning message in cor.test.default(xvals[, i], yvals[, j], use = corUSE, method = corFUN):\n",
      "“Cannot compute exact p-value with ties”\n",
      "Warning message in cor.test.default(xvals[, i], yvals[, j], use = corUSE, method = corFUN):\n",
      "“Cannot compute exact p-value with ties”\n",
      "Warning message in cor.test.default(xvals[, i], yvals[, j], use = corUSE, method = corFUN):\n",
      "“Cannot compute exact p-value with ties”\n",
      "Warning message in cor.test.default(xvals[, i], yvals[, j], use = corUSE, method = corFUN):\n",
      "“Cannot compute exact p-value with ties”\n",
      "Warning message in cor.test.default(xvals[, i], yvals[, j], use = corUSE, method = corFUN):\n",
      "“Cannot compute exact p-value with ties”\n",
      "Warning message in cor.test.default(xvals[, i], yvals[, j], use = corUSE, method = corFUN):\n",
      "“Cannot compute exact p-value with ties”\n",
      "Warning message in cor.test.default(xvals[, i], yvals[, j], use = corUSE, method = corFUN):\n",
      "“Cannot compute exact p-value with ties”\n",
      "Warning message in cor.test.default(xvals[, i], yvals[, j], use = corUSE, method = corFUN):\n",
      "“Cannot compute exact p-value with ties”\n",
      "Warning message in cor.test.default(xvals[, i], yvals[, j], use = corUSE, method = corFUN):\n",
      "“Cannot compute exact p-value with ties”\n",
      "Warning message in cor.test.default(xvals[, i], yvals[, j], use = corUSE, method = corFUN):\n",
      "“Cannot compute exact p-value with ties”\n",
      "Warning message in cor.test.default(xvals[, i], yvals[, j], use = corUSE, method = corFUN):\n",
      "“Cannot compute exact p-value with ties”\n",
      "Warning message in cor.test.default(xvals[, i], yvals[, j], use = corUSE, method = corFUN):\n",
      "“Cannot compute exact p-value with ties”\n",
      "Warning message in cor.test.default(xvals[, i], yvals[, j], use = corUSE, method = corFUN):\n",
      "“Cannot compute exact p-value with ties”\n",
      "Warning message in cor.test.default(xvals[, i], yvals[, j], use = corUSE, method = corFUN):\n",
      "“Cannot compute exact p-value with ties”\n",
      "Warning message in cor.test.default(xvals[, i], yvals[, j], use = corUSE, method = corFUN):\n",
      "“Cannot compute exact p-value with ties”\n",
      "Warning message in cor.test.default(xvals[, i], yvals[, j], use = corUSE, method = corFUN):\n",
      "“Cannot compute exact p-value with ties”\n",
      "Warning message in cor.test.default(xvals[, i], yvals[, j], use = corUSE, method = corFUN):\n",
      "“Cannot compute exact p-value with ties”\n",
      "Warning message in cor.test.default(xvals[, i], yvals[, j], use = corUSE, method = corFUN):\n",
      "“Cannot compute exact p-value with ties”\n",
      "Warning message in cor.test.default(xvals[, i], yvals[, j], use = corUSE, method = corFUN):\n",
      "“Cannot compute exact p-value with ties”\n",
      "Warning message in cor.test.default(xvals[, i], yvals[, j], use = corUSE, method = corFUN):\n",
      "“Cannot compute exact p-value with ties”\n",
      "Warning message in cor.test.default(xvals[, i], yvals[, j], use = corUSE, method = corFUN):\n",
      "“Cannot compute exact p-value with ties”\n",
      "Warning message in cor.test.default(xvals[, i], yvals[, j], use = corUSE, method = corFUN):\n",
      "“Cannot compute exact p-value with ties”\n",
      "Warning message in cor.test.default(xvals[, i], yvals[, j], use = corUSE, method = corFUN):\n",
      "“Cannot compute exact p-value with ties”\n",
      "Warning message in cor.test.default(xvals[, i], yvals[, j], use = corUSE, method = corFUN):\n",
      "“Cannot compute exact p-value with ties”\n",
      "Warning message in cor.test.default(xvals[, i], yvals[, j], use = corUSE, method = corFUN):\n",
      "“Cannot compute exact p-value with ties”\n",
      "Warning message in cor.test.default(xvals[, i], yvals[, j], use = corUSE, method = corFUN):\n",
      "“Cannot compute exact p-value with ties”\n",
      "Warning message in cor.test.default(xvals[, i], yvals[, j], use = corUSE, method = corFUN):\n",
      "“Cannot compute exact p-value with ties”\n",
      "Warning message in cor.test.default(xvals[, i], yvals[, j], use = corUSE, method = corFUN):\n",
      "“Cannot compute exact p-value with ties”\n",
      "Warning message in cor.test.default(xvals[, i], yvals[, j], use = corUSE, method = corFUN):\n",
      "“Cannot compute exact p-value with ties”\n",
      "Warning message in cor.test.default(xvals[, i], yvals[, j], use = corUSE, method = corFUN):\n",
      "“Cannot compute exact p-value with ties”\n",
      "Warning message in cor.test.default(xvals[, i], yvals[, j], use = corUSE, method = corFUN):\n",
      "“Cannot compute exact p-value with ties”\n",
      "Warning message in cor.test.default(xvals[, i], yvals[, j], use = corUSE, method = corFUN):\n",
      "“Cannot compute exact p-value with ties”\n",
      "Warning message in cor.test.default(xvals[, i], yvals[, j], use = corUSE, method = corFUN):\n",
      "“Cannot compute exact p-value with ties”\n",
      "Warning message in cor.test.default(xvals[, i], yvals[, j], use = corUSE, method = corFUN):\n",
      "“Cannot compute exact p-value with ties”\n",
      "Warning message in cor.test.default(xvals[, i], yvals[, j], use = corUSE, method = corFUN):\n",
      "“Cannot compute exact p-value with ties”\n",
      "Warning message in cor.test.default(xvals[, i], yvals[, j], use = corUSE, method = corFUN):\n",
      "“Cannot compute exact p-value with ties”\n",
      "Warning message in cor.test.default(xvals[, i], yvals[, j], use = corUSE, method = corFUN):\n",
      "“Cannot compute exact p-value with ties”\n",
      "Warning message in cor.test.default(xvals[, i], yvals[, j], use = corUSE, method = corFUN):\n",
      "“Cannot compute exact p-value with ties”\n",
      "Warning message in cor.test.default(xvals[, i], yvals[, j], use = corUSE, method = corFUN):\n",
      "“Cannot compute exact p-value with ties”\n",
      "Warning message in cor.test.default(xvals[, i], yvals[, j], use = corUSE, method = corFUN):\n",
      "“Cannot compute exact p-value with ties”\n",
      "Warning message in cor.test.default(xvals[, i], yvals[, j], use = corUSE, method = corFUN):\n",
      "“Cannot compute exact p-value with ties”\n",
      "Warning message in cor.test.default(xvals[, i], yvals[, j], use = corUSE, method = corFUN):\n",
      "“Cannot compute exact p-value with ties”\n",
      "Warning message in cor.test.default(xvals[, i], yvals[, j], use = corUSE, method = corFUN):\n",
      "“Cannot compute exact p-value with ties”\n",
      "Warning message in cor.test.default(xvals[, i], yvals[, j], use = corUSE, method = corFUN):\n",
      "“Cannot compute exact p-value with ties”\n",
      "Warning message in cor.test.default(xvals[, i], yvals[, j], use = corUSE, method = corFUN):\n",
      "“Cannot compute exact p-value with ties”\n"
     ]
    },
    {
     "data": {
      "image/png": "[encoded data removed]",
      "text/plain": [
       "plot without title"
      ]
     },
     "metadata": {
      "image/png": {
       "height": 420,
       "width": 420
      }
     },
     "output_type": "display_data"
    }
   ],
   "source": [
    " eigencorplot(p,\n",
    "    metavars = c('Si.uM.', 'NO2.uM.', 'N.N.uM.', 'NO3.uM.', 'PO4.uM.', \"Samp_trip\", \"avgchla_mgm.3\", \"reef\", \"Genotype\",\n",
    "                \"Speed.cm.s.\", \"avgSST_degC\", 'cluster_depth',\n",
    "                \"LiveFrag\"),\n",
    "              col = c('white', 'cornsilk1', \"#FFE4A1\",  '#CFF3CA', \"#77B3B5\"),\n",
    "    cexCorval = 0.5,\n",
    "    fontCorval = 0.5,\n",
    "    cexTitleX = 4,\n",
    "    \n",
    "    #posLab = 'all',\n",
    "    rotLabX = 45,\n",
    "    scale = TRUE,\n",
    "    plotRsquared = TRUE,\n",
    "    corFUN = 'spearman',\n",
    "    corUSE = 'pairwise.complete.obs',\n",
    "    corMultipleTestCorrection = 'BH')"
   ]
  },
  {
   "cell_type": "markdown",
   "id": "bbbc627e-f7ba-43f5-b90a-1bde3406703a",
   "metadata": {},
   "source": [
    "### Model selection"
   ]
  },
  {
   "cell_type": "code",
   "execution_count": 38,
   "id": "5e636c8a-7590-4b03-b97e-09b4462438a3",
   "metadata": {},
   "outputs": [
    {
     "data": {
      "text/plain": [
       "phyloseq-class experiment-level object\n",
       "otu_table()   OTU Table:          [ 481 taxa and 123 samples ]:\n",
       "sample_data() Sample Data:        [ 123 samples by 56 sample variables ]:\n",
       "tax_table()   Taxonomy Table:     [ 481 taxa by 7 taxonomic ranks ]:\n",
       "taxa are rows"
      ]
     },
     "metadata": {},
     "output_type": "display_data"
    }
   ],
   "source": [
    "ps_fill_ad =  subset_samples(ps_fill, cluster_depth!= \"NA\")\n",
    "ps_fill_ad"
   ]
  },
  {
   "cell_type": "code",
   "execution_count": 39,
   "id": "7768fdf9-67f0-4bd9-99cd-8311e43e0563",
   "metadata": {},
   "outputs": [],
   "source": [
    "ps_ad_clr<- microbiome::transform(ps_fill_ad, 'clr')"
   ]
  },
  {
   "cell_type": "code",
   "execution_count": 54,
   "id": "5b0b378c-9bf9-4fcc-b5ae-8cc202f2e13c",
   "metadata": {},
   "outputs": [
    {
     "data": {
      "text/html": [
       "<table class=\"dataframe\">\n",
       "<caption>A matrix: 10 × 10 of type dbl</caption>\n",
       "<thead>\n",
       "\t<tr><th></th><th scope=col>Speed.cm.s.</th><th scope=col>NO2.uM.</th><th scope=col>N.N.uM.</th><th scope=col>NO3.uM.</th><th scope=col>PO4.uM.</th><th scope=col>Si.uM.</th><th scope=col>avgSST_degC</th><th scope=col>avgchla_mgm.3</th><th scope=col>Temperature.C.</th><th scope=col>cluster_depth</th></tr>\n",
       "</thead>\n",
       "<tbody>\n",
       "\t<tr><th scope=row>Speed.cm.s.</th><td> 1.000000000</td><td>-0.5166973</td><td>-0.524687881</td><td>-0.522355146</td><td> 0.2217949</td><td> 0.55877828</td><td> 0.10665937</td><td>-0.10669293</td><td> 0.23591908</td><td> 0.004143171</td></tr>\n",
       "\t<tr><th scope=row>NO2.uM.</th><td>-0.516697338</td><td> 1.0000000</td><td> 0.602919529</td><td> 0.594757382</td><td> 0.2165168</td><td>-0.39476538</td><td> 0.67912714</td><td> 0.33577654</td><td> 0.48310555</td><td> 0.158641583</td></tr>\n",
       "\t<tr><th scope=row>N.N.uM.</th><td>-0.524687881</td><td> 0.6029195</td><td> 1.000000000</td><td> 0.999947179</td><td>-0.2370421</td><td>-0.25530005</td><td> 0.58092122</td><td> 0.09790408</td><td> 0.50852898</td><td> 0.004724162</td></tr>\n",
       "\t<tr><th scope=row>NO3.uM.</th><td>-0.522355146</td><td> 0.5947574</td><td> 0.999947179</td><td> 1.000000000</td><td>-0.2421203</td><td>-0.25206521</td><td> 0.57644090</td><td> 0.09436105</td><td> 0.50615634</td><td> 0.002992115</td></tr>\n",
       "\t<tr><th scope=row>PO4.uM.</th><td> 0.221794924</td><td> 0.2165168</td><td>-0.237042080</td><td>-0.242120338</td><td> 1.0000000</td><td> 0.36098608</td><td> 0.14796444</td><td>-0.29994055</td><td> 0.27281337</td><td>-0.189955104</td></tr>\n",
       "\t<tr><th scope=row>Si.uM.</th><td> 0.558778282</td><td>-0.3947654</td><td>-0.255300046</td><td>-0.252065213</td><td> 0.3609861</td><td> 1.00000000</td><td>-0.04376603</td><td>-0.34283200</td><td> 0.42196047</td><td>-0.235941126</td></tr>\n",
       "\t<tr><th scope=row>avgSST_degC</th><td> 0.106659370</td><td> 0.6791271</td><td> 0.580921218</td><td> 0.576440896</td><td> 0.1479644</td><td>-0.04376603</td><td> 1.00000000</td><td> 0.26782003</td><td> 0.86266443</td><td> 0.062454851</td></tr>\n",
       "\t<tr><th scope=row>avgchla_mgm.3</th><td>-0.106692933</td><td> 0.3357765</td><td> 0.097904084</td><td> 0.094361054</td><td>-0.2999406</td><td>-0.34283200</td><td> 0.26782003</td><td> 1.00000000</td><td> 0.07646157</td><td> 0.770175798</td></tr>\n",
       "\t<tr><th scope=row>Temperature.C.</th><td> 0.235919076</td><td> 0.4831055</td><td> 0.508528979</td><td> 0.506156336</td><td> 0.2728134</td><td> 0.42196047</td><td> 0.86266443</td><td> 0.07646157</td><td> 1.00000000</td><td>-0.016290979</td></tr>\n",
       "\t<tr><th scope=row>cluster_depth</th><td> 0.004143171</td><td> 0.1586416</td><td> 0.004724162</td><td> 0.002992115</td><td>-0.1899551</td><td>-0.23594113</td><td> 0.06245485</td><td> 0.77017580</td><td>-0.01629098</td><td> 1.000000000</td></tr>\n",
       "</tbody>\n",
       "</table>\n"
      ],
      "text/latex": [
       "A matrix: 10 × 10 of type dbl\n",
       "\\begin{tabular}{r|llllllllll}\n",
       "  & Speed.cm.s. & NO2.uM. & N.N.uM. & NO3.uM. & PO4.uM. & Si.uM. & avgSST\\_degC & avgchla\\_mgm.3 & Temperature.C. & cluster\\_depth\\\\\n",
       "\\hline\n",
       "\tSpeed.cm.s. &  1.000000000 & -0.5166973 & -0.524687881 & -0.522355146 &  0.2217949 &  0.55877828 &  0.10665937 & -0.10669293 &  0.23591908 &  0.004143171\\\\\n",
       "\tNO2.uM. & -0.516697338 &  1.0000000 &  0.602919529 &  0.594757382 &  0.2165168 & -0.39476538 &  0.67912714 &  0.33577654 &  0.48310555 &  0.158641583\\\\\n",
       "\tN.N.uM. & -0.524687881 &  0.6029195 &  1.000000000 &  0.999947179 & -0.2370421 & -0.25530005 &  0.58092122 &  0.09790408 &  0.50852898 &  0.004724162\\\\\n",
       "\tNO3.uM. & -0.522355146 &  0.5947574 &  0.999947179 &  1.000000000 & -0.2421203 & -0.25206521 &  0.57644090 &  0.09436105 &  0.50615634 &  0.002992115\\\\\n",
       "\tPO4.uM. &  0.221794924 &  0.2165168 & -0.237042080 & -0.242120338 &  1.0000000 &  0.36098608 &  0.14796444 & -0.29994055 &  0.27281337 & -0.189955104\\\\\n",
       "\tSi.uM. &  0.558778282 & -0.3947654 & -0.255300046 & -0.252065213 &  0.3609861 &  1.00000000 & -0.04376603 & -0.34283200 &  0.42196047 & -0.235941126\\\\\n",
       "\tavgSST\\_degC &  0.106659370 &  0.6791271 &  0.580921218 &  0.576440896 &  0.1479644 & -0.04376603 &  1.00000000 &  0.26782003 &  0.86266443 &  0.062454851\\\\\n",
       "\tavgchla\\_mgm.3 & -0.106692933 &  0.3357765 &  0.097904084 &  0.094361054 & -0.2999406 & -0.34283200 &  0.26782003 &  1.00000000 &  0.07646157 &  0.770175798\\\\\n",
       "\tTemperature.C. &  0.235919076 &  0.4831055 &  0.508528979 &  0.506156336 &  0.2728134 &  0.42196047 &  0.86266443 &  0.07646157 &  1.00000000 & -0.016290979\\\\\n",
       "\tcluster\\_depth &  0.004143171 &  0.1586416 &  0.004724162 &  0.002992115 & -0.1899551 & -0.23594113 &  0.06245485 &  0.77017580 & -0.01629098 &  1.000000000\\\\\n",
       "\\end{tabular}\n"
      ],
      "text/markdown": [
       "\n",
       "A matrix: 10 × 10 of type dbl\n",
       "\n",
       "| <!--/--> | Speed.cm.s. | NO2.uM. | N.N.uM. | NO3.uM. | PO4.uM. | Si.uM. | avgSST_degC | avgchla_mgm.3 | Temperature.C. | cluster_depth |\n",
       "|---|---|---|---|---|---|---|---|---|---|---|\n",
       "| Speed.cm.s. |  1.000000000 | -0.5166973 | -0.524687881 | -0.522355146 |  0.2217949 |  0.55877828 |  0.10665937 | -0.10669293 |  0.23591908 |  0.004143171 |\n",
       "| NO2.uM. | -0.516697338 |  1.0000000 |  0.602919529 |  0.594757382 |  0.2165168 | -0.39476538 |  0.67912714 |  0.33577654 |  0.48310555 |  0.158641583 |\n",
       "| N.N.uM. | -0.524687881 |  0.6029195 |  1.000000000 |  0.999947179 | -0.2370421 | -0.25530005 |  0.58092122 |  0.09790408 |  0.50852898 |  0.004724162 |\n",
       "| NO3.uM. | -0.522355146 |  0.5947574 |  0.999947179 |  1.000000000 | -0.2421203 | -0.25206521 |  0.57644090 |  0.09436105 |  0.50615634 |  0.002992115 |\n",
       "| PO4.uM. |  0.221794924 |  0.2165168 | -0.237042080 | -0.242120338 |  1.0000000 |  0.36098608 |  0.14796444 | -0.29994055 |  0.27281337 | -0.189955104 |\n",
       "| Si.uM. |  0.558778282 | -0.3947654 | -0.255300046 | -0.252065213 |  0.3609861 |  1.00000000 | -0.04376603 | -0.34283200 |  0.42196047 | -0.235941126 |\n",
       "| avgSST_degC |  0.106659370 |  0.6791271 |  0.580921218 |  0.576440896 |  0.1479644 | -0.04376603 |  1.00000000 |  0.26782003 |  0.86266443 |  0.062454851 |\n",
       "| avgchla_mgm.3 | -0.106692933 |  0.3357765 |  0.097904084 |  0.094361054 | -0.2999406 | -0.34283200 |  0.26782003 |  1.00000000 |  0.07646157 |  0.770175798 |\n",
       "| Temperature.C. |  0.235919076 |  0.4831055 |  0.508528979 |  0.506156336 |  0.2728134 |  0.42196047 |  0.86266443 |  0.07646157 |  1.00000000 | -0.016290979 |\n",
       "| cluster_depth |  0.004143171 |  0.1586416 |  0.004724162 |  0.002992115 | -0.1899551 | -0.23594113 |  0.06245485 |  0.77017580 | -0.01629098 |  1.000000000 |\n",
       "\n"
      ],
      "text/plain": [
       "               Speed.cm.s.  NO2.uM.    N.N.uM.      NO3.uM.      PO4.uM.   \n",
       "Speed.cm.s.     1.000000000 -0.5166973 -0.524687881 -0.522355146  0.2217949\n",
       "NO2.uM.        -0.516697338  1.0000000  0.602919529  0.594757382  0.2165168\n",
       "N.N.uM.        -0.524687881  0.6029195  1.000000000  0.999947179 -0.2370421\n",
       "NO3.uM.        -0.522355146  0.5947574  0.999947179  1.000000000 -0.2421203\n",
       "PO4.uM.         0.221794924  0.2165168 -0.237042080 -0.242120338  1.0000000\n",
       "Si.uM.          0.558778282 -0.3947654 -0.255300046 -0.252065213  0.3609861\n",
       "avgSST_degC     0.106659370  0.6791271  0.580921218  0.576440896  0.1479644\n",
       "avgchla_mgm.3  -0.106692933  0.3357765  0.097904084  0.094361054 -0.2999406\n",
       "Temperature.C.  0.235919076  0.4831055  0.508528979  0.506156336  0.2728134\n",
       "cluster_depth   0.004143171  0.1586416  0.004724162  0.002992115 -0.1899551\n",
       "               Si.uM.      avgSST_degC avgchla_mgm.3 Temperature.C.\n",
       "Speed.cm.s.     0.55877828  0.10665937 -0.10669293    0.23591908   \n",
       "NO2.uM.        -0.39476538  0.67912714  0.33577654    0.48310555   \n",
       "N.N.uM.        -0.25530005  0.58092122  0.09790408    0.50852898   \n",
       "NO3.uM.        -0.25206521  0.57644090  0.09436105    0.50615634   \n",
       "PO4.uM.         0.36098608  0.14796444 -0.29994055    0.27281337   \n",
       "Si.uM.          1.00000000 -0.04376603 -0.34283200    0.42196047   \n",
       "avgSST_degC    -0.04376603  1.00000000  0.26782003    0.86266443   \n",
       "avgchla_mgm.3  -0.34283200  0.26782003  1.00000000    0.07646157   \n",
       "Temperature.C.  0.42196047  0.86266443  0.07646157    1.00000000   \n",
       "cluster_depth  -0.23594113  0.06245485  0.77017580   -0.01629098   \n",
       "               cluster_depth\n",
       "Speed.cm.s.     0.004143171 \n",
       "NO2.uM.         0.158641583 \n",
       "N.N.uM.         0.004724162 \n",
       "NO3.uM.         0.002992115 \n",
       "PO4.uM.        -0.189955104 \n",
       "Si.uM.         -0.235941126 \n",
       "avgSST_degC     0.062454851 \n",
       "avgchla_mgm.3   0.770175798 \n",
       "Temperature.C. -0.016290979 \n",
       "cluster_depth   1.000000000 "
      ]
     },
     "metadata": {},
     "output_type": "display_data"
    }
   ],
   "source": [
    "ps_clr_ad_meta1= ps_clr_ad_meta %>% select(\"Genotype\", \"Samp_trip\", \"reef\",'Speed.cm.s.', 'NO2.uM.', 'N.N.uM.', 'NO3.uM.', 'PO4.uM.', 'Si.uM.',\n",
    "                \"Speed.cm.s.\", \"avgSST_degC\", \"avgchla_mgm.3\", \"Temperature.C.\",\"cluster_depth\")\n",
    "\n",
    "\n",
    "cor(ps_clr_ad_meta1[4:13])"
   ]
  },
  {
   "cell_type": "code",
   "execution_count": 48,
   "id": "c7186637-f5d3-4ee0-945c-331f7be8a8bc",
   "metadata": {},
   "outputs": [
    {
     "data": {
      "text/html": [
       "<table class=\"dataframe\">\n",
       "<caption>A data.frame: 6 × 7</caption>\n",
       "<thead>\n",
       "\t<tr><th></th><th scope=col>NO2.uM.</th><th scope=col>N.N.uM.</th><th scope=col>PO4.uM.</th><th scope=col>Si.uM.</th><th scope=col>Speed.cm.s.</th><th scope=col>avgSST_degC</th><th scope=col>cluster_depth</th></tr>\n",
       "\t<tr><th></th><th scope=col>&lt;dbl&gt;</th><th scope=col>&lt;dbl&gt;</th><th scope=col>&lt;dbl&gt;</th><th scope=col>&lt;dbl&gt;</th><th scope=col>&lt;dbl&gt;</th><th scope=col>&lt;dbl&gt;</th><th scope=col>&lt;dbl&gt;</th></tr>\n",
       "</thead>\n",
       "<tbody>\n",
       "\t<tr><th scope=row>ML2_78_cf_Trip_3</th><td>0.032</td><td>0.893</td><td>0.0685</td><td>0.706</td><td>4.852118</td><td>29.63623</td><td>-20.9</td></tr>\n",
       "\t<tr><th scope=row>CN4_35_cf_Trip_3</th><td>0.032</td><td>0.893</td><td>0.0685</td><td>0.706</td><td>4.852118</td><td>29.63623</td><td>-17.9</td></tr>\n",
       "\t<tr><th scope=row>CN4_25_cf_Trip_3</th><td>0.032</td><td>0.893</td><td>0.0685</td><td>0.706</td><td>4.852118</td><td>29.63623</td><td>-20.8</td></tr>\n",
       "\t<tr><th scope=row>HS1_18_cf_Trip_3</th><td>0.032</td><td>0.893</td><td>0.0685</td><td>0.706</td><td>4.852118</td><td>29.63623</td><td>-18.8</td></tr>\n",
       "\t<tr><th scope=row>HS1_17_cf_Trip_3</th><td>0.032</td><td>0.893</td><td>0.0685</td><td>0.706</td><td>4.852118</td><td>29.63623</td><td>-17.8</td></tr>\n",
       "\t<tr><th scope=row>HS1_15_cf_Trip_3</th><td>0.032</td><td>0.893</td><td>0.0685</td><td>0.706</td><td>4.852118</td><td>29.63623</td><td>-17.6</td></tr>\n",
       "</tbody>\n",
       "</table>\n"
      ],
      "text/latex": [
       "A data.frame: 6 × 7\n",
       "\\begin{tabular}{r|lllllll}\n",
       "  & NO2.uM. & N.N.uM. & PO4.uM. & Si.uM. & Speed.cm.s. & avgSST\\_degC & cluster\\_depth\\\\\n",
       "  & <dbl> & <dbl> & <dbl> & <dbl> & <dbl> & <dbl> & <dbl>\\\\\n",
       "\\hline\n",
       "\tML2\\_78\\_cf\\_Trip\\_3 & 0.032 & 0.893 & 0.0685 & 0.706 & 4.852118 & 29.63623 & -20.9\\\\\n",
       "\tCN4\\_35\\_cf\\_Trip\\_3 & 0.032 & 0.893 & 0.0685 & 0.706 & 4.852118 & 29.63623 & -17.9\\\\\n",
       "\tCN4\\_25\\_cf\\_Trip\\_3 & 0.032 & 0.893 & 0.0685 & 0.706 & 4.852118 & 29.63623 & -20.8\\\\\n",
       "\tHS1\\_18\\_cf\\_Trip\\_3 & 0.032 & 0.893 & 0.0685 & 0.706 & 4.852118 & 29.63623 & -18.8\\\\\n",
       "\tHS1\\_17\\_cf\\_Trip\\_3 & 0.032 & 0.893 & 0.0685 & 0.706 & 4.852118 & 29.63623 & -17.8\\\\\n",
       "\tHS1\\_15\\_cf\\_Trip\\_3 & 0.032 & 0.893 & 0.0685 & 0.706 & 4.852118 & 29.63623 & -17.6\\\\\n",
       "\\end{tabular}\n"
      ],
      "text/markdown": [
       "\n",
       "A data.frame: 6 × 7\n",
       "\n",
       "| <!--/--> | NO2.uM. &lt;dbl&gt; | N.N.uM. &lt;dbl&gt; | PO4.uM. &lt;dbl&gt; | Si.uM. &lt;dbl&gt; | Speed.cm.s. &lt;dbl&gt; | avgSST_degC &lt;dbl&gt; | cluster_depth &lt;dbl&gt; |\n",
       "|---|---|---|---|---|---|---|---|\n",
       "| ML2_78_cf_Trip_3 | 0.032 | 0.893 | 0.0685 | 0.706 | 4.852118 | 29.63623 | -20.9 |\n",
       "| CN4_35_cf_Trip_3 | 0.032 | 0.893 | 0.0685 | 0.706 | 4.852118 | 29.63623 | -17.9 |\n",
       "| CN4_25_cf_Trip_3 | 0.032 | 0.893 | 0.0685 | 0.706 | 4.852118 | 29.63623 | -20.8 |\n",
       "| HS1_18_cf_Trip_3 | 0.032 | 0.893 | 0.0685 | 0.706 | 4.852118 | 29.63623 | -18.8 |\n",
       "| HS1_17_cf_Trip_3 | 0.032 | 0.893 | 0.0685 | 0.706 | 4.852118 | 29.63623 | -17.8 |\n",
       "| HS1_15_cf_Trip_3 | 0.032 | 0.893 | 0.0685 | 0.706 | 4.852118 | 29.63623 | -17.6 |\n",
       "\n"
      ],
      "text/plain": [
       "                 NO2.uM. N.N.uM. PO4.uM. Si.uM. Speed.cm.s. avgSST_degC\n",
       "ML2_78_cf_Trip_3 0.032   0.893   0.0685  0.706  4.852118    29.63623   \n",
       "CN4_35_cf_Trip_3 0.032   0.893   0.0685  0.706  4.852118    29.63623   \n",
       "CN4_25_cf_Trip_3 0.032   0.893   0.0685  0.706  4.852118    29.63623   \n",
       "HS1_18_cf_Trip_3 0.032   0.893   0.0685  0.706  4.852118    29.63623   \n",
       "HS1_17_cf_Trip_3 0.032   0.893   0.0685  0.706  4.852118    29.63623   \n",
       "HS1_15_cf_Trip_3 0.032   0.893   0.0685  0.706  4.852118    29.63623   \n",
       "                 cluster_depth\n",
       "ML2_78_cf_Trip_3 -20.9        \n",
       "CN4_35_cf_Trip_3 -17.9        \n",
       "CN4_25_cf_Trip_3 -20.8        \n",
       "HS1_18_cf_Trip_3 -18.8        \n",
       "HS1_17_cf_Trip_3 -17.8        \n",
       "HS1_15_cf_Trip_3 -17.6        "
      ]
     },
     "metadata": {},
     "output_type": "display_data"
    },
    {
     "data": {
      "text/html": [
       "<style>\n",
       ".list-inline {list-style: none; margin:0; padding: 0}\n",
       ".list-inline>li {display: inline-block}\n",
       ".list-inline>li:not(:last-child)::after {content: \"\\00b7\"; padding: 0 .5ex}\n",
       "</style>\n",
       "<ol class=list-inline><li>123</li><li>7</li></ol>\n"
      ],
      "text/latex": [
       "\\begin{enumerate*}\n",
       "\\item 123\n",
       "\\item 7\n",
       "\\end{enumerate*}\n"
      ],
      "text/markdown": [
       "1. 123\n",
       "2. 7\n",
       "\n",
       "\n"
      ],
      "text/plain": [
       "[1] 123   7"
      ]
     },
     "metadata": {},
     "output_type": "display_data"
    }
   ],
   "source": [
    "\n",
    "ps_clr_ad_meta= data.frame(sample_data(ps_fill_ad))\n",
    "\n",
    "#remove co-variate\n",
    "ps_clr_ad_meta2 = ps_clr_ad_meta %>% select('NO2.uM.', 'N.N.uM.', 'PO4.uM.', 'Si.uM.',\n",
    "                \"Speed.cm.s.\", \"avgSST_degC\", \"cluster_depth\")\n",
    "\n",
    "head(ps_clr_ad_meta2)\n",
    "dim(ps_clr_ad_meta2)"
   ]
  },
  {
   "cell_type": "code",
   "execution_count": 49,
   "id": "15cce960-53a1-45d9-963c-4e5348aea3a2",
   "metadata": {},
   "outputs": [
    {
     "name": "stdout",
     "output_type": "stream",
     "text": [
      "\n",
      "Start: otu_table(t(ps_ad_clr)) ~ 1 \n",
      "\n",
      "                Df    AIC      F Pr(>F)   \n",
      "+ NO2.uM.        1 960.39 4.9746  0.005 **\n",
      "+ avgSST_degC    1 961.06 4.2851  0.005 **\n",
      "+ cluster_depth  1 961.49 3.8496  0.005 **\n",
      "+ N.N.uM.        1 962.33 3.0069  0.005 **\n",
      "+ Speed.cm.s.    1 962.55 2.7779  0.005 **\n",
      "+ Si.uM.         1 963.37 1.9589  0.005 **\n",
      "+ PO4.uM.        1 964.01 1.3174  0.090 . \n",
      "---\n",
      "Signif. codes:  0 ‘***’ 0.001 ‘**’ 0.01 ‘*’ 0.05 ‘.’ 0.1 ‘ ’ 1\n",
      "\n",
      "Step: otu_table(t(ps_ad_clr)) ~ NO2.uM. \n",
      "\n",
      "          Df    AIC      F Pr(>F)   \n",
      "- NO2.uM.  1 963.34 4.9746  0.005 **\n",
      "---\n",
      "Signif. codes:  0 ‘***’ 0.001 ‘**’ 0.01 ‘*’ 0.05 ‘.’ 0.1 ‘ ’ 1\n",
      "\n",
      "                Df    AIC      F Pr(>F)   \n",
      "+ avgSST_degC    1 958.74 3.6132  0.005 **\n",
      "+ cluster_depth  1 958.89 3.4629  0.005 **\n",
      "+ N.N.uM.        1 959.09 3.2606  0.005 **\n",
      "+ Speed.cm.s.    1 959.10 3.2484  0.005 **\n",
      "+ Si.uM.         1 960.89 1.4736  0.025 * \n",
      "+ PO4.uM.        1 960.89 1.4693  0.025 * \n",
      "---\n",
      "Signif. codes:  0 ‘***’ 0.001 ‘**’ 0.01 ‘*’ 0.05 ‘.’ 0.1 ‘ ’ 1\n",
      "\n",
      "Step: otu_table(t(ps_ad_clr)) ~ NO2.uM. + avgSST_degC \n",
      "\n",
      "              Df    AIC      F Pr(>F)   \n",
      "- avgSST_degC  1 960.39 3.6132  0.005 **\n",
      "- NO2.uM.      1 961.06 4.2934  0.005 **\n",
      "---\n",
      "Signif. codes:  0 ‘***’ 0.001 ‘**’ 0.01 ‘*’ 0.05 ‘.’ 0.1 ‘ ’ 1\n",
      "\n",
      "                Df    AIC      F Pr(>F)   \n",
      "+ Speed.cm.s.    1 957.03 3.6441  0.005 **\n",
      "+ cluster_depth  1 957.22 3.4575  0.005 **\n",
      "+ N.N.uM.        1 957.56 3.1137  0.005 **\n",
      "+ PO4.uM.        1 959.20 1.5018  0.030 * \n",
      "+ Si.uM.         1 959.48 1.2281  0.105   \n",
      "---\n",
      "Signif. codes:  0 ‘***’ 0.001 ‘**’ 0.01 ‘*’ 0.05 ‘.’ 0.1 ‘ ’ 1\n",
      "\n",
      "Step: otu_table(t(ps_ad_clr)) ~ NO2.uM. + avgSST_degC + Speed.cm.s. \n",
      "\n",
      "              Df    AIC      F Pr(>F)   \n",
      "- Speed.cm.s.  1 958.74 3.6441  0.005 **\n",
      "- avgSST_degC  1 959.10 4.0071  0.005 **\n",
      "- NO2.uM.      1 960.14 5.0490  0.005 **\n",
      "---\n",
      "Signif. codes:  0 ‘***’ 0.001 ‘**’ 0.01 ‘*’ 0.05 ‘.’ 0.1 ‘ ’ 1\n",
      "\n",
      "                Df    AIC      F Pr(>F)   \n",
      "+ cluster_depth  1 955.96 2.9826  0.005 **\n",
      "+ PO4.uM.        1 956.78 2.1788  0.005 **\n",
      "+ Si.uM.         1 957.38 1.5981  0.025 * \n",
      "+ N.N.uM.        1 957.51 1.4684  0.035 * \n",
      "---\n",
      "Signif. codes:  0 ‘***’ 0.001 ‘**’ 0.01 ‘*’ 0.05 ‘.’ 0.1 ‘ ’ 1\n",
      "\n",
      "Step: otu_table(t(ps_ad_clr)) ~ NO2.uM. + avgSST_degC + Speed.cm.s. +      cluster_depth \n",
      "\n",
      "                Df    AIC      F Pr(>F)   \n",
      "- cluster_depth  1 957.03 2.9826  0.005 **\n",
      "- Speed.cm.s.    1 957.22 3.1669  0.005 **\n",
      "- avgSST_degC    1 957.58 3.5285  0.005 **\n",
      "- NO2.uM.        1 958.14 4.0824  0.005 **\n",
      "---\n",
      "Signif. codes:  0 ‘***’ 0.001 ‘**’ 0.01 ‘*’ 0.05 ‘.’ 0.1 ‘ ’ 1\n",
      "\n",
      "          Df    AIC      F Pr(>F)  \n",
      "+ PO4.uM.  1 956.13 1.7519  0.015 *\n",
      "+ Si.uM.   1 956.30 1.5888  0.015 *\n",
      "+ N.N.uM.  1 956.32 1.5693  0.020 *\n",
      "---\n",
      "Signif. codes:  0 ‘***’ 0.001 ‘**’ 0.01 ‘*’ 0.05 ‘.’ 0.1 ‘ ’ 1\n",
      "\n",
      "Step: otu_table(t(ps_ad_clr)) ~ NO2.uM. + avgSST_degC + Speed.cm.s. +      cluster_depth + PO4.uM. \n",
      "\n",
      "                Df    AIC      F Pr(>F)   \n",
      "- PO4.uM.        1 955.96 1.7519  0.010 **\n",
      "- cluster_depth  1 956.78 2.5462  0.005 **\n",
      "- Speed.cm.s.    1 957.49 3.2377  0.005 **\n",
      "- avgSST_degC    1 957.59 3.3379  0.005 **\n",
      "- NO2.uM.        1 958.37 4.1000  0.005 **\n",
      "---\n",
      "Signif. codes:  0 ‘***’ 0.001 ‘**’ 0.01 ‘*’ 0.05 ‘.’ 0.1 ‘ ’ 1\n",
      "\n",
      "          Df    AIC      F Pr(>F)  \n",
      "+ Si.uM.   1 956.37 1.6760   0.02 *\n",
      "+ N.N.uM.  1 956.47 1.5812   0.02 *\n",
      "---\n",
      "Signif. codes:  0 ‘***’ 0.001 ‘**’ 0.01 ‘*’ 0.05 ‘.’ 0.1 ‘ ’ 1\n",
      "\n",
      "Step: otu_table(t(ps_ad_clr)) ~ NO2.uM. + avgSST_degC + Speed.cm.s. +      cluster_depth + PO4.uM. + Si.uM. \n",
      "\n",
      "                Df    AIC      F Pr(>F)   \n",
      "- Si.uM.         1 956.13 1.6760  0.020 * \n",
      "- PO4.uM.        1 956.30 1.8378  0.005 **\n",
      "- cluster_depth  1 957.08 2.5821  0.005 **\n",
      "- avgSST_degC    1 957.75 3.2328  0.005 **\n",
      "- Speed.cm.s.    1 957.79 3.2776  0.005 **\n",
      "- NO2.uM.        1 958.46 3.9227  0.005 **\n",
      "---\n",
      "Signif. codes:  0 ‘***’ 0.001 ‘**’ 0.01 ‘*’ 0.05 ‘.’ 0.1 ‘ ’ 1\n",
      "\n",
      "          Df    AIC    F Pr(>F)   \n",
      "+ N.N.uM.  1 956.24 2.01   0.01 **\n",
      "---\n",
      "Signif. codes:  0 ‘***’ 0.001 ‘**’ 0.01 ‘*’ 0.05 ‘.’ 0.1 ‘ ’ 1\n",
      "\n",
      "Step: otu_table(t(ps_ad_clr)) ~ NO2.uM. + avgSST_degC + Speed.cm.s. +      cluster_depth + PO4.uM. + Si.uM. + N.N.uM. \n",
      "\n",
      "                Df    AIC      F Pr(>F)   \n",
      "- Speed.cm.s.    1 956.69 2.3184  0.010 **\n",
      "- PO4.uM.        1 956.32 1.9694  0.005 **\n",
      "- N.N.uM.        1 956.37 2.0100  0.005 **\n",
      "- Si.uM.         1 956.47 2.1044  0.005 **\n",
      "- avgSST_degC    1 956.51 2.1419  0.005 **\n",
      "- cluster_depth  1 957.09 2.6995  0.005 **\n",
      "- NO2.uM.        1 957.64 3.2269  0.005 **\n",
      "---\n",
      "Signif. codes:  0 ‘***’ 0.001 ‘**’ 0.01 ‘*’ 0.05 ‘.’ 0.1 ‘ ’ 1\n",
      "\n"
     ]
    },
    {
     "data": {
      "text/plain": [
       "Call: rda(formula = otu_table(t(ps_ad_clr)) ~ NO2.uM. + avgSST_degC +\n",
       "Speed.cm.s. + cluster_depth + PO4.uM. + Si.uM. + N.N.uM., data =\n",
       "ps_clr_ad_meta2)\n",
       "\n",
       "                Inertia Proportion Rank\n",
       "Total         2499.8160     1.0000     \n",
       "Constrained    394.2118     0.1577    7\n",
       "Unconstrained 2105.6042     0.8423  115\n",
       "Inertia is variance \n",
       "\n",
       "Eigenvalues for constrained axes:\n",
       "  RDA1   RDA2   RDA3   RDA4   RDA5   RDA6   RDA7 \n",
       "136.80  77.71  55.29  49.79  36.35  20.84  17.44 \n",
       "\n",
       "Eigenvalues for unconstrained axes:\n",
       "   PC1    PC2    PC3    PC4    PC5    PC6    PC7    PC8 \n",
       "257.35 115.77  82.11  66.37  55.32  44.64  40.72  37.68 \n",
       "(Showing 8 of 115 unconstrained eigenvalues)\n"
      ]
     },
     "metadata": {},
     "output_type": "display_data"
    }
   ],
   "source": [
    "mod0 <- rda(otu_table(t(ps_ad_clr)) ~ 1, ps_clr_ad_meta2)\n",
    "mod1 <- rda(otu_table(t(ps_ad_clr)) ~ ., ps_clr_ad_meta2)\n",
    "m <- ordistep(mod0, scope = formula(mod1), perm.max = 200, direction =\"both\")\n",
    "m"
   ]
  },
  {
   "cell_type": "code",
   "execution_count": 56,
   "id": "1fa0a0d6-1b5b-4107-814a-b5cdd358d90b",
   "metadata": {},
   "outputs": [
    {
     "data": {
      "text/html": [
       "<style>\n",
       ".dl-inline {width: auto; margin:0; padding: 0}\n",
       ".dl-inline>dt, .dl-inline>dd {float: none; width: auto; display: inline-block}\n",
       ".dl-inline>dt::after {content: \":\\0020\"; padding-right: .5ex}\n",
       ".dl-inline>dt:not(:first-of-type) {padding-left: .5ex}\n",
       "</style><dl class=dl-inline><dt>NO2.uM.</dt><dd>13.3388594984127</dd><dt>avgSST_degC</dt><dd>13.3783945828625</dd><dt>Speed.cm.s.</dt><dd>11.6516234755566</dd><dt>cluster_depth</dt><dd>1.39256595027759</dd><dt>PO4.uM.</dt><dd>2.33522444836751</dd><dt>Si.uM.</dt><dd>2.02843647240646</dd><dt>N.N.uM.</dt><dd>5.31210861062904</dd></dl>\n"
      ],
      "text/latex": [
       "\\begin{description*}\n",
       "\\item[NO2.uM.] 13.3388594984127\n",
       "\\item[avgSST\\textbackslash{}\\_degC] 13.3783945828625\n",
       "\\item[Speed.cm.s.] 11.6516234755566\n",
       "\\item[cluster\\textbackslash{}\\_depth] 1.39256595027759\n",
       "\\item[PO4.uM.] 2.33522444836751\n",
       "\\item[Si.uM.] 2.02843647240646\n",
       "\\item[N.N.uM.] 5.31210861062904\n",
       "\\end{description*}\n"
      ],
      "text/markdown": [
       "NO2.uM.\n",
       ":   13.3388594984127avgSST_degC\n",
       ":   13.3783945828625Speed.cm.s.\n",
       ":   11.6516234755566cluster_depth\n",
       ":   1.39256595027759PO4.uM.\n",
       ":   2.33522444836751Si.uM.\n",
       ":   2.02843647240646N.N.uM.\n",
       ":   5.31210861062904\n",
       "\n"
      ],
      "text/plain": [
       "      NO2.uM.   avgSST_degC   Speed.cm.s. cluster_depth       PO4.uM. \n",
       "    13.338859     13.378395     11.651623      1.392566      2.335224 \n",
       "       Si.uM.       N.N.uM. \n",
       "     2.028436      5.312109 "
      ]
     },
     "metadata": {},
     "output_type": "display_data"
    }
   ],
   "source": [
    "vif.cca(m)"
   ]
  },
  {
   "cell_type": "code",
   "execution_count": 58,
   "id": "ac2acad2-8327-4d5e-9ba1-44ed93337e19",
   "metadata": {},
   "outputs": [
    {
     "data": {
      "text/html": [
       "<table class=\"dataframe\">\n",
       "<caption>A anova.cca: 8 × 4</caption>\n",
       "<thead>\n",
       "\t<tr><th></th><th scope=col>Df</th><th scope=col>Variance</th><th scope=col>F</th><th scope=col>Pr(&gt;F)</th></tr>\n",
       "\t<tr><th></th><th scope=col>&lt;dbl&gt;</th><th scope=col>&lt;dbl&gt;</th><th scope=col>&lt;dbl&gt;</th><th scope=col>&lt;dbl&gt;</th></tr>\n",
       "</thead>\n",
       "<tbody>\n",
       "\t<tr><th scope=row>NO2.uM.</th><td>  1</td><td>  98.71415</td><td>5.391387</td><td>0.001</td></tr>\n",
       "\t<tr><th scope=row>avgSST_degC</th><td>  1</td><td>  70.18304</td><td>3.833128</td><td>0.001</td></tr>\n",
       "\t<tr><th scope=row>Speed.cm.s.</th><td>  1</td><td>  69.25836</td><td>3.782625</td><td>0.001</td></tr>\n",
       "\t<tr><th scope=row>cluster_depth</th><td>  1</td><td>  55.75710</td><td>3.045238</td><td>0.001</td></tr>\n",
       "\t<tr><th scope=row>PO4.uM.</th><td>  1</td><td>  32.54223</td><td>1.777331</td><td>0.010</td></tr>\n",
       "\t<tr><th scope=row>Si.uM.</th><td>  1</td><td>  30.95479</td><td>1.690632</td><td>0.009</td></tr>\n",
       "\t<tr><th scope=row>N.N.uM.</th><td>  1</td><td>  36.80215</td><td>2.009992</td><td>0.003</td></tr>\n",
       "\t<tr><th scope=row>Residual</th><td>115</td><td>2105.60418</td><td>      NA</td><td>   NA</td></tr>\n",
       "</tbody>\n",
       "</table>\n"
      ],
      "text/latex": [
       "A anova.cca: 8 × 4\n",
       "\\begin{tabular}{r|llll}\n",
       "  & Df & Variance & F & Pr(>F)\\\\\n",
       "  & <dbl> & <dbl> & <dbl> & <dbl>\\\\\n",
       "\\hline\n",
       "\tNO2.uM. &   1 &   98.71415 & 5.391387 & 0.001\\\\\n",
       "\tavgSST\\_degC &   1 &   70.18304 & 3.833128 & 0.001\\\\\n",
       "\tSpeed.cm.s. &   1 &   69.25836 & 3.782625 & 0.001\\\\\n",
       "\tcluster\\_depth &   1 &   55.75710 & 3.045238 & 0.001\\\\\n",
       "\tPO4.uM. &   1 &   32.54223 & 1.777331 & 0.010\\\\\n",
       "\tSi.uM. &   1 &   30.95479 & 1.690632 & 0.009\\\\\n",
       "\tN.N.uM. &   1 &   36.80215 & 2.009992 & 0.003\\\\\n",
       "\tResidual & 115 & 2105.60418 &       NA &    NA\\\\\n",
       "\\end{tabular}\n"
      ],
      "text/markdown": [
       "\n",
       "A anova.cca: 8 × 4\n",
       "\n",
       "| <!--/--> | Df &lt;dbl&gt; | Variance &lt;dbl&gt; | F &lt;dbl&gt; | Pr(&gt;F) &lt;dbl&gt; |\n",
       "|---|---|---|---|---|\n",
       "| NO2.uM. |   1 |   98.71415 | 5.391387 | 0.001 |\n",
       "| avgSST_degC |   1 |   70.18304 | 3.833128 | 0.001 |\n",
       "| Speed.cm.s. |   1 |   69.25836 | 3.782625 | 0.001 |\n",
       "| cluster_depth |   1 |   55.75710 | 3.045238 | 0.001 |\n",
       "| PO4.uM. |   1 |   32.54223 | 1.777331 | 0.010 |\n",
       "| Si.uM. |   1 |   30.95479 | 1.690632 | 0.009 |\n",
       "| N.N.uM. |   1 |   36.80215 | 2.009992 | 0.003 |\n",
       "| Residual | 115 | 2105.60418 |       NA |    NA |\n",
       "\n"
      ],
      "text/plain": [
       "              Df  Variance   F        Pr(>F)\n",
       "NO2.uM.         1   98.71415 5.391387 0.001 \n",
       "avgSST_degC     1   70.18304 3.833128 0.001 \n",
       "Speed.cm.s.     1   69.25836 3.782625 0.001 \n",
       "cluster_depth   1   55.75710 3.045238 0.001 \n",
       "PO4.uM.         1   32.54223 1.777331 0.010 \n",
       "Si.uM.          1   30.95479 1.690632 0.009 \n",
       "N.N.uM.         1   36.80215 2.009992 0.003 \n",
       "Residual      115 2105.60418       NA    NA "
      ]
     },
     "metadata": {},
     "output_type": "display_data"
    }
   ],
   "source": [
    "anova(m,  by=\"term\")"
   ]
  },
  {
   "cell_type": "code",
   "execution_count": 59,
   "id": "802a02b3-0e7c-4a5e-9658-2a8c96479e8f",
   "metadata": {},
   "outputs": [
    {
     "data": {
      "text/html": [
       "<table class=\"dataframe\">\n",
       "<caption>A anova.cca: 8 × 4</caption>\n",
       "<thead>\n",
       "\t<tr><th></th><th scope=col>Df</th><th scope=col>Variance</th><th scope=col>F</th><th scope=col>Pr(&gt;F)</th></tr>\n",
       "\t<tr><th></th><th scope=col>&lt;dbl&gt;</th><th scope=col>&lt;dbl&gt;</th><th scope=col>&lt;dbl&gt;</th><th scope=col>&lt;dbl&gt;</th></tr>\n",
       "</thead>\n",
       "<tbody>\n",
       "\t<tr><th scope=row>NO2.uM.</th><td>  1</td><td>  59.08304</td><td>3.226888</td><td>0.001</td></tr>\n",
       "\t<tr><th scope=row>avgSST_degC</th><td>  1</td><td>  39.21792</td><td>2.141932</td><td>0.001</td></tr>\n",
       "\t<tr><th scope=row>Speed.cm.s.</th><td>  1</td><td>  42.44870</td><td>2.318385</td><td>0.001</td></tr>\n",
       "\t<tr><th scope=row>cluster_depth</th><td>  1</td><td>  49.42694</td><td>2.699509</td><td>0.001</td></tr>\n",
       "\t<tr><th scope=row>PO4.uM.</th><td>  1</td><td>  36.05898</td><td>1.969403</td><td>0.003</td></tr>\n",
       "\t<tr><th scope=row>Si.uM.</th><td>  1</td><td>  38.53003</td><td>2.104362</td><td>0.002</td></tr>\n",
       "\t<tr><th scope=row>N.N.uM.</th><td>  1</td><td>  36.80215</td><td>2.009992</td><td>0.001</td></tr>\n",
       "\t<tr><th scope=row>Residual</th><td>115</td><td>2105.60418</td><td>      NA</td><td>   NA</td></tr>\n",
       "</tbody>\n",
       "</table>\n"
      ],
      "text/latex": [
       "A anova.cca: 8 × 4\n",
       "\\begin{tabular}{r|llll}\n",
       "  & Df & Variance & F & Pr(>F)\\\\\n",
       "  & <dbl> & <dbl> & <dbl> & <dbl>\\\\\n",
       "\\hline\n",
       "\tNO2.uM. &   1 &   59.08304 & 3.226888 & 0.001\\\\\n",
       "\tavgSST\\_degC &   1 &   39.21792 & 2.141932 & 0.001\\\\\n",
       "\tSpeed.cm.s. &   1 &   42.44870 & 2.318385 & 0.001\\\\\n",
       "\tcluster\\_depth &   1 &   49.42694 & 2.699509 & 0.001\\\\\n",
       "\tPO4.uM. &   1 &   36.05898 & 1.969403 & 0.003\\\\\n",
       "\tSi.uM. &   1 &   38.53003 & 2.104362 & 0.002\\\\\n",
       "\tN.N.uM. &   1 &   36.80215 & 2.009992 & 0.001\\\\\n",
       "\tResidual & 115 & 2105.60418 &       NA &    NA\\\\\n",
       "\\end{tabular}\n"
      ],
      "text/markdown": [
       "\n",
       "A anova.cca: 8 × 4\n",
       "\n",
       "| <!--/--> | Df &lt;dbl&gt; | Variance &lt;dbl&gt; | F &lt;dbl&gt; | Pr(&gt;F) &lt;dbl&gt; |\n",
       "|---|---|---|---|---|\n",
       "| NO2.uM. |   1 |   59.08304 | 3.226888 | 0.001 |\n",
       "| avgSST_degC |   1 |   39.21792 | 2.141932 | 0.001 |\n",
       "| Speed.cm.s. |   1 |   42.44870 | 2.318385 | 0.001 |\n",
       "| cluster_depth |   1 |   49.42694 | 2.699509 | 0.001 |\n",
       "| PO4.uM. |   1 |   36.05898 | 1.969403 | 0.003 |\n",
       "| Si.uM. |   1 |   38.53003 | 2.104362 | 0.002 |\n",
       "| N.N.uM. |   1 |   36.80215 | 2.009992 | 0.001 |\n",
       "| Residual | 115 | 2105.60418 |       NA |    NA |\n",
       "\n"
      ],
      "text/plain": [
       "              Df  Variance   F        Pr(>F)\n",
       "NO2.uM.         1   59.08304 3.226888 0.001 \n",
       "avgSST_degC     1   39.21792 2.141932 0.001 \n",
       "Speed.cm.s.     1   42.44870 2.318385 0.001 \n",
       "cluster_depth   1   49.42694 2.699509 0.001 \n",
       "PO4.uM.         1   36.05898 1.969403 0.003 \n",
       "Si.uM.          1   38.53003 2.104362 0.002 \n",
       "N.N.uM.         1   36.80215 2.009992 0.001 \n",
       "Residual      115 2105.60418       NA    NA "
      ]
     },
     "metadata": {},
     "output_type": "display_data"
    }
   ],
   "source": [
    "anova(m, by=\"margin\")"
   ]
  },
  {
   "cell_type": "code",
   "execution_count": 61,
   "id": "633979df-78f0-47f7-9bff-c441a190c15a",
   "metadata": {},
   "outputs": [
    {
     "data": {
      "text/html": [
       "<table class=\"dataframe\">\n",
       "<caption>A anova.cca: 2 × 4</caption>\n",
       "<thead>\n",
       "\t<tr><th></th><th scope=col>Df</th><th scope=col>Variance</th><th scope=col>F</th><th scope=col>Pr(&gt;F)</th></tr>\n",
       "\t<tr><th></th><th scope=col>&lt;dbl&gt;</th><th scope=col>&lt;dbl&gt;</th><th scope=col>&lt;dbl&gt;</th><th scope=col>&lt;dbl&gt;</th></tr>\n",
       "</thead>\n",
       "<tbody>\n",
       "\t<tr><th scope=row>Model</th><td>  7</td><td> 394.2118</td><td>3.075762</td><td>0.001</td></tr>\n",
       "\t<tr><th scope=row>Residual</th><td>115</td><td>2105.6042</td><td>      NA</td><td>   NA</td></tr>\n",
       "</tbody>\n",
       "</table>\n"
      ],
      "text/latex": [
       "A anova.cca: 2 × 4\n",
       "\\begin{tabular}{r|llll}\n",
       "  & Df & Variance & F & Pr(>F)\\\\\n",
       "  & <dbl> & <dbl> & <dbl> & <dbl>\\\\\n",
       "\\hline\n",
       "\tModel &   7 &  394.2118 & 3.075762 & 0.001\\\\\n",
       "\tResidual & 115 & 2105.6042 &       NA &    NA\\\\\n",
       "\\end{tabular}\n"
      ],
      "text/markdown": [
       "\n",
       "A anova.cca: 2 × 4\n",
       "\n",
       "| <!--/--> | Df &lt;dbl&gt; | Variance &lt;dbl&gt; | F &lt;dbl&gt; | Pr(&gt;F) &lt;dbl&gt; |\n",
       "|---|---|---|---|---|\n",
       "| Model |   7 |  394.2118 | 3.075762 | 0.001 |\n",
       "| Residual | 115 | 2105.6042 |       NA |    NA |\n",
       "\n"
      ],
      "text/plain": [
       "         Df  Variance  F        Pr(>F)\n",
       "Model      7  394.2118 3.075762 0.001 \n",
       "Residual 115 2105.6042       NA    NA "
      ]
     },
     "metadata": {},
     "output_type": "display_data"
    }
   ],
   "source": [
    "anova(m)"
   ]
  },
  {
   "cell_type": "code",
   "execution_count": 68,
   "id": "840f1812-72e5-4750-8222-03c3c0166807",
   "metadata": {},
   "outputs": [],
   "source": [
    "rda_veg=rda(otu_table(t(ps_ad_clr))  ~ NO2.uM. + N.N.uM.+ PO4.uM. + Si.uM. +\n",
    "                Speed.cm.s. +  avgSST_degC +  cluster_depth, data = ps_clr_ad_meta2, scale = TRUE)"
   ]
  },
  {
   "cell_type": "code",
   "execution_count": 69,
   "id": "b04b5d97-9410-4d74-9203-b10df2c5c0b0",
   "metadata": {},
   "outputs": [
    {
     "data": {
      "text/html": [
       "<table class=\"dataframe\">\n",
       "<caption>A anova.cca: 8 × 4</caption>\n",
       "<thead>\n",
       "\t<tr><th></th><th scope=col>Df</th><th scope=col>Variance</th><th scope=col>F</th><th scope=col>Pr(&gt;F)</th></tr>\n",
       "\t<tr><th></th><th scope=col>&lt;dbl&gt;</th><th scope=col>&lt;dbl&gt;</th><th scope=col>&lt;dbl&gt;</th><th scope=col>&lt;dbl&gt;</th></tr>\n",
       "</thead>\n",
       "<tbody>\n",
       "\t<tr><th scope=row>RDA1</th><td>  1</td><td> 25.943718</td><td>7.3102176</td><td>0.001</td></tr>\n",
       "\t<tr><th scope=row>RDA2</th><td>  1</td><td> 14.226537</td><td>4.0086422</td><td>0.001</td></tr>\n",
       "\t<tr><th scope=row>RDA3</th><td>  1</td><td> 10.191985</td><td>2.8718177</td><td>0.008</td></tr>\n",
       "\t<tr><th scope=row>RDA4</th><td>  1</td><td>  8.693483</td><td>2.4495815</td><td>0.021</td></tr>\n",
       "\t<tr><th scope=row>RDA5</th><td>  1</td><td>  6.360860</td><td>1.7923132</td><td>0.083</td></tr>\n",
       "\t<tr><th scope=row>RDA6</th><td>  1</td><td>  4.149518</td><td>1.1692186</td><td>0.400</td></tr>\n",
       "\t<tr><th scope=row>RDA7</th><td>  1</td><td>  3.302747</td><td>0.9306222</td><td>0.543</td></tr>\n",
       "\t<tr><th scope=row>Residual</th><td>115</td><td>408.131153</td><td>       NA</td><td>   NA</td></tr>\n",
       "</tbody>\n",
       "</table>\n"
      ],
      "text/latex": [
       "A anova.cca: 8 × 4\n",
       "\\begin{tabular}{r|llll}\n",
       "  & Df & Variance & F & Pr(>F)\\\\\n",
       "  & <dbl> & <dbl> & <dbl> & <dbl>\\\\\n",
       "\\hline\n",
       "\tRDA1 &   1 &  25.943718 & 7.3102176 & 0.001\\\\\n",
       "\tRDA2 &   1 &  14.226537 & 4.0086422 & 0.001\\\\\n",
       "\tRDA3 &   1 &  10.191985 & 2.8718177 & 0.008\\\\\n",
       "\tRDA4 &   1 &   8.693483 & 2.4495815 & 0.021\\\\\n",
       "\tRDA5 &   1 &   6.360860 & 1.7923132 & 0.083\\\\\n",
       "\tRDA6 &   1 &   4.149518 & 1.1692186 & 0.400\\\\\n",
       "\tRDA7 &   1 &   3.302747 & 0.9306222 & 0.543\\\\\n",
       "\tResidual & 115 & 408.131153 &        NA &    NA\\\\\n",
       "\\end{tabular}\n"
      ],
      "text/markdown": [
       "\n",
       "A anova.cca: 8 × 4\n",
       "\n",
       "| <!--/--> | Df &lt;dbl&gt; | Variance &lt;dbl&gt; | F &lt;dbl&gt; | Pr(&gt;F) &lt;dbl&gt; |\n",
       "|---|---|---|---|---|\n",
       "| RDA1 |   1 |  25.943718 | 7.3102176 | 0.001 |\n",
       "| RDA2 |   1 |  14.226537 | 4.0086422 | 0.001 |\n",
       "| RDA3 |   1 |  10.191985 | 2.8718177 | 0.008 |\n",
       "| RDA4 |   1 |   8.693483 | 2.4495815 | 0.021 |\n",
       "| RDA5 |   1 |   6.360860 | 1.7923132 | 0.083 |\n",
       "| RDA6 |   1 |   4.149518 | 1.1692186 | 0.400 |\n",
       "| RDA7 |   1 |   3.302747 | 0.9306222 | 0.543 |\n",
       "| Residual | 115 | 408.131153 |        NA |    NA |\n",
       "\n"
      ],
      "text/plain": [
       "         Df  Variance   F         Pr(>F)\n",
       "RDA1       1  25.943718 7.3102176 0.001 \n",
       "RDA2       1  14.226537 4.0086422 0.001 \n",
       "RDA3       1  10.191985 2.8718177 0.008 \n",
       "RDA4       1   8.693483 2.4495815 0.021 \n",
       "RDA5       1   6.360860 1.7923132 0.083 \n",
       "RDA6       1   4.149518 1.1692186 0.400 \n",
       "RDA7       1   3.302747 0.9306222 0.543 \n",
       "Residual 115 408.131153        NA    NA "
      ]
     },
     "metadata": {},
     "output_type": "display_data"
    }
   ],
   "source": [
    " anova(rda_veg, by=\"axis\")"
   ]
  },
  {
   "cell_type": "code",
   "execution_count": 70,
   "id": "de133af4-de0e-413a-8102-6b5e9761f23e",
   "metadata": {},
   "outputs": [
    {
     "data": {
      "text/plain": [
       "\n",
       "***VECTORS\n",
       "\n",
       "                   RDA1     RDA2     r2 Pr(>r)    \n",
       "Speed.cm.s.     0.53453 -0.84515 0.0657  0.012 *  \n",
       "NO2.uM.        -0.92153 -0.38832 0.4882  0.001 ***\n",
       "N.N.uM.        -0.23766 -0.97135 0.2358  0.001 ***\n",
       "NO3.uM.        -0.22332 -0.97475 0.2342  0.001 ***\n",
       "PO4.uM.        -0.76088  0.64890 0.0135  0.421    \n",
       "Si.uM.          0.89887 -0.43822 0.0908  0.003 ** \n",
       "avgSST_degC    -0.45737 -0.88928 0.7075  0.001 ***\n",
       "avgchla_mgm.3  -0.99926  0.03836 0.4255  0.001 ***\n",
       "Temperature.C. -0.32692 -0.94505 0.5662  0.001 ***\n",
       "cluster_depth  -0.90184  0.43208 0.3129  0.001 ***\n",
       "---\n",
       "Signif. codes:  0 ‘***’ 0.001 ‘**’ 0.01 ‘*’ 0.05 ‘.’ 0.1 ‘ ’ 1\n",
       "Permutation: free\n",
       "Number of permutations: 999\n",
       "\n",
       "***FACTORS:\n",
       "\n",
       "Centroids:\n",
       "                   RDA1    RDA2\n",
       "GenotypeCN2     -0.0657  0.2282\n",
       "GenotypeCN4     -0.1562 -0.1697\n",
       "GenotypeHS1      0.0441 -0.1413\n",
       "GenotypeML2      0.2016  0.0526\n",
       "Samp_tripTrip_2  0.7555  1.5824\n",
       "Samp_tripTrip_3 -0.5018 -1.8603\n",
       "Samp_tripTrip_4 -0.7218 -0.2305\n",
       "Samp_tripTrip_5  0.3212  0.4527\n",
       "reefcf          -0.0935 -0.0279\n",
       "reefndr         -1.3352  0.5392\n",
       "reefpr           1.3982 -0.5204\n",
       "\n",
       "Goodness of fit:\n",
       "              r2 Pr(>r)    \n",
       "Genotype  0.0083  0.925    \n",
       "Samp_trip 0.3936  0.001 ***\n",
       "reef      0.3103  0.001 ***\n",
       "---\n",
       "Signif. codes:  0 ‘***’ 0.001 ‘**’ 0.01 ‘*’ 0.05 ‘.’ 0.1 ‘ ’ 1\n",
       "Permutation: free\n",
       "Number of permutations: 999\n",
       "\n"
      ]
     },
     "metadata": {},
     "output_type": "display_data"
    }
   ],
   "source": [
    "envfit(rda_veg, ps_clr_ad_meta1, na.rm = TRUE, permutations = 999)"
   ]
  },
  {
   "cell_type": "code",
   "execution_count": null,
   "id": "09b3bf2d-846e-4c53-b280-9235d1826c7f",
   "metadata": {},
   "outputs": [],
   "source": []
  }
 ],
 "metadata": {
  "kernelspec": {
   "display_name": "R",
   "language": "R",
   "name": "ir"
  },
  "language_info": {
   "codemirror_mode": "r",
   "file_extension": ".r",
   "mimetype": "text/x-r-source",
   "name": "R",
   "pygments_lexer": "r",
   "version": "4.3.2"
  }
 },
 "nbformat": 4,
 "nbformat_minor": 5
}
