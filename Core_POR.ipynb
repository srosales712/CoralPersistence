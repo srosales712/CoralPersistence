{
 "cells": [
  {
   "cell_type": "code",
   "execution_count": 20,
   "id": "42258087-d0be-49ca-8f03-e496b3570965",
   "metadata": {},
   "outputs": [],
   "source": [
    "library(ggplot2)\n",
    "library(microbiome)\n",
    "library(phyloseq)\n",
    "library(\"tidyverse\")\n",
    "library(\"dplyr\")"
   ]
  },
  {
   "cell_type": "code",
   "execution_count": 21,
   "id": "cf3af7ab-20f1-462f-9828-2883397e64f0",
   "metadata": {},
   "outputs": [],
   "source": [
    "load(\"/Users/stephanie.rosales/Documents/omics_projects/POR_16S/CoralPersistence/data/POR_counts_4_analysis.RData\")\n",
    "load(\"/Users/stephanie.rosales/Documents/omics_projects/POR_16S/CoralPersistence/data/POR_taxo_4_analysis.RData\")\n"
   ]
  },
  {
   "cell_type": "code",
   "execution_count": 22,
   "id": "e2302d4c-1821-4438-aab4-6fb314654d5d",
   "metadata": {},
   "outputs": [
    {
     "data": {
      "text/html": [
       "<table class=\"dataframe\">\n",
       "<caption>A data.frame: 6 × 8</caption>\n",
       "<thead>\n",
       "\t<tr><th></th><th scope=col>domain</th><th scope=col>phylum</th><th scope=col>class</th><th scope=col>order</th><th scope=col>family</th><th scope=col>genus</th><th scope=col>species</th><th scope=col>ASVs</th></tr>\n",
       "\t<tr><th></th><th scope=col>&lt;chr&gt;</th><th scope=col>&lt;chr&gt;</th><th scope=col>&lt;chr&gt;</th><th scope=col>&lt;chr&gt;</th><th scope=col>&lt;chr&gt;</th><th scope=col>&lt;chr&gt;</th><th scope=col>&lt;lgl&gt;</th><th scope=col>&lt;chr&gt;</th></tr>\n",
       "</thead>\n",
       "<tbody>\n",
       "\t<tr><th scope=row>ASV_7337</th><td>Bacteria</td><td>Proteobacteria </td><td>Gammaproteobacteria</td><td>OM182 clade </td><td>NA           </td><td>NA            </td><td>NA</td><td>ASV_7337 </td></tr>\n",
       "\t<tr><th scope=row>ASV_5689</th><td>Bacteria</td><td>Planctomycetota</td><td>Planctomycetes     </td><td>Pirellulales</td><td>Pirellulaceae</td><td>NA            </td><td>NA</td><td>ASV_5689 </td></tr>\n",
       "\t<tr><th scope=row>ASV_13972</th><td>Bacteria</td><td>Planctomycetota</td><td>Planctomycetes     </td><td>NA          </td><td>NA           </td><td>NA            </td><td>NA</td><td>ASV_13972</td></tr>\n",
       "\t<tr><th scope=row>ASV_6599</th><td>Bacteria</td><td>Planctomycetota</td><td>Planctomycetes     </td><td>Pirellulales</td><td>Pirellulaceae</td><td>Bythopirellula</td><td>NA</td><td>ASV_6599 </td></tr>\n",
       "\t<tr><th scope=row>ASV_4986</th><td>Bacteria</td><td>Proteobacteria </td><td>Gammaproteobacteria</td><td>OM182 clade </td><td>NA           </td><td>NA            </td><td>NA</td><td>ASV_4986 </td></tr>\n",
       "\t<tr><th scope=row>ASV_6448</th><td>Bacteria</td><td>Planctomycetota</td><td>Planctomycetes     </td><td>Pirellulales</td><td>Pirellulaceae</td><td>Rhodopirellula</td><td>NA</td><td>ASV_6448 </td></tr>\n",
       "</tbody>\n",
       "</table>\n"
      ],
      "text/latex": [
       "A data.frame: 6 × 8\n",
       "\\begin{tabular}{r|llllllll}\n",
       "  & domain & phylum & class & order & family & genus & species & ASVs\\\\\n",
       "  & <chr> & <chr> & <chr> & <chr> & <chr> & <chr> & <lgl> & <chr>\\\\\n",
       "\\hline\n",
       "\tASV\\_7337 & Bacteria & Proteobacteria  & Gammaproteobacteria & OM182 clade  & NA            & NA             & NA & ASV\\_7337 \\\\\n",
       "\tASV\\_5689 & Bacteria & Planctomycetota & Planctomycetes      & Pirellulales & Pirellulaceae & NA             & NA & ASV\\_5689 \\\\\n",
       "\tASV\\_13972 & Bacteria & Planctomycetota & Planctomycetes      & NA           & NA            & NA             & NA & ASV\\_13972\\\\\n",
       "\tASV\\_6599 & Bacteria & Planctomycetota & Planctomycetes      & Pirellulales & Pirellulaceae & Bythopirellula & NA & ASV\\_6599 \\\\\n",
       "\tASV\\_4986 & Bacteria & Proteobacteria  & Gammaproteobacteria & OM182 clade  & NA            & NA             & NA & ASV\\_4986 \\\\\n",
       "\tASV\\_6448 & Bacteria & Planctomycetota & Planctomycetes      & Pirellulales & Pirellulaceae & Rhodopirellula & NA & ASV\\_6448 \\\\\n",
       "\\end{tabular}\n"
      ],
      "text/markdown": [
       "\n",
       "A data.frame: 6 × 8\n",
       "\n",
       "| <!--/--> | domain &lt;chr&gt; | phylum &lt;chr&gt; | class &lt;chr&gt; | order &lt;chr&gt; | family &lt;chr&gt; | genus &lt;chr&gt; | species &lt;lgl&gt; | ASVs &lt;chr&gt; |\n",
       "|---|---|---|---|---|---|---|---|---|\n",
       "| ASV_7337 | Bacteria | Proteobacteria  | Gammaproteobacteria | OM182 clade  | NA            | NA             | NA | ASV_7337  |\n",
       "| ASV_5689 | Bacteria | Planctomycetota | Planctomycetes      | Pirellulales | Pirellulaceae | NA             | NA | ASV_5689  |\n",
       "| ASV_13972 | Bacteria | Planctomycetota | Planctomycetes      | NA           | NA            | NA             | NA | ASV_13972 |\n",
       "| ASV_6599 | Bacteria | Planctomycetota | Planctomycetes      | Pirellulales | Pirellulaceae | Bythopirellula | NA | ASV_6599  |\n",
       "| ASV_4986 | Bacteria | Proteobacteria  | Gammaproteobacteria | OM182 clade  | NA            | NA             | NA | ASV_4986  |\n",
       "| ASV_6448 | Bacteria | Planctomycetota | Planctomycetes      | Pirellulales | Pirellulaceae | Rhodopirellula | NA | ASV_6448  |\n",
       "\n"
      ],
      "text/plain": [
       "          domain   phylum          class               order       \n",
       "ASV_7337  Bacteria Proteobacteria  Gammaproteobacteria OM182 clade \n",
       "ASV_5689  Bacteria Planctomycetota Planctomycetes      Pirellulales\n",
       "ASV_13972 Bacteria Planctomycetota Planctomycetes      NA          \n",
       "ASV_6599  Bacteria Planctomycetota Planctomycetes      Pirellulales\n",
       "ASV_4986  Bacteria Proteobacteria  Gammaproteobacteria OM182 clade \n",
       "ASV_6448  Bacteria Planctomycetota Planctomycetes      Pirellulales\n",
       "          family        genus          species ASVs     \n",
       "ASV_7337  NA            NA             NA      ASV_7337 \n",
       "ASV_5689  Pirellulaceae NA             NA      ASV_5689 \n",
       "ASV_13972 NA            NA             NA      ASV_13972\n",
       "ASV_6599  Pirellulaceae Bythopirellula NA      ASV_6599 \n",
       "ASV_4986  NA            NA             NA      ASV_4986 \n",
       "ASV_6448  Pirellulaceae Rhodopirellula NA      ASV_6448 "
      ]
     },
     "metadata": {},
     "output_type": "display_data"
    }
   ],
   "source": [
    "head(POR_taxo_4_analysis %>%\n",
    " rownames_to_column  %>%\n",
    "  mutate( ASVs= rowname)  %>% column_to_rownames(\"rowname\"))"
   ]
  },
  {
   "cell_type": "code",
   "execution_count": 23,
   "id": "8b6a19df-8e9f-4c3a-9819-ef203d484953",
   "metadata": {},
   "outputs": [],
   "source": [
    "taxo_mat <- POR_taxo_4_analysis %>%\n",
    "  rownames_to_column %>%\n",
    "  filter(rowname != 'ASV_2') %>%\n",
    "column_to_rownames(\"rowname\")  %>%\n",
    "  mutate(domain = ifelse(row.names(.) == \"ASV_5\", \"ASV_5:core\", domain)) %>%\n",
    "  mutate(phylum = ifelse(row.names(.) == \"ASV_5\", \"ASV_5:core\", phylum)) %>%\n",
    "  mutate(class = ifelse(row.names(.) == \"ASV_5\", \"ASV_5:core\", class)) %>%\n",
    "   mutate(order = ifelse(row.names(.) == \"ASV_5\", \"ASV_5:core\", order)) %>%\n",
    "  mutate(family = ifelse(row.names(.) == \"ASV_5\", \"ASV_5:core\", family)) %>%\n",
    "mutate(genus = ifelse(row.names(.) == \"ASV_5\", \"ASV_5:core\", genus)) %>%\n",
    "mutate(species = ifelse(row.names(.) == \"ASV_5\", \"ASV_5:core\", species)) %>%\n",
    " mutate(domain = ifelse(row.names(.) == \"ASV_6\", \"ASV_6:core\", domain)) %>%\n",
    "  mutate(phylum = ifelse(row.names(.) == \"ASV_6\", \"ASV_6:core\", phylum)) %>%\n",
    "  mutate(class = ifelse(row.names(.) == \"ASV_6\", \"ASV_6:core\", class)) %>%\n",
    "   mutate(order = ifelse(row.names(.) == \"ASV_6\", \"ASV_6:core\", order)) %>%\n",
    "  mutate(family = ifelse(row.names(.) == \"ASV_6\", \"ASV_6:core\", family)) %>%\n",
    "mutate(genus = ifelse(row.names(.) == \"ASV_6\", \"ASV_6:core\", genus)) %>%\n",
    "mutate(species = ifelse(row.names(.) == \"ASV_6\", \"ASV_6:core\", species)) %>%\n",
    "mutate(class = ifelse(row.names(.) == \"ASV_7\", \"SAR324:core\", class)) %>%\n",
    "   mutate(order = ifelse(row.names(.) == \"ASV_7\", \"SAR324:core\", order)) %>%\n",
    "  mutate(family = ifelse(row.names(.) == \"ASV_7\", \"SAR324:core\", family)) %>%\n",
    "mutate(genus = ifelse(row.names(.) == \"ASV_7\", \"SAR324:core\", genus)) %>%\n",
    "mutate(species = ifelse(row.names(.) == \"ASV_7\", \"SAR324:core\", species)) %>%\n",
    "mutate(genus = ifelse(row.names(.) == \"ASV_23\", \"Cyanobiaceae:core\", genus)) %>%\n",
    "mutate(species = ifelse(row.names(.) == \"ASV_23\", \"Cyanobiaceae:core\", species))"
   ]
  },
  {
   "cell_type": "code",
   "execution_count": 24,
   "id": "adfbfd94-7afb-42b0-baad-f33c4d149e90",
   "metadata": {},
   "outputs": [
    {
     "data": {
      "text/html": [
       "<table class=\"dataframe\">\n",
       "<caption>A data.frame: 4 × 8</caption>\n",
       "<thead>\n",
       "\t<tr><th scope=col>rowname</th><th scope=col>domain</th><th scope=col>phylum</th><th scope=col>class</th><th scope=col>order</th><th scope=col>family</th><th scope=col>genus</th><th scope=col>species</th></tr>\n",
       "\t<tr><th scope=col>&lt;chr&gt;</th><th scope=col>&lt;chr&gt;</th><th scope=col>&lt;chr&gt;</th><th scope=col>&lt;chr&gt;</th><th scope=col>&lt;chr&gt;</th><th scope=col>&lt;chr&gt;</th><th scope=col>&lt;chr&gt;</th><th scope=col>&lt;chr&gt;</th></tr>\n",
       "</thead>\n",
       "<tbody>\n",
       "\t<tr><td>ASV_5 </td><td>ASV_5:core</td><td>ASV_5:core                  </td><td>ASV_5:core    </td><td>ASV_5:core     </td><td>ASV_5:core  </td><td>ASV_5:core       </td><td>ASV_5:core       </td></tr>\n",
       "\t<tr><td>ASV_6 </td><td>ASV_6:core</td><td>ASV_6:core                  </td><td>ASV_6:core    </td><td>ASV_6:core     </td><td>ASV_6:core  </td><td>ASV_6:core       </td><td>ASV_6:core       </td></tr>\n",
       "\t<tr><td>ASV_7 </td><td>Bacteria  </td><td>SAR324 clade(Marine group B)</td><td>SAR324:core   </td><td>SAR324:core    </td><td>SAR324:core </td><td>SAR324:core      </td><td>SAR324:core      </td></tr>\n",
       "\t<tr><td>ASV_23</td><td>Bacteria  </td><td>Cyanobacteria               </td><td>Cyanobacteriia</td><td>Synechococcales</td><td>Cyanobiaceae</td><td>Cyanobiaceae:core</td><td>Cyanobiaceae:core</td></tr>\n",
       "</tbody>\n",
       "</table>\n"
      ],
      "text/latex": [
       "A data.frame: 4 × 8\n",
       "\\begin{tabular}{llllllll}\n",
       " rowname & domain & phylum & class & order & family & genus & species\\\\\n",
       " <chr> & <chr> & <chr> & <chr> & <chr> & <chr> & <chr> & <chr>\\\\\n",
       "\\hline\n",
       "\t ASV\\_5  & ASV\\_5:core & ASV\\_5:core                   & ASV\\_5:core     & ASV\\_5:core      & ASV\\_5:core   & ASV\\_5:core        & ASV\\_5:core       \\\\\n",
       "\t ASV\\_6  & ASV\\_6:core & ASV\\_6:core                   & ASV\\_6:core     & ASV\\_6:core      & ASV\\_6:core   & ASV\\_6:core        & ASV\\_6:core       \\\\\n",
       "\t ASV\\_7  & Bacteria   & SAR324 clade(Marine group B) & SAR324:core    & SAR324:core     & SAR324:core  & SAR324:core       & SAR324:core      \\\\\n",
       "\t ASV\\_23 & Bacteria   & Cyanobacteria                & Cyanobacteriia & Synechococcales & Cyanobiaceae & Cyanobiaceae:core & Cyanobiaceae:core\\\\\n",
       "\\end{tabular}\n"
      ],
      "text/markdown": [
       "\n",
       "A data.frame: 4 × 8\n",
       "\n",
       "| rowname &lt;chr&gt; | domain &lt;chr&gt; | phylum &lt;chr&gt; | class &lt;chr&gt; | order &lt;chr&gt; | family &lt;chr&gt; | genus &lt;chr&gt; | species &lt;chr&gt; |\n",
       "|---|---|---|---|---|---|---|---|\n",
       "| ASV_5  | ASV_5:core | ASV_5:core                   | ASV_5:core     | ASV_5:core      | ASV_5:core   | ASV_5:core        | ASV_5:core        |\n",
       "| ASV_6  | ASV_6:core | ASV_6:core                   | ASV_6:core     | ASV_6:core      | ASV_6:core   | ASV_6:core        | ASV_6:core        |\n",
       "| ASV_7  | Bacteria   | SAR324 clade(Marine group B) | SAR324:core    | SAR324:core     | SAR324:core  | SAR324:core       | SAR324:core       |\n",
       "| ASV_23 | Bacteria   | Cyanobacteria                | Cyanobacteriia | Synechococcales | Cyanobiaceae | Cyanobiaceae:core | Cyanobiaceae:core |\n",
       "\n"
      ],
      "text/plain": [
       "  rowname domain     phylum                       class         \n",
       "1 ASV_5   ASV_5:core ASV_5:core                   ASV_5:core    \n",
       "2 ASV_6   ASV_6:core ASV_6:core                   ASV_6:core    \n",
       "3 ASV_7   Bacteria   SAR324 clade(Marine group B) SAR324:core   \n",
       "4 ASV_23  Bacteria   Cyanobacteria                Cyanobacteriia\n",
       "  order           family       genus             species          \n",
       "1 ASV_5:core      ASV_5:core   ASV_5:core        ASV_5:core       \n",
       "2 ASV_6:core      ASV_6:core   ASV_6:core        ASV_6:core       \n",
       "3 SAR324:core     SAR324:core  SAR324:core       SAR324:core      \n",
       "4 Synechococcales Cyanobiaceae Cyanobiaceae:core Cyanobiaceae:core"
      ]
     },
     "metadata": {},
     "output_type": "display_data"
    }
   ],
   "source": [
    "taxo_mat %>% rownames_to_column %>% filter(rowname %in% c('ASV_5','ASV_6','ASV_7','ASV_23', 'ASV_2'))"
   ]
  },
  {
   "cell_type": "code",
   "execution_count": 25,
   "id": "69ea0eba-0439-46fe-aceb-d29f309378bc",
   "metadata": {},
   "outputs": [
    {
     "data": {
      "text/html": [
       "<style>\n",
       ".list-inline {list-style: none; margin:0; padding: 0}\n",
       ".list-inline>li {display: inline-block}\n",
       ".list-inline>li:not(:last-child)::after {content: \"\\00b7\"; padding: 0 .5ex}\n",
       "</style>\n",
       "<ol class=list-inline><li>27533</li><li>7</li></ol>\n"
      ],
      "text/latex": [
       "\\begin{enumerate*}\n",
       "\\item 27533\n",
       "\\item 7\n",
       "\\end{enumerate*}\n"
      ],
      "text/markdown": [
       "1. 27533\n",
       "2. 7\n",
       "\n",
       "\n"
      ],
      "text/plain": [
       "[1] 27533     7"
      ]
     },
     "metadata": {},
     "output_type": "display_data"
    },
    {
     "data": {
      "text/html": [
       "<table class=\"dataframe\">\n",
       "<caption>A data.frame: 6 × 7</caption>\n",
       "<thead>\n",
       "\t<tr><th></th><th scope=col>domain</th><th scope=col>phylum</th><th scope=col>class</th><th scope=col>order</th><th scope=col>family</th><th scope=col>genus</th><th scope=col>species</th></tr>\n",
       "\t<tr><th></th><th scope=col>&lt;chr&gt;</th><th scope=col>&lt;chr&gt;</th><th scope=col>&lt;chr&gt;</th><th scope=col>&lt;chr&gt;</th><th scope=col>&lt;chr&gt;</th><th scope=col>&lt;chr&gt;</th><th scope=col>&lt;chr&gt;</th></tr>\n",
       "</thead>\n",
       "<tbody>\n",
       "\t<tr><th scope=row>ASV_7337</th><td>Bacteria</td><td>Proteobacteria </td><td>Gammaproteobacteria</td><td>OM182 clade </td><td>NA           </td><td>NA            </td><td>NA</td></tr>\n",
       "\t<tr><th scope=row>ASV_5689</th><td>Bacteria</td><td>Planctomycetota</td><td>Planctomycetes     </td><td>Pirellulales</td><td>Pirellulaceae</td><td>NA            </td><td>NA</td></tr>\n",
       "\t<tr><th scope=row>ASV_13972</th><td>Bacteria</td><td>Planctomycetota</td><td>Planctomycetes     </td><td>NA          </td><td>NA           </td><td>NA            </td><td>NA</td></tr>\n",
       "\t<tr><th scope=row>ASV_6599</th><td>Bacteria</td><td>Planctomycetota</td><td>Planctomycetes     </td><td>Pirellulales</td><td>Pirellulaceae</td><td>Bythopirellula</td><td>NA</td></tr>\n",
       "\t<tr><th scope=row>ASV_4986</th><td>Bacteria</td><td>Proteobacteria </td><td>Gammaproteobacteria</td><td>OM182 clade </td><td>NA           </td><td>NA            </td><td>NA</td></tr>\n",
       "\t<tr><th scope=row>ASV_6448</th><td>Bacteria</td><td>Planctomycetota</td><td>Planctomycetes     </td><td>Pirellulales</td><td>Pirellulaceae</td><td>Rhodopirellula</td><td>NA</td></tr>\n",
       "</tbody>\n",
       "</table>\n"
      ],
      "text/latex": [
       "A data.frame: 6 × 7\n",
       "\\begin{tabular}{r|lllllll}\n",
       "  & domain & phylum & class & order & family & genus & species\\\\\n",
       "  & <chr> & <chr> & <chr> & <chr> & <chr> & <chr> & <chr>\\\\\n",
       "\\hline\n",
       "\tASV\\_7337 & Bacteria & Proteobacteria  & Gammaproteobacteria & OM182 clade  & NA            & NA             & NA\\\\\n",
       "\tASV\\_5689 & Bacteria & Planctomycetota & Planctomycetes      & Pirellulales & Pirellulaceae & NA             & NA\\\\\n",
       "\tASV\\_13972 & Bacteria & Planctomycetota & Planctomycetes      & NA           & NA            & NA             & NA\\\\\n",
       "\tASV\\_6599 & Bacteria & Planctomycetota & Planctomycetes      & Pirellulales & Pirellulaceae & Bythopirellula & NA\\\\\n",
       "\tASV\\_4986 & Bacteria & Proteobacteria  & Gammaproteobacteria & OM182 clade  & NA            & NA             & NA\\\\\n",
       "\tASV\\_6448 & Bacteria & Planctomycetota & Planctomycetes      & Pirellulales & Pirellulaceae & Rhodopirellula & NA\\\\\n",
       "\\end{tabular}\n"
      ],
      "text/markdown": [
       "\n",
       "A data.frame: 6 × 7\n",
       "\n",
       "| <!--/--> | domain &lt;chr&gt; | phylum &lt;chr&gt; | class &lt;chr&gt; | order &lt;chr&gt; | family &lt;chr&gt; | genus &lt;chr&gt; | species &lt;chr&gt; |\n",
       "|---|---|---|---|---|---|---|---|\n",
       "| ASV_7337 | Bacteria | Proteobacteria  | Gammaproteobacteria | OM182 clade  | NA            | NA             | NA |\n",
       "| ASV_5689 | Bacteria | Planctomycetota | Planctomycetes      | Pirellulales | Pirellulaceae | NA             | NA |\n",
       "| ASV_13972 | Bacteria | Planctomycetota | Planctomycetes      | NA           | NA            | NA             | NA |\n",
       "| ASV_6599 | Bacteria | Planctomycetota | Planctomycetes      | Pirellulales | Pirellulaceae | Bythopirellula | NA |\n",
       "| ASV_4986 | Bacteria | Proteobacteria  | Gammaproteobacteria | OM182 clade  | NA            | NA             | NA |\n",
       "| ASV_6448 | Bacteria | Planctomycetota | Planctomycetes      | Pirellulales | Pirellulaceae | Rhodopirellula | NA |\n",
       "\n"
      ],
      "text/plain": [
       "          domain   phylum          class               order       \n",
       "ASV_7337  Bacteria Proteobacteria  Gammaproteobacteria OM182 clade \n",
       "ASV_5689  Bacteria Planctomycetota Planctomycetes      Pirellulales\n",
       "ASV_13972 Bacteria Planctomycetota Planctomycetes      NA          \n",
       "ASV_6599  Bacteria Planctomycetota Planctomycetes      Pirellulales\n",
       "ASV_4986  Bacteria Proteobacteria  Gammaproteobacteria OM182 clade \n",
       "ASV_6448  Bacteria Planctomycetota Planctomycetes      Pirellulales\n",
       "          family        genus          species\n",
       "ASV_7337  NA            NA             NA     \n",
       "ASV_5689  Pirellulaceae NA             NA     \n",
       "ASV_13972 NA            NA             NA     \n",
       "ASV_6599  Pirellulaceae Bythopirellula NA     \n",
       "ASV_4986  NA            NA             NA     \n",
       "ASV_6448  Pirellulaceae Rhodopirellula NA     "
      ]
     },
     "metadata": {},
     "output_type": "display_data"
    }
   ],
   "source": [
    "dim(taxo_mat)\n",
    "head(taxo_mat)"
   ]
  },
  {
   "cell_type": "code",
   "execution_count": 26,
   "id": "782a654e-76b5-4e3d-b2b9-c87809d01b61",
   "metadata": {},
   "outputs": [
    {
     "data": {
      "text/html": [
       "<table class=\"dataframe\">\n",
       "<caption>A data.frame: 0 × 7</caption>\n",
       "<thead>\n",
       "\t<tr><th scope=col>domain</th><th scope=col>phylum</th><th scope=col>class</th><th scope=col>order</th><th scope=col>family</th><th scope=col>genus</th><th scope=col>species</th></tr>\n",
       "\t<tr><th scope=col>&lt;chr&gt;</th><th scope=col>&lt;chr&gt;</th><th scope=col>&lt;chr&gt;</th><th scope=col>&lt;chr&gt;</th><th scope=col>&lt;chr&gt;</th><th scope=col>&lt;chr&gt;</th><th scope=col>&lt;chr&gt;</th></tr>\n",
       "</thead>\n",
       "<tbody>\n",
       "</tbody>\n",
       "</table>\n"
      ],
      "text/latex": [
       "A data.frame: 0 × 7\n",
       "\\begin{tabular}{lllllll}\n",
       " domain & phylum & class & order & family & genus & species\\\\\n",
       " <chr> & <chr> & <chr> & <chr> & <chr> & <chr> & <chr>\\\\\n",
       "\\hline\n",
       "\\end{tabular}\n"
      ],
      "text/markdown": [
       "\n",
       "A data.frame: 0 × 7\n",
       "\n",
       "| domain &lt;chr&gt; | phylum &lt;chr&gt; | class &lt;chr&gt; | order &lt;chr&gt; | family &lt;chr&gt; | genus &lt;chr&gt; | species &lt;chr&gt; |\n",
       "|---|---|---|---|---|---|---|\n",
       "\n"
      ],
      "text/plain": [
       "     domain phylum class order family genus species"
      ]
     },
     "metadata": {},
     "output_type": "display_data"
    }
   ],
   "source": [
    "taxo_mat %>% filter(species==\"NA\")"
   ]
  },
  {
   "cell_type": "code",
   "execution_count": 27,
   "id": "3620bea5-1a1f-4828-b58b-f4fa5f46f780",
   "metadata": {},
   "outputs": [
    {
     "data": {
      "text/html": [
       "<style>\n",
       ".dl-inline {width: auto; margin:0; padding: 0}\n",
       ".dl-inline>dt, .dl-inline>dd {float: none; width: auto; display: inline-block}\n",
       ".dl-inline>dt::after {content: \":\\0020\"; padding-right: .5ex}\n",
       ".dl-inline>dt:not(:first-of-type) {padding-left: .5ex}\n",
       "</style><dl class=dl-inline><dt>domain</dt><dd>6406</dd><dt>phylum</dt><dd>9290</dd><dt>class</dt><dd>10067</dd><dt>order</dt><dd>14465</dd><dt>family</dt><dd>16305</dd><dt>genus</dt><dd>20863</dd><dt>species</dt><dd>27529</dd></dl>\n"
      ],
      "text/latex": [
       "\\begin{description*}\n",
       "\\item[domain] 6406\n",
       "\\item[phylum] 9290\n",
       "\\item[class] 10067\n",
       "\\item[order] 14465\n",
       "\\item[family] 16305\n",
       "\\item[genus] 20863\n",
       "\\item[species] 27529\n",
       "\\end{description*}\n"
      ],
      "text/markdown": [
       "domain\n",
       ":   6406phylum\n",
       ":   9290class\n",
       ":   10067order\n",
       ":   14465family\n",
       ":   16305genus\n",
       ":   20863species\n",
       ":   27529\n",
       "\n"
      ],
      "text/plain": [
       " domain  phylum   class   order  family   genus species \n",
       "   6406    9290   10067   14465   16305   20863   27529 "
      ]
     },
     "metadata": {},
     "output_type": "display_data"
    }
   ],
   "source": [
    "sapply(taxo_mat, function(x) sum(is.na(x)))"
   ]
  },
  {
   "cell_type": "code",
   "execution_count": 28,
   "id": "1f13cd78-8231-477a-b5ff-651e6121cd18",
   "metadata": {},
   "outputs": [
    {
     "data": {
      "text/plain": [
       "phyloseq-class experiment-level object\n",
       "otu_table()   OTU Table:         [ 27533 taxa and 363 samples ]\n",
       "sample_data() Sample Data:       [ 363 samples by 54 sample variables ]\n",
       "tax_table()   Taxonomy Table:    [ 27533 taxa by 7 taxonomic ranks ]"
      ]
     },
     "metadata": {},
     "output_type": "display_data"
    }
   ],
   "source": [
    "\n",
    "meta = read.csv (\"/Users/stephanie.rosales/Documents/omics_projects/POR_16S/CoralPersistence/metadata/POR_combo_meta.csv\",\n",
    "row.names=1, header = T)%>%\n",
    "  mutate(\n",
    "    Month = factor(Month, levels = month.name)\n",
    "  ) %>%\n",
    "  arrange(Month) %>%\n",
    "arrange(collection_date)\n",
    "\n",
    "ASV <- otu_table(as.matrix(POR_counts_4_analysis), \n",
    "                 taxa_are_rows = T)\n",
    "TAX <- tax_table(as.matrix(taxo_mat))\n",
    "SAMP <- sample_data(meta)\n",
    "\n",
    "ps <- phyloseq(ASV, TAX, SAMP)\n",
    "ps"
   ]
  },
  {
   "cell_type": "code",
   "execution_count": 29,
   "id": "cee10858-5a0f-4d12-9bb0-17751f98cb3b",
   "metadata": {},
   "outputs": [
    {
     "data": {
      "text/plain": [
       "phyloseq-class experiment-level object\n",
       "otu_table()   OTU Table:         [ 27486 taxa and 363 samples ]\n",
       "sample_data() Sample Data:       [ 363 samples by 54 sample variables ]\n",
       "tax_table()   Taxonomy Table:    [ 27486 taxa by 7 taxonomic ranks ]"
      ]
     },
     "metadata": {},
     "output_type": "display_data"
    }
   ],
   "source": [
    "euk_asvs <- c(\"ASV_10673\",\"ASV_10883\",\t\"ASV_11806\",\"ASV_12333\",\t\"ASV_12335\",\t\"ASV_13587\",\t\"ASV_14757\",\t\"ASV_15238\",\t\"ASV_15259\",\t\"ASV_16364\",\t\"ASV_16936\",\t\"ASV_17406\",\t\"ASV_18096\",\t\"ASV_18375\",\t\"ASV_18682\",\t\"ASV_19529\",\t\"ASV_19795\",\t\"ASV_19953\",\t\"ASV_2\",\t\"ASV_20640\",\t\"ASV_2100\",\t\"ASV_22284\",\t\"ASV_22692\",\t\"ASV_23038\",\t\"ASV_23144\",\t\"ASV_24135\",\t\"ASV_24243\",\t\"ASV_27014\",\t\"ASV_29665\",\t\"ASV_30547\",\t\"ASV_30626\",\t\"ASV_30884\",\t\"ASV_4161\",\t\"ASV_4498\",\t\"ASV_476\",\t\"ASV_4797\",\t\"ASV_4966\",\t\"ASV_5018\",\t\"ASV_5118\",\t\"ASV_5154\",\t\"ASV_6282\",\t\"ASV_653\",\t\"ASV_6843\",\t\"ASV_7264\",\t\"ASV_7427\",\t\"ASV_8\",\t\"ASV_9248\",\t\"ASV_9692\")\n",
    "allTaxa = taxa_names(ps)\n",
    "allTaxa <- allTaxa[!(allTaxa %in% euk_asvs)]\n",
    "ps_fill_euk = prune_taxa(allTaxa, ps)\n",
    "# new phyloseq object with just the taxa you kept.\n",
    "ps_fill_euk"
   ]
  },
  {
   "cell_type": "code",
   "execution_count": 41,
   "id": "d27148b9-df89-402f-aaa9-aab04a4a1238",
   "metadata": {},
   "outputs": [
    {
     "data": {
      "text/plain": [
       "phyloseq-class experiment-level object\n",
       "otu_table()   OTU Table:         [ 375 taxa and 363 samples ]\n",
       "sample_data() Sample Data:       [ 363 samples by 54 sample variables ]\n",
       "tax_table()   Taxonomy Table:    [ 375 taxa by 7 taxonomic ranks ]"
      ]
     },
     "metadata": {},
     "output_type": "display_data"
    }
   ],
   "source": [
    "ps_fill = filter_taxa(ps_fill_euk, function(x) sum(x > 5) > (0.1*length(x)), TRUE)\n",
    "ps_fill"
   ]
  },
  {
   "cell_type": "code",
   "execution_count": 42,
   "id": "ba76884e-424a-4979-9573-72b3f84794b3",
   "metadata": {},
   "outputs": [
    {
     "data": {
      "text/html": [
       "<style>\n",
       ".list-inline {list-style: none; margin:0; padding: 0}\n",
       ".list-inline>li {display: inline-block}\n",
       ".list-inline>li:not(:last-child)::after {content: \"\\00b7\"; padding: 0 .5ex}\n",
       "</style>\n",
       "<ol class=list-inline><li>'ASV_5'</li><li>'ASV_6'</li><li>'ASV_7'</li><li>'ASV_23'</li></ol>\n"
      ],
      "text/latex": [
       "\\begin{enumerate*}\n",
       "\\item 'ASV\\_5'\n",
       "\\item 'ASV\\_6'\n",
       "\\item 'ASV\\_7'\n",
       "\\item 'ASV\\_23'\n",
       "\\end{enumerate*}\n"
      ],
      "text/markdown": [
       "1. 'ASV_5'\n",
       "2. 'ASV_6'\n",
       "3. 'ASV_7'\n",
       "4. 'ASV_23'\n",
       "\n",
       "\n"
      ],
      "text/plain": [
       "[1] \"ASV_5\"  \"ASV_6\"  \"ASV_7\"  \"ASV_23\""
      ]
     },
     "metadata": {},
     "output_type": "display_data"
    }
   ],
   "source": [
    "core_members(ps_fill, detection = 0, prevalence = 99/100)"
   ]
  },
  {
   "cell_type": "code",
   "execution_count": 33,
   "id": "6bf52c00-01ae-4ac8-8d0c-495622c75c46",
   "metadata": {},
   "outputs": [
    {
     "data": {
      "text/html": [
       "<table class=\"dataframe\">\n",
       "<caption>A data.frame: 4 × 8</caption>\n",
       "<thead>\n",
       "\t<tr><th scope=col>rowname</th><th scope=col>domain</th><th scope=col>phylum</th><th scope=col>class</th><th scope=col>order</th><th scope=col>family</th><th scope=col>genus</th><th scope=col>species</th></tr>\n",
       "\t<tr><th scope=col>&lt;chr&gt;</th><th scope=col>&lt;chr&gt;</th><th scope=col>&lt;chr&gt;</th><th scope=col>&lt;chr&gt;</th><th scope=col>&lt;chr&gt;</th><th scope=col>&lt;chr&gt;</th><th scope=col>&lt;chr&gt;</th><th scope=col>&lt;chr&gt;</th></tr>\n",
       "</thead>\n",
       "<tbody>\n",
       "\t<tr><td>ASV_5 </td><td>ASV_5:core</td><td>ASV_5:core                  </td><td>ASV_5:core    </td><td>ASV_5:core     </td><td>ASV_5:core  </td><td>ASV_5:core       </td><td>ASV_5:core       </td></tr>\n",
       "\t<tr><td>ASV_6 </td><td>ASV_6:core</td><td>ASV_6:core                  </td><td>ASV_6:core    </td><td>ASV_6:core     </td><td>ASV_6:core  </td><td>ASV_6:core       </td><td>ASV_6:core       </td></tr>\n",
       "\t<tr><td>ASV_7 </td><td>Bacteria  </td><td>SAR324 clade(Marine group B)</td><td>SAR324:core   </td><td>SAR324:core    </td><td>SAR324:core </td><td>SAR324:core      </td><td>SAR324:core      </td></tr>\n",
       "\t<tr><td>ASV_23</td><td>Bacteria  </td><td>Cyanobacteria               </td><td>Cyanobacteriia</td><td>Synechococcales</td><td>Cyanobiaceae</td><td>Cyanobiaceae:core</td><td>Cyanobiaceae:core</td></tr>\n",
       "</tbody>\n",
       "</table>\n"
      ],
      "text/latex": [
       "A data.frame: 4 × 8\n",
       "\\begin{tabular}{llllllll}\n",
       " rowname & domain & phylum & class & order & family & genus & species\\\\\n",
       " <chr> & <chr> & <chr> & <chr> & <chr> & <chr> & <chr> & <chr>\\\\\n",
       "\\hline\n",
       "\t ASV\\_5  & ASV\\_5:core & ASV\\_5:core                   & ASV\\_5:core     & ASV\\_5:core      & ASV\\_5:core   & ASV\\_5:core        & ASV\\_5:core       \\\\\n",
       "\t ASV\\_6  & ASV\\_6:core & ASV\\_6:core                   & ASV\\_6:core     & ASV\\_6:core      & ASV\\_6:core   & ASV\\_6:core        & ASV\\_6:core       \\\\\n",
       "\t ASV\\_7  & Bacteria   & SAR324 clade(Marine group B) & SAR324:core    & SAR324:core     & SAR324:core  & SAR324:core       & SAR324:core      \\\\\n",
       "\t ASV\\_23 & Bacteria   & Cyanobacteria                & Cyanobacteriia & Synechococcales & Cyanobiaceae & Cyanobiaceae:core & Cyanobiaceae:core\\\\\n",
       "\\end{tabular}\n"
      ],
      "text/markdown": [
       "\n",
       "A data.frame: 4 × 8\n",
       "\n",
       "| rowname &lt;chr&gt; | domain &lt;chr&gt; | phylum &lt;chr&gt; | class &lt;chr&gt; | order &lt;chr&gt; | family &lt;chr&gt; | genus &lt;chr&gt; | species &lt;chr&gt; |\n",
       "|---|---|---|---|---|---|---|---|\n",
       "| ASV_5  | ASV_5:core | ASV_5:core                   | ASV_5:core     | ASV_5:core      | ASV_5:core   | ASV_5:core        | ASV_5:core        |\n",
       "| ASV_6  | ASV_6:core | ASV_6:core                   | ASV_6:core     | ASV_6:core      | ASV_6:core   | ASV_6:core        | ASV_6:core        |\n",
       "| ASV_7  | Bacteria   | SAR324 clade(Marine group B) | SAR324:core    | SAR324:core     | SAR324:core  | SAR324:core       | SAR324:core       |\n",
       "| ASV_23 | Bacteria   | Cyanobacteria                | Cyanobacteriia | Synechococcales | Cyanobiaceae | Cyanobiaceae:core | Cyanobiaceae:core |\n",
       "\n"
      ],
      "text/plain": [
       "  rowname domain     phylum                       class         \n",
       "1 ASV_5   ASV_5:core ASV_5:core                   ASV_5:core    \n",
       "2 ASV_6   ASV_6:core ASV_6:core                   ASV_6:core    \n",
       "3 ASV_7   Bacteria   SAR324 clade(Marine group B) SAR324:core   \n",
       "4 ASV_23  Bacteria   Cyanobacteria                Cyanobacteriia\n",
       "  order           family       genus             species          \n",
       "1 ASV_5:core      ASV_5:core   ASV_5:core        ASV_5:core       \n",
       "2 ASV_6:core      ASV_6:core   ASV_6:core        ASV_6:core       \n",
       "3 SAR324:core     SAR324:core  SAR324:core       SAR324:core      \n",
       "4 Synechococcales Cyanobiaceae Cyanobiaceae:core Cyanobiaceae:core"
      ]
     },
     "metadata": {},
     "output_type": "display_data"
    }
   ],
   "source": [
    "modified_table <- tax_table(ps_fill) %>%\n",
    "  as.data.frame %>%\n",
    "  mutate(domain = ifelse(row.names(.) == \"ASV_5\", \"ASV_5:core\", domain)) %>%\n",
    "  mutate(phylum = ifelse(row.names(.) == \"ASV_5\", \"ASV_5:core\", phylum)) %>%\n",
    "  mutate(class = ifelse(row.names(.) == \"ASV_5\", \"ASV_5:core\", class)) %>%\n",
    "   mutate(order = ifelse(row.names(.) == \"ASV_5\", \"ASV_5:core\", order)) %>%\n",
    "  mutate(family = ifelse(row.names(.) == \"ASV_5\", \"ASV_5:core\", family)) %>%\n",
    "mutate(genus = ifelse(row.names(.) == \"ASV_5\", \"ASV_5:core\", genus)) %>%\n",
    "mutate(species = ifelse(row.names(.) == \"ASV_5\", \"ASV_5:core\", species)) %>%\n",
    " mutate(domain = ifelse(row.names(.) == \"ASV_6\", \"ASV_6:core\", domain)) %>%\n",
    "  mutate(phylum = ifelse(row.names(.) == \"ASV_6\", \"ASV_6:core\", phylum)) %>%\n",
    "  mutate(class = ifelse(row.names(.) == \"ASV_6\", \"ASV_6:core\", class)) %>%\n",
    "   mutate(order = ifelse(row.names(.) == \"ASV_6\", \"ASV_6:core\", order)) %>%\n",
    "  mutate(family = ifelse(row.names(.) == \"ASV_6\", \"ASV_6:core\", family)) %>%\n",
    "mutate(genus = ifelse(row.names(.) == \"ASV_6\", \"ASV_6:core\", genus)) %>%\n",
    "mutate(species = ifelse(row.names(.) == \"ASV_6\", \"ASV_6:core\", species)) %>%\n",
    "mutate(class = ifelse(row.names(.) == \"ASV_7\", \"SAR324:core\", class)) %>%\n",
    "   mutate(order = ifelse(row.names(.) == \"ASV_7\", \"SAR324:core\", order)) %>%\n",
    "  mutate(family = ifelse(row.names(.) == \"ASV_7\", \"SAR324:core\", family)) %>%\n",
    "mutate(genus = ifelse(row.names(.) == \"ASV_7\", \"SAR324:core\", genus)) %>%\n",
    "mutate(species = ifelse(row.names(.) == \"ASV_7\", \"SAR324:core\", species)) %>%\n",
    "mutate(genus = ifelse(row.names(.) == \"ASV_23\", \"Cyanobiaceae:core\", genus)) %>%\n",
    "mutate(species = ifelse(row.names(.) == \"ASV_23\", \"Cyanobiaceae:core\", species)) \n",
    "# Print or further process the modified_table as needed\n",
    "modified_table %>% rownames_to_column %>% filter(rowname %in% c('ASV_5','ASV_6','ASV_7','ASV_23', 'ASV_2'))"
   ]
  },
  {
   "cell_type": "code",
   "execution_count": 34,
   "id": "6549f707-9889-468e-a91c-780bfdb8ab9a",
   "metadata": {},
   "outputs": [
    {
     "data": {
      "text/plain": [
       "phyloseq-class experiment-level object\n",
       "otu_table()   OTU Table:         [ 375 taxa and 79 samples ]\n",
       "sample_data() Sample Data:       [ 79 samples by 54 sample variables ]\n",
       "tax_table()   Taxonomy Table:    [ 375 taxa by 7 taxonomic ranks ]"
      ]
     },
     "metadata": {},
     "output_type": "display_data"
    },
    {
     "data": {
      "text/plain": [
       "phyloseq-class experiment-level object\n",
       "otu_table()   OTU Table:         [ 375 taxa and 107 samples ]\n",
       "sample_data() Sample Data:       [ 107 samples by 54 sample variables ]\n",
       "tax_table()   Taxonomy Table:    [ 375 taxa by 7 taxonomic ranks ]"
      ]
     },
     "metadata": {},
     "output_type": "display_data"
    },
    {
     "data": {
      "text/plain": [
       "phyloseq-class experiment-level object\n",
       "otu_table()   OTU Table:         [ 375 taxa and 102 samples ]\n",
       "sample_data() Sample Data:       [ 102 samples by 54 sample variables ]\n",
       "tax_table()   Taxonomy Table:    [ 375 taxa by 7 taxonomic ranks ]"
      ]
     },
     "metadata": {},
     "output_type": "display_data"
    },
    {
     "data": {
      "text/plain": [
       "phyloseq-class experiment-level object\n",
       "otu_table()   OTU Table:         [ 375 taxa and 75 samples ]\n",
       "sample_data() Sample Data:       [ 75 samples by 54 sample variables ]\n",
       "tax_table()   Taxonomy Table:    [ 375 taxa by 7 taxonomic ranks ]"
      ]
     },
     "metadata": {},
     "output_type": "display_data"
    }
   ],
   "source": [
    "cn4= subset_samples(ps_fill, Genotype==\"CN4\")\n",
    "cn4\n",
    "\n",
    "cn2= subset_samples(ps_fill, Genotype==\"CN2\")\n",
    "cn2\n",
    "\n",
    "HS1= subset_samples(ps_fill, Genotype==\"HS1\")\n",
    "HS1\n",
    "\n",
    "ML2= subset_samples(ps_fill, Genotype==\"ML2\")\n",
    "ML2"
   ]
  },
  {
   "cell_type": "code",
   "execution_count": 212,
   "id": "315cfd2b-8716-47d2-a1a6-89402442236a",
   "metadata": {},
   "outputs": [
    {
     "data": {
      "text/html": [
       "<table class=\"dataframe\">\n",
       "<caption>A data.frame: 20 × 8</caption>\n",
       "<thead>\n",
       "\t<tr><th scope=col>rowname</th><th scope=col>domain</th><th scope=col>phylum</th><th scope=col>class</th><th scope=col>order</th><th scope=col>family</th><th scope=col>genus</th><th scope=col>species</th></tr>\n",
       "\t<tr><th scope=col>&lt;chr&gt;</th><th scope=col>&lt;chr&gt;</th><th scope=col>&lt;chr&gt;</th><th scope=col>&lt;chr&gt;</th><th scope=col>&lt;chr&gt;</th><th scope=col>&lt;chr&gt;</th><th scope=col>&lt;chr&gt;</th><th scope=col>&lt;chr&gt;</th></tr>\n",
       "</thead>\n",
       "<tbody>\n",
       "\t<tr><td>ASV_69 </td><td>Bacteria  </td><td>Proteobacteria              </td><td>Alphaproteobacteria</td><td>Sphingomonadales  </td><td>Sphingomonadaceae</td><td>Sphingomonas               </td><td>NA               </td></tr>\n",
       "\t<tr><td>ASV_3  </td><td>Bacteria  </td><td>Spirochaetota               </td><td>Spirochaetia       </td><td>Spirochaetales    </td><td>Spirochaetaceae  </td><td>Spirochaeta 2              </td><td>NA               </td></tr>\n",
       "\t<tr><td>ASV_5  </td><td>ASV_5:core</td><td>ASV_5:core                  </td><td>ASV_5:core         </td><td>ASV_5:core        </td><td>ASV_5:core       </td><td>ASV_5:core                 </td><td>ASV_5:core       </td></tr>\n",
       "\t<tr><td>ASV_6  </td><td>ASV_6:core</td><td>ASV_6:core                  </td><td>ASV_6:core         </td><td>ASV_6:core        </td><td>ASV_6:core       </td><td>ASV_6:core                 </td><td>ASV_6:core       </td></tr>\n",
       "\t<tr><td>ASV_7  </td><td>Bacteria  </td><td>SAR324 clade(Marine group B)</td><td>SAR324:core        </td><td>SAR324:core       </td><td>SAR324:core      </td><td>SAR324:core                </td><td>SAR324:core      </td></tr>\n",
       "\t<tr><td>ASV_9  </td><td>Bacteria  </td><td>Myxococcota                 </td><td>Myxococcia         </td><td>Myxococcales      </td><td>Myxococcaceae    </td><td>P3OB-42                    </td><td>NA               </td></tr>\n",
       "\t<tr><td>ASV_10 </td><td>NA        </td><td>NA                          </td><td>NA                 </td><td>NA                </td><td>NA               </td><td>NA                         </td><td>NA               </td></tr>\n",
       "\t<tr><td>ASV_14 </td><td>Bacteria  </td><td>Proteobacteria              </td><td>Gammaproteobacteria</td><td>Vibrionales       </td><td>Vibrionaceae     </td><td>NA                         </td><td>NA               </td></tr>\n",
       "\t<tr><td>ASV_23 </td><td>Bacteria  </td><td>Cyanobacteria               </td><td>Cyanobacteriia     </td><td>Synechococcales   </td><td>Cyanobiaceae     </td><td>Cyanobiaceae:core          </td><td>Cyanobiaceae:core</td></tr>\n",
       "\t<tr><td>ASV_32 </td><td>Bacteria  </td><td>Cyanobacteria               </td><td>Cyanobacteriia     </td><td>Synechococcales   </td><td>Cyanobiaceae     </td><td>Prochlorococcus MIT9313    </td><td>NA               </td></tr>\n",
       "\t<tr><td>ASV_46 </td><td>Bacteria  </td><td>Cyanobacteria               </td><td>Cyanobacteriia     </td><td>Synechococcales   </td><td>Cyanobiaceae     </td><td>Synechococcus CC9902       </td><td>NA               </td></tr>\n",
       "\t<tr><td>ASV_50 </td><td>Bacteria  </td><td>Proteobacteria              </td><td>Alphaproteobacteria</td><td>SAR11 clade       </td><td>Clade I          </td><td>Clade Ia                   </td><td>NA               </td></tr>\n",
       "\t<tr><td>ASV_54 </td><td>Bacteria  </td><td>Actinobacteriota            </td><td>Actinobacteria     </td><td>Micrococcales     </td><td>Micrococcaceae   </td><td>NA                         </td><td>NA               </td></tr>\n",
       "\t<tr><td>ASV_56 </td><td>Bacteria  </td><td>Proteobacteria              </td><td>Alphaproteobacteria</td><td>SAR11 clade       </td><td>Clade I          </td><td>Clade Ia                   </td><td>NA               </td></tr>\n",
       "\t<tr><td>ASV_62 </td><td>Bacteria  </td><td>Actinobacteriota            </td><td>Acidimicrobiia     </td><td>Actinomarinales   </td><td>Actinomarinaceae </td><td>Candidatus Actinomarina    </td><td>NA               </td></tr>\n",
       "\t<tr><td>ASV_65 </td><td>Bacteria  </td><td>Proteobacteria              </td><td>Alphaproteobacteria</td><td>Puniceispirillales</td><td>SAR116 clade     </td><td>Candidatus Puniceispirillum</td><td>NA               </td></tr>\n",
       "\t<tr><td>ASV_82 </td><td>Bacteria  </td><td>Proteobacteria              </td><td>Alphaproteobacteria</td><td>SAR11 clade       </td><td>Clade II         </td><td>NA                         </td><td>NA               </td></tr>\n",
       "\t<tr><td>ASV_85 </td><td>Bacteria  </td><td>Firmicutes                  </td><td>Bacilli            </td><td>Staphylococcales  </td><td>Staphylococcaceae</td><td>Staphylococcus             </td><td>NA               </td></tr>\n",
       "\t<tr><td>ASV_95 </td><td>Bacteria  </td><td>Proteobacteria              </td><td>Alphaproteobacteria</td><td>SAR11 clade       </td><td>Clade I          </td><td>NA                         </td><td>NA               </td></tr>\n",
       "\t<tr><td>ASV_110</td><td>NA        </td><td>NA                          </td><td>NA                 </td><td>NA                </td><td>NA               </td><td>NA                         </td><td>NA               </td></tr>\n",
       "</tbody>\n",
       "</table>\n"
      ],
      "text/latex": [
       "A data.frame: 20 × 8\n",
       "\\begin{tabular}{llllllll}\n",
       " rowname & domain & phylum & class & order & family & genus & species\\\\\n",
       " <chr> & <chr> & <chr> & <chr> & <chr> & <chr> & <chr> & <chr>\\\\\n",
       "\\hline\n",
       "\t ASV\\_69  & Bacteria   & Proteobacteria               & Alphaproteobacteria & Sphingomonadales   & Sphingomonadaceae & Sphingomonas                & NA               \\\\\n",
       "\t ASV\\_3   & Bacteria   & Spirochaetota                & Spirochaetia        & Spirochaetales     & Spirochaetaceae   & Spirochaeta 2               & NA               \\\\\n",
       "\t ASV\\_5   & ASV\\_5:core & ASV\\_5:core                   & ASV\\_5:core          & ASV\\_5:core         & ASV\\_5:core        & ASV\\_5:core                  & ASV\\_5:core       \\\\\n",
       "\t ASV\\_6   & ASV\\_6:core & ASV\\_6:core                   & ASV\\_6:core          & ASV\\_6:core         & ASV\\_6:core        & ASV\\_6:core                  & ASV\\_6:core       \\\\\n",
       "\t ASV\\_7   & Bacteria   & SAR324 clade(Marine group B) & SAR324:core         & SAR324:core        & SAR324:core       & SAR324:core                 & SAR324:core      \\\\\n",
       "\t ASV\\_9   & Bacteria   & Myxococcota                  & Myxococcia          & Myxococcales       & Myxococcaceae     & P3OB-42                     & NA               \\\\\n",
       "\t ASV\\_10  & NA         & NA                           & NA                  & NA                 & NA                & NA                          & NA               \\\\\n",
       "\t ASV\\_14  & Bacteria   & Proteobacteria               & Gammaproteobacteria & Vibrionales        & Vibrionaceae      & NA                          & NA               \\\\\n",
       "\t ASV\\_23  & Bacteria   & Cyanobacteria                & Cyanobacteriia      & Synechococcales    & Cyanobiaceae      & Cyanobiaceae:core           & Cyanobiaceae:core\\\\\n",
       "\t ASV\\_32  & Bacteria   & Cyanobacteria                & Cyanobacteriia      & Synechococcales    & Cyanobiaceae      & Prochlorococcus MIT9313     & NA               \\\\\n",
       "\t ASV\\_46  & Bacteria   & Cyanobacteria                & Cyanobacteriia      & Synechococcales    & Cyanobiaceae      & Synechococcus CC9902        & NA               \\\\\n",
       "\t ASV\\_50  & Bacteria   & Proteobacteria               & Alphaproteobacteria & SAR11 clade        & Clade I           & Clade Ia                    & NA               \\\\\n",
       "\t ASV\\_54  & Bacteria   & Actinobacteriota             & Actinobacteria      & Micrococcales      & Micrococcaceae    & NA                          & NA               \\\\\n",
       "\t ASV\\_56  & Bacteria   & Proteobacteria               & Alphaproteobacteria & SAR11 clade        & Clade I           & Clade Ia                    & NA               \\\\\n",
       "\t ASV\\_62  & Bacteria   & Actinobacteriota             & Acidimicrobiia      & Actinomarinales    & Actinomarinaceae  & Candidatus Actinomarina     & NA               \\\\\n",
       "\t ASV\\_65  & Bacteria   & Proteobacteria               & Alphaproteobacteria & Puniceispirillales & SAR116 clade      & Candidatus Puniceispirillum & NA               \\\\\n",
       "\t ASV\\_82  & Bacteria   & Proteobacteria               & Alphaproteobacteria & SAR11 clade        & Clade II          & NA                          & NA               \\\\\n",
       "\t ASV\\_85  & Bacteria   & Firmicutes                   & Bacilli             & Staphylococcales   & Staphylococcaceae & Staphylococcus              & NA               \\\\\n",
       "\t ASV\\_95  & Bacteria   & Proteobacteria               & Alphaproteobacteria & SAR11 clade        & Clade I           & NA                          & NA               \\\\\n",
       "\t ASV\\_110 & NA         & NA                           & NA                  & NA                 & NA                & NA                          & NA               \\\\\n",
       "\\end{tabular}\n"
      ],
      "text/markdown": [
       "\n",
       "A data.frame: 20 × 8\n",
       "\n",
       "| rowname &lt;chr&gt; | domain &lt;chr&gt; | phylum &lt;chr&gt; | class &lt;chr&gt; | order &lt;chr&gt; | family &lt;chr&gt; | genus &lt;chr&gt; | species &lt;chr&gt; |\n",
       "|---|---|---|---|---|---|---|---|\n",
       "| ASV_69  | Bacteria   | Proteobacteria               | Alphaproteobacteria | Sphingomonadales   | Sphingomonadaceae | Sphingomonas                | NA                |\n",
       "| ASV_3   | Bacteria   | Spirochaetota                | Spirochaetia        | Spirochaetales     | Spirochaetaceae   | Spirochaeta 2               | NA                |\n",
       "| ASV_5   | ASV_5:core | ASV_5:core                   | ASV_5:core          | ASV_5:core         | ASV_5:core        | ASV_5:core                  | ASV_5:core        |\n",
       "| ASV_6   | ASV_6:core | ASV_6:core                   | ASV_6:core          | ASV_6:core         | ASV_6:core        | ASV_6:core                  | ASV_6:core        |\n",
       "| ASV_7   | Bacteria   | SAR324 clade(Marine group B) | SAR324:core         | SAR324:core        | SAR324:core       | SAR324:core                 | SAR324:core       |\n",
       "| ASV_9   | Bacteria   | Myxococcota                  | Myxococcia          | Myxococcales       | Myxococcaceae     | P3OB-42                     | NA                |\n",
       "| ASV_10  | NA         | NA                           | NA                  | NA                 | NA                | NA                          | NA                |\n",
       "| ASV_14  | Bacteria   | Proteobacteria               | Gammaproteobacteria | Vibrionales        | Vibrionaceae      | NA                          | NA                |\n",
       "| ASV_23  | Bacteria   | Cyanobacteria                | Cyanobacteriia      | Synechococcales    | Cyanobiaceae      | Cyanobiaceae:core           | Cyanobiaceae:core |\n",
       "| ASV_32  | Bacteria   | Cyanobacteria                | Cyanobacteriia      | Synechococcales    | Cyanobiaceae      | Prochlorococcus MIT9313     | NA                |\n",
       "| ASV_46  | Bacteria   | Cyanobacteria                | Cyanobacteriia      | Synechococcales    | Cyanobiaceae      | Synechococcus CC9902        | NA                |\n",
       "| ASV_50  | Bacteria   | Proteobacteria               | Alphaproteobacteria | SAR11 clade        | Clade I           | Clade Ia                    | NA                |\n",
       "| ASV_54  | Bacteria   | Actinobacteriota             | Actinobacteria      | Micrococcales      | Micrococcaceae    | NA                          | NA                |\n",
       "| ASV_56  | Bacteria   | Proteobacteria               | Alphaproteobacteria | SAR11 clade        | Clade I           | Clade Ia                    | NA                |\n",
       "| ASV_62  | Bacteria   | Actinobacteriota             | Acidimicrobiia      | Actinomarinales    | Actinomarinaceae  | Candidatus Actinomarina     | NA                |\n",
       "| ASV_65  | Bacteria   | Proteobacteria               | Alphaproteobacteria | Puniceispirillales | SAR116 clade      | Candidatus Puniceispirillum | NA                |\n",
       "| ASV_82  | Bacteria   | Proteobacteria               | Alphaproteobacteria | SAR11 clade        | Clade II          | NA                          | NA                |\n",
       "| ASV_85  | Bacteria   | Firmicutes                   | Bacilli             | Staphylococcales   | Staphylococcaceae | Staphylococcus              | NA                |\n",
       "| ASV_95  | Bacteria   | Proteobacteria               | Alphaproteobacteria | SAR11 clade        | Clade I           | NA                          | NA                |\n",
       "| ASV_110 | NA         | NA                           | NA                  | NA                 | NA                | NA                          | NA                |\n",
       "\n"
      ],
      "text/plain": [
       "   rowname domain     phylum                       class              \n",
       "1  ASV_69  Bacteria   Proteobacteria               Alphaproteobacteria\n",
       "2  ASV_3   Bacteria   Spirochaetota                Spirochaetia       \n",
       "3  ASV_5   ASV_5:core ASV_5:core                   ASV_5:core         \n",
       "4  ASV_6   ASV_6:core ASV_6:core                   ASV_6:core         \n",
       "5  ASV_7   Bacteria   SAR324 clade(Marine group B) SAR324:core        \n",
       "6  ASV_9   Bacteria   Myxococcota                  Myxococcia         \n",
       "7  ASV_10  NA         NA                           NA                 \n",
       "8  ASV_14  Bacteria   Proteobacteria               Gammaproteobacteria\n",
       "9  ASV_23  Bacteria   Cyanobacteria                Cyanobacteriia     \n",
       "10 ASV_32  Bacteria   Cyanobacteria                Cyanobacteriia     \n",
       "11 ASV_46  Bacteria   Cyanobacteria                Cyanobacteriia     \n",
       "12 ASV_50  Bacteria   Proteobacteria               Alphaproteobacteria\n",
       "13 ASV_54  Bacteria   Actinobacteriota             Actinobacteria     \n",
       "14 ASV_56  Bacteria   Proteobacteria               Alphaproteobacteria\n",
       "15 ASV_62  Bacteria   Actinobacteriota             Acidimicrobiia     \n",
       "16 ASV_65  Bacteria   Proteobacteria               Alphaproteobacteria\n",
       "17 ASV_82  Bacteria   Proteobacteria               Alphaproteobacteria\n",
       "18 ASV_85  Bacteria   Firmicutes                   Bacilli            \n",
       "19 ASV_95  Bacteria   Proteobacteria               Alphaproteobacteria\n",
       "20 ASV_110 NA         NA                           NA                 \n",
       "   order              family            genus                      \n",
       "1  Sphingomonadales   Sphingomonadaceae Sphingomonas               \n",
       "2  Spirochaetales     Spirochaetaceae   Spirochaeta 2              \n",
       "3  ASV_5:core         ASV_5:core        ASV_5:core                 \n",
       "4  ASV_6:core         ASV_6:core        ASV_6:core                 \n",
       "5  SAR324:core        SAR324:core       SAR324:core                \n",
       "6  Myxococcales       Myxococcaceae     P3OB-42                    \n",
       "7  NA                 NA                NA                         \n",
       "8  Vibrionales        Vibrionaceae      NA                         \n",
       "9  Synechococcales    Cyanobiaceae      Cyanobiaceae:core          \n",
       "10 Synechococcales    Cyanobiaceae      Prochlorococcus MIT9313    \n",
       "11 Synechococcales    Cyanobiaceae      Synechococcus CC9902       \n",
       "12 SAR11 clade        Clade I           Clade Ia                   \n",
       "13 Micrococcales      Micrococcaceae    NA                         \n",
       "14 SAR11 clade        Clade I           Clade Ia                   \n",
       "15 Actinomarinales    Actinomarinaceae  Candidatus Actinomarina    \n",
       "16 Puniceispirillales SAR116 clade      Candidatus Puniceispirillum\n",
       "17 SAR11 clade        Clade II          NA                         \n",
       "18 Staphylococcales   Staphylococcaceae Staphylococcus             \n",
       "19 SAR11 clade        Clade I           NA                         \n",
       "20 NA                 NA                NA                         \n",
       "   species          \n",
       "1  NA               \n",
       "2  NA               \n",
       "3  ASV_5:core       \n",
       "4  ASV_6:core       \n",
       "5  SAR324:core      \n",
       "6  NA               \n",
       "7  NA               \n",
       "8  NA               \n",
       "9  Cyanobiaceae:core\n",
       "10 NA               \n",
       "11 NA               \n",
       "12 NA               \n",
       "13 NA               \n",
       "14 NA               \n",
       "15 NA               \n",
       "16 NA               \n",
       "17 NA               \n",
       "18 NA               \n",
       "19 NA               \n",
       "20 NA               "
      ]
     },
     "metadata": {},
     "output_type": "display_data"
    }
   ],
   "source": [
    "modified_table %>% rownames_to_column %>% filter(rowname %in% c('ASV_69','ASV_3','ASV_5','ASV_6','ASV_7','ASV_9','ASV_10','ASV_14','ASV_23','ASV_32','ASV_46',\n",
    "                                                                'ASV_50','ASV_54','ASV_56','ASV_62','ASV_65','ASV_82','ASV_85','ASV_95','ASV_110'))"
   ]
  },
  {
   "cell_type": "code",
   "execution_count": 35,
   "id": "52c06ae8-6770-406f-bf8e-d4cfaab9a4e8",
   "metadata": {},
   "outputs": [
    {
     "data": {
      "text/html": [
       "<style>\n",
       ".list-inline {list-style: none; margin:0; padding: 0}\n",
       ".list-inline>li {display: inline-block}\n",
       ".list-inline>li:not(:last-child)::after {content: \"\\00b7\"; padding: 0 .5ex}\n",
       "</style>\n",
       "<ol class=list-inline><li>'ASV_3'</li><li>'ASV_5'</li><li>'ASV_6'</li><li>'ASV_7'</li><li>'ASV_23'</li></ol>\n"
      ],
      "text/latex": [
       "\\begin{enumerate*}\n",
       "\\item 'ASV\\_3'\n",
       "\\item 'ASV\\_5'\n",
       "\\item 'ASV\\_6'\n",
       "\\item 'ASV\\_7'\n",
       "\\item 'ASV\\_23'\n",
       "\\end{enumerate*}\n"
      ],
      "text/markdown": [
       "1. 'ASV_3'\n",
       "2. 'ASV_5'\n",
       "3. 'ASV_6'\n",
       "4. 'ASV_7'\n",
       "5. 'ASV_23'\n",
       "\n",
       "\n"
      ],
      "text/plain": [
       "[1] \"ASV_3\"  \"ASV_5\"  \"ASV_6\"  \"ASV_7\"  \"ASV_23\""
      ]
     },
     "metadata": {},
     "output_type": "display_data"
    }
   ],
   "source": [
    "core_members(cn4, detection = 3, prevalence = 98/100)\n"
   ]
  },
  {
   "cell_type": "code",
   "execution_count": 36,
   "id": "9fbbf07a-0523-4bd3-803b-9df1f5e4ff3c",
   "metadata": {},
   "outputs": [
    {
     "data": {
      "text/html": [
       "<style>\n",
       ".list-inline {list-style: none; margin:0; padding: 0}\n",
       ".list-inline>li {display: inline-block}\n",
       ".list-inline>li:not(:last-child)::after {content: \"\\00b7\"; padding: 0 .5ex}\n",
       "</style>\n",
       "<ol class=list-inline><li>'ASV_5'</li><li>'ASV_6'</li><li>'ASV_7'</li><li>'ASV_23'</li><li>'ASV_32'</li></ol>\n"
      ],
      "text/latex": [
       "\\begin{enumerate*}\n",
       "\\item 'ASV\\_5'\n",
       "\\item 'ASV\\_6'\n",
       "\\item 'ASV\\_7'\n",
       "\\item 'ASV\\_23'\n",
       "\\item 'ASV\\_32'\n",
       "\\end{enumerate*}\n"
      ],
      "text/markdown": [
       "1. 'ASV_5'\n",
       "2. 'ASV_6'\n",
       "3. 'ASV_7'\n",
       "4. 'ASV_23'\n",
       "5. 'ASV_32'\n",
       "\n",
       "\n"
      ],
      "text/plain": [
       "[1] \"ASV_5\"  \"ASV_6\"  \"ASV_7\"  \"ASV_23\" \"ASV_32\""
      ]
     },
     "metadata": {},
     "output_type": "display_data"
    }
   ],
   "source": [
    "core_members(cn2, detection = 0, prevalence = 98/100)"
   ]
  },
  {
   "cell_type": "code",
   "execution_count": 37,
   "id": "2555c327-9eb2-498a-b6d9-b17a2eb0360c",
   "metadata": {},
   "outputs": [
    {
     "data": {
      "text/html": [
       "<style>\n",
       ".list-inline {list-style: none; margin:0; padding: 0}\n",
       ".list-inline>li {display: inline-block}\n",
       ".list-inline>li:not(:last-child)::after {content: \"\\00b7\"; padding: 0 .5ex}\n",
       "</style>\n",
       "<ol class=list-inline><li>'ASV_3'</li><li>'ASV_5'</li><li>'ASV_6'</li><li>'ASV_7'</li><li>'ASV_23'</li></ol>\n"
      ],
      "text/latex": [
       "\\begin{enumerate*}\n",
       "\\item 'ASV\\_3'\n",
       "\\item 'ASV\\_5'\n",
       "\\item 'ASV\\_6'\n",
       "\\item 'ASV\\_7'\n",
       "\\item 'ASV\\_23'\n",
       "\\end{enumerate*}\n"
      ],
      "text/markdown": [
       "1. 'ASV_3'\n",
       "2. 'ASV_5'\n",
       "3. 'ASV_6'\n",
       "4. 'ASV_7'\n",
       "5. 'ASV_23'\n",
       "\n",
       "\n"
      ],
      "text/plain": [
       "[1] \"ASV_3\"  \"ASV_5\"  \"ASV_6\"  \"ASV_7\"  \"ASV_23\""
      ]
     },
     "metadata": {},
     "output_type": "display_data"
    }
   ],
   "source": [
    "core_members(HS1, detection = 0, prevalence = 98/100)"
   ]
  },
  {
   "cell_type": "code",
   "execution_count": 38,
   "id": "92801b0f-0e85-4ee2-b37f-7698c67d2590",
   "metadata": {},
   "outputs": [
    {
     "data": {
      "text/html": [
       "<style>\n",
       ".list-inline {list-style: none; margin:0; padding: 0}\n",
       ".list-inline>li {display: inline-block}\n",
       ".list-inline>li:not(:last-child)::after {content: \"\\00b7\"; padding: 0 .5ex}\n",
       "</style>\n",
       "<ol class=list-inline><li>'ASV_3'</li><li>'ASV_5'</li><li>'ASV_6'</li><li>'ASV_7'</li><li>'ASV_23'</li></ol>\n"
      ],
      "text/latex": [
       "\\begin{enumerate*}\n",
       "\\item 'ASV\\_3'\n",
       "\\item 'ASV\\_5'\n",
       "\\item 'ASV\\_6'\n",
       "\\item 'ASV\\_7'\n",
       "\\item 'ASV\\_23'\n",
       "\\end{enumerate*}\n"
      ],
      "text/markdown": [
       "1. 'ASV_3'\n",
       "2. 'ASV_5'\n",
       "3. 'ASV_6'\n",
       "4. 'ASV_7'\n",
       "5. 'ASV_23'\n",
       "\n",
       "\n"
      ],
      "text/plain": [
       "[1] \"ASV_3\"  \"ASV_5\"  \"ASV_6\"  \"ASV_7\"  \"ASV_23\""
      ]
     },
     "metadata": {},
     "output_type": "display_data"
    }
   ],
   "source": [
    "core_members(ML2, detection = 0, prevalence = 98/100)"
   ]
  },
  {
   "cell_type": "code",
   "execution_count": 39,
   "id": "1bb68c04-da5b-4cf8-b2d3-0df5c44d5f31",
   "metadata": {},
   "outputs": [],
   "source": [
    "pseq.rel<- microbiome::transform(ps_fill, 'compositional')"
   ]
  },
  {
   "cell_type": "code",
   "execution_count": 40,
   "id": "b6ef2ab5-16d2-4ea2-bb79-51aa9d284694",
   "metadata": {},
   "outputs": [
    {
     "data": {
      "image/png": "[encoded data removed]",
      "text/plain": [
       "plot without title"
      ]
     },
     "metadata": {
      "image/png": {
       "height": 420,
       "width": 420
      }
     },
     "output_type": "display_data"
    }
   ],
   "source": [
    "# Core with compositionals:\n",
    "library(RColorBrewer)\n",
    "#library(reshape)\n",
    "\n",
    "prevalences <- seq(.05, 1, .05)\n",
    "\n",
    "detections <- round(10^seq(log10(0.01), log10(.2), length = 9), 3)\n",
    "\n",
    "# Also define gray color palette\n",
    "gray <- gray(seq(0,1,length=5))\n",
    "\n",
    "#Added pseq.rel, I thin... must be checked if it was in the the rednred version,; where it is initialized\n",
    "#pseq.rel<- microbiome::transform(pseq, 'compositional')\n",
    "#min-prevalence gets the 100th highest prevalence\n",
    "p <- plot_core(pseq.rel,\n",
    "               plot.type = \"heatmap\", \n",
    "               colours = gray,\n",
    "               prevalences = prevalences, \n",
    "               detections = detections, \n",
    "               min.prevalence = prevalence(pseq.rel, sort = TRUE)[100]) +\n",
    "  labs(x = \"Detection Threshold\\n(Relative Abundance (%))\") +\n",
    "    \n",
    "  #Adjusts axis text size and legend bar height\n",
    "  theme(axis.text.y= element_text(size=8, face=\"italic\"),\n",
    "        axis.text.x.bottom=element_text(size=8),\n",
    "        axis.title = element_text(size=10),\n",
    "        legend.text = element_text(size=8),\n",
    "        legend.title = element_text(size=10))\n",
    "\n",
    "print(p)"
   ]
  },
  {
   "cell_type": "code",
   "execution_count": 43,
   "id": "1cc00631-5b45-4ef1-b2e4-b46758dd9aa6",
   "metadata": {},
   "outputs": [
    {
     "name": "stderr",
     "output_type": "stream",
     "text": [
      "Warning message in psmelt(.):\n",
      "“The sample variables: \n",
      "order, species\n",
      " have been renamed to: \n",
      "sample_order, sample_species\n",
      "to avoid conflicts with taxonomic rank names.”\n"
     ]
    }
   ],
   "source": [
    "sum_ps   <- ps_fill %>%\n",
    "  tax_glom(taxrank = \"genus\") %>%\n",
    "  transform_sample_counts(function(x) {x/sum(x)} ) %>% # Transform to rel. abundance\n",
    "  psmelt()"
   ]
  },
  {
   "cell_type": "code",
   "execution_count": 44,
   "id": "ef886eda-4c13-4cb2-a97a-a5d98aee0526",
   "metadata": {},
   "outputs": [
    {
     "data": {
      "text/html": [
       "<style>\n",
       ".list-inline {list-style: none; margin:0; padding: 0}\n",
       ".list-inline>li {display: inline-block}\n",
       ".list-inline>li:not(:last-child)::after {content: \"\\00b7\"; padding: 0 .5ex}\n",
       "</style>\n",
       "<ol class=list-inline><li>'OTU'</li><li>'Sample'</li><li>'Abundance'</li><li>'collection_date'</li><li>'Speed.cm.s.'</li><li>'Bearing.degrees.'</li><li>'Velocity.N.cm.s.'</li><li>'Velocity.E.cm.s.'</li><li>'Temperature.C.'</li><li>'reef'</li><li>'Genotype'</li><li>'Fragment_number'</li><li>'Month'</li><li>'Year'</li><li>'Fragment_num'</li><li>'day'</li><li>'Survey.'</li><li>'LiveFrag'</li><li>'L'</li><li>'W'</li><li>'H'</li><li>'Adjusted.Area'</li><li>'S01FragCount'</li><li>'Year.x'</li><li>'Si.uM.'</li><li>'NO2.uM.'</li><li>'N.N.uM.'</li><li>'NO3.uM.'</li><li>'PO4.uM.'</li><li>'sample_ID'</li><li>'sample_ID2'</li><li>'Health'</li><li>'Month.x'</li><li>'Samp_trip'</li><li>'joining_info'</li><li>'sample_order'</li><li>'sample_species'</li><li>'time_Reef'</li><li>'Cluster'</li><li>'sampling_trip'</li><li>'X'</li><li>'colour_reef'</li><li>'colour_genotype'</li><li>'colour_reef_genotype'</li><li>'colour_timepoint'</li><li>'colour_timepoint_reef'</li><li>'cluster_latitude'</li><li>'cluster_longitude'</li><li>'cluster_depth'</li><li>'Year.y'</li><li>'Month.y'</li><li>'Lat_decimal'</li><li>'Long_decimal'</li><li>'avgchla_mgm.3'</li><li>'sdchla_mgm.3'</li><li>'avgSST_degC'</li><li>'sdSST_degC'</li><li>'domain'</li><li>'phylum'</li><li>'class'</li><li>'order'</li><li>'family'</li><li>'genus'</li></ol>\n"
      ],
      "text/latex": [
       "\\begin{enumerate*}\n",
       "\\item 'OTU'\n",
       "\\item 'Sample'\n",
       "\\item 'Abundance'\n",
       "\\item 'collection\\_date'\n",
       "\\item 'Speed.cm.s.'\n",
       "\\item 'Bearing.degrees.'\n",
       "\\item 'Velocity.N.cm.s.'\n",
       "\\item 'Velocity.E.cm.s.'\n",
       "\\item 'Temperature.C.'\n",
       "\\item 'reef'\n",
       "\\item 'Genotype'\n",
       "\\item 'Fragment\\_number'\n",
       "\\item 'Month'\n",
       "\\item 'Year'\n",
       "\\item 'Fragment\\_num'\n",
       "\\item 'day'\n",
       "\\item 'Survey.'\n",
       "\\item 'LiveFrag'\n",
       "\\item 'L'\n",
       "\\item 'W'\n",
       "\\item 'H'\n",
       "\\item 'Adjusted.Area'\n",
       "\\item 'S01FragCount'\n",
       "\\item 'Year.x'\n",
       "\\item 'Si.uM.'\n",
       "\\item 'NO2.uM.'\n",
       "\\item 'N.N.uM.'\n",
       "\\item 'NO3.uM.'\n",
       "\\item 'PO4.uM.'\n",
       "\\item 'sample\\_ID'\n",
       "\\item 'sample\\_ID2'\n",
       "\\item 'Health'\n",
       "\\item 'Month.x'\n",
       "\\item 'Samp\\_trip'\n",
       "\\item 'joining\\_info'\n",
       "\\item 'sample\\_order'\n",
       "\\item 'sample\\_species'\n",
       "\\item 'time\\_Reef'\n",
       "\\item 'Cluster'\n",
       "\\item 'sampling\\_trip'\n",
       "\\item 'X'\n",
       "\\item 'colour\\_reef'\n",
       "\\item 'colour\\_genotype'\n",
       "\\item 'colour\\_reef\\_genotype'\n",
       "\\item 'colour\\_timepoint'\n",
       "\\item 'colour\\_timepoint\\_reef'\n",
       "\\item 'cluster\\_latitude'\n",
       "\\item 'cluster\\_longitude'\n",
       "\\item 'cluster\\_depth'\n",
       "\\item 'Year.y'\n",
       "\\item 'Month.y'\n",
       "\\item 'Lat\\_decimal'\n",
       "\\item 'Long\\_decimal'\n",
       "\\item 'avgchla\\_mgm.3'\n",
       "\\item 'sdchla\\_mgm.3'\n",
       "\\item 'avgSST\\_degC'\n",
       "\\item 'sdSST\\_degC'\n",
       "\\item 'domain'\n",
       "\\item 'phylum'\n",
       "\\item 'class'\n",
       "\\item 'order'\n",
       "\\item 'family'\n",
       "\\item 'genus'\n",
       "\\end{enumerate*}\n"
      ],
      "text/markdown": [
       "1. 'OTU'\n",
       "2. 'Sample'\n",
       "3. 'Abundance'\n",
       "4. 'collection_date'\n",
       "5. 'Speed.cm.s.'\n",
       "6. 'Bearing.degrees.'\n",
       "7. 'Velocity.N.cm.s.'\n",
       "8. 'Velocity.E.cm.s.'\n",
       "9. 'Temperature.C.'\n",
       "10. 'reef'\n",
       "11. 'Genotype'\n",
       "12. 'Fragment_number'\n",
       "13. 'Month'\n",
       "14. 'Year'\n",
       "15. 'Fragment_num'\n",
       "16. 'day'\n",
       "17. 'Survey.'\n",
       "18. 'LiveFrag'\n",
       "19. 'L'\n",
       "20. 'W'\n",
       "21. 'H'\n",
       "22. 'Adjusted.Area'\n",
       "23. 'S01FragCount'\n",
       "24. 'Year.x'\n",
       "25. 'Si.uM.'\n",
       "26. 'NO2.uM.'\n",
       "27. 'N.N.uM.'\n",
       "28. 'NO3.uM.'\n",
       "29. 'PO4.uM.'\n",
       "30. 'sample_ID'\n",
       "31. 'sample_ID2'\n",
       "32. 'Health'\n",
       "33. 'Month.x'\n",
       "34. 'Samp_trip'\n",
       "35. 'joining_info'\n",
       "36. 'sample_order'\n",
       "37. 'sample_species'\n",
       "38. 'time_Reef'\n",
       "39. 'Cluster'\n",
       "40. 'sampling_trip'\n",
       "41. 'X'\n",
       "42. 'colour_reef'\n",
       "43. 'colour_genotype'\n",
       "44. 'colour_reef_genotype'\n",
       "45. 'colour_timepoint'\n",
       "46. 'colour_timepoint_reef'\n",
       "47. 'cluster_latitude'\n",
       "48. 'cluster_longitude'\n",
       "49. 'cluster_depth'\n",
       "50. 'Year.y'\n",
       "51. 'Month.y'\n",
       "52. 'Lat_decimal'\n",
       "53. 'Long_decimal'\n",
       "54. 'avgchla_mgm.3'\n",
       "55. 'sdchla_mgm.3'\n",
       "56. 'avgSST_degC'\n",
       "57. 'sdSST_degC'\n",
       "58. 'domain'\n",
       "59. 'phylum'\n",
       "60. 'class'\n",
       "61. 'order'\n",
       "62. 'family'\n",
       "63. 'genus'\n",
       "\n",
       "\n"
      ],
      "text/plain": [
       " [1] \"OTU\"                   \"Sample\"                \"Abundance\"            \n",
       " [4] \"collection_date\"       \"Speed.cm.s.\"           \"Bearing.degrees.\"     \n",
       " [7] \"Velocity.N.cm.s.\"      \"Velocity.E.cm.s.\"      \"Temperature.C.\"       \n",
       "[10] \"reef\"                  \"Genotype\"              \"Fragment_number\"      \n",
       "[13] \"Month\"                 \"Year\"                  \"Fragment_num\"         \n",
       "[16] \"day\"                   \"Survey.\"               \"LiveFrag\"             \n",
       "[19] \"L\"                     \"W\"                     \"H\"                    \n",
       "[22] \"Adjusted.Area\"         \"S01FragCount\"          \"Year.x\"               \n",
       "[25] \"Si.uM.\"                \"NO2.uM.\"               \"N.N.uM.\"              \n",
       "[28] \"NO3.uM.\"               \"PO4.uM.\"               \"sample_ID\"            \n",
       "[31] \"sample_ID2\"            \"Health\"                \"Month.x\"              \n",
       "[34] \"Samp_trip\"             \"joining_info\"          \"sample_order\"         \n",
       "[37] \"sample_species\"        \"time_Reef\"             \"Cluster\"              \n",
       "[40] \"sampling_trip\"         \"X\"                     \"colour_reef\"          \n",
       "[43] \"colour_genotype\"       \"colour_reef_genotype\"  \"colour_timepoint\"     \n",
       "[46] \"colour_timepoint_reef\" \"cluster_latitude\"      \"cluster_longitude\"    \n",
       "[49] \"cluster_depth\"         \"Year.y\"                \"Month.y\"              \n",
       "[52] \"Lat_decimal\"           \"Long_decimal\"          \"avgchla_mgm.3\"        \n",
       "[55] \"sdchla_mgm.3\"          \"avgSST_degC\"           \"sdSST_degC\"           \n",
       "[58] \"domain\"                \"phylum\"                \"class\"                \n",
       "[61] \"order\"                 \"family\"                \"genus\"                "
      ]
     },
     "metadata": {},
     "output_type": "display_data"
    }
   ],
   "source": [
    "colnames(sum_ps)"
   ]
  },
  {
   "cell_type": "code",
   "execution_count": 45,
   "id": "0c7efcab-2861-4a04-9c0d-036b6b083964",
   "metadata": {},
   "outputs": [
    {
     "data": {
      "image/png": "[encoded data removed]",
      "text/plain": [
       "plot without title"
      ]
     },
     "metadata": {
      "image/png": {
       "height": 420,
       "width": 420
      }
     },
     "output_type": "display_data"
    }
   ],
   "source": [
    "sum_ps %>%\n",
    "filter(Abundance>=0.1) %>%\n",
    "#filter(OTU %in% c('ASV_69','ASV_3','ASV_5','ASV_6','ASV_7','ASV_9','ASV_10','ASV_14','ASV_23','ASV_32','ASV_46',\n",
    "                                                               # 'ASV_50','ASV_54','ASV_56','ASV_62','ASV_65','ASV_82','ASV_85','ASV_95','ASV_110')) %>%\n",
    "ggplot(aes(x =reef, y=Abundance, fill=genus)) + \n",
    "       \n",
    "geom_bar(stat=\"identity\", position=\"fill\", aes(fill = family)) + \n",
    "facet_grid(Samp_trip~Genotype, scales = \"free\") +\n",
    "scale_fill_manual(values=c(\"#56B4E9\",\"#CBD588\",\"#5F7FC7\", \"orange\",\"#DA5724\",\"#CD9BCD\",\n",
    "                           \"gray80\", \"#AD6F3B\", \"#673770\",\"#D14285\", \"#652926\",\"#8569D5\", \n",
    "                           \"#5E738F\", \"#8A7C64\",\"lightsalmon\",\"aquamarine4\",\n",
    "                           \"lightblue4\", \"lightpink\", \"ivory4\",\"royalblue4\", \"darkorchid\", \n",
    "                           \"palevioletred1\", \"#56B4E9\",\"#CBD588\",\"yellow2\",\"#5F7FC7\", \"orange\",\"#DA5724\",\n",
    "                           \"#CD9BCD\", \"gray80\",\n",
    "                           \"#AD6F3B\", \"#673770\",\"#D14285\", \"#652926\",\"#8569D5\", \"#5E738F\",\n",
    "                          \"#56B4E9\",\"#CBD588\",\"#5F7FC7\", \"orange\",\"#DA5724\",\"#CD9BCD\", \"blue\", \"red\",\n",
    "                          \"#56B4E9\",\"#CBD588\",\"#5F7FC7\", \"orange\",\"#DA5724\",\"#CD9BCD\",\n",
    "                           \"gray80\", \"#AD6F3B\", \"#673770\",\"#D14285\", \"#652926\",\"#8569D5\", \n",
    "                           \"#5E738F\",\"#D1A33D\", \"#8A7C64\",\"lightsalmon\",\"aquamarine4\",\n",
    "                           \"lightblue4\", \"lightpink\", \"ivory4\",\"royalblue4\", \"darkorchid\", \n",
    "                           \"palevioletred1\", \"#56B4E9\",\"#CBD588\",\"yellow2\",\"#5F7FC7\", \"orange\",\"#DA5724\",\n",
    "                           \"#CD9BCD\", \"gray80\",\n",
    "                           \"#AD6F3B\", \"#673770\",\"#D14285\", \"#652926\",\"#8569D5\", \"#5E738F\",\n",
    "                          \"#56B4E9\",\"#CBD588\",\"#5F7FC7\", \"orange\",\"#DA5724\",\"#CD9BCD\", \"blue\", \"red\")) +\n",
    "guides(fill = guide_legend(keywidth = 0.3, , keyheight =.50, ncol=1)) +\n",
    "theme_classic() +\n",
    "\n",
    "theme(axis.text.x = element_text(angle = 90, hjust = 1, size=8)) "
   ]
  }
 ],
 "metadata": {
  "kernelspec": {
   "display_name": "R",
   "language": "R",
   "name": "ir"
  },
  "language_info": {
   "codemirror_mode": "r",
   "file_extension": ".r",
   "mimetype": "text/x-r-source",
   "name": "R",
   "pygments_lexer": "r",
   "version": "4.3.2"
  }
 },
 "nbformat": 4,
 "nbformat_minor": 5
}
