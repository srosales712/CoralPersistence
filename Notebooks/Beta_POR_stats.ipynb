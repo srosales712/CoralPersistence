{
 "cells": [
  {
   "cell_type": "code",
   "execution_count": 2,
   "id": "fcf3cb3f-194b-4029-aa2b-538c47429ceb",
   "metadata": {},
   "outputs": [
    {
     "data": {
      "text/plain": [
       "[1] ‘1.46.0’"
      ]
     },
     "metadata": {},
     "output_type": "display_data"
    },
    {
     "data": {
      "text/plain": [
       "[1] ‘0.4.1’"
      ]
     },
     "metadata": {},
     "output_type": "display_data"
    }
   ],
   "source": [
    "library(microbiome)\n",
    "library(phyloseq); packageVersion(\"phyloseq\")\n",
    "library(\"tidyverse\")\n",
    "library(\"dplyr\")\n",
    "library(vegan)\n",
    "#library(\"lubridate\")\n",
    "library('PCAtools')\n",
    "library(\"GGally\")\n",
    "library(\"ggpmisc\")\n",
    "library(\"speedyseq\")\n",
    "library(patchwork)\n",
    "library(\"pairwiseAdonis\"); packageVersion(\"pairwiseAdonis\")\n"
   ]
  },
  {
   "cell_type": "code",
   "execution_count": 4,
   "id": "f78923e7-4416-4ae1-b3ae-9426cfa8e2b6",
   "metadata": {},
   "outputs": [],
   "source": [
    "#import data from r.data\n",
    "load(\"/Users/stephanie.rosales/Documents/omics_projects/POR_16S/CoralPersistence/data/POR_counts_4_analysis.RData\")\n",
    "load(\"/Users/stephanie.rosales/Documents/omics_projects/POR_16S/CoralPersistence/data/POR_taxo_4_analysis.RData\")\n"
   ]
  },
  {
   "cell_type": "code",
   "execution_count": 5,
   "id": "16cee90c-106d-4111-a4f6-0e728902da36",
   "metadata": {},
   "outputs": [
    {
     "data": {
      "text/html": [
       "<table class=\"dataframe\">\n",
       "<caption>A data.frame: 2 × 58</caption>\n",
       "<thead>\n",
       "\t<tr><th></th><th scope=col>collection_date</th><th scope=col>Speed.cm.s.</th><th scope=col>Bearing.degrees.</th><th scope=col>Velocity.N.cm.s.</th><th scope=col>Velocity.E.cm.s.</th><th scope=col>Temperature.C.</th><th scope=col>reef</th><th scope=col>Genotype</th><th scope=col>Fragment_number</th><th scope=col>Month</th><th scope=col>⋯</th><th scope=col>cluster_depth</th><th scope=col>depth</th><th scope=col>Year.y</th><th scope=col>Month.y</th><th scope=col>Lat_decimal</th><th scope=col>Long_decimal</th><th scope=col>avgchla_mgm.3</th><th scope=col>sdchla_mgm.3</th><th scope=col>avgSST_degC</th><th scope=col>sdSST_degC</th></tr>\n",
       "\t<tr><th></th><th scope=col>&lt;chr&gt;</th><th scope=col>&lt;dbl&gt;</th><th scope=col>&lt;dbl&gt;</th><th scope=col>&lt;dbl&gt;</th><th scope=col>&lt;dbl&gt;</th><th scope=col>&lt;dbl&gt;</th><th scope=col>&lt;chr&gt;</th><th scope=col>&lt;chr&gt;</th><th scope=col>&lt;chr&gt;</th><th scope=col>&lt;fct&gt;</th><th scope=col>⋯</th><th scope=col>&lt;dbl&gt;</th><th scope=col>&lt;chr&gt;</th><th scope=col>&lt;int&gt;</th><th scope=col>&lt;chr&gt;</th><th scope=col>&lt;dbl&gt;</th><th scope=col>&lt;dbl&gt;</th><th scope=col>&lt;dbl&gt;</th><th scope=col>&lt;dbl&gt;</th><th scope=col>&lt;dbl&gt;</th><th scope=col>&lt;dbl&gt;</th></tr>\n",
       "</thead>\n",
       "<tbody>\n",
       "\t<tr><th scope=row>bagnumber-584</th><td>1-Mar-19</td><td>5.331549</td><td>147.0395</td><td>-1.81184</td><td>-0.7369632</td><td>26.09619</td><td>pr</td><td>CN2</td><td>3</td><td>March</td><td>⋯</td><td>-15.7</td><td>15.7</td><td>2019</td><td>March</td><td>24.985</td><td>-80.416</td><td>0.3999531</td><td>0.163012</td><td>25.99442</td><td>0.2483825</td></tr>\n",
       "\t<tr><th scope=row>bagnumber-585</th><td>1-Mar-19</td><td>5.331549</td><td>147.0395</td><td>-1.81184</td><td>-0.7369632</td><td>26.09619</td><td>pr</td><td>CN2</td><td>4</td><td>March</td><td>⋯</td><td>-15.7</td><td>15.7</td><td>2019</td><td>March</td><td>24.985</td><td>-80.416</td><td>0.3999531</td><td>0.163012</td><td>25.99442</td><td>0.2483825</td></tr>\n",
       "</tbody>\n",
       "</table>\n"
      ],
      "text/latex": [
       "A data.frame: 2 × 58\n",
       "\\begin{tabular}{r|lllllllllllllllllllll}\n",
       "  & collection\\_date & Speed.cm.s. & Bearing.degrees. & Velocity.N.cm.s. & Velocity.E.cm.s. & Temperature.C. & reef & Genotype & Fragment\\_number & Month & ⋯ & cluster\\_depth & depth & Year.y & Month.y & Lat\\_decimal & Long\\_decimal & avgchla\\_mgm.3 & sdchla\\_mgm.3 & avgSST\\_degC & sdSST\\_degC\\\\\n",
       "  & <chr> & <dbl> & <dbl> & <dbl> & <dbl> & <dbl> & <chr> & <chr> & <chr> & <fct> & ⋯ & <dbl> & <chr> & <int> & <chr> & <dbl> & <dbl> & <dbl> & <dbl> & <dbl> & <dbl>\\\\\n",
       "\\hline\n",
       "\tbagnumber-584 & 1-Mar-19 & 5.331549 & 147.0395 & -1.81184 & -0.7369632 & 26.09619 & pr & CN2 & 3 & March & ⋯ & -15.7 & 15.7 & 2019 & March & 24.985 & -80.416 & 0.3999531 & 0.163012 & 25.99442 & 0.2483825\\\\\n",
       "\tbagnumber-585 & 1-Mar-19 & 5.331549 & 147.0395 & -1.81184 & -0.7369632 & 26.09619 & pr & CN2 & 4 & March & ⋯ & -15.7 & 15.7 & 2019 & March & 24.985 & -80.416 & 0.3999531 & 0.163012 & 25.99442 & 0.2483825\\\\\n",
       "\\end{tabular}\n"
      ],
      "text/markdown": [
       "\n",
       "A data.frame: 2 × 58\n",
       "\n",
       "| <!--/--> | collection_date &lt;chr&gt; | Speed.cm.s. &lt;dbl&gt; | Bearing.degrees. &lt;dbl&gt; | Velocity.N.cm.s. &lt;dbl&gt; | Velocity.E.cm.s. &lt;dbl&gt; | Temperature.C. &lt;dbl&gt; | reef &lt;chr&gt; | Genotype &lt;chr&gt; | Fragment_number &lt;chr&gt; | Month &lt;fct&gt; | ⋯ ⋯ | cluster_depth &lt;dbl&gt; | depth &lt;chr&gt; | Year.y &lt;int&gt; | Month.y &lt;chr&gt; | Lat_decimal &lt;dbl&gt; | Long_decimal &lt;dbl&gt; | avgchla_mgm.3 &lt;dbl&gt; | sdchla_mgm.3 &lt;dbl&gt; | avgSST_degC &lt;dbl&gt; | sdSST_degC &lt;dbl&gt; |\n",
       "|---|---|---|---|---|---|---|---|---|---|---|---|---|---|---|---|---|---|---|---|---|---|\n",
       "| bagnumber-584 | 1-Mar-19 | 5.331549 | 147.0395 | -1.81184 | -0.7369632 | 26.09619 | pr | CN2 | 3 | March | ⋯ | -15.7 | 15.7 | 2019 | March | 24.985 | -80.416 | 0.3999531 | 0.163012 | 25.99442 | 0.2483825 |\n",
       "| bagnumber-585 | 1-Mar-19 | 5.331549 | 147.0395 | -1.81184 | -0.7369632 | 26.09619 | pr | CN2 | 4 | March | ⋯ | -15.7 | 15.7 | 2019 | March | 24.985 | -80.416 | 0.3999531 | 0.163012 | 25.99442 | 0.2483825 |\n",
       "\n"
      ],
      "text/plain": [
       "              collection_date Speed.cm.s. Bearing.degrees. Velocity.N.cm.s.\n",
       "bagnumber-584 1-Mar-19        5.331549    147.0395         -1.81184        \n",
       "bagnumber-585 1-Mar-19        5.331549    147.0395         -1.81184        \n",
       "              Velocity.E.cm.s. Temperature.C. reef Genotype Fragment_number\n",
       "bagnumber-584 -0.7369632       26.09619       pr   CN2      3              \n",
       "bagnumber-585 -0.7369632       26.09619       pr   CN2      4              \n",
       "              Month ⋯ cluster_depth depth Year.y Month.y Lat_decimal\n",
       "bagnumber-584 March ⋯ -15.7         15.7  2019   March   24.985     \n",
       "bagnumber-585 March ⋯ -15.7         15.7  2019   March   24.985     \n",
       "              Long_decimal avgchla_mgm.3 sdchla_mgm.3 avgSST_degC sdSST_degC\n",
       "bagnumber-584 -80.416      0.3999531     0.163012     25.99442    0.2483825 \n",
       "bagnumber-585 -80.416      0.3999531     0.163012     25.99442    0.2483825 "
      ]
     },
     "metadata": {},
     "output_type": "display_data"
    }
   ],
   "source": [
    "#load metadata\n",
    "meta = read.csv (\"/Users/stephanie.rosales/Documents/omics_projects/POR_16S/CoralPersistence/metadata/POR_combo_meta.csv\",\n",
    "row.names=1, header = T)%>%\n",
    "  mutate(\n",
    "    Month = factor(Month, levels = month.name)\n",
    "  ) %>%\n",
    "  arrange(Month) %>%\n",
    "arrange(collection_date)\n",
    "\n",
    "head(meta, n=2)"
   ]
  },
  {
   "cell_type": "code",
   "execution_count": 6,
   "id": "10481341-bb5e-4327-abff-f1ffa3d8aac5",
   "metadata": {},
   "outputs": [],
   "source": [
    "## taxonomy and counts as matrices\n",
    "taxo_mat <- as.matrix(POR_taxo_4_analysis)\n",
    "count_mat <- as.matrix(POR_counts_4_analysis)"
   ]
  },
  {
   "cell_type": "code",
   "execution_count": 7,
   "id": "60962d96-28b5-428c-b3e7-aa5f85b1fffd",
   "metadata": {},
   "outputs": [
    {
     "data": {
      "text/plain": [
       "phyloseq-class experiment-level object\n",
       "otu_table()   OTU Table:          [ 27534 taxa and 363 samples ]:\n",
       "sample_data() Sample Data:        [ 363 samples by 58 sample variables ]:\n",
       "tax_table()   Taxonomy Table:     [ 27534 taxa by 7 taxonomic ranks ]:\n",
       "taxa are rows"
      ]
     },
     "metadata": {},
     "output_type": "display_data"
    }
   ],
   "source": [
    "#make phyloseq object\n",
    "ASV <- otu_table(as.matrix(POR_counts_4_analysis), \n",
    "                 taxa_are_rows = T)\n",
    "TAX <- tax_table(taxo_mat)\n",
    "SAMP <- sample_data(meta)\n",
    "\n",
    "ps <- phyloseq(ASV, TAX, SAMP)\n",
    "ps"
   ]
  },
  {
   "cell_type": "code",
   "execution_count": 8,
   "id": "53a9bdb2-4e47-4a8e-87cb-6cab615dfe57",
   "metadata": {},
   "outputs": [
    {
     "data": {
      "text/plain": [
       "phyloseq-class experiment-level object\n",
       "otu_table()   OTU Table:          [ 27486 taxa and 363 samples ]:\n",
       "sample_data() Sample Data:        [ 363 samples by 58 sample variables ]:\n",
       "tax_table()   Taxonomy Table:     [ 27486 taxa by 7 taxonomic ranks ]:\n",
       "taxa are rows"
      ]
     },
     "metadata": {},
     "output_type": "display_data"
    }
   ],
   "source": [
    "#list of ASVs that Blasted as Eukaryote\n",
    "euk_asvs <- c(\"ASV_10673\",\"ASV_10883\",\t\"ASV_11806\",\"ASV_12333\",\t\"ASV_12335\",\t\"ASV_13587\",\t\"ASV_14757\",\t\"ASV_15238\",\t\"ASV_15259\",\t\"ASV_16364\",\t\"ASV_16936\",\t\"ASV_17406\",\t\"ASV_18096\",\t\"ASV_18375\",\t\"ASV_18682\",\t\"ASV_19529\",\t\"ASV_19795\",\t\"ASV_19953\",\t\"ASV_2\",\t\"ASV_20640\",\t\"ASV_2100\",\t\"ASV_22284\",\t\"ASV_22692\",\t\"ASV_23038\",\t\"ASV_23144\",\t\"ASV_24135\",\t\"ASV_24243\",\t\"ASV_27014\",\t\"ASV_29665\",\t\"ASV_30547\",\t\"ASV_30626\",\t\"ASV_30884\",\t\"ASV_4161\",\t\"ASV_4498\",\t\"ASV_476\",\t\"ASV_4797\",\t\"ASV_4966\",\t\"ASV_5018\",\t\"ASV_5118\",\t\"ASV_5154\",\t\"ASV_6282\",\t\"ASV_653\",\t\"ASV_6843\",\t\"ASV_7264\",\t\"ASV_7427\",\t\"ASV_8\",\t\"ASV_9248\",\t\"ASV_9692\")\n",
    "allTaxa = taxa_names(ps)\n",
    "allTaxa <- allTaxa[!(allTaxa %in% euk_asvs)]\n",
    "ps_fill_euk = prune_taxa(allTaxa, ps)\n",
    "# new phyloseq object with removed eukaryotes \n",
    "ps_fill_euk"
   ]
  },
  {
   "cell_type": "code",
   "execution_count": 9,
   "id": "38312baf-4337-497f-97bf-a45fa454b81e",
   "metadata": {},
   "outputs": [
    {
     "data": {
      "text/plain": [
       "phyloseq-class experiment-level object\n",
       "otu_table()   OTU Table:          [ 27486 taxa and 346 samples ]:\n",
       "sample_data() Sample Data:        [ 346 samples by 58 sample variables ]:\n",
       "tax_table()   Taxonomy Table:     [ 27486 taxa by 7 taxonomic ranks ]:\n",
       "taxa are rows"
      ]
     },
     "metadata": {},
     "output_type": "display_data"
    }
   ],
   "source": [
    "#filter samples only sampled once\n",
    "extras=c(\"apal_cf_gCN2_cl6_fr5_AH_2019-09-25\",\n",
    "  \"apal_ndr_gCN2_cl15_fr4_AH_2019-11-19\",\n",
    "  \"apal_pr_gCN2_cl75_fr6_AH_2019-11-18\",\n",
    "  \"apal_ndr_gCN4_cl32_frB_AH_2019-11-19\",\n",
    "  \"apal_pr_gCN4_cl98_fr4_AH_2019-09-26\",\n",
    "  \"apal_cf_gHS1_cl15_frB_AH_2019-11-19\",\n",
    "  \"apal_pr_gHS1_cl106_fr7_AH_2019-11-18\",\n",
    "  \"apal_pr_gHS1_cl108_fr3_AH_2019-11-18\",\n",
    "  \"apal_ndr_gML2_cl18_fr6_AH_2019-11-19\",\n",
    "  \"apal_ndr_gCN1_cl17_fr4_AH_2019-09-25\",\n",
    "  \"apal_pr_gCN4_cl98_fr4_AH_2019-09-26\",\n",
    "  \"apal_pr_gHS1_cl106_fr6_AH_2019-07-02\",\n",
    "  \"apal_pr_gHS1_cl106_fr7_AH_2019-03-01\",\n",
    "  \"apal_pr_gHS1_cl106_fr7_AH_2019-11-18\",\n",
    "  \"apal_pr_gHS1_cl108_fr3_AH_2019-11-18\",\n",
    "  \"apal_pr_gML2_cl58_frA_AH_2019-11-18\",\n",
    "        \"apal_pr_gCN2_cl81_fr6_AH_2019-09-26\",\n",
    "        \"apal_pr_gCN2_cl81_fr4_AH_2019-09-26\",\n",
    "        \"apal_ndr_gCN4_cl38_frB_AH_2019-11-19\",\n",
    "        \"apal_ndr_gCN4_cl38_fr5_AH_2019-11-19\",\n",
    "        \"apal_ndr_gCN1_cl17_fr4_AH_2019-09-25\")\n",
    "\n",
    "\n",
    "ps_fill_samp = subset_samples(ps_fill_euk, !sample_ID %in% extras)\n",
    "ps_fill_samp"
   ]
  },
  {
   "cell_type": "code",
   "execution_count": 10,
   "id": "1139151c-4b46-4f54-aa31-f88c9db5e778",
   "metadata": {},
   "outputs": [
    {
     "data": {
      "text/plain": [
       "phyloseq-class experiment-level object\n",
       "otu_table()   OTU Table:          [ 27486 taxa and 124 samples ]:\n",
       "sample_data() Sample Data:        [ 124 samples by 58 sample variables ]:\n",
       "tax_table()   Taxonomy Table:     [ 27486 taxa by 7 taxonomic ranks ]:\n",
       "taxa are rows"
      ]
     },
     "metadata": {},
     "output_type": "display_data"
    }
   ],
   "source": [
    "#merge samples from same cluster\n",
    "ps_merge = merge_samples2(ps_fill_samp, \"geno_clus\")\n",
    "ps_merge"
   ]
  },
  {
   "cell_type": "code",
   "execution_count": 11,
   "id": "80c6a102-6f5b-4b57-b637-2c490c4998d3",
   "metadata": {},
   "outputs": [
    {
     "data": {
      "text/plain": [
       "phyloseq-class experiment-level object\n",
       "otu_table()   OTU Table:          [ 464 taxa and 124 samples ]:\n",
       "sample_data() Sample Data:        [ 124 samples by 58 sample variables ]:\n",
       "tax_table()   Taxonomy Table:     [ 464 taxa by 7 taxonomic ranks ]:\n",
       "taxa are rows"
      ]
     },
     "metadata": {},
     "output_type": "display_data"
    }
   ],
   "source": [
    "#filter to remove noise from data\n",
    "ps_fill = filter_taxa(ps_merge, function(x) sum(x > 10) > (0.15*length(x)), TRUE)\n",
    "ps_fill\n"
   ]
  },
  {
   "cell_type": "code",
   "execution_count": 12,
   "id": "5fc18d27-8069-4b96-9ee4-25f5c74b8035",
   "metadata": {
    "scrolled": true
   },
   "outputs": [],
   "source": [
    "# transform data into clr and ordinate\n",
    "ps_clr <- microbiome::transform(ps_fill, 'clr')\n",
    "psr_clr_ord <- ordinate(ps_clr, \"RDA\", \"euclidean\")"
   ]
  },
  {
   "cell_type": "markdown",
   "id": "05c7289b-f159-4429-880e-d0c54ffb4638",
   "metadata": {},
   "source": [
    "### Dispersion"
   ]
  },
  {
   "cell_type": "code",
   "execution_count": 13,
   "id": "fa7c4039-a299-4a62-8086-5c69f97e2e3d",
   "metadata": {},
   "outputs": [
    {
     "data": {
      "text/html": [
       "<style>\n",
       ".list-inline {list-style: none; margin:0; padding: 0}\n",
       ".list-inline>li {display: inline-block}\n",
       ".list-inline>li:not(:last-child)::after {content: \"\\00b7\"; padding: 0 .5ex}\n",
       "</style>\n",
       "<ol class=list-inline><li>124</li><li>1</li></ol>\n"
      ],
      "text/latex": [
       "\\begin{enumerate*}\n",
       "\\item 124\n",
       "\\item 1\n",
       "\\end{enumerate*}\n"
      ],
      "text/markdown": [
       "1. 124\n",
       "2. 1\n",
       "\n",
       "\n"
      ],
      "text/plain": [
       "[1] 124   1"
      ]
     },
     "metadata": {},
     "output_type": "display_data"
    },
    {
     "data": {
      "text/plain": [
       "  Tukey multiple comparisons of means\n",
       "    95% family-wise confidence level\n",
       "\n",
       "Fit: aov(formula = distances ~ group, data = df)\n",
       "\n",
       "$group\n",
       "             diff       lwr        upr     p adj\n",
       "CN4-CN2  0.728418 -2.708568  4.1654041 0.9457955\n",
       "HS1-CN2 -3.436006 -6.640685 -0.2313269 0.0305031\n",
       "ML2-CN2 -4.858063 -8.332613 -1.3835133 0.0022334\n",
       "HS1-CN4 -4.164424 -7.622389 -0.7064590 0.0113664\n",
       "ML2-CN4 -5.586481 -9.295935 -1.8770271 0.0008309\n",
       "ML2-HS1 -1.422057 -4.917361  2.0732458 0.7144183\n"
      ]
     },
     "metadata": {},
     "output_type": "display_data"
    }
   ],
   "source": [
    "#create distance matrix\n",
    "ps_veg <- vegdist(otu_table(t(ps_clr)), method =\"euclidean\")\n",
    "\n",
    "#run dispersion analysis for genotype\n",
    "mod_geno <- betadisper(ps_veg, sample_data(ps_clr)$Genotype, type =\"centroid\")\n",
    "\n",
    "#test the pair-wise comparisons for Multivariate Homogeneity Of Groups Dispersions (Variances)\n",
    "mod_dist= as.data.frame(mod_geno$distances)\n",
    "dim(mod_dist)\n",
    "mod_dist_df=cbind(sample_data(ps_clr), mod_dist) \n",
    "\n",
    "#test the pair-wise comparisons for Multivariate Homogeneity Of Groups Dispersions (Variances)\n",
    "TukeyHSD(mod_geno)\n",
    "\n",
    "\n",
    "#results: CN4-CN2, and ML2-HS1 are not different\n"
   ]
  },
  {
   "cell_type": "code",
   "execution_count": 14,
   "id": "eb8e72c5-65a9-4355-87b8-ae4e97e8b0aa",
   "metadata": {},
   "outputs": [
    {
     "data": {
      "text/html": [
       "<style>\n",
       ".list-inline {list-style: none; margin:0; padding: 0}\n",
       ".list-inline>li {display: inline-block}\n",
       ".list-inline>li:not(:last-child)::after {content: \"\\00b7\"; padding: 0 .5ex}\n",
       "</style>\n",
       "<ol class=list-inline><li>124</li><li>1</li></ol>\n"
      ],
      "text/latex": [
       "\\begin{enumerate*}\n",
       "\\item 124\n",
       "\\item 1\n",
       "\\end{enumerate*}\n"
      ],
      "text/markdown": [
       "1. 124\n",
       "2. 1\n",
       "\n",
       "\n"
      ],
      "text/plain": [
       "[1] 124   1"
      ]
     },
     "metadata": {},
     "output_type": "display_data"
    },
    {
     "data": {
      "text/plain": [
       "  Tukey multiple comparisons of means\n",
       "    95% family-wise confidence level\n",
       "\n",
       "Fit: aov(formula = distances ~ group, data = df)\n",
       "\n",
       "$group\n",
       "             diff       lwr      upr     p adj\n",
       "ndr-cf -0.8253487 -3.955668 2.304971 0.8063439\n",
       "pr-cf  -2.1743902 -5.318203 0.969423 0.2324270\n",
       "pr-ndr -1.3490416 -4.155023 1.456940 0.4909563\n"
      ]
     },
     "metadata": {},
     "output_type": "display_data"
    }
   ],
   "source": [
    "#dispersion\n",
    "ps_veg <- vegdist(otu_table(t(ps_clr)), method =\"euclidean\")\n",
    "\n",
    "#run dispersion analysis for reef\n",
    "mod_reef <- betadisper(ps_veg, sample_data(ps_clr)$reef, type =\"centroid\")\n",
    "\n",
    "#test the pair-wise comparisons for Multivariate Homogeneity Of Groups Dispersions (Variances)\n",
    "\n",
    "mod_dist= as.data.frame(mod_reef$distances)\n",
    "dim(mod_dist)\n",
    "mod_dist_df=cbind(sample_data(ps_clr), mod_dist) \n",
    "\n",
    "#test the pair-wise comparisons for Multivariate Homogeneity Of Groups Dispersions (Variances)\n",
    "TukeyHSD(mod_reef)\n",
    "\n",
    "\n"
   ]
  },
  {
   "cell_type": "code",
   "execution_count": 15,
   "id": "22665b84-87f0-4fd6-9ed3-daa2174f3fcc",
   "metadata": {},
   "outputs": [
    {
     "data": {
      "text/plain": [
       "\n",
       "\tHomogeneity of multivariate dispersions\n",
       "\n",
       "Call: betadisper(d = ps_veg, group = sample_data(ps_clr)$Samp_trip,\n",
       "type = \"centroid\")\n",
       "\n",
       "No. of Positive Eigenvalues: 123\n",
       "No. of Negative Eigenvalues: 0\n",
       "\n",
       "Average distance to centroid:\n",
       "Trip_2 Trip_3 Trip_4 Trip_5 \n",
       " 44.86  49.53  45.92  46.82 \n",
       "\n",
       "Eigenvalues for PCoA axes:\n",
       "(Showing 8 of 123 eigenvalues)\n",
       "PCoA1 PCoA2 PCoA3 PCoA4 PCoA5 PCoA6 PCoA7 PCoA8 \n",
       "33838 24564 12938 11487  8345  7986  6980  5792 "
      ]
     },
     "metadata": {},
     "output_type": "display_data"
    },
    {
     "data": {
      "text/html": [
       "<style>\n",
       ".list-inline {list-style: none; margin:0; padding: 0}\n",
       ".list-inline>li {display: inline-block}\n",
       ".list-inline>li:not(:last-child)::after {content: \"\\00b7\"; padding: 0 .5ex}\n",
       "</style>\n",
       "<ol class=list-inline><li>124</li><li>1</li></ol>\n"
      ],
      "text/latex": [
       "\\begin{enumerate*}\n",
       "\\item 124\n",
       "\\item 1\n",
       "\\end{enumerate*}\n"
      ],
      "text/markdown": [
       "1. 124\n",
       "2. 1\n",
       "\n",
       "\n"
      ],
      "text/plain": [
       "[1] 124   1"
      ]
     },
     "metadata": {},
     "output_type": "display_data"
    },
    {
     "data": {
      "text/html": [
       "<table class=\"dataframe\">\n",
       "<caption>A data.frame: 6 × 1</caption>\n",
       "<thead>\n",
       "\t<tr><th></th><th scope=col>mod_month$distances</th></tr>\n",
       "\t<tr><th></th><th scope=col>&lt;dbl&gt;</th></tr>\n",
       "</thead>\n",
       "<tbody>\n",
       "\t<tr><th scope=row>ML2_78_cf_Trip_3</th><td>42.18045</td></tr>\n",
       "\t<tr><th scope=row>CN4_35_cf_Trip_3</th><td>45.08853</td></tr>\n",
       "\t<tr><th scope=row>CN4_25_cf_Trip_3</th><td>52.05416</td></tr>\n",
       "\t<tr><th scope=row>HS1_18_cf_Trip_3</th><td>44.80135</td></tr>\n",
       "\t<tr><th scope=row>HS1_17_cf_Trip_3</th><td>50.33733</td></tr>\n",
       "\t<tr><th scope=row>HS1_15_cf_Trip_3</th><td>47.02555</td></tr>\n",
       "</tbody>\n",
       "</table>\n"
      ],
      "text/latex": [
       "A data.frame: 6 × 1\n",
       "\\begin{tabular}{r|l}\n",
       "  & mod\\_month\\$distances\\\\\n",
       "  & <dbl>\\\\\n",
       "\\hline\n",
       "\tML2\\_78\\_cf\\_Trip\\_3 & 42.18045\\\\\n",
       "\tCN4\\_35\\_cf\\_Trip\\_3 & 45.08853\\\\\n",
       "\tCN4\\_25\\_cf\\_Trip\\_3 & 52.05416\\\\\n",
       "\tHS1\\_18\\_cf\\_Trip\\_3 & 44.80135\\\\\n",
       "\tHS1\\_17\\_cf\\_Trip\\_3 & 50.33733\\\\\n",
       "\tHS1\\_15\\_cf\\_Trip\\_3 & 47.02555\\\\\n",
       "\\end{tabular}\n"
      ],
      "text/markdown": [
       "\n",
       "A data.frame: 6 × 1\n",
       "\n",
       "| <!--/--> | mod_month$distances &lt;dbl&gt; |\n",
       "|---|---|\n",
       "| ML2_78_cf_Trip_3 | 42.18045 |\n",
       "| CN4_35_cf_Trip_3 | 45.08853 |\n",
       "| CN4_25_cf_Trip_3 | 52.05416 |\n",
       "| HS1_18_cf_Trip_3 | 44.80135 |\n",
       "| HS1_17_cf_Trip_3 | 50.33733 |\n",
       "| HS1_15_cf_Trip_3 | 47.02555 |\n",
       "\n"
      ],
      "text/plain": [
       "                 mod_month$distances\n",
       "ML2_78_cf_Trip_3 42.18045           \n",
       "CN4_35_cf_Trip_3 45.08853           \n",
       "CN4_25_cf_Trip_3 52.05416           \n",
       "HS1_18_cf_Trip_3 44.80135           \n",
       "HS1_17_cf_Trip_3 50.33733           \n",
       "HS1_15_cf_Trip_3 47.02555           "
      ]
     },
     "metadata": {},
     "output_type": "display_data"
    },
    {
     "data": {
      "text/plain": [
       "  Tukey multiple comparisons of means\n",
       "    95% family-wise confidence level\n",
       "\n",
       "Fit: aov(formula = distances ~ group, data = df)\n",
       "\n",
       "$group\n",
       "                    diff       lwr        upr     p adj\n",
       "Trip_3-Trip_2  4.6772189  1.222049 8.13238895 0.0033023\n",
       "Trip_4-Trip_2  1.0681718 -2.576614 4.71295779 0.8706551\n",
       "Trip_5-Trip_2  1.9609380 -1.580816 5.50269169 0.4755551\n",
       "Trip_4-Trip_3 -3.6090471 -7.278195 0.06010092 0.0556745\n",
       "Trip_5-Trip_3 -2.7162809 -6.283100 0.85053861 0.1997344\n",
       "Trip_5-Trip_4  0.8927662 -2.858029 4.64356158 0.9254615\n"
      ]
     },
     "metadata": {},
     "output_type": "display_data"
    }
   ],
   "source": [
    "#distances between\n",
    "ps_veg <- vegdist(otu_table(t(ps_clr)), method =\"euclidean\")\n",
    "\n",
    "#run dispersion analysis for month\n",
    "mod_month <- betadisper(ps_veg, sample_data(ps_clr)$Samp_trip, type =\"centroid\")\n",
    "#test the pair-wise comparisons for Multivariate Homogeneity Of Groups Dispersions (Variances)\n",
    "mod_month\n",
    "\n",
    "mod_dist= as.data.frame(mod_month$distances)\n",
    "dim(mod_dist)\n",
    "mod_dist_df=cbind(sample_data(ps_clr), mod_dist) \n",
    "head(mod_dist)\n",
    "\n",
    "#test the pair-wise comparisons for Multivariate Homogeneity Of Groups Dispersions (Variances)\n",
    "TukeyHSD(mod_month)\n"
   ]
  },
  {
   "cell_type": "markdown",
   "id": "5e274145-c599-4f24-aba6-6704e4bdfe2f",
   "metadata": {},
   "source": [
    "### PERMANOVA"
   ]
  },
  {
   "cell_type": "code",
   "execution_count": 16,
   "id": "d133ad57-96e6-42e3-b543-730d0cbc8204",
   "metadata": {},
   "outputs": [
    {
     "data": {
      "text/plain": [
       "phyloseq-class experiment-level object\n",
       "otu_table()   OTU Table:          [ 464 taxa and 123 samples ]:\n",
       "sample_data() Sample Data:        [ 123 samples by 58 sample variables ]:\n",
       "tax_table()   Taxonomy Table:     [ 464 taxa by 7 taxonomic ranks ]:\n",
       "taxa are rows"
      ]
     },
     "metadata": {},
     "output_type": "display_data"
    },
    {
     "data": {
      "text/html": [
       "<table class=\"dataframe\">\n",
       "<caption>A data.frame: 6 × 58</caption>\n",
       "<thead>\n",
       "\t<tr><th></th><th scope=col>collection_date</th><th scope=col>Speed.cm.s.</th><th scope=col>Bearing.degrees.</th><th scope=col>Velocity.N.cm.s.</th><th scope=col>Velocity.E.cm.s.</th><th scope=col>Temperature.C.</th><th scope=col>reef</th><th scope=col>Genotype</th><th scope=col>Fragment_number</th><th scope=col>Month</th><th scope=col>⋯</th><th scope=col>cluster_depth</th><th scope=col>depth</th><th scope=col>Year.y</th><th scope=col>Month.y</th><th scope=col>Lat_decimal</th><th scope=col>Long_decimal</th><th scope=col>avgchla_mgm.3</th><th scope=col>sdchla_mgm.3</th><th scope=col>avgSST_degC</th><th scope=col>sdSST_degC</th></tr>\n",
       "\t<tr><th></th><th scope=col>&lt;chr&gt;</th><th scope=col>&lt;dbl&gt;</th><th scope=col>&lt;dbl&gt;</th><th scope=col>&lt;dbl&gt;</th><th scope=col>&lt;dbl&gt;</th><th scope=col>&lt;dbl&gt;</th><th scope=col>&lt;chr&gt;</th><th scope=col>&lt;chr&gt;</th><th scope=col>&lt;chr&gt;</th><th scope=col>&lt;fct&gt;</th><th scope=col>⋯</th><th scope=col>&lt;dbl&gt;</th><th scope=col>&lt;chr&gt;</th><th scope=col>&lt;int&gt;</th><th scope=col>&lt;chr&gt;</th><th scope=col>&lt;dbl&gt;</th><th scope=col>&lt;dbl&gt;</th><th scope=col>&lt;dbl&gt;</th><th scope=col>&lt;dbl&gt;</th><th scope=col>&lt;dbl&gt;</th><th scope=col>&lt;dbl&gt;</th></tr>\n",
       "</thead>\n",
       "<tbody>\n",
       "\t<tr><th scope=row>ML2_78_cf_Trip_3</th><td>25-Jun-19</td><td>4.852118</td><td>122.786</td><td>0.9382899</td><td>3.174028</td><td>30.40801</td><td>cf</td><td>ML2</td><td>NA</td><td>June</td><td>⋯</td><td>-20.9</td><td>20.9</td><td>2019</td><td>June</td><td>25.221</td><td>-80.21</td><td>1.792092</td><td>0.3763544</td><td>29.63623</td><td>0.5081026</td></tr>\n",
       "\t<tr><th scope=row>CN4_35_cf_Trip_3</th><td>25-Jun-19</td><td>4.852118</td><td>122.786</td><td>0.9382899</td><td>3.174028</td><td>30.40801</td><td>cf</td><td>CN4</td><td>NA</td><td>June</td><td>⋯</td><td>-17.9</td><td>17.9</td><td>2019</td><td>June</td><td>25.221</td><td>-80.21</td><td>1.792092</td><td>0.3763544</td><td>29.63623</td><td>0.5081026</td></tr>\n",
       "\t<tr><th scope=row>CN4_25_cf_Trip_3</th><td>25-Jun-19</td><td>4.852118</td><td>122.786</td><td>0.9382899</td><td>3.174028</td><td>30.40801</td><td>cf</td><td>CN4</td><td>A </td><td>June</td><td>⋯</td><td>-20.8</td><td>20.8</td><td>2019</td><td>June</td><td>25.221</td><td>-80.21</td><td>1.792092</td><td>0.3763544</td><td>29.63623</td><td>0.5081026</td></tr>\n",
       "\t<tr><th scope=row>HS1_18_cf_Trip_3</th><td>25-Jun-19</td><td>4.852118</td><td>122.786</td><td>0.9382899</td><td>3.174028</td><td>30.40801</td><td>cf</td><td>HS1</td><td>NA</td><td>June</td><td>⋯</td><td>-18.8</td><td>18.8</td><td>2019</td><td>June</td><td>25.221</td><td>-80.21</td><td>1.792092</td><td>0.3763544</td><td>29.63623</td><td>0.5081026</td></tr>\n",
       "\t<tr><th scope=row>HS1_17_cf_Trip_3</th><td>25-Jun-19</td><td>4.852118</td><td>122.786</td><td>0.9382899</td><td>3.174028</td><td>30.40801</td><td>cf</td><td>HS1</td><td>NA</td><td>June</td><td>⋯</td><td>-17.8</td><td>17.8</td><td>2019</td><td>June</td><td>25.221</td><td>-80.21</td><td>1.792092</td><td>0.3763544</td><td>29.63623</td><td>0.5081026</td></tr>\n",
       "\t<tr><th scope=row>HS1_15_cf_Trip_3</th><td>25-Jun-19</td><td>4.852118</td><td>122.786</td><td>0.9382899</td><td>3.174028</td><td>30.40801</td><td>cf</td><td>HS1</td><td>NA</td><td>June</td><td>⋯</td><td>-17.6</td><td>17.6</td><td>2019</td><td>June</td><td>25.221</td><td>-80.21</td><td>1.792092</td><td>0.3763544</td><td>29.63623</td><td>0.5081026</td></tr>\n",
       "</tbody>\n",
       "</table>\n"
      ],
      "text/latex": [
       "A data.frame: 6 × 58\n",
       "\\begin{tabular}{r|lllllllllllllllllllll}\n",
       "  & collection\\_date & Speed.cm.s. & Bearing.degrees. & Velocity.N.cm.s. & Velocity.E.cm.s. & Temperature.C. & reef & Genotype & Fragment\\_number & Month & ⋯ & cluster\\_depth & depth & Year.y & Month.y & Lat\\_decimal & Long\\_decimal & avgchla\\_mgm.3 & sdchla\\_mgm.3 & avgSST\\_degC & sdSST\\_degC\\\\\n",
       "  & <chr> & <dbl> & <dbl> & <dbl> & <dbl> & <dbl> & <chr> & <chr> & <chr> & <fct> & ⋯ & <dbl> & <chr> & <int> & <chr> & <dbl> & <dbl> & <dbl> & <dbl> & <dbl> & <dbl>\\\\\n",
       "\\hline\n",
       "\tML2\\_78\\_cf\\_Trip\\_3 & 25-Jun-19 & 4.852118 & 122.786 & 0.9382899 & 3.174028 & 30.40801 & cf & ML2 & NA & June & ⋯ & -20.9 & 20.9 & 2019 & June & 25.221 & -80.21 & 1.792092 & 0.3763544 & 29.63623 & 0.5081026\\\\\n",
       "\tCN4\\_35\\_cf\\_Trip\\_3 & 25-Jun-19 & 4.852118 & 122.786 & 0.9382899 & 3.174028 & 30.40801 & cf & CN4 & NA & June & ⋯ & -17.9 & 17.9 & 2019 & June & 25.221 & -80.21 & 1.792092 & 0.3763544 & 29.63623 & 0.5081026\\\\\n",
       "\tCN4\\_25\\_cf\\_Trip\\_3 & 25-Jun-19 & 4.852118 & 122.786 & 0.9382899 & 3.174028 & 30.40801 & cf & CN4 & A  & June & ⋯ & -20.8 & 20.8 & 2019 & June & 25.221 & -80.21 & 1.792092 & 0.3763544 & 29.63623 & 0.5081026\\\\\n",
       "\tHS1\\_18\\_cf\\_Trip\\_3 & 25-Jun-19 & 4.852118 & 122.786 & 0.9382899 & 3.174028 & 30.40801 & cf & HS1 & NA & June & ⋯ & -18.8 & 18.8 & 2019 & June & 25.221 & -80.21 & 1.792092 & 0.3763544 & 29.63623 & 0.5081026\\\\\n",
       "\tHS1\\_17\\_cf\\_Trip\\_3 & 25-Jun-19 & 4.852118 & 122.786 & 0.9382899 & 3.174028 & 30.40801 & cf & HS1 & NA & June & ⋯ & -17.8 & 17.8 & 2019 & June & 25.221 & -80.21 & 1.792092 & 0.3763544 & 29.63623 & 0.5081026\\\\\n",
       "\tHS1\\_15\\_cf\\_Trip\\_3 & 25-Jun-19 & 4.852118 & 122.786 & 0.9382899 & 3.174028 & 30.40801 & cf & HS1 & NA & June & ⋯ & -17.6 & 17.6 & 2019 & June & 25.221 & -80.21 & 1.792092 & 0.3763544 & 29.63623 & 0.5081026\\\\\n",
       "\\end{tabular}\n"
      ],
      "text/markdown": [
       "\n",
       "A data.frame: 6 × 58\n",
       "\n",
       "| <!--/--> | collection_date &lt;chr&gt; | Speed.cm.s. &lt;dbl&gt; | Bearing.degrees. &lt;dbl&gt; | Velocity.N.cm.s. &lt;dbl&gt; | Velocity.E.cm.s. &lt;dbl&gt; | Temperature.C. &lt;dbl&gt; | reef &lt;chr&gt; | Genotype &lt;chr&gt; | Fragment_number &lt;chr&gt; | Month &lt;fct&gt; | ⋯ ⋯ | cluster_depth &lt;dbl&gt; | depth &lt;chr&gt; | Year.y &lt;int&gt; | Month.y &lt;chr&gt; | Lat_decimal &lt;dbl&gt; | Long_decimal &lt;dbl&gt; | avgchla_mgm.3 &lt;dbl&gt; | sdchla_mgm.3 &lt;dbl&gt; | avgSST_degC &lt;dbl&gt; | sdSST_degC &lt;dbl&gt; |\n",
       "|---|---|---|---|---|---|---|---|---|---|---|---|---|---|---|---|---|---|---|---|---|---|\n",
       "| ML2_78_cf_Trip_3 | 25-Jun-19 | 4.852118 | 122.786 | 0.9382899 | 3.174028 | 30.40801 | cf | ML2 | NA | June | ⋯ | -20.9 | 20.9 | 2019 | June | 25.221 | -80.21 | 1.792092 | 0.3763544 | 29.63623 | 0.5081026 |\n",
       "| CN4_35_cf_Trip_3 | 25-Jun-19 | 4.852118 | 122.786 | 0.9382899 | 3.174028 | 30.40801 | cf | CN4 | NA | June | ⋯ | -17.9 | 17.9 | 2019 | June | 25.221 | -80.21 | 1.792092 | 0.3763544 | 29.63623 | 0.5081026 |\n",
       "| CN4_25_cf_Trip_3 | 25-Jun-19 | 4.852118 | 122.786 | 0.9382899 | 3.174028 | 30.40801 | cf | CN4 | A  | June | ⋯ | -20.8 | 20.8 | 2019 | June | 25.221 | -80.21 | 1.792092 | 0.3763544 | 29.63623 | 0.5081026 |\n",
       "| HS1_18_cf_Trip_3 | 25-Jun-19 | 4.852118 | 122.786 | 0.9382899 | 3.174028 | 30.40801 | cf | HS1 | NA | June | ⋯ | -18.8 | 18.8 | 2019 | June | 25.221 | -80.21 | 1.792092 | 0.3763544 | 29.63623 | 0.5081026 |\n",
       "| HS1_17_cf_Trip_3 | 25-Jun-19 | 4.852118 | 122.786 | 0.9382899 | 3.174028 | 30.40801 | cf | HS1 | NA | June | ⋯ | -17.8 | 17.8 | 2019 | June | 25.221 | -80.21 | 1.792092 | 0.3763544 | 29.63623 | 0.5081026 |\n",
       "| HS1_15_cf_Trip_3 | 25-Jun-19 | 4.852118 | 122.786 | 0.9382899 | 3.174028 | 30.40801 | cf | HS1 | NA | June | ⋯ | -17.6 | 17.6 | 2019 | June | 25.221 | -80.21 | 1.792092 | 0.3763544 | 29.63623 | 0.5081026 |\n",
       "\n"
      ],
      "text/plain": [
       "                 collection_date Speed.cm.s. Bearing.degrees. Velocity.N.cm.s.\n",
       "ML2_78_cf_Trip_3 25-Jun-19       4.852118    122.786          0.9382899       \n",
       "CN4_35_cf_Trip_3 25-Jun-19       4.852118    122.786          0.9382899       \n",
       "CN4_25_cf_Trip_3 25-Jun-19       4.852118    122.786          0.9382899       \n",
       "HS1_18_cf_Trip_3 25-Jun-19       4.852118    122.786          0.9382899       \n",
       "HS1_17_cf_Trip_3 25-Jun-19       4.852118    122.786          0.9382899       \n",
       "HS1_15_cf_Trip_3 25-Jun-19       4.852118    122.786          0.9382899       \n",
       "                 Velocity.E.cm.s. Temperature.C. reef Genotype Fragment_number\n",
       "ML2_78_cf_Trip_3 3.174028         30.40801       cf   ML2      NA             \n",
       "CN4_35_cf_Trip_3 3.174028         30.40801       cf   CN4      NA             \n",
       "CN4_25_cf_Trip_3 3.174028         30.40801       cf   CN4      A              \n",
       "HS1_18_cf_Trip_3 3.174028         30.40801       cf   HS1      NA             \n",
       "HS1_17_cf_Trip_3 3.174028         30.40801       cf   HS1      NA             \n",
       "HS1_15_cf_Trip_3 3.174028         30.40801       cf   HS1      NA             \n",
       "                 Month ⋯ cluster_depth depth Year.y Month.y Lat_decimal\n",
       "ML2_78_cf_Trip_3 June  ⋯ -20.9         20.9  2019   June    25.221     \n",
       "CN4_35_cf_Trip_3 June  ⋯ -17.9         17.9  2019   June    25.221     \n",
       "CN4_25_cf_Trip_3 June  ⋯ -20.8         20.8  2019   June    25.221     \n",
       "HS1_18_cf_Trip_3 June  ⋯ -18.8         18.8  2019   June    25.221     \n",
       "HS1_17_cf_Trip_3 June  ⋯ -17.8         17.8  2019   June    25.221     \n",
       "HS1_15_cf_Trip_3 June  ⋯ -17.6         17.6  2019   June    25.221     \n",
       "                 Long_decimal avgchla_mgm.3 sdchla_mgm.3 avgSST_degC sdSST_degC\n",
       "ML2_78_cf_Trip_3 -80.21       1.792092      0.3763544    29.63623    0.5081026 \n",
       "CN4_35_cf_Trip_3 -80.21       1.792092      0.3763544    29.63623    0.5081026 \n",
       "CN4_25_cf_Trip_3 -80.21       1.792092      0.3763544    29.63623    0.5081026 \n",
       "HS1_18_cf_Trip_3 -80.21       1.792092      0.3763544    29.63623    0.5081026 \n",
       "HS1_17_cf_Trip_3 -80.21       1.792092      0.3763544    29.63623    0.5081026 \n",
       "HS1_15_cf_Trip_3 -80.21       1.792092      0.3763544    29.63623    0.5081026 "
      ]
     },
     "metadata": {},
     "output_type": "display_data"
    },
    {
     "data": {
      "text/html": [
       "<style>\n",
       ".list-inline {list-style: none; margin:0; padding: 0}\n",
       ".list-inline>li {display: inline-block}\n",
       ".list-inline>li:not(:last-child)::after {content: \"\\00b7\"; padding: 0 .5ex}\n",
       "</style>\n",
       "<ol class=list-inline><li>123</li><li>58</li></ol>\n"
      ],
      "text/latex": [
       "\\begin{enumerate*}\n",
       "\\item 123\n",
       "\\item 58\n",
       "\\end{enumerate*}\n"
      ],
      "text/markdown": [
       "1. 123\n",
       "2. 58\n",
       "\n",
       "\n"
      ],
      "text/plain": [
       "[1] 123  58"
      ]
     },
     "metadata": {},
     "output_type": "display_data"
    },
    {
     "data": {
      "text/html": [
       "<table class=\"dataframe\">\n",
       "<caption>A anova.cca: 9 × 5</caption>\n",
       "<thead>\n",
       "\t<tr><th></th><th scope=col>Df</th><th scope=col>SumOfSqs</th><th scope=col>R2</th><th scope=col>F</th><th scope=col>Pr(&gt;F)</th></tr>\n",
       "\t<tr><th></th><th scope=col>&lt;dbl&gt;</th><th scope=col>&lt;dbl&gt;</th><th scope=col>&lt;dbl&gt;</th><th scope=col>&lt;dbl&gt;</th><th scope=col>&lt;dbl&gt;</th></tr>\n",
       "</thead>\n",
       "<tbody>\n",
       "\t<tr><th scope=row>Samp_trip</th><td>  3</td><td> 25417.95</td><td>0.08502143</td><td>4.296836</td><td>0.001</td></tr>\n",
       "\t<tr><th scope=row>Genotype</th><td>  3</td><td> 11986.15</td><td>0.04009290</td><td>2.026226</td><td>0.001</td></tr>\n",
       "\t<tr><th scope=row>reef</th><td>  2</td><td> 19285.74</td><td>0.06450957</td><td>4.890302</td><td>0.001</td></tr>\n",
       "\t<tr><th scope=row>Samp_trip:Genotype</th><td>  9</td><td> 18527.08</td><td>0.06197189</td><td>1.043984</td><td>0.264</td></tr>\n",
       "\t<tr><th scope=row>Samp_trip:reef</th><td>  6</td><td> 22347.75</td><td>0.07475180</td><td>1.888913</td><td>0.001</td></tr>\n",
       "\t<tr><th scope=row>Genotype:reef</th><td>  6</td><td> 14703.86</td><td>0.04918345</td><td>1.242823</td><td>0.014</td></tr>\n",
       "\t<tr><th scope=row>Samp_trip:Genotype:reef</th><td> 15</td><td> 32887.72</td><td>0.11000732</td><td>1.111916</td><td>0.029</td></tr>\n",
       "\t<tr><th scope=row>Residual</th><td> 78</td><td>153803.14</td><td>0.51446164</td><td>      NA</td><td>   NA</td></tr>\n",
       "\t<tr><th scope=row>Total</th><td>122</td><td>298959.39</td><td>1.00000000</td><td>      NA</td><td>   NA</td></tr>\n",
       "</tbody>\n",
       "</table>\n"
      ],
      "text/latex": [
       "A anova.cca: 9 × 5\n",
       "\\begin{tabular}{r|lllll}\n",
       "  & Df & SumOfSqs & R2 & F & Pr(>F)\\\\\n",
       "  & <dbl> & <dbl> & <dbl> & <dbl> & <dbl>\\\\\n",
       "\\hline\n",
       "\tSamp\\_trip &   3 &  25417.95 & 0.08502143 & 4.296836 & 0.001\\\\\n",
       "\tGenotype &   3 &  11986.15 & 0.04009290 & 2.026226 & 0.001\\\\\n",
       "\treef &   2 &  19285.74 & 0.06450957 & 4.890302 & 0.001\\\\\n",
       "\tSamp\\_trip:Genotype &   9 &  18527.08 & 0.06197189 & 1.043984 & 0.264\\\\\n",
       "\tSamp\\_trip:reef &   6 &  22347.75 & 0.07475180 & 1.888913 & 0.001\\\\\n",
       "\tGenotype:reef &   6 &  14703.86 & 0.04918345 & 1.242823 & 0.014\\\\\n",
       "\tSamp\\_trip:Genotype:reef &  15 &  32887.72 & 0.11000732 & 1.111916 & 0.029\\\\\n",
       "\tResidual &  78 & 153803.14 & 0.51446164 &       NA &    NA\\\\\n",
       "\tTotal & 122 & 298959.39 & 1.00000000 &       NA &    NA\\\\\n",
       "\\end{tabular}\n"
      ],
      "text/markdown": [
       "\n",
       "A anova.cca: 9 × 5\n",
       "\n",
       "| <!--/--> | Df &lt;dbl&gt; | SumOfSqs &lt;dbl&gt; | R2 &lt;dbl&gt; | F &lt;dbl&gt; | Pr(&gt;F) &lt;dbl&gt; |\n",
       "|---|---|---|---|---|---|\n",
       "| Samp_trip |   3 |  25417.95 | 0.08502143 | 4.296836 | 0.001 |\n",
       "| Genotype |   3 |  11986.15 | 0.04009290 | 2.026226 | 0.001 |\n",
       "| reef |   2 |  19285.74 | 0.06450957 | 4.890302 | 0.001 |\n",
       "| Samp_trip:Genotype |   9 |  18527.08 | 0.06197189 | 1.043984 | 0.264 |\n",
       "| Samp_trip:reef |   6 |  22347.75 | 0.07475180 | 1.888913 | 0.001 |\n",
       "| Genotype:reef |   6 |  14703.86 | 0.04918345 | 1.242823 | 0.014 |\n",
       "| Samp_trip:Genotype:reef |  15 |  32887.72 | 0.11000732 | 1.111916 | 0.029 |\n",
       "| Residual |  78 | 153803.14 | 0.51446164 |       NA |    NA |\n",
       "| Total | 122 | 298959.39 | 1.00000000 |       NA |    NA |\n",
       "\n"
      ],
      "text/plain": [
       "                        Df  SumOfSqs  R2         F        Pr(>F)\n",
       "Samp_trip                 3  25417.95 0.08502143 4.296836 0.001 \n",
       "Genotype                  3  11986.15 0.04009290 2.026226 0.001 \n",
       "reef                      2  19285.74 0.06450957 4.890302 0.001 \n",
       "Samp_trip:Genotype        9  18527.08 0.06197189 1.043984 0.264 \n",
       "Samp_trip:reef            6  22347.75 0.07475180 1.888913 0.001 \n",
       "Genotype:reef             6  14703.86 0.04918345 1.242823 0.014 \n",
       "Samp_trip:Genotype:reef  15  32887.72 0.11000732 1.111916 0.029 \n",
       "Residual                 78 153803.14 0.51446164       NA    NA \n",
       "Total                   122 298959.39 1.00000000       NA    NA "
      ]
     },
     "metadata": {},
     "output_type": "display_data"
    }
   ],
   "source": [
    "ps_ra_ad =  subset_samples(ps_clr, cluster_depth!= \"NA\")\n",
    "ps_ra_ad \n",
    "ps_ra_ad_meta= data.frame(sample_data(ps_ra_ad))\n",
    "head(ps_ra_ad_meta)\n",
    "dim(ps_ra_ad_meta)\n",
    "#ps_ra_ad\n",
    "#distances between\n",
    "ps_veg_ad = dist(otu_table(t(ps_ra_ad)), method =\"euclidean\")\n",
    "#  adonis(formula = abund_table ~ ., data = meta_table) \n",
    "\n",
    "adonis2(ps_veg_ad~Samp_trip*Genotype*reef, \n",
    "       data =ps_ra_ad_meta, \n",
    "         method = \"euclidean\", permutations = 999)"
   ]
  },
  {
   "cell_type": "code",
   "execution_count": 17,
   "id": "611d716e-4350-4166-ae6c-a8704de9784c",
   "metadata": {},
   "outputs": [
    {
     "data": {
      "text/html": [
       "<table class=\"dataframe\">\n",
       "<caption>A pwadonis: 3 × 8</caption>\n",
       "<thead>\n",
       "\t<tr><th scope=col>pairs</th><th scope=col>Df</th><th scope=col>SumsOfSqs</th><th scope=col>F.Model</th><th scope=col>R2</th><th scope=col>p.value</th><th scope=col>p.adjusted</th><th scope=col>sig</th></tr>\n",
       "\t<tr><th scope=col>&lt;chr&gt;</th><th scope=col>&lt;dbl&gt;</th><th scope=col>&lt;dbl&gt;</th><th scope=col>&lt;dbl&gt;</th><th scope=col>&lt;dbl&gt;</th><th scope=col>&lt;dbl&gt;</th><th scope=col>&lt;dbl&gt;</th><th scope=col>&lt;chr&gt;</th></tr>\n",
       "</thead>\n",
       "<tbody>\n",
       "\t<tr><td>cf vs ndr</td><td>1</td><td> 6224.089</td><td>2.594378</td><td>0.03300972</td><td>0.001</td><td>0.003</td><td>*</td></tr>\n",
       "\t<tr><td>cf vs pr </td><td>1</td><td> 7238.240</td><td>3.141944</td><td>0.04072939</td><td>0.001</td><td>0.003</td><td>*</td></tr>\n",
       "\t<tr><td>ndr vs pr</td><td>1</td><td>14748.064</td><td>6.436718</td><td>0.06674552</td><td>0.001</td><td>0.003</td><td>*</td></tr>\n",
       "</tbody>\n",
       "</table>\n"
      ],
      "text/latex": [
       "A pwadonis: 3 × 8\n",
       "\\begin{tabular}{llllllll}\n",
       " pairs & Df & SumsOfSqs & F.Model & R2 & p.value & p.adjusted & sig\\\\\n",
       " <chr> & <dbl> & <dbl> & <dbl> & <dbl> & <dbl> & <dbl> & <chr>\\\\\n",
       "\\hline\n",
       "\t cf vs ndr & 1 &  6224.089 & 2.594378 & 0.03300972 & 0.001 & 0.003 & *\\\\\n",
       "\t cf vs pr  & 1 &  7238.240 & 3.141944 & 0.04072939 & 0.001 & 0.003 & *\\\\\n",
       "\t ndr vs pr & 1 & 14748.064 & 6.436718 & 0.06674552 & 0.001 & 0.003 & *\\\\\n",
       "\\end{tabular}\n"
      ],
      "text/markdown": [
       "\n",
       "A pwadonis: 3 × 8\n",
       "\n",
       "| pairs &lt;chr&gt; | Df &lt;dbl&gt; | SumsOfSqs &lt;dbl&gt; | F.Model &lt;dbl&gt; | R2 &lt;dbl&gt; | p.value &lt;dbl&gt; | p.adjusted &lt;dbl&gt; | sig &lt;chr&gt; |\n",
       "|---|---|---|---|---|---|---|---|\n",
       "| cf vs ndr | 1 |  6224.089 | 2.594378 | 0.03300972 | 0.001 | 0.003 | * |\n",
       "| cf vs pr  | 1 |  7238.240 | 3.141944 | 0.04072939 | 0.001 | 0.003 | * |\n",
       "| ndr vs pr | 1 | 14748.064 | 6.436718 | 0.06674552 | 0.001 | 0.003 | * |\n",
       "\n"
      ],
      "text/plain": [
       "  pairs     Df SumsOfSqs F.Model  R2         p.value p.adjusted sig\n",
       "1 cf vs ndr 1   6224.089 2.594378 0.03300972 0.001   0.003      *  \n",
       "2 cf vs pr  1   7238.240 3.141944 0.04072939 0.001   0.003      *  \n",
       "3 ndr vs pr 1  14748.064 6.436718 0.06674552 0.001   0.003      *  "
      ]
     },
     "metadata": {},
     "output_type": "display_data"
    },
    {
     "data": {
      "text/html": [
       "<table class=\"dataframe\">\n",
       "<caption>A pwadonis: 6 × 8</caption>\n",
       "<thead>\n",
       "\t<tr><th scope=col>pairs</th><th scope=col>Df</th><th scope=col>SumsOfSqs</th><th scope=col>F.Model</th><th scope=col>R2</th><th scope=col>p.value</th><th scope=col>p.adjusted</th><th scope=col>sig</th></tr>\n",
       "\t<tr><th scope=col>&lt;chr&gt;</th><th scope=col>&lt;dbl&gt;</th><th scope=col>&lt;dbl&gt;</th><th scope=col>&lt;dbl&gt;</th><th scope=col>&lt;dbl&gt;</th><th scope=col>&lt;dbl&gt;</th><th scope=col>&lt;dbl&gt;</th><th scope=col>&lt;chr&gt;</th></tr>\n",
       "</thead>\n",
       "<tbody>\n",
       "\t<tr><td>Trip_3 vs Trip_4</td><td>1</td><td>9299.245</td><td>3.871819</td><td>0.06360610</td><td>0.001</td><td>0.006</td><td>*</td></tr>\n",
       "\t<tr><td>Trip_3 vs Trip_5</td><td>1</td><td>8841.889</td><td>3.618502</td><td>0.05599792</td><td>0.001</td><td>0.006</td><td>*</td></tr>\n",
       "\t<tr><td>Trip_3 vs Trip_2</td><td>1</td><td>9909.808</td><td>4.280435</td><td>0.06178418</td><td>0.001</td><td>0.006</td><td>*</td></tr>\n",
       "\t<tr><td>Trip_4 vs Trip_5</td><td>1</td><td>7004.364</td><td>3.073654</td><td>0.05385417</td><td>0.002</td><td>0.012</td><td>.</td></tr>\n",
       "\t<tr><td>Trip_4 vs Trip_2</td><td>1</td><td>9192.156</td><td>4.282750</td><td>0.06876303</td><td>0.001</td><td>0.006</td><td>*</td></tr>\n",
       "\t<tr><td>Trip_5 vs Trip_2</td><td>1</td><td>6452.861</td><td>2.927963</td><td>0.04509556</td><td>0.001</td><td>0.006</td><td>*</td></tr>\n",
       "</tbody>\n",
       "</table>\n"
      ],
      "text/latex": [
       "A pwadonis: 6 × 8\n",
       "\\begin{tabular}{llllllll}\n",
       " pairs & Df & SumsOfSqs & F.Model & R2 & p.value & p.adjusted & sig\\\\\n",
       " <chr> & <dbl> & <dbl> & <dbl> & <dbl> & <dbl> & <dbl> & <chr>\\\\\n",
       "\\hline\n",
       "\t Trip\\_3 vs Trip\\_4 & 1 & 9299.245 & 3.871819 & 0.06360610 & 0.001 & 0.006 & *\\\\\n",
       "\t Trip\\_3 vs Trip\\_5 & 1 & 8841.889 & 3.618502 & 0.05599792 & 0.001 & 0.006 & *\\\\\n",
       "\t Trip\\_3 vs Trip\\_2 & 1 & 9909.808 & 4.280435 & 0.06178418 & 0.001 & 0.006 & *\\\\\n",
       "\t Trip\\_4 vs Trip\\_5 & 1 & 7004.364 & 3.073654 & 0.05385417 & 0.002 & 0.012 & .\\\\\n",
       "\t Trip\\_4 vs Trip\\_2 & 1 & 9192.156 & 4.282750 & 0.06876303 & 0.001 & 0.006 & *\\\\\n",
       "\t Trip\\_5 vs Trip\\_2 & 1 & 6452.861 & 2.927963 & 0.04509556 & 0.001 & 0.006 & *\\\\\n",
       "\\end{tabular}\n"
      ],
      "text/markdown": [
       "\n",
       "A pwadonis: 6 × 8\n",
       "\n",
       "| pairs &lt;chr&gt; | Df &lt;dbl&gt; | SumsOfSqs &lt;dbl&gt; | F.Model &lt;dbl&gt; | R2 &lt;dbl&gt; | p.value &lt;dbl&gt; | p.adjusted &lt;dbl&gt; | sig &lt;chr&gt; |\n",
       "|---|---|---|---|---|---|---|---|\n",
       "| Trip_3 vs Trip_4 | 1 | 9299.245 | 3.871819 | 0.06360610 | 0.001 | 0.006 | * |\n",
       "| Trip_3 vs Trip_5 | 1 | 8841.889 | 3.618502 | 0.05599792 | 0.001 | 0.006 | * |\n",
       "| Trip_3 vs Trip_2 | 1 | 9909.808 | 4.280435 | 0.06178418 | 0.001 | 0.006 | * |\n",
       "| Trip_4 vs Trip_5 | 1 | 7004.364 | 3.073654 | 0.05385417 | 0.002 | 0.012 | . |\n",
       "| Trip_4 vs Trip_2 | 1 | 9192.156 | 4.282750 | 0.06876303 | 0.001 | 0.006 | * |\n",
       "| Trip_5 vs Trip_2 | 1 | 6452.861 | 2.927963 | 0.04509556 | 0.001 | 0.006 | * |\n",
       "\n"
      ],
      "text/plain": [
       "  pairs            Df SumsOfSqs F.Model  R2         p.value p.adjusted sig\n",
       "1 Trip_3 vs Trip_4 1  9299.245  3.871819 0.06360610 0.001   0.006      *  \n",
       "2 Trip_3 vs Trip_5 1  8841.889  3.618502 0.05599792 0.001   0.006      *  \n",
       "3 Trip_3 vs Trip_2 1  9909.808  4.280435 0.06178418 0.001   0.006      *  \n",
       "4 Trip_4 vs Trip_5 1  7004.364  3.073654 0.05385417 0.002   0.012      .  \n",
       "5 Trip_4 vs Trip_2 1  9192.156  4.282750 0.06876303 0.001   0.006      *  \n",
       "6 Trip_5 vs Trip_2 1  6452.861  2.927963 0.04509556 0.001   0.006      *  "
      ]
     },
     "metadata": {},
     "output_type": "display_data"
    },
    {
     "data": {
      "text/html": [
       "<table class=\"dataframe\">\n",
       "<caption>A pwadonis: 6 × 8</caption>\n",
       "<thead>\n",
       "\t<tr><th scope=col>pairs</th><th scope=col>Df</th><th scope=col>SumsOfSqs</th><th scope=col>F.Model</th><th scope=col>R2</th><th scope=col>p.value</th><th scope=col>p.adjusted</th><th scope=col>sig</th></tr>\n",
       "\t<tr><th scope=col>&lt;chr&gt;</th><th scope=col>&lt;dbl&gt;</th><th scope=col>&lt;dbl&gt;</th><th scope=col>&lt;dbl&gt;</th><th scope=col>&lt;dbl&gt;</th><th scope=col>&lt;dbl&gt;</th><th scope=col>&lt;dbl&gt;</th><th scope=col>&lt;chr&gt;</th></tr>\n",
       "</thead>\n",
       "<tbody>\n",
       "\t<tr><td>ML2 vs CN4</td><td>1</td><td>2372.358</td><td>0.9843328</td><td>0.01893518</td><td>0.435</td><td>1.000</td><td> </td></tr>\n",
       "\t<tr><td>ML2 vs HS1</td><td>1</td><td>3934.442</td><td>1.8012458</td><td>0.02962515</td><td>0.004</td><td>0.024</td><td>.</td></tr>\n",
       "\t<tr><td>ML2 vs CN2</td><td>1</td><td>3364.987</td><td>1.4052594</td><td>0.02326386</td><td>0.046</td><td>0.276</td><td> </td></tr>\n",
       "\t<tr><td>CN4 vs HS1</td><td>1</td><td>4105.332</td><td>1.6912502</td><td>0.02741475</td><td>0.006</td><td>0.036</td><td>.</td></tr>\n",
       "\t<tr><td>CN4 vs CN2</td><td>1</td><td>3960.253</td><td>1.5034173</td><td>0.02444445</td><td>0.050</td><td>0.300</td><td> </td></tr>\n",
       "\t<tr><td>HS1 vs CN2</td><td>1</td><td>5848.490</td><td>2.4248784</td><td>0.03443213</td><td>0.001</td><td>0.006</td><td>*</td></tr>\n",
       "</tbody>\n",
       "</table>\n"
      ],
      "text/latex": [
       "A pwadonis: 6 × 8\n",
       "\\begin{tabular}{llllllll}\n",
       " pairs & Df & SumsOfSqs & F.Model & R2 & p.value & p.adjusted & sig\\\\\n",
       " <chr> & <dbl> & <dbl> & <dbl> & <dbl> & <dbl> & <dbl> & <chr>\\\\\n",
       "\\hline\n",
       "\t ML2 vs CN4 & 1 & 2372.358 & 0.9843328 & 0.01893518 & 0.435 & 1.000 &  \\\\\n",
       "\t ML2 vs HS1 & 1 & 3934.442 & 1.8012458 & 0.02962515 & 0.004 & 0.024 & .\\\\\n",
       "\t ML2 vs CN2 & 1 & 3364.987 & 1.4052594 & 0.02326386 & 0.046 & 0.276 &  \\\\\n",
       "\t CN4 vs HS1 & 1 & 4105.332 & 1.6912502 & 0.02741475 & 0.006 & 0.036 & .\\\\\n",
       "\t CN4 vs CN2 & 1 & 3960.253 & 1.5034173 & 0.02444445 & 0.050 & 0.300 &  \\\\\n",
       "\t HS1 vs CN2 & 1 & 5848.490 & 2.4248784 & 0.03443213 & 0.001 & 0.006 & *\\\\\n",
       "\\end{tabular}\n"
      ],
      "text/markdown": [
       "\n",
       "A pwadonis: 6 × 8\n",
       "\n",
       "| pairs &lt;chr&gt; | Df &lt;dbl&gt; | SumsOfSqs &lt;dbl&gt; | F.Model &lt;dbl&gt; | R2 &lt;dbl&gt; | p.value &lt;dbl&gt; | p.adjusted &lt;dbl&gt; | sig &lt;chr&gt; |\n",
       "|---|---|---|---|---|---|---|---|\n",
       "| ML2 vs CN4 | 1 | 2372.358 | 0.9843328 | 0.01893518 | 0.435 | 1.000 | <!----> |\n",
       "| ML2 vs HS1 | 1 | 3934.442 | 1.8012458 | 0.02962515 | 0.004 | 0.024 | . |\n",
       "| ML2 vs CN2 | 1 | 3364.987 | 1.4052594 | 0.02326386 | 0.046 | 0.276 | <!----> |\n",
       "| CN4 vs HS1 | 1 | 4105.332 | 1.6912502 | 0.02741475 | 0.006 | 0.036 | . |\n",
       "| CN4 vs CN2 | 1 | 3960.253 | 1.5034173 | 0.02444445 | 0.050 | 0.300 | <!----> |\n",
       "| HS1 vs CN2 | 1 | 5848.490 | 2.4248784 | 0.03443213 | 0.001 | 0.006 | * |\n",
       "\n"
      ],
      "text/plain": [
       "  pairs      Df SumsOfSqs F.Model   R2         p.value p.adjusted sig\n",
       "1 ML2 vs CN4 1  2372.358  0.9843328 0.01893518 0.435   1.000         \n",
       "2 ML2 vs HS1 1  3934.442  1.8012458 0.02962515 0.004   0.024      .  \n",
       "3 ML2 vs CN2 1  3364.987  1.4052594 0.02326386 0.046   0.276         \n",
       "4 CN4 vs HS1 1  4105.332  1.6912502 0.02741475 0.006   0.036      .  \n",
       "5 CN4 vs CN2 1  3960.253  1.5034173 0.02444445 0.050   0.300         \n",
       "6 HS1 vs CN2 1  5848.490  2.4248784 0.03443213 0.001   0.006      *  "
      ]
     },
     "metadata": {},
     "output_type": "display_data"
    }
   ],
   "source": [
    "pairwise.adonis(ps_veg_ad, phyloseq::sample_data(ps_ra_ad)$reef, sim.method = \"euclidean\",\n",
    "                p.adjust.m = \"bonferroni\")\n",
    "\n",
    "pairwise.adonis(ps_veg_ad, phyloseq::sample_data(ps_ra_ad)$Samp_trip, sim.method = \"euclidean\",\n",
    "                p.adjust.m = \"bonferroni\")\n",
    "\n",
    "pairwise.adonis(ps_veg_ad, phyloseq::sample_data(ps_ra_ad)$Genotype, sim.method = \"euclidean\",\n",
    "                p.adjust.m = \"bonferroni\")"
   ]
  },
  {
   "cell_type": "markdown",
   "id": "c62ae18b-3244-437d-8a1b-ef08ced7bc5a",
   "metadata": {},
   "source": [
    "## PCA correlation"
   ]
  },
  {
   "cell_type": "code",
   "execution_count": 18,
   "id": "9179ec61-58aa-4062-bb64-6918af7f8e4b",
   "metadata": {},
   "outputs": [],
   "source": [
    "ps_ra_df=as.data.frame(otu_table(ps_clr))\n",
    "ps_ra_meta= as(sample_data(ps_clr), \"data.frame\")\n"
   ]
  },
  {
   "cell_type": "code",
   "execution_count": 19,
   "id": "6be1ba86-fdfc-4747-85ca-5b08b9dfa89a",
   "metadata": {},
   "outputs": [
    {
     "name": "stderr",
     "output_type": "stream",
     "text": [
      "-- removing the lower 10% of variables based on variance\n",
      "\n"
     ]
    }
   ],
   "source": [
    "  p <- pca(ps_ra_df, metadata =ps_ra_meta, \n",
    "           removeVar = 0.1)"
   ]
  },
  {
   "cell_type": "code",
   "execution_count": 20,
   "id": "6e89d6c4-ef42-4e4f-bd67-eab430242c53",
   "metadata": {
    "scrolled": true
   },
   "outputs": [
    {
     "name": "stderr",
     "output_type": "stream",
     "text": [
      "Warning message in eigencorplot(p, metavars = c(\"Si.uM.\", \"NO2.uM.\", \"N.N.uM.\", :\n",
      "“Samp_trip is not numeric - please check the source data as non-numeric variables will be coerced to numeric”\n",
      "Warning message in eigencorplot(p, metavars = c(\"Si.uM.\", \"NO2.uM.\", \"N.N.uM.\", :\n",
      "“reef is not numeric - please check the source data as non-numeric variables will be coerced to numeric”\n",
      "Warning message in eigencorplot(p, metavars = c(\"Si.uM.\", \"NO2.uM.\", \"N.N.uM.\", :\n",
      "“Genotype is not numeric - please check the source data as non-numeric variables will be coerced to numeric”\n",
      "Warning message in cor.test.default(xvals[, i], yvals[, j], use = corUSE, method = corFUN):\n",
      "“Cannot compute exact p-value with ties”\n",
      "Warning message in cor.test.default(xvals[, i], yvals[, j], use = corUSE, method = corFUN):\n",
      "“Cannot compute exact p-value with ties”\n",
      "Warning message in cor.test.default(xvals[, i], yvals[, j], use = corUSE, method = corFUN):\n",
      "“Cannot compute exact p-value with ties”\n",
      "Warning message in cor.test.default(xvals[, i], yvals[, j], use = corUSE, method = corFUN):\n",
      "“Cannot compute exact p-value with ties”\n",
      "Warning message in cor.test.default(xvals[, i], yvals[, j], use = corUSE, method = corFUN):\n",
      "“Cannot compute exact p-value with ties”\n",
      "Warning message in cor.test.default(xvals[, i], yvals[, j], use = corUSE, method = corFUN):\n",
      "“Cannot compute exact p-value with ties”\n",
      "Warning message in cor.test.default(xvals[, i], yvals[, j], use = corUSE, method = corFUN):\n",
      "“Cannot compute exact p-value with ties”\n",
      "Warning message in cor.test.default(xvals[, i], yvals[, j], use = corUSE, method = corFUN):\n",
      "“Cannot compute exact p-value with ties”\n",
      "Warning message in cor.test.default(xvals[, i], yvals[, j], use = corUSE, method = corFUN):\n",
      "“Cannot compute exact p-value with ties”\n",
      "Warning message in cor.test.default(xvals[, i], yvals[, j], use = corUSE, method = corFUN):\n",
      "“Cannot compute exact p-value with ties”\n",
      "Warning message in cor.test.default(xvals[, i], yvals[, j], use = corUSE, method = corFUN):\n",
      "“Cannot compute exact p-value with ties”\n",
      "Warning message in cor.test.default(xvals[, i], yvals[, j], use = corUSE, method = corFUN):\n",
      "“Cannot compute exact p-value with ties”\n",
      "Warning message in cor.test.default(xvals[, i], yvals[, j], use = corUSE, method = corFUN):\n",
      "“Cannot compute exact p-value with ties”\n",
      "Warning message in cor.test.default(xvals[, i], yvals[, j], use = corUSE, method = corFUN):\n",
      "“Cannot compute exact p-value with ties”\n",
      "Warning message in cor.test.default(xvals[, i], yvals[, j], use = corUSE, method = corFUN):\n",
      "“Cannot compute exact p-value with ties”\n",
      "Warning message in cor.test.default(xvals[, i], yvals[, j], use = corUSE, method = corFUN):\n",
      "“Cannot compute exact p-value with ties”\n",
      "Warning message in cor.test.default(xvals[, i], yvals[, j], use = corUSE, method = corFUN):\n",
      "“Cannot compute exact p-value with ties”\n",
      "Warning message in cor.test.default(xvals[, i], yvals[, j], use = corUSE, method = corFUN):\n",
      "“Cannot compute exact p-value with ties”\n",
      "Warning message in cor.test.default(xvals[, i], yvals[, j], use = corUSE, method = corFUN):\n",
      "“Cannot compute exact p-value with ties”\n",
      "Warning message in cor.test.default(xvals[, i], yvals[, j], use = corUSE, method = corFUN):\n",
      "“Cannot compute exact p-value with ties”\n",
      "Warning message in cor.test.default(xvals[, i], yvals[, j], use = corUSE, method = corFUN):\n",
      "“Cannot compute exact p-value with ties”\n",
      "Warning message in cor.test.default(xvals[, i], yvals[, j], use = corUSE, method = corFUN):\n",
      "“Cannot compute exact p-value with ties”\n",
      "Warning message in cor.test.default(xvals[, i], yvals[, j], use = corUSE, method = corFUN):\n",
      "“Cannot compute exact p-value with ties”\n",
      "Warning message in cor.test.default(xvals[, i], yvals[, j], use = corUSE, method = corFUN):\n",
      "“Cannot compute exact p-value with ties”\n",
      "Warning message in cor.test.default(xvals[, i], yvals[, j], use = corUSE, method = corFUN):\n",
      "“Cannot compute exact p-value with ties”\n",
      "Warning message in cor.test.default(xvals[, i], yvals[, j], use = corUSE, method = corFUN):\n",
      "“Cannot compute exact p-value with ties”\n",
      "Warning message in cor.test.default(xvals[, i], yvals[, j], use = corUSE, method = corFUN):\n",
      "“Cannot compute exact p-value with ties”\n",
      "Warning message in cor.test.default(xvals[, i], yvals[, j], use = corUSE, method = corFUN):\n",
      "“Cannot compute exact p-value with ties”\n",
      "Warning message in cor.test.default(xvals[, i], yvals[, j], use = corUSE, method = corFUN):\n",
      "“Cannot compute exact p-value with ties”\n",
      "Warning message in cor.test.default(xvals[, i], yvals[, j], use = corUSE, method = corFUN):\n",
      "“Cannot compute exact p-value with ties”\n",
      "Warning message in cor.test.default(xvals[, i], yvals[, j], use = corUSE, method = corFUN):\n",
      "“Cannot compute exact p-value with ties”\n",
      "Warning message in cor.test.default(xvals[, i], yvals[, j], use = corUSE, method = corFUN):\n",
      "“Cannot compute exact p-value with ties”\n",
      "Warning message in cor.test.default(xvals[, i], yvals[, j], use = corUSE, method = corFUN):\n",
      "“Cannot compute exact p-value with ties”\n",
      "Warning message in cor.test.default(xvals[, i], yvals[, j], use = corUSE, method = corFUN):\n",
      "“Cannot compute exact p-value with ties”\n",
      "Warning message in cor.test.default(xvals[, i], yvals[, j], use = corUSE, method = corFUN):\n",
      "“Cannot compute exact p-value with ties”\n",
      "Warning message in cor.test.default(xvals[, i], yvals[, j], use = corUSE, method = corFUN):\n",
      "“Cannot compute exact p-value with ties”\n",
      "Warning message in cor.test.default(xvals[, i], yvals[, j], use = corUSE, method = corFUN):\n",
      "“Cannot compute exact p-value with ties”\n",
      "Warning message in cor.test.default(xvals[, i], yvals[, j], use = corUSE, method = corFUN):\n",
      "“Cannot compute exact p-value with ties”\n",
      "Warning message in cor.test.default(xvals[, i], yvals[, j], use = corUSE, method = corFUN):\n",
      "“Cannot compute exact p-value with ties”\n",
      "Warning message in cor.test.default(xvals[, i], yvals[, j], use = corUSE, method = corFUN):\n",
      "“Cannot compute exact p-value with ties”\n",
      "Warning message in cor.test.default(xvals[, i], yvals[, j], use = corUSE, method = corFUN):\n",
      "“Cannot compute exact p-value with ties”\n",
      "Warning message in cor.test.default(xvals[, i], yvals[, j], use = corUSE, method = corFUN):\n",
      "“Cannot compute exact p-value with ties”\n",
      "Warning message in cor.test.default(xvals[, i], yvals[, j], use = corUSE, method = corFUN):\n",
      "“Cannot compute exact p-value with ties”\n",
      "Warning message in cor.test.default(xvals[, i], yvals[, j], use = corUSE, method = corFUN):\n",
      "“Cannot compute exact p-value with ties”\n",
      "Warning message in cor.test.default(xvals[, i], yvals[, j], use = corUSE, method = corFUN):\n",
      "“Cannot compute exact p-value with ties”\n",
      "Warning message in cor.test.default(xvals[, i], yvals[, j], use = corUSE, method = corFUN):\n",
      "“Cannot compute exact p-value with ties”\n",
      "Warning message in cor.test.default(xvals[, i], yvals[, j], use = corUSE, method = corFUN):\n",
      "“Cannot compute exact p-value with ties”\n",
      "Warning message in cor.test.default(xvals[, i], yvals[, j], use = corUSE, method = corFUN):\n",
      "“Cannot compute exact p-value with ties”\n",
      "Warning message in cor.test.default(xvals[, i], yvals[, j], use = corUSE, method = corFUN):\n",
      "“Cannot compute exact p-value with ties”\n",
      "Warning message in cor.test.default(xvals[, i], yvals[, j], use = corUSE, method = corFUN):\n",
      "“Cannot compute exact p-value with ties”\n",
      "Warning message in cor.test.default(xvals[, i], yvals[, j], use = corUSE, method = corFUN):\n",
      "“Cannot compute exact p-value with ties”\n",
      "Warning message in cor.test.default(xvals[, i], yvals[, j], use = corUSE, method = corFUN):\n",
      "“Cannot compute exact p-value with ties”\n",
      "Warning message in cor.test.default(xvals[, i], yvals[, j], use = corUSE, method = corFUN):\n",
      "“Cannot compute exact p-value with ties”\n",
      "Warning message in cor.test.default(xvals[, i], yvals[, j], use = corUSE, method = corFUN):\n",
      "“Cannot compute exact p-value with ties”\n",
      "Warning message in cor.test.default(xvals[, i], yvals[, j], use = corUSE, method = corFUN):\n",
      "“Cannot compute exact p-value with ties”\n",
      "Warning message in cor.test.default(xvals[, i], yvals[, j], use = corUSE, method = corFUN):\n",
      "“Cannot compute exact p-value with ties”\n",
      "Warning message in cor.test.default(xvals[, i], yvals[, j], use = corUSE, method = corFUN):\n",
      "“Cannot compute exact p-value with ties”\n",
      "Warning message in cor.test.default(xvals[, i], yvals[, j], use = corUSE, method = corFUN):\n",
      "“Cannot compute exact p-value with ties”\n",
      "Warning message in cor.test.default(xvals[, i], yvals[, j], use = corUSE, method = corFUN):\n",
      "“Cannot compute exact p-value with ties”\n",
      "Warning message in cor.test.default(xvals[, i], yvals[, j], use = corUSE, method = corFUN):\n",
      "“Cannot compute exact p-value with ties”\n",
      "Warning message in cor.test.default(xvals[, i], yvals[, j], use = corUSE, method = corFUN):\n",
      "“Cannot compute exact p-value with ties”\n",
      "Warning message in cor.test.default(xvals[, i], yvals[, j], use = corUSE, method = corFUN):\n",
      "“Cannot compute exact p-value with ties”\n",
      "Warning message in cor.test.default(xvals[, i], yvals[, j], use = corUSE, method = corFUN):\n",
      "“Cannot compute exact p-value with ties”\n",
      "Warning message in cor.test.default(xvals[, i], yvals[, j], use = corUSE, method = corFUN):\n",
      "“Cannot compute exact p-value with ties”\n",
      "Warning message in cor.test.default(xvals[, i], yvals[, j], use = corUSE, method = corFUN):\n",
      "“Cannot compute exact p-value with ties”\n",
      "Warning message in cor.test.default(xvals[, i], yvals[, j], use = corUSE, method = corFUN):\n",
      "“Cannot compute exact p-value with ties”\n",
      "Warning message in cor.test.default(xvals[, i], yvals[, j], use = corUSE, method = corFUN):\n",
      "“Cannot compute exact p-value with ties”\n",
      "Warning message in cor.test.default(xvals[, i], yvals[, j], use = corUSE, method = corFUN):\n",
      "“Cannot compute exact p-value with ties”\n",
      "Warning message in cor.test.default(xvals[, i], yvals[, j], use = corUSE, method = corFUN):\n",
      "“Cannot compute exact p-value with ties”\n",
      "Warning message in cor.test.default(xvals[, i], yvals[, j], use = corUSE, method = corFUN):\n",
      "“Cannot compute exact p-value with ties”\n",
      "Warning message in cor.test.default(xvals[, i], yvals[, j], use = corUSE, method = corFUN):\n",
      "“Cannot compute exact p-value with ties”\n",
      "Warning message in cor.test.default(xvals[, i], yvals[, j], use = corUSE, method = corFUN):\n",
      "“Cannot compute exact p-value with ties”\n",
      "Warning message in cor.test.default(xvals[, i], yvals[, j], use = corUSE, method = corFUN):\n",
      "“Cannot compute exact p-value with ties”\n",
      "Warning message in cor.test.default(xvals[, i], yvals[, j], use = corUSE, method = corFUN):\n",
      "“Cannot compute exact p-value with ties”\n",
      "Warning message in cor.test.default(xvals[, i], yvals[, j], use = corUSE, method = corFUN):\n",
      "“Cannot compute exact p-value with ties”\n",
      "Warning message in cor.test.default(xvals[, i], yvals[, j], use = corUSE, method = corFUN):\n",
      "“Cannot compute exact p-value with ties”\n",
      "Warning message in cor.test.default(xvals[, i], yvals[, j], use = corUSE, method = corFUN):\n",
      "“Cannot compute exact p-value with ties”\n",
      "Warning message in cor.test.default(xvals[, i], yvals[, j], use = corUSE, method = corFUN):\n",
      "“Cannot compute exact p-value with ties”\n",
      "Warning message in cor.test.default(xvals[, i], yvals[, j], use = corUSE, method = corFUN):\n",
      "“Cannot compute exact p-value with ties”\n",
      "Warning message in cor.test.default(xvals[, i], yvals[, j], use = corUSE, method = corFUN):\n",
      "“Cannot compute exact p-value with ties”\n",
      "Warning message in cor.test.default(xvals[, i], yvals[, j], use = corUSE, method = corFUN):\n",
      "“Cannot compute exact p-value with ties”\n",
      "Warning message in cor.test.default(xvals[, i], yvals[, j], use = corUSE, method = corFUN):\n",
      "“Cannot compute exact p-value with ties”\n",
      "Warning message in cor.test.default(xvals[, i], yvals[, j], use = corUSE, method = corFUN):\n",
      "“Cannot compute exact p-value with ties”\n",
      "Warning message in cor.test.default(xvals[, i], yvals[, j], use = corUSE, method = corFUN):\n",
      "“Cannot compute exact p-value with ties”\n",
      "Warning message in cor.test.default(xvals[, i], yvals[, j], use = corUSE, method = corFUN):\n",
      "“Cannot compute exact p-value with ties”\n",
      "Warning message in cor.test.default(xvals[, i], yvals[, j], use = corUSE, method = corFUN):\n",
      "“Cannot compute exact p-value with ties”\n",
      "Warning message in cor.test.default(xvals[, i], yvals[, j], use = corUSE, method = corFUN):\n",
      "“Cannot compute exact p-value with ties”\n",
      "Warning message in cor.test.default(xvals[, i], yvals[, j], use = corUSE, method = corFUN):\n",
      "“Cannot compute exact p-value with ties”\n",
      "Warning message in cor.test.default(xvals[, i], yvals[, j], use = corUSE, method = corFUN):\n",
      "“Cannot compute exact p-value with ties”\n",
      "Warning message in cor.test.default(xvals[, i], yvals[, j], use = corUSE, method = corFUN):\n",
      "“Cannot compute exact p-value with ties”\n",
      "Warning message in cor.test.default(xvals[, i], yvals[, j], use = corUSE, method = corFUN):\n",
      "“Cannot compute exact p-value with ties”\n",
      "Warning message in cor.test.default(xvals[, i], yvals[, j], use = corUSE, method = corFUN):\n",
      "“Cannot compute exact p-value with ties”\n",
      "Warning message in cor.test.default(xvals[, i], yvals[, j], use = corUSE, method = corFUN):\n",
      "“Cannot compute exact p-value with ties”\n",
      "Warning message in cor.test.default(xvals[, i], yvals[, j], use = corUSE, method = corFUN):\n",
      "“Cannot compute exact p-value with ties”\n",
      "Warning message in cor.test.default(xvals[, i], yvals[, j], use = corUSE, method = corFUN):\n",
      "“Cannot compute exact p-value with ties”\n",
      "Warning message in cor.test.default(xvals[, i], yvals[, j], use = corUSE, method = corFUN):\n",
      "“Cannot compute exact p-value with ties”\n",
      "Warning message in cor.test.default(xvals[, i], yvals[, j], use = corUSE, method = corFUN):\n",
      "“Cannot compute exact p-value with ties”\n",
      "Warning message in cor.test.default(xvals[, i], yvals[, j], use = corUSE, method = corFUN):\n",
      "“Cannot compute exact p-value with ties”\n",
      "Warning message in cor.test.default(xvals[, i], yvals[, j], use = corUSE, method = corFUN):\n",
      "“Cannot compute exact p-value with ties”\n",
      "Warning message in cor.test.default(xvals[, i], yvals[, j], use = corUSE, method = corFUN):\n",
      "“Cannot compute exact p-value with ties”\n",
      "Warning message in cor.test.default(xvals[, i], yvals[, j], use = corUSE, method = corFUN):\n",
      "“Cannot compute exact p-value with ties”\n",
      "Warning message in cor.test.default(xvals[, i], yvals[, j], use = corUSE, method = corFUN):\n",
      "“Cannot compute exact p-value with ties”\n",
      "Warning message in cor.test.default(xvals[, i], yvals[, j], use = corUSE, method = corFUN):\n",
      "“Cannot compute exact p-value with ties”\n",
      "Warning message in cor.test.default(xvals[, i], yvals[, j], use = corUSE, method = corFUN):\n",
      "“Cannot compute exact p-value with ties”\n",
      "Warning message in cor.test.default(xvals[, i], yvals[, j], use = corUSE, method = corFUN):\n",
      "“Cannot compute exact p-value with ties”\n",
      "Warning message in cor.test.default(xvals[, i], yvals[, j], use = corUSE, method = corFUN):\n",
      "“Cannot compute exact p-value with ties”\n",
      "Warning message in cor.test.default(xvals[, i], yvals[, j], use = corUSE, method = corFUN):\n",
      "“Cannot compute exact p-value with ties”\n",
      "Warning message in cor.test.default(xvals[, i], yvals[, j], use = corUSE, method = corFUN):\n",
      "“Cannot compute exact p-value with ties”\n",
      "Warning message in cor.test.default(xvals[, i], yvals[, j], use = corUSE, method = corFUN):\n",
      "“Cannot compute exact p-value with ties”\n",
      "Warning message in cor.test.default(xvals[, i], yvals[, j], use = corUSE, method = corFUN):\n",
      "“Cannot compute exact p-value with ties”\n",
      "Warning message in cor.test.default(xvals[, i], yvals[, j], use = corUSE, method = corFUN):\n",
      "“Cannot compute exact p-value with ties”\n",
      "Warning message in cor.test.default(xvals[, i], yvals[, j], use = corUSE, method = corFUN):\n",
      "“Cannot compute exact p-value with ties”\n",
      "Warning message in cor.test.default(xvals[, i], yvals[, j], use = corUSE, method = corFUN):\n",
      "“Cannot compute exact p-value with ties”\n",
      "Warning message in cor.test.default(xvals[, i], yvals[, j], use = corUSE, method = corFUN):\n",
      "“Cannot compute exact p-value with ties”\n",
      "Warning message in cor.test.default(xvals[, i], yvals[, j], use = corUSE, method = corFUN):\n",
      "“Cannot compute exact p-value with ties”\n",
      "Warning message in cor.test.default(xvals[, i], yvals[, j], use = corUSE, method = corFUN):\n",
      "“Cannot compute exact p-value with ties”\n",
      "Warning message in cor.test.default(xvals[, i], yvals[, j], use = corUSE, method = corFUN):\n",
      "“Cannot compute exact p-value with ties”\n",
      "Warning message in cor.test.default(xvals[, i], yvals[, j], use = corUSE, method = corFUN):\n",
      "“Cannot compute exact p-value with ties”\n",
      "Warning message in cor.test.default(xvals[, i], yvals[, j], use = corUSE, method = corFUN):\n",
      "“Cannot compute exact p-value with ties”\n",
      "Warning message in cor.test.default(xvals[, i], yvals[, j], use = corUSE, method = corFUN):\n",
      "“Cannot compute exact p-value with ties”\n",
      "Warning message in cor.test.default(xvals[, i], yvals[, j], use = corUSE, method = corFUN):\n",
      "“Cannot compute exact p-value with ties”\n",
      "Warning message in cor.test.default(xvals[, i], yvals[, j], use = corUSE, method = corFUN):\n",
      "“Cannot compute exact p-value with ties”\n",
      "Warning message in cor.test.default(xvals[, i], yvals[, j], use = corUSE, method = corFUN):\n",
      "“Cannot compute exact p-value with ties”\n",
      "Warning message in cor.test.default(xvals[, i], yvals[, j], use = corUSE, method = corFUN):\n",
      "“Cannot compute exact p-value with ties”\n",
      "Warning message in cor.test.default(xvals[, i], yvals[, j], use = corUSE, method = corFUN):\n",
      "“Cannot compute exact p-value with ties”\n",
      "Warning message in cor.test.default(xvals[, i], yvals[, j], use = corUSE, method = corFUN):\n",
      "“Cannot compute exact p-value with ties”\n",
      "Warning message in cor.test.default(xvals[, i], yvals[, j], use = corUSE, method = corFUN):\n",
      "“Cannot compute exact p-value with ties”\n",
      "Warning message in cor.test.default(xvals[, i], yvals[, j], use = corUSE, method = corFUN):\n",
      "“Cannot compute exact p-value with ties”\n",
      "Warning message in cor.test.default(xvals[, i], yvals[, j], use = corUSE, method = corFUN):\n",
      "“Cannot compute exact p-value with ties”\n",
      "Warning message in cor.test.default(xvals[, i], yvals[, j], use = corUSE, method = corFUN):\n",
      "“Cannot compute exact p-value with ties”\n",
      "Warning message in cor.test.default(xvals[, i], yvals[, j], use = corUSE, method = corFUN):\n",
      "“Cannot compute exact p-value with ties”\n",
      "Warning message in cor.test.default(xvals[, i], yvals[, j], use = corUSE, method = corFUN):\n",
      "“Cannot compute exact p-value with ties”\n",
      "Warning message in cor.test.default(xvals[, i], yvals[, j], use = corUSE, method = corFUN):\n",
      "“Cannot compute exact p-value with ties”\n",
      "Warning message in cor.test.default(xvals[, i], yvals[, j], use = corUSE, method = corFUN):\n",
      "“Cannot compute exact p-value with ties”\n",
      "Warning message in cor.test.default(xvals[, i], yvals[, j], use = corUSE, method = corFUN):\n",
      "“Cannot compute exact p-value with ties”\n",
      "Warning message in cor.test.default(xvals[, i], yvals[, j], use = corUSE, method = corFUN):\n",
      "“Cannot compute exact p-value with ties”\n",
      "Warning message in cor.test.default(xvals[, i], yvals[, j], use = corUSE, method = corFUN):\n",
      "“Cannot compute exact p-value with ties”\n",
      "Warning message in cor.test.default(xvals[, i], yvals[, j], use = corUSE, method = corFUN):\n",
      "“Cannot compute exact p-value with ties”\n",
      "Warning message in cor.test.default(xvals[, i], yvals[, j], use = corUSE, method = corFUN):\n",
      "“Cannot compute exact p-value with ties”\n",
      "Warning message in cor.test.default(xvals[, i], yvals[, j], use = corUSE, method = corFUN):\n",
      "“Cannot compute exact p-value with ties”\n"
     ]
    },
    {
     "data": {
      "image/png": "[encoded data removed]",
      "text/plain": [
       "plot without title"
      ]
     },
     "metadata": {
      "image/png": {
       "height": 420,
       "width": 420
      }
     },
     "output_type": "display_data"
    }
   ],
   "source": [
    " eigencorplot(p,\n",
    "    metavars = c('Si.uM.', 'NO2.uM.', 'N.N.uM.', 'NO3.uM.', 'PO4.uM.', \"Samp_trip\", \"avgchla_mgm.3\", \"reef\", \"Genotype\",\n",
    "                \"Speed.cm.s.\", \"avgSST_degC\", 'cluster_depth', \"Survivorship_reef\",\n",
    "                \"LiveFrag\"),\n",
    "              col = c('white', 'cornsilk1', \"#FFE4A1\",  '#CFF3CA', \"#77B3B5\"),\n",
    "    cexCorval = 0.5,\n",
    "    fontCorval = 0.5,\n",
    "    cexTitleX = 4,\n",
    "    \n",
    "    #posLab = 'all',\n",
    "    rotLabX = 45,\n",
    "    scale = TRUE,\n",
    "    plotRsquared = TRUE,\n",
    "    corFUN = 'spearman',\n",
    "    corUSE = 'pairwise.complete.obs',\n",
    "    corMultipleTestCorrection = 'BH')"
   ]
  },
  {
   "cell_type": "markdown",
   "id": "bbbc627e-f7ba-43f5-b90a-1bde3406703a",
   "metadata": {},
   "source": [
    "### Model selection"
   ]
  },
  {
   "cell_type": "code",
   "execution_count": 21,
   "id": "5e636c8a-7590-4b03-b97e-09b4462438a3",
   "metadata": {},
   "outputs": [
    {
     "data": {
      "text/plain": [
       "phyloseq-class experiment-level object\n",
       "otu_table()   OTU Table:          [ 464 taxa and 123 samples ]:\n",
       "sample_data() Sample Data:        [ 123 samples by 58 sample variables ]:\n",
       "tax_table()   Taxonomy Table:     [ 464 taxa by 7 taxonomic ranks ]:\n",
       "taxa are rows"
      ]
     },
     "metadata": {},
     "output_type": "display_data"
    }
   ],
   "source": [
    "#remove samples with NA values (one found)\n",
    "ps_fill_ad =  subset_samples(ps_fill, cluster_depth!= \"NA\")\n",
    "ps_fill_ad"
   ]
  },
  {
   "cell_type": "code",
   "execution_count": 22,
   "id": "7768fdf9-67f0-4bd9-99cd-8311e43e0563",
   "metadata": {},
   "outputs": [],
   "source": [
    "ps_ad_clr<- microbiome::transform(ps_fill_ad, 'clr')"
   ]
  },
  {
   "cell_type": "code",
   "execution_count": 23,
   "id": "5b0b378c-9bf9-4fcc-b5ae-8cc202f2e13c",
   "metadata": {},
   "outputs": [
    {
     "data": {
      "text/html": [
       "<table class=\"dataframe\">\n",
       "<caption>A matrix: 11 × 11 of type dbl</caption>\n",
       "<thead>\n",
       "\t<tr><th></th><th scope=col>Survivorship</th><th scope=col>Speed.cm.s.</th><th scope=col>NO2.uM.</th><th scope=col>N.N.uM.</th><th scope=col>NO3.uM.</th><th scope=col>PO4.uM.</th><th scope=col>Si.uM.</th><th scope=col>avgSST_degC</th><th scope=col>avgchla_mgm.3</th><th scope=col>Temperature.C.</th><th scope=col>cluster_depth</th></tr>\n",
       "</thead>\n",
       "<tbody>\n",
       "\t<tr><th scope=row>Survivorship</th><td> 1.00000000</td><td> 0.2020492682</td><td>-0.1836833</td><td> 0.084967901</td><td> 0.088026513</td><td>-0.1308039</td><td> 0.06845218</td><td> 0.02197782</td><td> 0.16307450</td><td> 0.12331186</td><td> 0.5141129492</td></tr>\n",
       "\t<tr><th scope=row>Speed.cm.s.</th><td> 0.20204927</td><td> 1.0000000000</td><td>-0.5226575</td><td>-0.526369425</td><td>-0.523932358</td><td> 0.2161646</td><td> 0.56575261</td><td> 0.09900841</td><td>-0.10532626</td><td> 0.23210342</td><td>-0.0008218181</td></tr>\n",
       "\t<tr><th scope=row>NO2.uM.</th><td>-0.18368333</td><td>-0.5226575253</td><td> 1.0000000</td><td> 0.600955150</td><td> 0.592725527</td><td> 0.2118500</td><td>-0.40071463</td><td> 0.67925128</td><td> 0.34020161</td><td> 0.48175219</td><td> 0.1747620009</td></tr>\n",
       "\t<tr><th scope=row>N.N.uM.</th><td> 0.08496790</td><td>-0.5263694251</td><td> 0.6009551</td><td> 1.000000000</td><td> 0.999946523</td><td>-0.2414270</td><td>-0.25695181</td><td> 0.58228370</td><td> 0.09957937</td><td> 0.50901685</td><td> 0.0086891323</td></tr>\n",
       "\t<tr><th scope=row>NO3.uM.</th><td> 0.08802651</td><td>-0.5239323584</td><td> 0.5927255</td><td> 0.999946523</td><td> 1.000000000</td><td>-0.2464721</td><td>-0.25365364</td><td> 0.57778615</td><td> 0.09594188</td><td> 0.50664161</td><td> 0.0067718459</td></tr>\n",
       "\t<tr><th scope=row>PO4.uM.</th><td>-0.13080390</td><td> 0.2161646280</td><td> 0.2118500</td><td>-0.241427008</td><td>-0.246472133</td><td> 1.0000000</td><td> 0.37463374</td><td> 0.13900451</td><td>-0.29248684</td><td> 0.27188880</td><td>-0.1817348386</td></tr>\n",
       "\t<tr><th scope=row>Si.uM.</th><td> 0.06845218</td><td> 0.5657526055</td><td>-0.4007146</td><td>-0.256951805</td><td>-0.253653641</td><td> 0.3746337</td><td> 1.00000000</td><td>-0.04533715</td><td>-0.34968432</td><td> 0.41990152</td><td>-0.2475579186</td></tr>\n",
       "\t<tr><th scope=row>avgSST_degC</th><td> 0.02197782</td><td> 0.0990084123</td><td> 0.6792513</td><td> 0.582283696</td><td> 0.577786146</td><td> 0.1390045</td><td>-0.04533715</td><td> 1.00000000</td><td> 0.27526552</td><td> 0.86287125</td><td> 0.0730679677</td></tr>\n",
       "\t<tr><th scope=row>avgchla_mgm.3</th><td> 0.16307450</td><td>-0.1053262577</td><td> 0.3402016</td><td> 0.099579366</td><td> 0.095941878</td><td>-0.2924868</td><td>-0.34968432</td><td> 0.27526552</td><td> 1.00000000</td><td> 0.07966301</td><td> 0.7674665590</td></tr>\n",
       "\t<tr><th scope=row>Temperature.C.</th><td> 0.12331186</td><td> 0.2321034185</td><td> 0.4817522</td><td> 0.509016849</td><td> 0.506641614</td><td> 0.2718888</td><td> 0.41990152</td><td> 0.86287125</td><td> 0.07966301</td><td> 1.00000000</td><td>-0.0110588102</td></tr>\n",
       "\t<tr><th scope=row>cluster_depth</th><td> 0.51411295</td><td>-0.0008218181</td><td> 0.1747620</td><td> 0.008689132</td><td> 0.006771846</td><td>-0.1817348</td><td>-0.24755792</td><td> 0.07306797</td><td> 0.76746656</td><td>-0.01105881</td><td> 1.0000000000</td></tr>\n",
       "</tbody>\n",
       "</table>\n"
      ],
      "text/latex": [
       "A matrix: 11 × 11 of type dbl\n",
       "\\begin{tabular}{r|lllllllllll}\n",
       "  & Survivorship & Speed.cm.s. & NO2.uM. & N.N.uM. & NO3.uM. & PO4.uM. & Si.uM. & avgSST\\_degC & avgchla\\_mgm.3 & Temperature.C. & cluster\\_depth\\\\\n",
       "\\hline\n",
       "\tSurvivorship &  1.00000000 &  0.2020492682 & -0.1836833 &  0.084967901 &  0.088026513 & -0.1308039 &  0.06845218 &  0.02197782 &  0.16307450 &  0.12331186 &  0.5141129492\\\\\n",
       "\tSpeed.cm.s. &  0.20204927 &  1.0000000000 & -0.5226575 & -0.526369425 & -0.523932358 &  0.2161646 &  0.56575261 &  0.09900841 & -0.10532626 &  0.23210342 & -0.0008218181\\\\\n",
       "\tNO2.uM. & -0.18368333 & -0.5226575253 &  1.0000000 &  0.600955150 &  0.592725527 &  0.2118500 & -0.40071463 &  0.67925128 &  0.34020161 &  0.48175219 &  0.1747620009\\\\\n",
       "\tN.N.uM. &  0.08496790 & -0.5263694251 &  0.6009551 &  1.000000000 &  0.999946523 & -0.2414270 & -0.25695181 &  0.58228370 &  0.09957937 &  0.50901685 &  0.0086891323\\\\\n",
       "\tNO3.uM. &  0.08802651 & -0.5239323584 &  0.5927255 &  0.999946523 &  1.000000000 & -0.2464721 & -0.25365364 &  0.57778615 &  0.09594188 &  0.50664161 &  0.0067718459\\\\\n",
       "\tPO4.uM. & -0.13080390 &  0.2161646280 &  0.2118500 & -0.241427008 & -0.246472133 &  1.0000000 &  0.37463374 &  0.13900451 & -0.29248684 &  0.27188880 & -0.1817348386\\\\\n",
       "\tSi.uM. &  0.06845218 &  0.5657526055 & -0.4007146 & -0.256951805 & -0.253653641 &  0.3746337 &  1.00000000 & -0.04533715 & -0.34968432 &  0.41990152 & -0.2475579186\\\\\n",
       "\tavgSST\\_degC &  0.02197782 &  0.0990084123 &  0.6792513 &  0.582283696 &  0.577786146 &  0.1390045 & -0.04533715 &  1.00000000 &  0.27526552 &  0.86287125 &  0.0730679677\\\\\n",
       "\tavgchla\\_mgm.3 &  0.16307450 & -0.1053262577 &  0.3402016 &  0.099579366 &  0.095941878 & -0.2924868 & -0.34968432 &  0.27526552 &  1.00000000 &  0.07966301 &  0.7674665590\\\\\n",
       "\tTemperature.C. &  0.12331186 &  0.2321034185 &  0.4817522 &  0.509016849 &  0.506641614 &  0.2718888 &  0.41990152 &  0.86287125 &  0.07966301 &  1.00000000 & -0.0110588102\\\\\n",
       "\tcluster\\_depth &  0.51411295 & -0.0008218181 &  0.1747620 &  0.008689132 &  0.006771846 & -0.1817348 & -0.24755792 &  0.07306797 &  0.76746656 & -0.01105881 &  1.0000000000\\\\\n",
       "\\end{tabular}\n"
      ],
      "text/markdown": [
       "\n",
       "A matrix: 11 × 11 of type dbl\n",
       "\n",
       "| <!--/--> | Survivorship | Speed.cm.s. | NO2.uM. | N.N.uM. | NO3.uM. | PO4.uM. | Si.uM. | avgSST_degC | avgchla_mgm.3 | Temperature.C. | cluster_depth |\n",
       "|---|---|---|---|---|---|---|---|---|---|---|---|\n",
       "| Survivorship |  1.00000000 |  0.2020492682 | -0.1836833 |  0.084967901 |  0.088026513 | -0.1308039 |  0.06845218 |  0.02197782 |  0.16307450 |  0.12331186 |  0.5141129492 |\n",
       "| Speed.cm.s. |  0.20204927 |  1.0000000000 | -0.5226575 | -0.526369425 | -0.523932358 |  0.2161646 |  0.56575261 |  0.09900841 | -0.10532626 |  0.23210342 | -0.0008218181 |\n",
       "| NO2.uM. | -0.18368333 | -0.5226575253 |  1.0000000 |  0.600955150 |  0.592725527 |  0.2118500 | -0.40071463 |  0.67925128 |  0.34020161 |  0.48175219 |  0.1747620009 |\n",
       "| N.N.uM. |  0.08496790 | -0.5263694251 |  0.6009551 |  1.000000000 |  0.999946523 | -0.2414270 | -0.25695181 |  0.58228370 |  0.09957937 |  0.50901685 |  0.0086891323 |\n",
       "| NO3.uM. |  0.08802651 | -0.5239323584 |  0.5927255 |  0.999946523 |  1.000000000 | -0.2464721 | -0.25365364 |  0.57778615 |  0.09594188 |  0.50664161 |  0.0067718459 |\n",
       "| PO4.uM. | -0.13080390 |  0.2161646280 |  0.2118500 | -0.241427008 | -0.246472133 |  1.0000000 |  0.37463374 |  0.13900451 | -0.29248684 |  0.27188880 | -0.1817348386 |\n",
       "| Si.uM. |  0.06845218 |  0.5657526055 | -0.4007146 | -0.256951805 | -0.253653641 |  0.3746337 |  1.00000000 | -0.04533715 | -0.34968432 |  0.41990152 | -0.2475579186 |\n",
       "| avgSST_degC |  0.02197782 |  0.0990084123 |  0.6792513 |  0.582283696 |  0.577786146 |  0.1390045 | -0.04533715 |  1.00000000 |  0.27526552 |  0.86287125 |  0.0730679677 |\n",
       "| avgchla_mgm.3 |  0.16307450 | -0.1053262577 |  0.3402016 |  0.099579366 |  0.095941878 | -0.2924868 | -0.34968432 |  0.27526552 |  1.00000000 |  0.07966301 |  0.7674665590 |\n",
       "| Temperature.C. |  0.12331186 |  0.2321034185 |  0.4817522 |  0.509016849 |  0.506641614 |  0.2718888 |  0.41990152 |  0.86287125 |  0.07966301 |  1.00000000 | -0.0110588102 |\n",
       "| cluster_depth |  0.51411295 | -0.0008218181 |  0.1747620 |  0.008689132 |  0.006771846 | -0.1817348 | -0.24755792 |  0.07306797 |  0.76746656 | -0.01105881 |  1.0000000000 |\n",
       "\n"
      ],
      "text/plain": [
       "               Survivorship Speed.cm.s.   NO2.uM.    N.N.uM.      NO3.uM.     \n",
       "Survivorship    1.00000000   0.2020492682 -0.1836833  0.084967901  0.088026513\n",
       "Speed.cm.s.     0.20204927   1.0000000000 -0.5226575 -0.526369425 -0.523932358\n",
       "NO2.uM.        -0.18368333  -0.5226575253  1.0000000  0.600955150  0.592725527\n",
       "N.N.uM.         0.08496790  -0.5263694251  0.6009551  1.000000000  0.999946523\n",
       "NO3.uM.         0.08802651  -0.5239323584  0.5927255  0.999946523  1.000000000\n",
       "PO4.uM.        -0.13080390   0.2161646280  0.2118500 -0.241427008 -0.246472133\n",
       "Si.uM.          0.06845218   0.5657526055 -0.4007146 -0.256951805 -0.253653641\n",
       "avgSST_degC     0.02197782   0.0990084123  0.6792513  0.582283696  0.577786146\n",
       "avgchla_mgm.3   0.16307450  -0.1053262577  0.3402016  0.099579366  0.095941878\n",
       "Temperature.C.  0.12331186   0.2321034185  0.4817522  0.509016849  0.506641614\n",
       "cluster_depth   0.51411295  -0.0008218181  0.1747620  0.008689132  0.006771846\n",
       "               PO4.uM.    Si.uM.      avgSST_degC avgchla_mgm.3 Temperature.C.\n",
       "Survivorship   -0.1308039  0.06845218  0.02197782  0.16307450    0.12331186   \n",
       "Speed.cm.s.     0.2161646  0.56575261  0.09900841 -0.10532626    0.23210342   \n",
       "NO2.uM.         0.2118500 -0.40071463  0.67925128  0.34020161    0.48175219   \n",
       "N.N.uM.        -0.2414270 -0.25695181  0.58228370  0.09957937    0.50901685   \n",
       "NO3.uM.        -0.2464721 -0.25365364  0.57778615  0.09594188    0.50664161   \n",
       "PO4.uM.         1.0000000  0.37463374  0.13900451 -0.29248684    0.27188880   \n",
       "Si.uM.          0.3746337  1.00000000 -0.04533715 -0.34968432    0.41990152   \n",
       "avgSST_degC     0.1390045 -0.04533715  1.00000000  0.27526552    0.86287125   \n",
       "avgchla_mgm.3  -0.2924868 -0.34968432  0.27526552  1.00000000    0.07966301   \n",
       "Temperature.C.  0.2718888  0.41990152  0.86287125  0.07966301    1.00000000   \n",
       "cluster_depth  -0.1817348 -0.24755792  0.07306797  0.76746656   -0.01105881   \n",
       "               cluster_depth\n",
       "Survivorship    0.5141129492\n",
       "Speed.cm.s.    -0.0008218181\n",
       "NO2.uM.         0.1747620009\n",
       "N.N.uM.         0.0086891323\n",
       "NO3.uM.         0.0067718459\n",
       "PO4.uM.        -0.1817348386\n",
       "Si.uM.         -0.2475579186\n",
       "avgSST_degC     0.0730679677\n",
       "avgchla_mgm.3   0.7674665590\n",
       "Temperature.C. -0.0110588102\n",
       "cluster_depth   1.0000000000"
      ]
     },
     "metadata": {},
     "output_type": "display_data"
    }
   ],
   "source": [
    "ps_clr_ad_meta1= ps_ra_ad_meta %>% select(\"Genotype\", \"Samp_trip\", \"reef\",\"Survivorship\",'Speed.cm.s.', 'NO2.uM.', 'N.N.uM.', 'NO3.uM.', 'PO4.uM.', 'Si.uM.',\n",
    "                \"Speed.cm.s.\", \"avgSST_degC\", \"avgchla_mgm.3\", \"Temperature.C.\",\"cluster_depth\")\n",
    "\n",
    "\n",
    "cor(ps_clr_ad_meta1[4:14])"
   ]
  },
  {
   "cell_type": "code",
   "execution_count": 24,
   "id": "c7186637-f5d3-4ee0-945c-331f7be8a8bc",
   "metadata": {},
   "outputs": [
    {
     "data": {
      "text/html": [
       "<table class=\"dataframe\">\n",
       "<caption>A data.frame: 6 × 8</caption>\n",
       "<thead>\n",
       "\t<tr><th></th><th scope=col>NO2.uM.</th><th scope=col>NO3.uM.</th><th scope=col>PO4.uM.</th><th scope=col>Si.uM.</th><th scope=col>Speed.cm.s.</th><th scope=col>avgSST_degC</th><th scope=col>cluster_depth</th><th scope=col>Survivorship</th></tr>\n",
       "\t<tr><th></th><th scope=col>&lt;dbl&gt;</th><th scope=col>&lt;dbl&gt;</th><th scope=col>&lt;dbl&gt;</th><th scope=col>&lt;dbl&gt;</th><th scope=col>&lt;dbl&gt;</th><th scope=col>&lt;dbl&gt;</th><th scope=col>&lt;dbl&gt;</th><th scope=col>&lt;dbl&gt;</th></tr>\n",
       "</thead>\n",
       "<tbody>\n",
       "\t<tr><th scope=row>ML2_78_cf_Trip_3</th><td>0.032</td><td>0.861</td><td>0.0685</td><td>0.706</td><td>4.852118</td><td>29.63623</td><td>-20.9</td><td>0.3571429</td></tr>\n",
       "\t<tr><th scope=row>CN4_35_cf_Trip_3</th><td>0.032</td><td>0.861</td><td>0.0685</td><td>0.706</td><td>4.852118</td><td>29.63623</td><td>-17.9</td><td>0.6428571</td></tr>\n",
       "\t<tr><th scope=row>CN4_25_cf_Trip_3</th><td>0.032</td><td>0.861</td><td>0.0685</td><td>0.706</td><td>4.852118</td><td>29.63623</td><td>-20.8</td><td>0.6428571</td></tr>\n",
       "\t<tr><th scope=row>HS1_18_cf_Trip_3</th><td>0.032</td><td>0.861</td><td>0.0685</td><td>0.706</td><td>4.852118</td><td>29.63623</td><td>-18.8</td><td>0.7619048</td></tr>\n",
       "\t<tr><th scope=row>HS1_17_cf_Trip_3</th><td>0.032</td><td>0.861</td><td>0.0685</td><td>0.706</td><td>4.852118</td><td>29.63623</td><td>-17.8</td><td>0.7619048</td></tr>\n",
       "\t<tr><th scope=row>HS1_15_cf_Trip_3</th><td>0.032</td><td>0.861</td><td>0.0685</td><td>0.706</td><td>4.852118</td><td>29.63623</td><td>-17.6</td><td>0.7619048</td></tr>\n",
       "</tbody>\n",
       "</table>\n"
      ],
      "text/latex": [
       "A data.frame: 6 × 8\n",
       "\\begin{tabular}{r|llllllll}\n",
       "  & NO2.uM. & NO3.uM. & PO4.uM. & Si.uM. & Speed.cm.s. & avgSST\\_degC & cluster\\_depth & Survivorship\\\\\n",
       "  & <dbl> & <dbl> & <dbl> & <dbl> & <dbl> & <dbl> & <dbl> & <dbl>\\\\\n",
       "\\hline\n",
       "\tML2\\_78\\_cf\\_Trip\\_3 & 0.032 & 0.861 & 0.0685 & 0.706 & 4.852118 & 29.63623 & -20.9 & 0.3571429\\\\\n",
       "\tCN4\\_35\\_cf\\_Trip\\_3 & 0.032 & 0.861 & 0.0685 & 0.706 & 4.852118 & 29.63623 & -17.9 & 0.6428571\\\\\n",
       "\tCN4\\_25\\_cf\\_Trip\\_3 & 0.032 & 0.861 & 0.0685 & 0.706 & 4.852118 & 29.63623 & -20.8 & 0.6428571\\\\\n",
       "\tHS1\\_18\\_cf\\_Trip\\_3 & 0.032 & 0.861 & 0.0685 & 0.706 & 4.852118 & 29.63623 & -18.8 & 0.7619048\\\\\n",
       "\tHS1\\_17\\_cf\\_Trip\\_3 & 0.032 & 0.861 & 0.0685 & 0.706 & 4.852118 & 29.63623 & -17.8 & 0.7619048\\\\\n",
       "\tHS1\\_15\\_cf\\_Trip\\_3 & 0.032 & 0.861 & 0.0685 & 0.706 & 4.852118 & 29.63623 & -17.6 & 0.7619048\\\\\n",
       "\\end{tabular}\n"
      ],
      "text/markdown": [
       "\n",
       "A data.frame: 6 × 8\n",
       "\n",
       "| <!--/--> | NO2.uM. &lt;dbl&gt; | NO3.uM. &lt;dbl&gt; | PO4.uM. &lt;dbl&gt; | Si.uM. &lt;dbl&gt; | Speed.cm.s. &lt;dbl&gt; | avgSST_degC &lt;dbl&gt; | cluster_depth &lt;dbl&gt; | Survivorship &lt;dbl&gt; |\n",
       "|---|---|---|---|---|---|---|---|---|\n",
       "| ML2_78_cf_Trip_3 | 0.032 | 0.861 | 0.0685 | 0.706 | 4.852118 | 29.63623 | -20.9 | 0.3571429 |\n",
       "| CN4_35_cf_Trip_3 | 0.032 | 0.861 | 0.0685 | 0.706 | 4.852118 | 29.63623 | -17.9 | 0.6428571 |\n",
       "| CN4_25_cf_Trip_3 | 0.032 | 0.861 | 0.0685 | 0.706 | 4.852118 | 29.63623 | -20.8 | 0.6428571 |\n",
       "| HS1_18_cf_Trip_3 | 0.032 | 0.861 | 0.0685 | 0.706 | 4.852118 | 29.63623 | -18.8 | 0.7619048 |\n",
       "| HS1_17_cf_Trip_3 | 0.032 | 0.861 | 0.0685 | 0.706 | 4.852118 | 29.63623 | -17.8 | 0.7619048 |\n",
       "| HS1_15_cf_Trip_3 | 0.032 | 0.861 | 0.0685 | 0.706 | 4.852118 | 29.63623 | -17.6 | 0.7619048 |\n",
       "\n"
      ],
      "text/plain": [
       "                 NO2.uM. NO3.uM. PO4.uM. Si.uM. Speed.cm.s. avgSST_degC\n",
       "ML2_78_cf_Trip_3 0.032   0.861   0.0685  0.706  4.852118    29.63623   \n",
       "CN4_35_cf_Trip_3 0.032   0.861   0.0685  0.706  4.852118    29.63623   \n",
       "CN4_25_cf_Trip_3 0.032   0.861   0.0685  0.706  4.852118    29.63623   \n",
       "HS1_18_cf_Trip_3 0.032   0.861   0.0685  0.706  4.852118    29.63623   \n",
       "HS1_17_cf_Trip_3 0.032   0.861   0.0685  0.706  4.852118    29.63623   \n",
       "HS1_15_cf_Trip_3 0.032   0.861   0.0685  0.706  4.852118    29.63623   \n",
       "                 cluster_depth Survivorship\n",
       "ML2_78_cf_Trip_3 -20.9         0.3571429   \n",
       "CN4_35_cf_Trip_3 -17.9         0.6428571   \n",
       "CN4_25_cf_Trip_3 -20.8         0.6428571   \n",
       "HS1_18_cf_Trip_3 -18.8         0.7619048   \n",
       "HS1_17_cf_Trip_3 -17.8         0.7619048   \n",
       "HS1_15_cf_Trip_3 -17.6         0.7619048   "
      ]
     },
     "metadata": {},
     "output_type": "display_data"
    },
    {
     "data": {
      "text/html": [
       "<style>\n",
       ".list-inline {list-style: none; margin:0; padding: 0}\n",
       ".list-inline>li {display: inline-block}\n",
       ".list-inline>li:not(:last-child)::after {content: \"\\00b7\"; padding: 0 .5ex}\n",
       "</style>\n",
       "<ol class=list-inline><li>123</li><li>8</li></ol>\n"
      ],
      "text/latex": [
       "\\begin{enumerate*}\n",
       "\\item 123\n",
       "\\item 8\n",
       "\\end{enumerate*}\n"
      ],
      "text/markdown": [
       "1. 123\n",
       "2. 8\n",
       "\n",
       "\n"
      ],
      "text/plain": [
       "[1] 123   8"
      ]
     },
     "metadata": {},
     "output_type": "display_data"
    }
   ],
   "source": [
    "\n",
    "ps_clr_ad_meta= data.frame(sample_data(ps_fill_ad))\n",
    "\n",
    "#remove co-variate\n",
    "ps_clr_ad_meta2 = ps_clr_ad_meta %>% select('NO2.uM.', 'NO3.uM.', 'PO4.uM.', 'Si.uM.',\n",
    "                \"Speed.cm.s.\", \"avgSST_degC\", \"cluster_depth\", \"Survivorship\")\n",
    "\n",
    "head(ps_clr_ad_meta2)\n",
    "dim(ps_clr_ad_meta2)"
   ]
  },
  {
   "cell_type": "code",
   "execution_count": 25,
   "id": "15cce960-53a1-45d9-963c-4e5348aea3a2",
   "metadata": {},
   "outputs": [
    {
     "name": "stdout",
     "output_type": "stream",
     "text": [
      "\n",
      "Start: otu_table(t(ps_ad_clr)) ~ 1 \n",
      "\n",
      "                Df    AIC      F Pr(>F)   \n",
      "+ NO2.uM.        1 957.92 4.9948  0.005 **\n",
      "+ avgSST_degC    1 958.60 4.2940  0.005 **\n",
      "+ cluster_depth  1 958.98 3.9069  0.005 **\n",
      "+ NO3.uM.        1 960.01 2.8727  0.005 **\n",
      "+ Speed.cm.s.    1 960.22 2.6582  0.005 **\n",
      "+ Si.uM.         1 960.85 2.0289  0.010 **\n",
      "+ Survivorship   1 961.50 1.3817  0.065 . \n",
      "+ PO4.uM.        1 961.57 1.3057  0.070 . \n",
      "---\n",
      "Signif. codes:  0 ‘***’ 0.001 ‘**’ 0.01 ‘*’ 0.05 ‘.’ 0.1 ‘ ’ 1\n",
      "\n",
      "Step: otu_table(t(ps_ad_clr)) ~ NO2.uM. \n",
      "\n",
      "          Df    AIC      F Pr(>F)   \n",
      "- NO2.uM.  1 960.89 4.9948  0.005 **\n",
      "---\n",
      "Signif. codes:  0 ‘***’ 0.001 ‘**’ 0.01 ‘*’ 0.05 ‘.’ 0.1 ‘ ’ 1\n",
      "\n",
      "                Df    AIC      F Pr(>F)   \n",
      "+ avgSST_degC    1 956.27 3.6136  0.005 **\n",
      "+ cluster_depth  1 956.43 3.4504  0.005 **\n",
      "+ NO3.uM.        1 956.64 3.2359  0.005 **\n",
      "+ Speed.cm.s.    1 956.72 3.1634  0.005 **\n",
      "+ Si.uM.         1 958.42 1.4740  0.035 * \n",
      "+ PO4.uM.        1 958.48 1.4131  0.045 * \n",
      "+ Survivorship   1 958.49 1.3981  0.050 * \n",
      "---\n",
      "Signif. codes:  0 ‘***’ 0.001 ‘**’ 0.01 ‘*’ 0.05 ‘.’ 0.1 ‘ ’ 1\n",
      "\n",
      "Step: otu_table(t(ps_ad_clr)) ~ NO2.uM. + avgSST_degC \n",
      "\n",
      "              Df    AIC      F Pr(>F)   \n",
      "- avgSST_degC  1 957.92 3.6136  0.005 **\n",
      "- NO2.uM.      1 958.60 4.3050  0.005 **\n",
      "---\n",
      "Signif. codes:  0 ‘***’ 0.001 ‘**’ 0.01 ‘*’ 0.05 ‘.’ 0.1 ‘ ’ 1\n",
      "\n",
      "                Df    AIC      F Pr(>F)   \n",
      "+ Speed.cm.s.    1 954.61 3.5892  0.005 **\n",
      "+ cluster_depth  1 954.76 3.4457  0.005 **\n",
      "+ NO3.uM.        1 955.14 3.0650  0.005 **\n",
      "+ PO4.uM.        1 956.79 1.4416  0.030 * \n",
      "+ Survivorship   1 956.87 1.3643  0.065 . \n",
      "+ Si.uM.         1 957.00 1.2353  0.120   \n",
      "---\n",
      "Signif. codes:  0 ‘***’ 0.001 ‘**’ 0.01 ‘*’ 0.05 ‘.’ 0.1 ‘ ’ 1\n",
      "\n",
      "Step: otu_table(t(ps_ad_clr)) ~ NO2.uM. + avgSST_degC + Speed.cm.s. \n",
      "\n",
      "              Df    AIC      F Pr(>F)   \n",
      "- Speed.cm.s.  1 956.27 3.5892  0.005 **\n",
      "- avgSST_degC  1 956.72 4.0373  0.005 **\n",
      "- NO2.uM.      1 957.81 5.1338  0.005 **\n",
      "---\n",
      "Signif. codes:  0 ‘***’ 0.001 ‘**’ 0.01 ‘*’ 0.05 ‘.’ 0.1 ‘ ’ 1\n",
      "\n",
      "                Df    AIC      F Pr(>F)   \n",
      "+ cluster_depth  1 953.58 2.9420  0.005 **\n",
      "+ PO4.uM.        1 954.34 2.1989  0.005 **\n",
      "+ Si.uM.         1 954.95 1.6073  0.015 * \n",
      "+ NO3.uM.        1 955.16 1.4048  0.035 * \n",
      "+ Survivorship   1 955.15 1.4088  0.060 . \n",
      "---\n",
      "Signif. codes:  0 ‘***’ 0.001 ‘**’ 0.01 ‘*’ 0.05 ‘.’ 0.1 ‘ ’ 1\n",
      "\n",
      "Step: otu_table(t(ps_ad_clr)) ~ NO2.uM. + avgSST_degC + Speed.cm.s. +      cluster_depth \n",
      "\n",
      "                Df    AIC      F Pr(>F)   \n",
      "- cluster_depth  1 954.61 2.9420  0.005 **\n",
      "- Speed.cm.s.    1 954.76 3.0838  0.005 **\n",
      "- avgSST_degC    1 955.22 3.5423  0.005 **\n",
      "- NO2.uM.        1 955.78 4.0981  0.005 **\n",
      "---\n",
      "Signif. codes:  0 ‘***’ 0.001 ‘**’ 0.01 ‘*’ 0.05 ‘.’ 0.1 ‘ ’ 1\n",
      "\n",
      "               Df    AIC      F Pr(>F)   \n",
      "+ Survivorship  1 953.88 1.6297  0.010 **\n",
      "+ PO4.uM.       1 953.74 1.7646  0.020 * \n",
      "+ NO3.uM.       1 954.02 1.4998  0.025 * \n",
      "+ Si.uM.        1 953.93 1.5850  0.030 * \n",
      "---\n",
      "Signif. codes:  0 ‘***’ 0.001 ‘**’ 0.01 ‘*’ 0.05 ‘.’ 0.1 ‘ ’ 1\n",
      "\n",
      "Step: otu_table(t(ps_ad_clr)) ~ NO2.uM. + avgSST_degC + Speed.cm.s. +      cluster_depth + Survivorship \n",
      "\n",
      "                Df    AIC      F Pr(>F)   \n",
      "- Survivorship   1 953.58 1.6297  0.025 * \n",
      "- Speed.cm.s.    1 954.86 2.8630  0.005 **\n",
      "- avgSST_degC    1 955.01 3.0128  0.005 **\n",
      "- cluster_depth  1 955.15 3.1530  0.005 **\n",
      "- NO2.uM.        1 955.22 3.2155  0.005 **\n",
      "---\n",
      "Signif. codes:  0 ‘***’ 0.001 ‘**’ 0.01 ‘*’ 0.05 ‘.’ 0.1 ‘ ’ 1\n",
      "\n",
      "          Df    AIC      F Pr(>F)   \n",
      "+ PO4.uM.  1 954.03 1.7593  0.005 **\n",
      "+ Si.uM.   1 954.04 1.7502  0.005 **\n",
      "+ NO3.uM.  1 954.50 1.3146  0.070 . \n",
      "---\n",
      "Signif. codes:  0 ‘***’ 0.001 ‘**’ 0.01 ‘*’ 0.05 ‘.’ 0.1 ‘ ’ 1\n",
      "\n",
      "Step: otu_table(t(ps_ad_clr)) ~ NO2.uM. + avgSST_degC + Speed.cm.s. +      cluster_depth + Survivorship + PO4.uM. \n",
      "\n",
      "                Df    AIC      F Pr(>F)   \n",
      "- Survivorship   1 953.74 1.6255  0.020 * \n",
      "- PO4.uM.        1 953.88 1.7593  0.010 **\n",
      "- cluster_depth  1 954.90 2.7353  0.005 **\n",
      "- avgSST_degC    1 954.97 2.8087  0.005 **\n",
      "- Speed.cm.s.    1 955.15 2.9790  0.005 **\n",
      "- NO2.uM.        1 955.52 3.3364  0.005 **\n",
      "---\n",
      "Signif. codes:  0 ‘***’ 0.001 ‘**’ 0.01 ‘*’ 0.05 ‘.’ 0.1 ‘ ’ 1\n",
      "\n",
      "          Df    AIC      F Pr(>F)  \n",
      "+ Si.uM.   1 954.29 1.6364   0.02 *\n",
      "+ NO3.uM.  1 954.61 1.3412   0.06 .\n",
      "---\n",
      "Signif. codes:  0 ‘***’ 0.001 ‘**’ 0.01 ‘*’ 0.05 ‘.’ 0.1 ‘ ’ 1\n",
      "\n",
      "Step: otu_table(t(ps_ad_clr)) ~ NO2.uM. + avgSST_degC + Speed.cm.s. +      cluster_depth + Survivorship + PO4.uM. + Si.uM. \n",
      "\n",
      "                Df    AIC      F Pr(>F)   \n",
      "- Si.uM.         1 954.03 1.6364  0.015 * \n",
      "- PO4.uM.        1 954.04 1.6454  0.015 * \n",
      "- Survivorship   1 954.08 1.6791  0.005 **\n",
      "- avgSST_degC    1 955.08 2.6377  0.005 **\n",
      "- cluster_depth  1 955.31 2.8523  0.005 **\n",
      "- Speed.cm.s.    1 955.51 3.0450  0.005 **\n",
      "- NO2.uM.        1 955.53 3.0663  0.005 **\n",
      "---\n",
      "Signif. codes:  0 ‘***’ 0.001 ‘**’ 0.01 ‘*’ 0.05 ‘.’ 0.1 ‘ ’ 1\n",
      "\n",
      "          Df    AIC      F Pr(>F)   \n",
      "+ NO3.uM.  1 954.53 1.6461   0.01 **\n",
      "---\n",
      "Signif. codes:  0 ‘***’ 0.001 ‘**’ 0.01 ‘*’ 0.05 ‘.’ 0.1 ‘ ’ 1\n",
      "\n",
      "Step: otu_table(t(ps_ad_clr)) ~ NO2.uM. + avgSST_degC + Speed.cm.s. +      cluster_depth + Survivorship + PO4.uM. + Si.uM. + NO3.uM. \n",
      "\n",
      "                Df    AIC      F Pr(>F)   \n",
      "- Survivorship   1 954.02 1.3903  0.060 . \n",
      "- NO3.uM.        1 954.29 1.6461  0.010 **\n",
      "- PO4.uM.        1 954.41 1.7591  0.010 **\n",
      "- Si.uM.         1 954.61 1.9395  0.005 **\n",
      "- avgSST_degC    1 954.83 2.1470  0.005 **\n",
      "- Speed.cm.s.    1 954.99 2.2996  0.005 **\n",
      "- cluster_depth  1 955.49 2.7736  0.005 **\n",
      "- NO2.uM.        1 955.63 2.9133  0.005 **\n",
      "---\n",
      "Signif. codes:  0 ‘***’ 0.001 ‘**’ 0.01 ‘*’ 0.05 ‘.’ 0.1 ‘ ’ 1\n",
      "\n"
     ]
    },
    {
     "data": {
      "text/plain": [
       "Call: rda(formula = otu_table(t(ps_ad_clr)) ~ NO2.uM. + avgSST_degC +\n",
       "Speed.cm.s. + cluster_depth + Survivorship + PO4.uM. + Si.uM. +\n",
       "NO3.uM., data = ps_clr_ad_meta2)\n",
       "\n",
       "                Inertia Proportion Rank\n",
       "Total         2450.4868     1.0000     \n",
       "Constrained    407.3740     0.1662    8\n",
       "Unconstrained 2043.1128     0.8338  114\n",
       "Inertia is variance \n",
       "\n",
       "Eigenvalues for constrained axes:\n",
       "  RDA1   RDA2   RDA3   RDA4   RDA5   RDA6   RDA7   RDA8 \n",
       "136.78  77.05  51.75  50.95  34.49  23.15  18.33  14.87 \n",
       "\n",
       "Eigenvalues for unconstrained axes:\n",
       "   PC1    PC2    PC3    PC4    PC5    PC6    PC7    PC8 \n",
       "263.53 108.89  78.97  63.00  54.50  42.28  39.39  37.34 \n",
       "(Showing 8 of 114 unconstrained eigenvalues)\n"
      ]
     },
     "metadata": {},
     "output_type": "display_data"
    }
   ],
   "source": [
    "mod0 <- rda(otu_table(t(ps_ad_clr)) ~ 1, ps_clr_ad_meta2)\n",
    "mod1 <- rda(otu_table(t(ps_ad_clr)) ~ ., ps_clr_ad_meta2)\n",
    "m <- ordistep(mod0, scope = formula(mod1), perm.max = 200, direction =\"both\")\n",
    "m"
   ]
  },
  {
   "cell_type": "code",
   "execution_count": 26,
   "id": "1fa0a0d6-1b5b-4107-814a-b5cdd358d90b",
   "metadata": {},
   "outputs": [
    {
     "data": {
      "text/html": [
       "<style>\n",
       ".dl-inline {width: auto; margin:0; padding: 0}\n",
       ".dl-inline>dt, .dl-inline>dd {float: none; width: auto; display: inline-block}\n",
       ".dl-inline>dt::after {content: \":\\0020\"; padding-right: .5ex}\n",
       ".dl-inline>dt:not(:first-of-type) {padding-left: .5ex}\n",
       "</style><dl class=dl-inline><dt>NO2.uM.</dt><dd>15.14517084913</dd><dt>avgSST_degC</dt><dd>13.4484241380555</dd><dt>Speed.cm.s.</dt><dd>11.6819106085381</dd><dt>cluster_depth</dt><dd>2.35833074218065</dd><dt>Survivorship</dt><dd>2.03453922886635</dd><dt>PO4.uM.</dt><dd>2.5547219961536</dd><dt>Si.uM.</dt><dd>2.13278095061254</dd><dt>NO3.uM.</dt><dd>5.78019397201154</dd></dl>\n"
      ],
      "text/latex": [
       "\\begin{description*}\n",
       "\\item[NO2.uM.] 15.14517084913\n",
       "\\item[avgSST\\textbackslash{}\\_degC] 13.4484241380555\n",
       "\\item[Speed.cm.s.] 11.6819106085381\n",
       "\\item[cluster\\textbackslash{}\\_depth] 2.35833074218065\n",
       "\\item[Survivorship] 2.03453922886635\n",
       "\\item[PO4.uM.] 2.5547219961536\n",
       "\\item[Si.uM.] 2.13278095061254\n",
       "\\item[NO3.uM.] 5.78019397201154\n",
       "\\end{description*}\n"
      ],
      "text/markdown": [
       "NO2.uM.\n",
       ":   15.14517084913avgSST_degC\n",
       ":   13.4484241380555Speed.cm.s.\n",
       ":   11.6819106085381cluster_depth\n",
       ":   2.35833074218065Survivorship\n",
       ":   2.03453922886635PO4.uM.\n",
       ":   2.5547219961536Si.uM.\n",
       ":   2.13278095061254NO3.uM.\n",
       ":   5.78019397201154\n",
       "\n"
      ],
      "text/plain": [
       "      NO2.uM.   avgSST_degC   Speed.cm.s. cluster_depth  Survivorship \n",
       "    15.145171     13.448424     11.681911      2.358331      2.034539 \n",
       "      PO4.uM.        Si.uM.       NO3.uM. \n",
       "     2.554722      2.132781      5.780194 "
      ]
     },
     "metadata": {},
     "output_type": "display_data"
    }
   ],
   "source": [
    "vif.cca(m)"
   ]
  },
  {
   "cell_type": "code",
   "execution_count": 27,
   "id": "ac2acad2-8327-4d5e-9ba1-44ed93337e19",
   "metadata": {},
   "outputs": [
    {
     "data": {
      "text/html": [
       "<table class=\"dataframe\">\n",
       "<caption>A anova.cca: 9 × 4</caption>\n",
       "<thead>\n",
       "\t<tr><th></th><th scope=col>Df</th><th scope=col>Variance</th><th scope=col>F</th><th scope=col>Pr(&gt;F)</th></tr>\n",
       "\t<tr><th></th><th scope=col>&lt;dbl&gt;</th><th scope=col>&lt;dbl&gt;</th><th scope=col>&lt;dbl&gt;</th><th scope=col>&lt;dbl&gt;</th></tr>\n",
       "</thead>\n",
       "<tbody>\n",
       "\t<tr><th scope=row>NO2.uM.</th><td>  1</td><td>  97.14401</td><td>5.420365</td><td>0.001</td></tr>\n",
       "\t<tr><th scope=row>avgSST_degC</th><td>  1</td><td>  68.79493</td><td>3.838565</td><td>0.001</td></tr>\n",
       "\t<tr><th scope=row>Speed.cm.s.</th><td>  1</td><td>  66.88822</td><td>3.732176</td><td>0.001</td></tr>\n",
       "\t<tr><th scope=row>cluster_depth</th><td>  1</td><td>  53.94629</td><td>3.010052</td><td>0.001</td></tr>\n",
       "\t<tr><th scope=row>Survivorship</th><td>  1</td><td>  29.72490</td><td>1.658567</td><td>0.014</td></tr>\n",
       "\t<tr><th scope=row>PO4.uM.</th><td>  1</td><td>  31.88106</td><td>1.778874</td><td>0.007</td></tr>\n",
       "\t<tr><th scope=row>Si.uM.</th><td>  1</td><td>  29.49239</td><td>1.645593</td><td>0.023</td></tr>\n",
       "\t<tr><th scope=row>NO3.uM.</th><td>  1</td><td>  29.50225</td><td>1.646143</td><td>0.013</td></tr>\n",
       "\t<tr><th scope=row>Residual</th><td>114</td><td>2043.11279</td><td>      NA</td><td>   NA</td></tr>\n",
       "</tbody>\n",
       "</table>\n"
      ],
      "text/latex": [
       "A anova.cca: 9 × 4\n",
       "\\begin{tabular}{r|llll}\n",
       "  & Df & Variance & F & Pr(>F)\\\\\n",
       "  & <dbl> & <dbl> & <dbl> & <dbl>\\\\\n",
       "\\hline\n",
       "\tNO2.uM. &   1 &   97.14401 & 5.420365 & 0.001\\\\\n",
       "\tavgSST\\_degC &   1 &   68.79493 & 3.838565 & 0.001\\\\\n",
       "\tSpeed.cm.s. &   1 &   66.88822 & 3.732176 & 0.001\\\\\n",
       "\tcluster\\_depth &   1 &   53.94629 & 3.010052 & 0.001\\\\\n",
       "\tSurvivorship &   1 &   29.72490 & 1.658567 & 0.014\\\\\n",
       "\tPO4.uM. &   1 &   31.88106 & 1.778874 & 0.007\\\\\n",
       "\tSi.uM. &   1 &   29.49239 & 1.645593 & 0.023\\\\\n",
       "\tNO3.uM. &   1 &   29.50225 & 1.646143 & 0.013\\\\\n",
       "\tResidual & 114 & 2043.11279 &       NA &    NA\\\\\n",
       "\\end{tabular}\n"
      ],
      "text/markdown": [
       "\n",
       "A anova.cca: 9 × 4\n",
       "\n",
       "| <!--/--> | Df &lt;dbl&gt; | Variance &lt;dbl&gt; | F &lt;dbl&gt; | Pr(&gt;F) &lt;dbl&gt; |\n",
       "|---|---|---|---|---|\n",
       "| NO2.uM. |   1 |   97.14401 | 5.420365 | 0.001 |\n",
       "| avgSST_degC |   1 |   68.79493 | 3.838565 | 0.001 |\n",
       "| Speed.cm.s. |   1 |   66.88822 | 3.732176 | 0.001 |\n",
       "| cluster_depth |   1 |   53.94629 | 3.010052 | 0.001 |\n",
       "| Survivorship |   1 |   29.72490 | 1.658567 | 0.014 |\n",
       "| PO4.uM. |   1 |   31.88106 | 1.778874 | 0.007 |\n",
       "| Si.uM. |   1 |   29.49239 | 1.645593 | 0.023 |\n",
       "| NO3.uM. |   1 |   29.50225 | 1.646143 | 0.013 |\n",
       "| Residual | 114 | 2043.11279 |       NA |    NA |\n",
       "\n"
      ],
      "text/plain": [
       "              Df  Variance   F        Pr(>F)\n",
       "NO2.uM.         1   97.14401 5.420365 0.001 \n",
       "avgSST_degC     1   68.79493 3.838565 0.001 \n",
       "Speed.cm.s.     1   66.88822 3.732176 0.001 \n",
       "cluster_depth   1   53.94629 3.010052 0.001 \n",
       "Survivorship    1   29.72490 1.658567 0.014 \n",
       "PO4.uM.         1   31.88106 1.778874 0.007 \n",
       "Si.uM.          1   29.49239 1.645593 0.023 \n",
       "NO3.uM.         1   29.50225 1.646143 0.013 \n",
       "Residual      114 2043.11279       NA    NA "
      ]
     },
     "metadata": {},
     "output_type": "display_data"
    }
   ],
   "source": [
    "anova(m,  by=\"term\")"
   ]
  },
  {
   "cell_type": "code",
   "execution_count": 28,
   "id": "802a02b3-0e7c-4a5e-9658-2a8c96479e8f",
   "metadata": {},
   "outputs": [
    {
     "data": {
      "text/html": [
       "<table class=\"dataframe\">\n",
       "<caption>A anova.cca: 9 × 4</caption>\n",
       "<thead>\n",
       "\t<tr><th></th><th scope=col>Df</th><th scope=col>Variance</th><th scope=col>F</th><th scope=col>Pr(&gt;F)</th></tr>\n",
       "\t<tr><th></th><th scope=col>&lt;dbl&gt;</th><th scope=col>&lt;dbl&gt;</th><th scope=col>&lt;dbl&gt;</th><th scope=col>&lt;dbl&gt;</th></tr>\n",
       "</thead>\n",
       "<tbody>\n",
       "\t<tr><th scope=row>NO2.uM.</th><td>  1</td><td>  52.21189</td><td>2.913278</td><td>0.001</td></tr>\n",
       "\t<tr><th scope=row>avgSST_degC</th><td>  1</td><td>  38.47789</td><td>2.146959</td><td>0.003</td></tr>\n",
       "\t<tr><th scope=row>Speed.cm.s.</th><td>  1</td><td>  41.21363</td><td>2.299606</td><td>0.001</td></tr>\n",
       "\t<tr><th scope=row>cluster_depth</th><td>  1</td><td>  49.70921</td><td>2.773636</td><td>0.001</td></tr>\n",
       "\t<tr><th scope=row>Survivorship</th><td>  1</td><td>  24.91655</td><td>1.390274</td><td>0.053</td></tr>\n",
       "\t<tr><th scope=row>PO4.uM.</th><td>  1</td><td>  31.52586</td><td>1.759055</td><td>0.010</td></tr>\n",
       "\t<tr><th scope=row>Si.uM.</th><td>  1</td><td>  34.76062</td><td>1.939546</td><td>0.005</td></tr>\n",
       "\t<tr><th scope=row>NO3.uM.</th><td>  1</td><td>  29.50225</td><td>1.646143</td><td>0.013</td></tr>\n",
       "\t<tr><th scope=row>Residual</th><td>114</td><td>2043.11279</td><td>      NA</td><td>   NA</td></tr>\n",
       "</tbody>\n",
       "</table>\n"
      ],
      "text/latex": [
       "A anova.cca: 9 × 4\n",
       "\\begin{tabular}{r|llll}\n",
       "  & Df & Variance & F & Pr(>F)\\\\\n",
       "  & <dbl> & <dbl> & <dbl> & <dbl>\\\\\n",
       "\\hline\n",
       "\tNO2.uM. &   1 &   52.21189 & 2.913278 & 0.001\\\\\n",
       "\tavgSST\\_degC &   1 &   38.47789 & 2.146959 & 0.003\\\\\n",
       "\tSpeed.cm.s. &   1 &   41.21363 & 2.299606 & 0.001\\\\\n",
       "\tcluster\\_depth &   1 &   49.70921 & 2.773636 & 0.001\\\\\n",
       "\tSurvivorship &   1 &   24.91655 & 1.390274 & 0.053\\\\\n",
       "\tPO4.uM. &   1 &   31.52586 & 1.759055 & 0.010\\\\\n",
       "\tSi.uM. &   1 &   34.76062 & 1.939546 & 0.005\\\\\n",
       "\tNO3.uM. &   1 &   29.50225 & 1.646143 & 0.013\\\\\n",
       "\tResidual & 114 & 2043.11279 &       NA &    NA\\\\\n",
       "\\end{tabular}\n"
      ],
      "text/markdown": [
       "\n",
       "A anova.cca: 9 × 4\n",
       "\n",
       "| <!--/--> | Df &lt;dbl&gt; | Variance &lt;dbl&gt; | F &lt;dbl&gt; | Pr(&gt;F) &lt;dbl&gt; |\n",
       "|---|---|---|---|---|\n",
       "| NO2.uM. |   1 |   52.21189 | 2.913278 | 0.001 |\n",
       "| avgSST_degC |   1 |   38.47789 | 2.146959 | 0.003 |\n",
       "| Speed.cm.s. |   1 |   41.21363 | 2.299606 | 0.001 |\n",
       "| cluster_depth |   1 |   49.70921 | 2.773636 | 0.001 |\n",
       "| Survivorship |   1 |   24.91655 | 1.390274 | 0.053 |\n",
       "| PO4.uM. |   1 |   31.52586 | 1.759055 | 0.010 |\n",
       "| Si.uM. |   1 |   34.76062 | 1.939546 | 0.005 |\n",
       "| NO3.uM. |   1 |   29.50225 | 1.646143 | 0.013 |\n",
       "| Residual | 114 | 2043.11279 |       NA |    NA |\n",
       "\n"
      ],
      "text/plain": [
       "              Df  Variance   F        Pr(>F)\n",
       "NO2.uM.         1   52.21189 2.913278 0.001 \n",
       "avgSST_degC     1   38.47789 2.146959 0.003 \n",
       "Speed.cm.s.     1   41.21363 2.299606 0.001 \n",
       "cluster_depth   1   49.70921 2.773636 0.001 \n",
       "Survivorship    1   24.91655 1.390274 0.053 \n",
       "PO4.uM.         1   31.52586 1.759055 0.010 \n",
       "Si.uM.          1   34.76062 1.939546 0.005 \n",
       "NO3.uM.         1   29.50225 1.646143 0.013 \n",
       "Residual      114 2043.11279       NA    NA "
      ]
     },
     "metadata": {},
     "output_type": "display_data"
    }
   ],
   "source": [
    "anova(m, by=\"margin\")"
   ]
  },
  {
   "cell_type": "code",
   "execution_count": 29,
   "id": "633979df-78f0-47f7-9bff-c441a190c15a",
   "metadata": {},
   "outputs": [
    {
     "data": {
      "text/html": [
       "<table class=\"dataframe\">\n",
       "<caption>A anova.cca: 2 × 4</caption>\n",
       "<thead>\n",
       "\t<tr><th></th><th scope=col>Df</th><th scope=col>Variance</th><th scope=col>F</th><th scope=col>Pr(&gt;F)</th></tr>\n",
       "\t<tr><th></th><th scope=col>&lt;dbl&gt;</th><th scope=col>&lt;dbl&gt;</th><th scope=col>&lt;dbl&gt;</th><th scope=col>&lt;dbl&gt;</th></tr>\n",
       "</thead>\n",
       "<tbody>\n",
       "\t<tr><th scope=row>Model</th><td>  8</td><td> 407.374</td><td>2.841292</td><td>0.001</td></tr>\n",
       "\t<tr><th scope=row>Residual</th><td>114</td><td>2043.113</td><td>      NA</td><td>   NA</td></tr>\n",
       "</tbody>\n",
       "</table>\n"
      ],
      "text/latex": [
       "A anova.cca: 2 × 4\n",
       "\\begin{tabular}{r|llll}\n",
       "  & Df & Variance & F & Pr(>F)\\\\\n",
       "  & <dbl> & <dbl> & <dbl> & <dbl>\\\\\n",
       "\\hline\n",
       "\tModel &   8 &  407.374 & 2.841292 & 0.001\\\\\n",
       "\tResidual & 114 & 2043.113 &       NA &    NA\\\\\n",
       "\\end{tabular}\n"
      ],
      "text/markdown": [
       "\n",
       "A anova.cca: 2 × 4\n",
       "\n",
       "| <!--/--> | Df &lt;dbl&gt; | Variance &lt;dbl&gt; | F &lt;dbl&gt; | Pr(&gt;F) &lt;dbl&gt; |\n",
       "|---|---|---|---|---|\n",
       "| Model |   8 |  407.374 | 2.841292 | 0.001 |\n",
       "| Residual | 114 | 2043.113 |       NA |    NA |\n",
       "\n"
      ],
      "text/plain": [
       "         Df  Variance F        Pr(>F)\n",
       "Model      8  407.374 2.841292 0.001 \n",
       "Residual 114 2043.113       NA    NA "
      ]
     },
     "metadata": {},
     "output_type": "display_data"
    }
   ],
   "source": [
    "anova(m)"
   ]
  },
  {
   "cell_type": "code",
   "execution_count": 30,
   "id": "840f1812-72e5-4750-8222-03c3c0166807",
   "metadata": {},
   "outputs": [],
   "source": [
    "rda_veg=rda(otu_table(t(ps_ad_clr))  ~ NO2.uM. + NO3.uM. + PO4.uM. + Si.uM. +\n",
    "                Speed.cm.s. +  avgSST_degC +  cluster_depth, data = ps_clr_ad_meta2, scale = TRUE)"
   ]
  },
  {
   "cell_type": "code",
   "execution_count": 31,
   "id": "b04b5d97-9410-4d74-9203-b10df2c5c0b0",
   "metadata": {},
   "outputs": [
    {
     "data": {
      "text/html": [
       "<table class=\"dataframe\">\n",
       "<caption>A anova.cca: 8 × 4</caption>\n",
       "<thead>\n",
       "\t<tr><th></th><th scope=col>Df</th><th scope=col>Variance</th><th scope=col>F</th><th scope=col>Pr(&gt;F)</th></tr>\n",
       "\t<tr><th></th><th scope=col>&lt;dbl&gt;</th><th scope=col>&lt;dbl&gt;</th><th scope=col>&lt;dbl&gt;</th><th scope=col>&lt;dbl&gt;</th></tr>\n",
       "</thead>\n",
       "<tbody>\n",
       "\t<tr><th scope=row>RDA1</th><td>  1</td><td> 25.484971</td><td>7.4383057</td><td>0.001</td></tr>\n",
       "\t<tr><th scope=row>RDA2</th><td>  1</td><td> 13.663742</td><td>3.9880402</td><td>0.001</td></tr>\n",
       "\t<tr><th scope=row>RDA3</th><td>  1</td><td>  9.130458</td><td>2.6649095</td><td>0.014</td></tr>\n",
       "\t<tr><th scope=row>RDA4</th><td>  1</td><td>  8.329072</td><td>2.4310085</td><td>0.014</td></tr>\n",
       "\t<tr><th scope=row>RDA5</th><td>  1</td><td>  5.901164</td><td>1.7223743</td><td>0.099</td></tr>\n",
       "\t<tr><th scope=row>RDA6</th><td>  1</td><td>  4.265138</td><td>1.2448671</td><td>0.290</td></tr>\n",
       "\t<tr><th scope=row>RDA7</th><td>  1</td><td>  3.214804</td><td>0.9383056</td><td>0.528</td></tr>\n",
       "\t<tr><th scope=row>Residual</th><td>115</td><td>394.010651</td><td>       NA</td><td>   NA</td></tr>\n",
       "</tbody>\n",
       "</table>\n"
      ],
      "text/latex": [
       "A anova.cca: 8 × 4\n",
       "\\begin{tabular}{r|llll}\n",
       "  & Df & Variance & F & Pr(>F)\\\\\n",
       "  & <dbl> & <dbl> & <dbl> & <dbl>\\\\\n",
       "\\hline\n",
       "\tRDA1 &   1 &  25.484971 & 7.4383057 & 0.001\\\\\n",
       "\tRDA2 &   1 &  13.663742 & 3.9880402 & 0.001\\\\\n",
       "\tRDA3 &   1 &   9.130458 & 2.6649095 & 0.014\\\\\n",
       "\tRDA4 &   1 &   8.329072 & 2.4310085 & 0.014\\\\\n",
       "\tRDA5 &   1 &   5.901164 & 1.7223743 & 0.099\\\\\n",
       "\tRDA6 &   1 &   4.265138 & 1.2448671 & 0.290\\\\\n",
       "\tRDA7 &   1 &   3.214804 & 0.9383056 & 0.528\\\\\n",
       "\tResidual & 115 & 394.010651 &        NA &    NA\\\\\n",
       "\\end{tabular}\n"
      ],
      "text/markdown": [
       "\n",
       "A anova.cca: 8 × 4\n",
       "\n",
       "| <!--/--> | Df &lt;dbl&gt; | Variance &lt;dbl&gt; | F &lt;dbl&gt; | Pr(&gt;F) &lt;dbl&gt; |\n",
       "|---|---|---|---|---|\n",
       "| RDA1 |   1 |  25.484971 | 7.4383057 | 0.001 |\n",
       "| RDA2 |   1 |  13.663742 | 3.9880402 | 0.001 |\n",
       "| RDA3 |   1 |   9.130458 | 2.6649095 | 0.014 |\n",
       "| RDA4 |   1 |   8.329072 | 2.4310085 | 0.014 |\n",
       "| RDA5 |   1 |   5.901164 | 1.7223743 | 0.099 |\n",
       "| RDA6 |   1 |   4.265138 | 1.2448671 | 0.290 |\n",
       "| RDA7 |   1 |   3.214804 | 0.9383056 | 0.528 |\n",
       "| Residual | 115 | 394.010651 |        NA |    NA |\n",
       "\n"
      ],
      "text/plain": [
       "         Df  Variance   F         Pr(>F)\n",
       "RDA1       1  25.484971 7.4383057 0.001 \n",
       "RDA2       1  13.663742 3.9880402 0.001 \n",
       "RDA3       1   9.130458 2.6649095 0.014 \n",
       "RDA4       1   8.329072 2.4310085 0.014 \n",
       "RDA5       1   5.901164 1.7223743 0.099 \n",
       "RDA6       1   4.265138 1.2448671 0.290 \n",
       "RDA7       1   3.214804 0.9383056 0.528 \n",
       "Residual 115 394.010651        NA    NA "
      ]
     },
     "metadata": {},
     "output_type": "display_data"
    }
   ],
   "source": [
    " anova(rda_veg, by=\"axis\")"
   ]
  },
  {
   "cell_type": "code",
   "execution_count": 32,
   "id": "de133af4-de0e-413a-8102-6b5e9761f23e",
   "metadata": {},
   "outputs": [
    {
     "data": {
      "text/plain": [
       "\n",
       "***VECTORS\n",
       "\n",
       "                   RDA1     RDA2     r2 Pr(>r)    \n",
       "Survivorship    0.82421 -0.56629 0.0071  0.666    \n",
       "Speed.cm.s.     0.48255 -0.87587 0.0813  0.008 ** \n",
       "NO2.uM.        -0.92655 -0.37618 0.4745  0.001 ***\n",
       "N.N.uM.        -0.20248 -0.97929 0.2141  0.001 ***\n",
       "NO3.uM.        -0.18706 -0.98235 0.2127  0.001 ***\n",
       "PO4.uM.        -0.74141  0.67106 0.0156  0.416    \n",
       "Si.uM.          0.90376 -0.42805 0.1015  0.003 ** \n",
       "avgSST_degC    -0.43397 -0.90093 0.7158  0.001 ***\n",
       "avgchla_mgm.3  -0.99982 -0.01916 0.4239  0.001 ***\n",
       "Temperature.C. -0.29384 -0.95585 0.5649  0.001 ***\n",
       "cluster_depth  -0.92138  0.38867 0.3095  0.001 ***\n",
       "---\n",
       "Signif. codes:  0 ‘***’ 0.001 ‘**’ 0.01 ‘*’ 0.05 ‘.’ 0.1 ‘ ’ 1\n",
       "Permutation: free\n",
       "Number of permutations: 999\n",
       "\n",
       "***FACTORS:\n",
       "\n",
       "Centroids:\n",
       "                   RDA1    RDA2\n",
       "GenotypeCN2     -0.0667  0.2365\n",
       "GenotypeCN4     -0.1323 -0.2159\n",
       "GenotypeHS1      0.0687 -0.1181\n",
       "GenotypeML2      0.1348  0.0648\n",
       "Samp_tripTrip_2  0.7536  1.6231\n",
       "Samp_tripTrip_3 -0.4168 -1.8519\n",
       "Samp_tripTrip_4 -0.7929 -0.1822\n",
       "Samp_tripTrip_5  0.2915  0.3555\n",
       "reefcf          -0.0777  0.0286\n",
       "reefndr         -1.3178  0.4570\n",
       "reefpr           1.4299 -0.4970\n",
       "\n",
       "Goodness of fit:\n",
       "              r2 Pr(>r)    \n",
       "Genotype  0.0082  0.927    \n",
       "Samp_trip 0.4055  0.001 ***\n",
       "reef      0.3143  0.001 ***\n",
       "---\n",
       "Signif. codes:  0 ‘***’ 0.001 ‘**’ 0.01 ‘*’ 0.05 ‘.’ 0.1 ‘ ’ 1\n",
       "Permutation: free\n",
       "Number of permutations: 999\n",
       "\n"
      ]
     },
     "metadata": {},
     "output_type": "display_data"
    }
   ],
   "source": [
    "envfit(rda_veg, ps_clr_ad_meta1, na.rm = TRUE, permutations = 999)"
   ]
  }
 ],
 "metadata": {
  "kernelspec": {
   "display_name": "R",
   "language": "R",
   "name": "ir"
  },
  "language_info": {
   "codemirror_mode": "r",
   "file_extension": ".r",
   "mimetype": "text/x-r-source",
   "name": "R",
   "pygments_lexer": "r",
   "version": "4.3.2"
  }
 },
 "nbformat": 4,
 "nbformat_minor": 5
}
