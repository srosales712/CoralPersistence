{
 "cells": [
  {
   "cell_type": "code",
   "execution_count": 1,
   "id": "12896720-58f3-4225-acae-7b8367c6079c",
   "metadata": {
    "scrolled": true
   },
   "outputs": [
    {
     "name": "stderr",
     "output_type": "stream",
     "text": [
      "Loading required package: phyloseq\n",
      "\n",
      "\n",
      "microbiome R package (microbiome.github.com)\n",
      "    \n",
      "\n",
      "\n",
      " Copyright (C) 2011-2022 Leo Lahti, \n",
      "    Sudarshan Shetty et al. <microbiome.github.io>\n",
      "\n",
      "\n",
      "\n",
      "Attaching package: ‘microbiome’\n",
      "\n",
      "\n",
      "The following object is masked from ‘package:ggplot2’:\n",
      "\n",
      "    alpha\n",
      "\n",
      "\n",
      "The following object is masked from ‘package:base’:\n",
      "\n",
      "    transform\n",
      "\n",
      "\n",
      "── \u001b[1mAttaching core tidyverse packages\u001b[22m ────────────────────────────────────── tidyverse 2.0.0 ──\n",
      "\u001b[32m✔\u001b[39m \u001b[34mdplyr    \u001b[39m 1.1.4     \u001b[32m✔\u001b[39m \u001b[34mreadr    \u001b[39m 2.1.4\n",
      "\u001b[32m✔\u001b[39m \u001b[34mforcats  \u001b[39m 1.0.0     \u001b[32m✔\u001b[39m \u001b[34mstringr  \u001b[39m 1.5.1\n",
      "\u001b[32m✔\u001b[39m \u001b[34mlubridate\u001b[39m 1.9.3     \u001b[32m✔\u001b[39m \u001b[34mtibble   \u001b[39m 3.2.1\n",
      "\u001b[32m✔\u001b[39m \u001b[34mpurrr    \u001b[39m 1.0.2     \u001b[32m✔\u001b[39m \u001b[34mtidyr    \u001b[39m 1.3.1\n",
      "── \u001b[1mConflicts\u001b[22m ──────────────────────────────────────────────────────── tidyverse_conflicts() ──\n",
      "\u001b[31m✖\u001b[39m \u001b[34mmicrobiome\u001b[39m::\u001b[32malpha()\u001b[39m masks \u001b[34mggplot2\u001b[39m::alpha()\n",
      "\u001b[31m✖\u001b[39m \u001b[34mdplyr\u001b[39m::\u001b[32mfilter()\u001b[39m     masks \u001b[34mstats\u001b[39m::filter()\n",
      "\u001b[31m✖\u001b[39m \u001b[34mdplyr\u001b[39m::\u001b[32mlag()\u001b[39m        masks \u001b[34mstats\u001b[39m::lag()\n",
      "\u001b[36mℹ\u001b[39m Use the conflicted package (\u001b[3m\u001b[34m<http://conflicted.r-lib.org/>\u001b[39m\u001b[23m) to force all conflicts to become errors\n",
      "Loading required package: permute\n",
      "\n",
      "Loading required package: lattice\n",
      "\n",
      "This is vegan 2.6-4\n",
      "\n",
      "\n",
      "Attaching package: ‘vegan’\n",
      "\n",
      "\n",
      "The following object is masked from ‘package:microbiome’:\n",
      "\n",
      "    diversity\n",
      "\n",
      "\n",
      "Loading required package: S4Vectors\n",
      "\n",
      "Loading required package: stats4\n",
      "\n",
      "Loading required package: BiocGenerics\n",
      "\n",
      "\n",
      "Attaching package: ‘BiocGenerics’\n",
      "\n",
      "\n",
      "The following objects are masked from ‘package:lubridate’:\n",
      "\n",
      "    intersect, setdiff, union\n",
      "\n",
      "\n",
      "The following objects are masked from ‘package:dplyr’:\n",
      "\n",
      "    combine, intersect, setdiff, union\n",
      "\n",
      "\n",
      "The following objects are masked from ‘package:stats’:\n",
      "\n",
      "    IQR, mad, sd, var, xtabs\n",
      "\n",
      "\n",
      "The following objects are masked from ‘package:base’:\n",
      "\n",
      "    anyDuplicated, aperm, append, as.data.frame, basename, cbind,\n",
      "    colnames, dirname, do.call, duplicated, eval, evalq, Filter, Find,\n",
      "    get, grep, grepl, intersect, is.unsorted, lapply, Map, mapply,\n",
      "    match, mget, order, paste, pmax, pmax.int, pmin, pmin.int,\n",
      "    Position, rank, rbind, Reduce, rownames, sapply, setdiff, sort,\n",
      "    table, tapply, union, unique, unsplit, which.max, which.min\n",
      "\n",
      "\n",
      "\n",
      "Attaching package: ‘S4Vectors’\n",
      "\n",
      "\n",
      "The following objects are masked from ‘package:lubridate’:\n",
      "\n",
      "    second, second<-\n",
      "\n",
      "\n",
      "The following objects are masked from ‘package:dplyr’:\n",
      "\n",
      "    first, rename\n",
      "\n",
      "\n",
      "The following object is masked from ‘package:tidyr’:\n",
      "\n",
      "    expand\n",
      "\n",
      "\n",
      "The following object is masked from ‘package:utils’:\n",
      "\n",
      "    findMatches\n",
      "\n",
      "\n",
      "The following objects are masked from ‘package:base’:\n",
      "\n",
      "    expand.grid, I, unname\n",
      "\n",
      "\n",
      "Loading required package: IRanges\n",
      "\n",
      "\n",
      "Attaching package: ‘IRanges’\n",
      "\n",
      "\n",
      "The following object is masked from ‘package:lubridate’:\n",
      "\n",
      "    %within%\n",
      "\n",
      "\n",
      "The following objects are masked from ‘package:dplyr’:\n",
      "\n",
      "    collapse, desc, slice\n",
      "\n",
      "\n",
      "The following object is masked from ‘package:purrr’:\n",
      "\n",
      "    reduce\n",
      "\n",
      "\n",
      "The following object is masked from ‘package:microbiome’:\n",
      "\n",
      "    coverage\n",
      "\n",
      "\n",
      "The following object is masked from ‘package:phyloseq’:\n",
      "\n",
      "    distance\n",
      "\n",
      "\n",
      "Loading required package: GenomicRanges\n",
      "\n",
      "Loading required package: GenomeInfoDb\n",
      "\n",
      "Loading required package: SummarizedExperiment\n",
      "\n",
      "Loading required package: MatrixGenerics\n",
      "\n",
      "Loading required package: matrixStats\n",
      "\n",
      "\n",
      "Attaching package: ‘matrixStats’\n",
      "\n",
      "\n",
      "The following object is masked from ‘package:dplyr’:\n",
      "\n",
      "    count\n",
      "\n",
      "\n",
      "\n",
      "Attaching package: ‘MatrixGenerics’\n",
      "\n",
      "\n",
      "The following objects are masked from ‘package:matrixStats’:\n",
      "\n",
      "    colAlls, colAnyNAs, colAnys, colAvgsPerRowSet, colCollapse,\n",
      "    colCounts, colCummaxs, colCummins, colCumprods, colCumsums,\n",
      "    colDiffs, colIQRDiffs, colIQRs, colLogSumExps, colMadDiffs,\n",
      "    colMads, colMaxs, colMeans2, colMedians, colMins, colOrderStats,\n",
      "    colProds, colQuantiles, colRanges, colRanks, colSdDiffs, colSds,\n",
      "    colSums2, colTabulates, colVarDiffs, colVars, colWeightedMads,\n",
      "    colWeightedMeans, colWeightedMedians, colWeightedSds,\n",
      "    colWeightedVars, rowAlls, rowAnyNAs, rowAnys, rowAvgsPerColSet,\n",
      "    rowCollapse, rowCounts, rowCummaxs, rowCummins, rowCumprods,\n",
      "    rowCumsums, rowDiffs, rowIQRDiffs, rowIQRs, rowLogSumExps,\n",
      "    rowMadDiffs, rowMads, rowMaxs, rowMeans2, rowMedians, rowMins,\n",
      "    rowOrderStats, rowProds, rowQuantiles, rowRanges, rowRanks,\n",
      "    rowSdDiffs, rowSds, rowSums2, rowTabulates, rowVarDiffs, rowVars,\n",
      "    rowWeightedMads, rowWeightedMeans, rowWeightedMedians,\n",
      "    rowWeightedSds, rowWeightedVars\n",
      "\n",
      "\n",
      "Loading required package: Biobase\n",
      "\n",
      "Welcome to Bioconductor\n",
      "\n",
      "    Vignettes contain introductory material; view with\n",
      "    'browseVignettes()'. To cite Bioconductor, see\n",
      "    'citation(\"Biobase\")', and for packages 'citation(\"pkgname\")'.\n",
      "\n",
      "\n",
      "\n",
      "Attaching package: ‘Biobase’\n",
      "\n",
      "\n",
      "The following object is masked from ‘package:MatrixGenerics’:\n",
      "\n",
      "    rowMedians\n",
      "\n",
      "\n",
      "The following objects are masked from ‘package:matrixStats’:\n",
      "\n",
      "    anyMissing, rowMedians\n",
      "\n",
      "\n",
      "The following object is masked from ‘package:phyloseq’:\n",
      "\n",
      "    sampleNames\n",
      "\n",
      "\n",
      "Registered S3 method overwritten by 'GGally':\n",
      "  method from   \n",
      "  +.gg   ggplot2\n",
      "\n",
      "Loading required package: ggpp\n",
      "\n",
      "Registered S3 methods overwritten by 'ggpp':\n",
      "  method                  from   \n",
      "  heightDetails.titleGrob ggplot2\n",
      "  widthDetails.titleGrob  ggplot2\n",
      "\n",
      "\n",
      "Attaching package: ‘ggpp’\n",
      "\n",
      "\n",
      "The following object is masked from ‘package:ggplot2’:\n",
      "\n",
      "    annotate\n",
      "\n",
      "\n",
      "Registered S3 method overwritten by 'ggpmisc':\n",
      "  method                  from   \n",
      "  as.character.polynomial polynom\n",
      "\n",
      "Loading required package: emmeans\n",
      "\n",
      "\n",
      "Attaching package: ‘emmeans’\n",
      "\n",
      "\n",
      "The following object is masked from ‘package:GGally’:\n",
      "\n",
      "    pigs\n",
      "\n",
      "\n",
      "The 'lsmeans' package is now basically a front end for 'emmeans'.\n",
      "Users are encouraged to switch the rest of the way.\n",
      "See help('transition') for more information, including how to\n",
      "convert old 'lsmeans' objects and scripts to work with 'emmeans'.\n",
      "\n",
      "Loading required package: lme4\n",
      "\n",
      "Loading required package: Matrix\n",
      "\n",
      "\n",
      "Attaching package: ‘Matrix’\n",
      "\n",
      "\n",
      "The following object is masked from ‘package:S4Vectors’:\n",
      "\n",
      "    expand\n",
      "\n",
      "\n",
      "The following objects are masked from ‘package:tidyr’:\n",
      "\n",
      "    expand, pack, unpack\n",
      "\n",
      "\n",
      "\n",
      "Attaching package: ‘speedyseq’\n",
      "\n",
      "\n",
      "The following objects are masked from ‘package:phyloseq’:\n",
      "\n",
      "    filter_taxa, plot_bar, plot_heatmap, plot_tree, psmelt, tax_glom,\n",
      "    tip_glom, transform_sample_counts\n",
      "\n",
      "\n"
     ]
    }
   ],
   "source": [
    "##import packages\n",
    "library(ggplot2)\n",
    "library(microbiome)\n",
    "library(phyloseq)\n",
    "library(\"tidyverse\")\n",
    "library(\"dplyr\")\n",
    "library(vegan)\n",
    "library(\"lubridate\")\n",
    "library(\"DESeq2\")\n",
    "library(\"GGally\")\n",
    "library(\"ggpmisc\")\n",
    "library(patchwork)\n",
    "library(lsmeans)\n",
    "library('pbkrtest')\n",
    "library(\"speedyseq\")"
   ]
  },
  {
   "cell_type": "code",
   "execution_count": 2,
   "id": "1d1184f2-a3ed-43d2-b429-dd8fa25bcb24",
   "metadata": {},
   "outputs": [
    {
     "data": {
      "text/plain": [
       "[1] ‘1.1.35.2’"
      ]
     },
     "metadata": {},
     "output_type": "display_data"
    },
    {
     "data": {
      "text/plain": [
       "[1] ‘1.24.0’"
      ]
     },
     "metadata": {},
     "output_type": "display_data"
    },
    {
     "data": {
      "text/plain": [
       "[1] ‘2.6.4’"
      ]
     },
     "metadata": {},
     "output_type": "display_data"
    }
   ],
   "source": [
    "library(\"lme4\"); packageVersion(\"lme4\")\n",
    "packageVersion(\"microbiome\")\n",
    "packageVersion('Vegan')"
   ]
  },
  {
   "cell_type": "code",
   "execution_count": 3,
   "id": "2483c375-5318-4cb0-9d5b-f9c200d842f0",
   "metadata": {},
   "outputs": [],
   "source": [
    "#import data from r data\n",
    "load(\"/Users/stephanie.rosales/Documents/omics_projects/POR_16S/CoralPersistence/data/POR_counts_4_analysis.RData\")\n",
    "load(\"/Users/stephanie.rosales/Documents/omics_projects/POR_16S/CoralPersistence/data/POR_taxo_4_analysis.RData\")\n",
    "## Need taxonomy and counts as matrices\n",
    "euk_ASVs <- read.table(\"/Users/stephanie.rosales/Documents/omics_projects/POR_16S/CoralPersistence/data/euk_asvs.txt\",\n",
    "                      stringsAsFactors = FALSE) %>% as.matrix() %>% as.list()\n",
    "\n",
    "taxo_mat <- POR_taxo_4_analysis #%>%\n",
    "  #rownames_to_column %>%\n",
    "  #filter(rowname != c('ASV_2',\"ASV_10673\", 'ASV_10883')) %>%\n",
    "  #column_to_rownames(\"rowname\")\n",
    "count_mat <- as.matrix(POR_counts_4_analysis)\n",
    "count_mat <- as.matrix(POR_counts_4_analysis)"
   ]
  },
  {
   "cell_type": "code",
   "execution_count": 4,
   "id": "b927b18b-ae3d-447e-b122-420039e148ab",
   "metadata": {},
   "outputs": [],
   "source": [
    "# change factor levels\n",
    "meta = read.csv (\"/Users/stephanie.rosales/Documents/omics_projects/POR_16S/CoralPersistence/metadata/POR_combo_meta.csv\",\n",
    "row.names=1, header = T)%>%\n",
    "  mutate(\n",
    "    Month = factor(Month, levels = month.name)\n",
    "  ) %>%\n",
    "  arrange(Month) %>%\n",
    "arrange(collection_date)"
   ]
  },
  {
   "cell_type": "code",
   "execution_count": 5,
   "id": "62dadff4-a3fa-4d2c-ba51-40750880f31d",
   "metadata": {},
   "outputs": [
    {
     "data": {
      "text/plain": [
       "phyloseq-class experiment-level object\n",
       "otu_table()   OTU Table:          [ 27534 taxa and 363 samples ]:\n",
       "sample_data() Sample Data:        [ 363 samples by 58 sample variables ]:\n",
       "tax_table()   Taxonomy Table:     [ 27534 taxa by 7 taxonomic ranks ]:\n",
       "taxa are rows"
      ]
     },
     "metadata": {},
     "output_type": "display_data"
    }
   ],
   "source": [
    "# create phyloseq object\n",
    "ASV <- otu_table(as.matrix(POR_counts_4_analysis), \n",
    "                 taxa_are_rows = T)\n",
    "TAX <- tax_table(as.matrix(taxo_mat))\n",
    "SAMP <- sample_data(meta)\n",
    "\n",
    "ps <- phyloseq(ASV, TAX, SAMP)\n",
    "ps"
   ]
  },
  {
   "cell_type": "code",
   "execution_count": 6,
   "id": "295ddaef-ba32-4a2a-a44d-ae3ca0f7f706",
   "metadata": {},
   "outputs": [
    {
     "data": {
      "text/plain": [
       "phyloseq-class experiment-level object\n",
       "otu_table()   OTU Table:          [ 27486 taxa and 363 samples ]:\n",
       "sample_data() Sample Data:        [ 363 samples by 58 sample variables ]:\n",
       "tax_table()   Taxonomy Table:     [ 27486 taxa by 7 taxonomic ranks ]:\n",
       "taxa are rows"
      ]
     },
     "metadata": {},
     "output_type": "display_data"
    }
   ],
   "source": [
    "#filter euks\n",
    "euk_asvs <- c(\"ASV_10673\",\"ASV_10883\",\t\"ASV_11806\",\"ASV_12333\",\t\"ASV_12335\",\t\"ASV_13587\",\t\"ASV_14757\",\t\"ASV_15238\",\t\"ASV_15259\",\t\"ASV_16364\",\t\"ASV_16936\",\t\"ASV_17406\",\t\"ASV_18096\",\t\"ASV_18375\",\t\"ASV_18682\",\t\"ASV_19529\",\t\"ASV_19795\",\t\"ASV_19953\",\t\"ASV_2\",\t\"ASV_20640\",\t\"ASV_2100\",\t\"ASV_22284\",\t\"ASV_22692\",\t\"ASV_23038\",\t\"ASV_23144\",\t\"ASV_24135\",\t\"ASV_24243\",\t\"ASV_27014\",\t\"ASV_29665\",\t\"ASV_30547\",\t\"ASV_30626\",\t\"ASV_30884\",\t\"ASV_4161\",\t\"ASV_4498\",\t\"ASV_476\",\t\"ASV_4797\",\t\"ASV_4966\",\t\"ASV_5018\",\t\"ASV_5118\",\t\"ASV_5154\",\t\"ASV_6282\",\t\"ASV_653\",\t\"ASV_6843\",\t\"ASV_7264\",\t\"ASV_7427\",\t\"ASV_8\",\t\"ASV_9248\",\t\"ASV_9692\")\n",
    "allTaxa = taxa_names(ps)\n",
    "allTaxa <- allTaxa[!(allTaxa %in% euk_asvs)]\n",
    "ps_fill_euk = prune_taxa(allTaxa, ps)\n",
    "# new phyloseq object with just the taxa you kept.\n",
    "ps_fill_euk"
   ]
  },
  {
   "cell_type": "code",
   "execution_count": 7,
   "id": "7849c6a0-6670-46b0-b5a6-161881bad750",
   "metadata": {},
   "outputs": [
    {
     "data": {
      "text/plain": [
       "phyloseq-class experiment-level object\n",
       "otu_table()   OTU Table:          [ 27486 taxa and 125 samples ]:\n",
       "sample_data() Sample Data:        [ 125 samples by 58 sample variables ]:\n",
       "tax_table()   Taxonomy Table:     [ 27486 taxa by 7 taxonomic ranks ]:\n",
       "taxa are rows"
      ]
     },
     "metadata": {},
     "output_type": "display_data"
    }
   ],
   "source": [
    "#merge samples from same cluster\n",
    "ps_merge = merge_samples2(ps_fill_euk, \"geno_clus\")\n",
    "ps_merge"
   ]
  },
  {
   "cell_type": "code",
   "execution_count": 8,
   "id": "0fb97867-cf71-4d84-93be-bd36d2a80139",
   "metadata": {},
   "outputs": [
    {
     "data": {
      "text/plain": [
       "phyloseq-class experiment-level object\n",
       "otu_table()   OTU Table:          [ 27459 taxa and 125 samples ]:\n",
       "sample_data() Sample Data:        [ 125 samples by 58 sample variables ]:\n",
       "tax_table()   Taxonomy Table:     [ 27459 taxa by 7 taxonomic ranks ]:\n",
       "taxa are rows"
      ]
     },
     "metadata": {},
     "output_type": "display_data"
    }
   ],
   "source": [
    "#filter low prevalent and abundant ASVs\n",
    "ps_fill= filter_taxa(ps_merge, function(x) sum(x > 0) > (0.0*length(x)), TRUE)\n",
    "                     ps_fill"
   ]
  },
  {
   "cell_type": "code",
   "execution_count": 9,
   "id": "817ecdc6-3fea-4e56-8c0e-175e65b576d4",
   "metadata": {},
   "outputs": [
    {
     "data": {
      "text/html": [
       "<style>\n",
       ".dl-inline {width: auto; margin:0; padding: 0}\n",
       ".dl-inline>dt, .dl-inline>dd {float: none; width: auto; display: inline-block}\n",
       ".dl-inline>dt::after {content: \":\\0020\"; padding-right: .5ex}\n",
       ".dl-inline>dt:not(:first-of-type) {padding-left: .5ex}\n",
       "</style><dl class=dl-inline><dt>domain</dt><dd>6352</dd><dt>phylum</dt><dd>9232</dd><dt>class</dt><dd>10010</dd><dt>order</dt><dd>14407</dd><dt>family</dt><dd>16244</dd><dt>genus</dt><dd>20799</dd><dt>species</dt><dd>27459</dd></dl>\n"
      ],
      "text/latex": [
       "\\begin{description*}\n",
       "\\item[domain] 6352\n",
       "\\item[phylum] 9232\n",
       "\\item[class] 10010\n",
       "\\item[order] 14407\n",
       "\\item[family] 16244\n",
       "\\item[genus] 20799\n",
       "\\item[species] 27459\n",
       "\\end{description*}\n"
      ],
      "text/markdown": [
       "domain\n",
       ":   6352phylum\n",
       ":   9232class\n",
       ":   10010order\n",
       ":   14407family\n",
       ":   16244genus\n",
       ":   20799species\n",
       ":   27459\n",
       "\n"
      ],
      "text/plain": [
       " domain  phylum   class   order  family   genus species \n",
       "   6352    9232   10010   14407   16244   20799   27459 "
      ]
     },
     "metadata": {},
     "output_type": "display_data"
    }
   ],
   "source": [
    "#counts across taxonomy\n",
    "sapply(as.data.frame(tax_table(ps_fill)), function(x) sum(is.na(x)))"
   ]
  },
  {
   "cell_type": "code",
   "execution_count": 10,
   "id": "119e4a0f-5669-455d-8044-1168f11c5430",
   "metadata": {},
   "outputs": [
    {
     "name": "stderr",
     "output_type": "stream",
     "text": [
      "Compositional = NO2\n",
      "\n",
      "1] Min. number of reads = 168762] Max. number of reads = 4116713] Total number of reads = 185409174] Average number of reads = 148327.3365] Median number of reads = 1287327] Sparsity = 0.966274081357666] Any OTU sum to 1 or less? YES8] Number of singletons = 409] Percent of OTUs that are singletons \n",
      "        (i.e. exactly one read detected across all samples)0.14567172875924110] Number of sample variables are: 58collection_dateSpeed.cm.s.Bearing.degrees.Velocity.N.cm.s.Velocity.E.cm.s.Temperature.C.reefGenotypeFragment_numberMonthYearFragment_numdaySurveyLiveFragSurvivorship_reefSurvivorshipLWHAdjusted.AreaS01FragCountYear.xSi.uM.NO2.uM.N.N.uM.NO3.uM.PO4.uM.sample_IDsample_ID2HealthMonth.xSamp_tripjoining_infoorderspeciestime_ReefClustersampling_tripgeno_clusXcolour_reefcolour_genotypecolour_reef_genotypecolour_timepointcolour_timepoint_reefcluster_latitudecluster_longitudecluster_depthdepthYear.yMonth.yLat_decimalLong_decimalavgchla_mgm.3sdchla_mgm.3avgSST_degCsdSST_degC2\n",
      "\n"
     ]
    },
    {
     "data": {
      "text/html": [
       "<ol>\n",
       "\t<li>'1] Min. number of reads = 16876'</li>\n",
       "\t<li>'2] Max. number of reads = 411671'</li>\n",
       "\t<li>'3] Total number of reads = 18540917'</li>\n",
       "\t<li>'4] Average number of reads = 148327.336'</li>\n",
       "\t<li>'5] Median number of reads = 128732'</li>\n",
       "\t<li>'7] Sparsity = 0.96627408135766'</li>\n",
       "\t<li>'6] Any OTU sum to 1 or less? YES'</li>\n",
       "\t<li>'8] Number of singletons = 40'</li>\n",
       "\t<li><span style=white-space:pre-wrap>'9] Percent of OTUs that are singletons \\n        (i.e. exactly one read detected across all samples)0.145671728759241'</span></li>\n",
       "\t<li>'10] Number of sample variables are: 58'</li>\n",
       "\t<li><style>\n",
       ".list-inline {list-style: none; margin:0; padding: 0}\n",
       ".list-inline>li {display: inline-block}\n",
       ".list-inline>li:not(:last-child)::after {content: \"\\00b7\"; padding: 0 .5ex}\n",
       "</style>\n",
       "<ol class=list-inline><li>'collection_date'</li><li>'Speed.cm.s.'</li><li>'Bearing.degrees.'</li><li>'Velocity.N.cm.s.'</li><li>'Velocity.E.cm.s.'</li><li>'Temperature.C.'</li><li>'reef'</li><li>'Genotype'</li><li>'Fragment_number'</li><li>'Month'</li><li>'Year'</li><li>'Fragment_num'</li><li>'day'</li><li>'Survey'</li><li>'LiveFrag'</li><li>'Survivorship_reef'</li><li>'Survivorship'</li><li>'L'</li><li>'W'</li><li>'H'</li><li>'Adjusted.Area'</li><li>'S01FragCount'</li><li>'Year.x'</li><li>'Si.uM.'</li><li>'NO2.uM.'</li><li>'N.N.uM.'</li><li>'NO3.uM.'</li><li>'PO4.uM.'</li><li>'sample_ID'</li><li>'sample_ID2'</li><li>'Health'</li><li>'Month.x'</li><li>'Samp_trip'</li><li>'joining_info'</li><li>'order'</li><li>'species'</li><li>'time_Reef'</li><li>'Cluster'</li><li>'sampling_trip'</li><li>'geno_clus'</li><li>'X'</li><li>'colour_reef'</li><li>'colour_genotype'</li><li>'colour_reef_genotype'</li><li>'colour_timepoint'</li><li>'colour_timepoint_reef'</li><li>'cluster_latitude'</li><li>'cluster_longitude'</li><li>'cluster_depth'</li><li>'depth'</li><li>'Year.y'</li><li>'Month.y'</li><li>'Lat_decimal'</li><li>'Long_decimal'</li><li>'avgchla_mgm.3'</li><li>'sdchla_mgm.3'</li><li>'avgSST_degC'</li><li>'sdSST_degC'</li></ol>\n",
       "</li>\n",
       "</ol>\n"
      ],
      "text/latex": [
       "\\begin{enumerate}\n",
       "\\item '1{]} Min. number of reads = 16876'\n",
       "\\item '2{]} Max. number of reads = 411671'\n",
       "\\item '3{]} Total number of reads = 18540917'\n",
       "\\item '4{]} Average number of reads = 148327.336'\n",
       "\\item '5{]} Median number of reads = 128732'\n",
       "\\item '7{]} Sparsity = 0.96627408135766'\n",
       "\\item '6{]} Any OTU sum to 1 or less? YES'\n",
       "\\item '8{]} Number of singletons = 40'\n",
       "\\item '9{]} Percent of OTUs that are singletons \\textbackslash{}n        (i.e. exactly one read detected across all samples)0.145671728759241'\n",
       "\\item '10{]} Number of sample variables are: 58'\n",
       "\\item \\begin{enumerate*}\n",
       "\\item 'collection\\_date'\n",
       "\\item 'Speed.cm.s.'\n",
       "\\item 'Bearing.degrees.'\n",
       "\\item 'Velocity.N.cm.s.'\n",
       "\\item 'Velocity.E.cm.s.'\n",
       "\\item 'Temperature.C.'\n",
       "\\item 'reef'\n",
       "\\item 'Genotype'\n",
       "\\item 'Fragment\\_number'\n",
       "\\item 'Month'\n",
       "\\item 'Year'\n",
       "\\item 'Fragment\\_num'\n",
       "\\item 'day'\n",
       "\\item 'Survey'\n",
       "\\item 'LiveFrag'\n",
       "\\item 'Survivorship\\_reef'\n",
       "\\item 'Survivorship'\n",
       "\\item 'L'\n",
       "\\item 'W'\n",
       "\\item 'H'\n",
       "\\item 'Adjusted.Area'\n",
       "\\item 'S01FragCount'\n",
       "\\item 'Year.x'\n",
       "\\item 'Si.uM.'\n",
       "\\item 'NO2.uM.'\n",
       "\\item 'N.N.uM.'\n",
       "\\item 'NO3.uM.'\n",
       "\\item 'PO4.uM.'\n",
       "\\item 'sample\\_ID'\n",
       "\\item 'sample\\_ID2'\n",
       "\\item 'Health'\n",
       "\\item 'Month.x'\n",
       "\\item 'Samp\\_trip'\n",
       "\\item 'joining\\_info'\n",
       "\\item 'order'\n",
       "\\item 'species'\n",
       "\\item 'time\\_Reef'\n",
       "\\item 'Cluster'\n",
       "\\item 'sampling\\_trip'\n",
       "\\item 'geno\\_clus'\n",
       "\\item 'X'\n",
       "\\item 'colour\\_reef'\n",
       "\\item 'colour\\_genotype'\n",
       "\\item 'colour\\_reef\\_genotype'\n",
       "\\item 'colour\\_timepoint'\n",
       "\\item 'colour\\_timepoint\\_reef'\n",
       "\\item 'cluster\\_latitude'\n",
       "\\item 'cluster\\_longitude'\n",
       "\\item 'cluster\\_depth'\n",
       "\\item 'depth'\n",
       "\\item 'Year.y'\n",
       "\\item 'Month.y'\n",
       "\\item 'Lat\\_decimal'\n",
       "\\item 'Long\\_decimal'\n",
       "\\item 'avgchla\\_mgm.3'\n",
       "\\item 'sdchla\\_mgm.3'\n",
       "\\item 'avgSST\\_degC'\n",
       "\\item 'sdSST\\_degC'\n",
       "\\end{enumerate*}\n",
       "\n",
       "\\end{enumerate}\n"
      ],
      "text/markdown": [
       "1. '1] Min. number of reads = 16876'\n",
       "2. '2] Max. number of reads = 411671'\n",
       "3. '3] Total number of reads = 18540917'\n",
       "4. '4] Average number of reads = 148327.336'\n",
       "5. '5] Median number of reads = 128732'\n",
       "6. '7] Sparsity = 0.96627408135766'\n",
       "7. '6] Any OTU sum to 1 or less? YES'\n",
       "8. '8] Number of singletons = 40'\n",
       "9. <span style=white-space:pre-wrap>'9] Percent of OTUs that are singletons \\n        (i.e. exactly one read detected across all samples)0.145671728759241'</span>\n",
       "10. '10] Number of sample variables are: 58'\n",
       "11. 1. 'collection_date'\n",
       "2. 'Speed.cm.s.'\n",
       "3. 'Bearing.degrees.'\n",
       "4. 'Velocity.N.cm.s.'\n",
       "5. 'Velocity.E.cm.s.'\n",
       "6. 'Temperature.C.'\n",
       "7. 'reef'\n",
       "8. 'Genotype'\n",
       "9. 'Fragment_number'\n",
       "10. 'Month'\n",
       "11. 'Year'\n",
       "12. 'Fragment_num'\n",
       "13. 'day'\n",
       "14. 'Survey'\n",
       "15. 'LiveFrag'\n",
       "16. 'Survivorship_reef'\n",
       "17. 'Survivorship'\n",
       "18. 'L'\n",
       "19. 'W'\n",
       "20. 'H'\n",
       "21. 'Adjusted.Area'\n",
       "22. 'S01FragCount'\n",
       "23. 'Year.x'\n",
       "24. 'Si.uM.'\n",
       "25. 'NO2.uM.'\n",
       "26. 'N.N.uM.'\n",
       "27. 'NO3.uM.'\n",
       "28. 'PO4.uM.'\n",
       "29. 'sample_ID'\n",
       "30. 'sample_ID2'\n",
       "31. 'Health'\n",
       "32. 'Month.x'\n",
       "33. 'Samp_trip'\n",
       "34. 'joining_info'\n",
       "35. 'order'\n",
       "36. 'species'\n",
       "37. 'time_Reef'\n",
       "38. 'Cluster'\n",
       "39. 'sampling_trip'\n",
       "40. 'geno_clus'\n",
       "41. 'X'\n",
       "42. 'colour_reef'\n",
       "43. 'colour_genotype'\n",
       "44. 'colour_reef_genotype'\n",
       "45. 'colour_timepoint'\n",
       "46. 'colour_timepoint_reef'\n",
       "47. 'cluster_latitude'\n",
       "48. 'cluster_longitude'\n",
       "49. 'cluster_depth'\n",
       "50. 'depth'\n",
       "51. 'Year.y'\n",
       "52. 'Month.y'\n",
       "53. 'Lat_decimal'\n",
       "54. 'Long_decimal'\n",
       "55. 'avgchla_mgm.3'\n",
       "56. 'sdchla_mgm.3'\n",
       "57. 'avgSST_degC'\n",
       "58. 'sdSST_degC'\n",
       "\n",
       "\n",
       "\n",
       "\n",
       "\n"
      ],
      "text/plain": [
       "[[1]]\n",
       "[1] \"1] Min. number of reads = 16876\"\n",
       "\n",
       "[[2]]\n",
       "[1] \"2] Max. number of reads = 411671\"\n",
       "\n",
       "[[3]]\n",
       "[1] \"3] Total number of reads = 18540917\"\n",
       "\n",
       "[[4]]\n",
       "[1] \"4] Average number of reads = 148327.336\"\n",
       "\n",
       "[[5]]\n",
       "[1] \"5] Median number of reads = 128732\"\n",
       "\n",
       "[[6]]\n",
       "[1] \"7] Sparsity = 0.96627408135766\"\n",
       "\n",
       "[[7]]\n",
       "[1] \"6] Any OTU sum to 1 or less? YES\"\n",
       "\n",
       "[[8]]\n",
       "[1] \"8] Number of singletons = 40\"\n",
       "\n",
       "[[9]]\n",
       "[1] \"9] Percent of OTUs that are singletons \\n        (i.e. exactly one read detected across all samples)0.145671728759241\"\n",
       "\n",
       "[[10]]\n",
       "[1] \"10] Number of sample variables are: 58\"\n",
       "\n",
       "[[11]]\n",
       " [1] \"collection_date\"       \"Speed.cm.s.\"           \"Bearing.degrees.\"     \n",
       " [4] \"Velocity.N.cm.s.\"      \"Velocity.E.cm.s.\"      \"Temperature.C.\"       \n",
       " [7] \"reef\"                  \"Genotype\"              \"Fragment_number\"      \n",
       "[10] \"Month\"                 \"Year\"                  \"Fragment_num\"         \n",
       "[13] \"day\"                   \"Survey\"                \"LiveFrag\"             \n",
       "[16] \"Survivorship_reef\"     \"Survivorship\"          \"L\"                    \n",
       "[19] \"W\"                     \"H\"                     \"Adjusted.Area\"        \n",
       "[22] \"S01FragCount\"          \"Year.x\"                \"Si.uM.\"               \n",
       "[25] \"NO2.uM.\"               \"N.N.uM.\"               \"NO3.uM.\"              \n",
       "[28] \"PO4.uM.\"               \"sample_ID\"             \"sample_ID2\"           \n",
       "[31] \"Health\"                \"Month.x\"               \"Samp_trip\"            \n",
       "[34] \"joining_info\"          \"order\"                 \"species\"              \n",
       "[37] \"time_Reef\"             \"Cluster\"               \"sampling_trip\"        \n",
       "[40] \"geno_clus\"             \"X\"                     \"colour_reef\"          \n",
       "[43] \"colour_genotype\"       \"colour_reef_genotype\"  \"colour_timepoint\"     \n",
       "[46] \"colour_timepoint_reef\" \"cluster_latitude\"      \"cluster_longitude\"    \n",
       "[49] \"cluster_depth\"         \"depth\"                 \"Year.y\"               \n",
       "[52] \"Month.y\"               \"Lat_decimal\"           \"Long_decimal\"         \n",
       "[55] \"avgchla_mgm.3\"         \"sdchla_mgm.3\"          \"avgSST_degC\"          \n",
       "[58] \"sdSST_degC\"           \n"
      ]
     },
     "metadata": {},
     "output_type": "display_data"
    }
   ],
   "source": [
    "microbiome::summarize_phyloseq(ps_fill)"
   ]
  },
  {
   "cell_type": "code",
   "execution_count": 11,
   "id": "d224aefd-becb-4b30-b7a5-5127ee75d1a4",
   "metadata": {},
   "outputs": [
    {
     "name": "stderr",
     "output_type": "stream",
     "text": [
      "`set.seed(123)` was used to initialize repeatable random subsampling.\n",
      "\n",
      "Please record this for your records so others can reproduce.\n",
      "\n",
      "Try `set.seed(123); .Random.seed` for the full vector\n",
      "\n",
      "...\n",
      "\n",
      "7073OTUs were removed because they are no longer \n",
      "present in any sample after random subsampling\n",
      "\n",
      "\n",
      "...\n",
      "\n"
     ]
    },
    {
     "data": {
      "text/plain": [
       "phyloseq-class experiment-level object\n",
       "otu_table()   OTU Table:          [ 20386 taxa and 125 samples ]:\n",
       "sample_data() Sample Data:        [ 125 samples by 58 sample variables ]:\n",
       "tax_table()   Taxonomy Table:     [ 20386 taxa by 7 taxonomic ranks ]:\n",
       "taxa are rows"
      ]
     },
     "metadata": {},
     "output_type": "display_data"
    }
   ],
   "source": [
    "#rarefy for alpha-diversity \n",
    "    ps_fill_rare <- phyloseq::rarefy_even_depth(ps_fill, rngseed = 123, replace = FALSE, sample.size=15000)          "
   ]
  },
  {
   "cell_type": "code",
   "execution_count": 12,
   "id": "f8b0a107-3dc9-4aef-a696-311ad91e5b76",
   "metadata": {},
   "outputs": [
    {
     "data": {
      "text/html": [
       "<table class=\"dataframe\">\n",
       "<caption>A data.frame: 6 × 2</caption>\n",
       "<thead>\n",
       "\t<tr><th></th><th scope=col>sample_bag</th><th scope=col>Shannon</th></tr>\n",
       "\t<tr><th></th><th scope=col>&lt;chr&gt;</th><th scope=col>&lt;dbl&gt;</th></tr>\n",
       "</thead>\n",
       "<tbody>\n",
       "\t<tr><th scope=row>1</th><td>ML2_78_cf_Trip_3</td><td>2.144486</td></tr>\n",
       "\t<tr><th scope=row>2</th><td>CN4_35_cf_Trip_3</td><td>4.487037</td></tr>\n",
       "\t<tr><th scope=row>3</th><td>CN4_25_cf_Trip_3</td><td>2.806583</td></tr>\n",
       "\t<tr><th scope=row>4</th><td>HS1_18_cf_Trip_3</td><td>2.780941</td></tr>\n",
       "\t<tr><th scope=row>5</th><td>HS1_17_cf_Trip_3</td><td>4.011722</td></tr>\n",
       "\t<tr><th scope=row>6</th><td>HS1_15_cf_Trip_3</td><td>3.510937</td></tr>\n",
       "</tbody>\n",
       "</table>\n"
      ],
      "text/latex": [
       "A data.frame: 6 × 2\n",
       "\\begin{tabular}{r|ll}\n",
       "  & sample\\_bag & Shannon\\\\\n",
       "  & <chr> & <dbl>\\\\\n",
       "\\hline\n",
       "\t1 & ML2\\_78\\_cf\\_Trip\\_3 & 2.144486\\\\\n",
       "\t2 & CN4\\_35\\_cf\\_Trip\\_3 & 4.487037\\\\\n",
       "\t3 & CN4\\_25\\_cf\\_Trip\\_3 & 2.806583\\\\\n",
       "\t4 & HS1\\_18\\_cf\\_Trip\\_3 & 2.780941\\\\\n",
       "\t5 & HS1\\_17\\_cf\\_Trip\\_3 & 4.011722\\\\\n",
       "\t6 & HS1\\_15\\_cf\\_Trip\\_3 & 3.510937\\\\\n",
       "\\end{tabular}\n"
      ],
      "text/markdown": [
       "\n",
       "A data.frame: 6 × 2\n",
       "\n",
       "| <!--/--> | sample_bag &lt;chr&gt; | Shannon &lt;dbl&gt; |\n",
       "|---|---|---|\n",
       "| 1 | ML2_78_cf_Trip_3 | 2.144486 |\n",
       "| 2 | CN4_35_cf_Trip_3 | 4.487037 |\n",
       "| 3 | CN4_25_cf_Trip_3 | 2.806583 |\n",
       "| 4 | HS1_18_cf_Trip_3 | 2.780941 |\n",
       "| 5 | HS1_17_cf_Trip_3 | 4.011722 |\n",
       "| 6 | HS1_15_cf_Trip_3 | 3.510937 |\n",
       "\n"
      ],
      "text/plain": [
       "  sample_bag       Shannon \n",
       "1 ML2_78_cf_Trip_3 2.144486\n",
       "2 CN4_35_cf_Trip_3 4.487037\n",
       "3 CN4_25_cf_Trip_3 2.806583\n",
       "4 HS1_18_cf_Trip_3 2.780941\n",
       "5 HS1_17_cf_Trip_3 4.011722\n",
       "6 HS1_15_cf_Trip_3 3.510937"
      ]
     },
     "metadata": {},
     "output_type": "display_data"
    }
   ],
   "source": [
    "\n",
    "adiv <- data.frame(\n",
    "  \"Shannon\" = phyloseq::estimate_richness(ps_fill_rare, measures = \"Shannon\")) %>% rownames_to_column(\"sample_bag\")\n",
    "head(adiv)"
   ]
  },
  {
   "cell_type": "code",
   "execution_count": 13,
   "id": "1dfddb62-0f2d-4241-a893-dbd0f036dc6c",
   "metadata": {},
   "outputs": [
    {
     "data": {
      "text/html": [
       "<table class=\"dataframe\">\n",
       "<caption>A data.frame: 6 × 3</caption>\n",
       "<thead>\n",
       "\t<tr><th></th><th scope=col>sample_bag</th><th scope=col>Shannon</th><th scope=col>Shannon_trans</th></tr>\n",
       "\t<tr><th></th><th scope=col>&lt;chr&gt;</th><th scope=col>&lt;dbl&gt;</th><th scope=col>&lt;dbl&gt;</th></tr>\n",
       "</thead>\n",
       "<tbody>\n",
       "\t<tr><th scope=row>1</th><td>ML2_78_cf_Trip_3</td><td>2.144486</td><td>0.3313232</td></tr>\n",
       "\t<tr><th scope=row>2</th><td>CN4_35_cf_Trip_3</td><td>4.487037</td><td>0.6519596</td></tr>\n",
       "\t<tr><th scope=row>3</th><td>CN4_25_cf_Trip_3</td><td>2.806583</td><td>0.4481778</td></tr>\n",
       "\t<tr><th scope=row>4</th><td>HS1_18_cf_Trip_3</td><td>2.780941</td><td>0.4441918</td></tr>\n",
       "\t<tr><th scope=row>5</th><td>HS1_17_cf_Trip_3</td><td>4.011722</td><td>0.6033309</td></tr>\n",
       "\t<tr><th scope=row>6</th><td>HS1_15_cf_Trip_3</td><td>3.510937</td><td>0.5454230</td></tr>\n",
       "</tbody>\n",
       "</table>\n"
      ],
      "text/latex": [
       "A data.frame: 6 × 3\n",
       "\\begin{tabular}{r|lll}\n",
       "  & sample\\_bag & Shannon & Shannon\\_trans\\\\\n",
       "  & <chr> & <dbl> & <dbl>\\\\\n",
       "\\hline\n",
       "\t1 & ML2\\_78\\_cf\\_Trip\\_3 & 2.144486 & 0.3313232\\\\\n",
       "\t2 & CN4\\_35\\_cf\\_Trip\\_3 & 4.487037 & 0.6519596\\\\\n",
       "\t3 & CN4\\_25\\_cf\\_Trip\\_3 & 2.806583 & 0.4481778\\\\\n",
       "\t4 & HS1\\_18\\_cf\\_Trip\\_3 & 2.780941 & 0.4441918\\\\\n",
       "\t5 & HS1\\_17\\_cf\\_Trip\\_3 & 4.011722 & 0.6033309\\\\\n",
       "\t6 & HS1\\_15\\_cf\\_Trip\\_3 & 3.510937 & 0.5454230\\\\\n",
       "\\end{tabular}\n"
      ],
      "text/markdown": [
       "\n",
       "A data.frame: 6 × 3\n",
       "\n",
       "| <!--/--> | sample_bag &lt;chr&gt; | Shannon &lt;dbl&gt; | Shannon_trans &lt;dbl&gt; |\n",
       "|---|---|---|---|\n",
       "| 1 | ML2_78_cf_Trip_3 | 2.144486 | 0.3313232 |\n",
       "| 2 | CN4_35_cf_Trip_3 | 4.487037 | 0.6519596 |\n",
       "| 3 | CN4_25_cf_Trip_3 | 2.806583 | 0.4481778 |\n",
       "| 4 | HS1_18_cf_Trip_3 | 2.780941 | 0.4441918 |\n",
       "| 5 | HS1_17_cf_Trip_3 | 4.011722 | 0.6033309 |\n",
       "| 6 | HS1_15_cf_Trip_3 | 3.510937 | 0.5454230 |\n",
       "\n"
      ],
      "text/plain": [
       "  sample_bag       Shannon  Shannon_trans\n",
       "1 ML2_78_cf_Trip_3 2.144486 0.3313232    \n",
       "2 CN4_35_cf_Trip_3 4.487037 0.6519596    \n",
       "3 CN4_25_cf_Trip_3 2.806583 0.4481778    \n",
       "4 HS1_18_cf_Trip_3 2.780941 0.4441918    \n",
       "5 HS1_17_cf_Trip_3 4.011722 0.6033309    \n",
       "6 HS1_15_cf_Trip_3 3.510937 0.5454230    "
      ]
     },
     "metadata": {},
     "output_type": "display_data"
    }
   ],
   "source": [
    "#normalize the data\n",
    "adiv_trans =adiv %>%\n",
    "mutate(Shannon_trans = log10(Shannon))\n",
    "head(adiv_trans)"
   ]
  },
  {
   "cell_type": "code",
   "execution_count": 14,
   "id": "cd139863-2dee-4331-b93f-afdc0e07d25a",
   "metadata": {},
   "outputs": [
    {
     "data": {
      "text/plain": [
       "\n",
       "\tShapiro-Wilk normality test\n",
       "\n",
       "data:  adiv_trans$Shannon_trans\n",
       "W = 0.9874, p-value = 0.305\n"
      ]
     },
     "metadata": {},
     "output_type": "display_data"
    },
    {
     "data": {
      "image/png": "[encoded data removed]",
      "text/plain": [
       "Plot with title “Normal Q-Q Plot”"
      ]
     },
     "metadata": {
      "image/png": {
       "height": 420,
       "width": 420
      }
     },
     "output_type": "display_data"
    },
    {
     "data": {
      "image/png": "[encoded data removed]",
      "text/plain": [
       "Plot with title “shannon”"
      ]
     },
     "metadata": {
      "image/png": {
       "height": 420,
       "width": 420
      }
     },
     "output_type": "display_data"
    }
   ],
   "source": [
    "#inspect normalized data\n",
    "qqnorm(adiv_trans$Shannon_trans)\n",
    "qqline(adiv_trans$Shannon_trans)\n",
    "shapiro.test(adiv_trans$Shannon_trans)\n",
    "hist(adiv_trans$Shannon_trans, col='steelblue', main='shannon')"
   ]
  },
  {
   "cell_type": "code",
   "execution_count": 15,
   "id": "2f85b9e5-4714-4369-b7c6-f1b64be3cc5f",
   "metadata": {},
   "outputs": [
    {
     "data": {
      "text/html": [
       "<table class=\"dataframe\">\n",
       "<caption>A data.frame: 6 × 12</caption>\n",
       "<thead>\n",
       "\t<tr><th></th><th scope=col>Genotype</th><th scope=col>Samp_trip</th><th scope=col>reef</th><th scope=col>Speed.cm.s.</th><th scope=col>NO2.uM.</th><th scope=col>NO3.uM.</th><th scope=col>PO4.uM.</th><th scope=col>Si.uM.</th><th scope=col>avgSST_degC</th><th scope=col>avgchla_mgm.3</th><th scope=col>cluster_depth</th><th scope=col>Survivorship_reef</th></tr>\n",
       "\t<tr><th></th><th scope=col>&lt;chr&gt;</th><th scope=col>&lt;chr&gt;</th><th scope=col>&lt;chr&gt;</th><th scope=col>&lt;dbl&gt;</th><th scope=col>&lt;dbl&gt;</th><th scope=col>&lt;dbl&gt;</th><th scope=col>&lt;dbl&gt;</th><th scope=col>&lt;dbl&gt;</th><th scope=col>&lt;dbl&gt;</th><th scope=col>&lt;dbl&gt;</th><th scope=col>&lt;dbl&gt;</th><th scope=col>&lt;dbl&gt;</th></tr>\n",
       "</thead>\n",
       "<tbody>\n",
       "\t<tr><th scope=row>ML2_78_cf_Trip_3</th><td>ML2</td><td>Trip_3</td><td>cf</td><td>4.852118</td><td>0.032</td><td>0.861</td><td>0.0685</td><td>0.706</td><td>29.63623</td><td>1.792092</td><td>-20.9</td><td>0.15</td></tr>\n",
       "\t<tr><th scope=row>CN4_35_cf_Trip_3</th><td>CN4</td><td>Trip_3</td><td>cf</td><td>4.852118</td><td>0.032</td><td>0.861</td><td>0.0685</td><td>0.706</td><td>29.63623</td><td>1.792092</td><td>-17.9</td><td>0.23</td></tr>\n",
       "\t<tr><th scope=row>CN4_25_cf_Trip_3</th><td>CN4</td><td>Trip_3</td><td>cf</td><td>4.852118</td><td>0.032</td><td>0.861</td><td>0.0685</td><td>0.706</td><td>29.63623</td><td>1.792092</td><td>-20.8</td><td>0.23</td></tr>\n",
       "\t<tr><th scope=row>HS1_18_cf_Trip_3</th><td>HS1</td><td>Trip_3</td><td>cf</td><td>4.852118</td><td>0.032</td><td>0.861</td><td>0.0685</td><td>0.706</td><td>29.63623</td><td>1.792092</td><td>-18.8</td><td>0.80</td></tr>\n",
       "\t<tr><th scope=row>HS1_17_cf_Trip_3</th><td>HS1</td><td>Trip_3</td><td>cf</td><td>4.852118</td><td>0.032</td><td>0.861</td><td>0.0685</td><td>0.706</td><td>29.63623</td><td>1.792092</td><td>-17.8</td><td>  NA</td></tr>\n",
       "\t<tr><th scope=row>HS1_15_cf_Trip_3</th><td>HS1</td><td>Trip_3</td><td>cf</td><td>4.852118</td><td>0.032</td><td>0.861</td><td>0.0685</td><td>0.706</td><td>29.63623</td><td>1.792092</td><td>-17.6</td><td>0.90</td></tr>\n",
       "</tbody>\n",
       "</table>\n"
      ],
      "text/latex": [
       "A data.frame: 6 × 12\n",
       "\\begin{tabular}{r|llllllllllll}\n",
       "  & Genotype & Samp\\_trip & reef & Speed.cm.s. & NO2.uM. & NO3.uM. & PO4.uM. & Si.uM. & avgSST\\_degC & avgchla\\_mgm.3 & cluster\\_depth & Survivorship\\_reef\\\\\n",
       "  & <chr> & <chr> & <chr> & <dbl> & <dbl> & <dbl> & <dbl> & <dbl> & <dbl> & <dbl> & <dbl> & <dbl>\\\\\n",
       "\\hline\n",
       "\tML2\\_78\\_cf\\_Trip\\_3 & ML2 & Trip\\_3 & cf & 4.852118 & 0.032 & 0.861 & 0.0685 & 0.706 & 29.63623 & 1.792092 & -20.9 & 0.15\\\\\n",
       "\tCN4\\_35\\_cf\\_Trip\\_3 & CN4 & Trip\\_3 & cf & 4.852118 & 0.032 & 0.861 & 0.0685 & 0.706 & 29.63623 & 1.792092 & -17.9 & 0.23\\\\\n",
       "\tCN4\\_25\\_cf\\_Trip\\_3 & CN4 & Trip\\_3 & cf & 4.852118 & 0.032 & 0.861 & 0.0685 & 0.706 & 29.63623 & 1.792092 & -20.8 & 0.23\\\\\n",
       "\tHS1\\_18\\_cf\\_Trip\\_3 & HS1 & Trip\\_3 & cf & 4.852118 & 0.032 & 0.861 & 0.0685 & 0.706 & 29.63623 & 1.792092 & -18.8 & 0.80\\\\\n",
       "\tHS1\\_17\\_cf\\_Trip\\_3 & HS1 & Trip\\_3 & cf & 4.852118 & 0.032 & 0.861 & 0.0685 & 0.706 & 29.63623 & 1.792092 & -17.8 &   NA\\\\\n",
       "\tHS1\\_15\\_cf\\_Trip\\_3 & HS1 & Trip\\_3 & cf & 4.852118 & 0.032 & 0.861 & 0.0685 & 0.706 & 29.63623 & 1.792092 & -17.6 & 0.90\\\\\n",
       "\\end{tabular}\n"
      ],
      "text/markdown": [
       "\n",
       "A data.frame: 6 × 12\n",
       "\n",
       "| <!--/--> | Genotype &lt;chr&gt; | Samp_trip &lt;chr&gt; | reef &lt;chr&gt; | Speed.cm.s. &lt;dbl&gt; | NO2.uM. &lt;dbl&gt; | NO3.uM. &lt;dbl&gt; | PO4.uM. &lt;dbl&gt; | Si.uM. &lt;dbl&gt; | avgSST_degC &lt;dbl&gt; | avgchla_mgm.3 &lt;dbl&gt; | cluster_depth &lt;dbl&gt; | Survivorship_reef &lt;dbl&gt; |\n",
       "|---|---|---|---|---|---|---|---|---|---|---|---|---|\n",
       "| ML2_78_cf_Trip_3 | ML2 | Trip_3 | cf | 4.852118 | 0.032 | 0.861 | 0.0685 | 0.706 | 29.63623 | 1.792092 | -20.9 | 0.15 |\n",
       "| CN4_35_cf_Trip_3 | CN4 | Trip_3 | cf | 4.852118 | 0.032 | 0.861 | 0.0685 | 0.706 | 29.63623 | 1.792092 | -17.9 | 0.23 |\n",
       "| CN4_25_cf_Trip_3 | CN4 | Trip_3 | cf | 4.852118 | 0.032 | 0.861 | 0.0685 | 0.706 | 29.63623 | 1.792092 | -20.8 | 0.23 |\n",
       "| HS1_18_cf_Trip_3 | HS1 | Trip_3 | cf | 4.852118 | 0.032 | 0.861 | 0.0685 | 0.706 | 29.63623 | 1.792092 | -18.8 | 0.80 |\n",
       "| HS1_17_cf_Trip_3 | HS1 | Trip_3 | cf | 4.852118 | 0.032 | 0.861 | 0.0685 | 0.706 | 29.63623 | 1.792092 | -17.8 |   NA |\n",
       "| HS1_15_cf_Trip_3 | HS1 | Trip_3 | cf | 4.852118 | 0.032 | 0.861 | 0.0685 | 0.706 | 29.63623 | 1.792092 | -17.6 | 0.90 |\n",
       "\n"
      ],
      "text/plain": [
       "                 Genotype Samp_trip reef Speed.cm.s. NO2.uM. NO3.uM. PO4.uM.\n",
       "ML2_78_cf_Trip_3 ML2      Trip_3    cf   4.852118    0.032   0.861   0.0685 \n",
       "CN4_35_cf_Trip_3 CN4      Trip_3    cf   4.852118    0.032   0.861   0.0685 \n",
       "CN4_25_cf_Trip_3 CN4      Trip_3    cf   4.852118    0.032   0.861   0.0685 \n",
       "HS1_18_cf_Trip_3 HS1      Trip_3    cf   4.852118    0.032   0.861   0.0685 \n",
       "HS1_17_cf_Trip_3 HS1      Trip_3    cf   4.852118    0.032   0.861   0.0685 \n",
       "HS1_15_cf_Trip_3 HS1      Trip_3    cf   4.852118    0.032   0.861   0.0685 \n",
       "                 Si.uM. avgSST_degC avgchla_mgm.3 cluster_depth\n",
       "ML2_78_cf_Trip_3 0.706  29.63623    1.792092      -20.9        \n",
       "CN4_35_cf_Trip_3 0.706  29.63623    1.792092      -17.9        \n",
       "CN4_25_cf_Trip_3 0.706  29.63623    1.792092      -20.8        \n",
       "HS1_18_cf_Trip_3 0.706  29.63623    1.792092      -18.8        \n",
       "HS1_17_cf_Trip_3 0.706  29.63623    1.792092      -17.8        \n",
       "HS1_15_cf_Trip_3 0.706  29.63623    1.792092      -17.6        \n",
       "                 Survivorship_reef\n",
       "ML2_78_cf_Trip_3 0.15             \n",
       "CN4_35_cf_Trip_3 0.23             \n",
       "CN4_25_cf_Trip_3 0.23             \n",
       "HS1_18_cf_Trip_3 0.80             \n",
       "HS1_17_cf_Trip_3   NA             \n",
       "HS1_15_cf_Trip_3 0.90             "
      ]
     },
     "metadata": {},
     "output_type": "display_data"
    }
   ],
   "source": [
    "#combine data with enviornmental data\n",
    "ps_ra_meta= as(sample_data(ps_fill_rare), \"data.frame\")\n",
    "ps_ra_meta_envs = ps_ra_meta %>% select(\"Genotype\", \"Samp_trip\", \"reef\",'Speed.cm.s.', 'NO2.uM.', 'NO3.uM.', 'PO4.uM.', 'Si.uM.',\n",
    "                \"Speed.cm.s.\", \"avgSST_degC\", \"avgchla_mgm.3\", \"cluster_depth\", \"Survivorship_reef\")\n",
    "head(ps_ra_meta_envs)\n",
    "\n",
    "alpha_envs=cbind(ps_ra_meta_envs, adiv_trans)\n",
    "head(alpha_envs)"
   ]
  },
  {
   "cell_type": "markdown",
   "id": "7a002aa1-fa2b-464e-b749-83bd04a0c40d",
   "metadata": {},
   "source": [
    "## linear mixed models for shannon diversity "
   ]
  },
  {
   "cell_type": "code",
   "execution_count": 20,
   "id": "32a2bafa-9071-4199-87b6-64261d787029",
   "metadata": {},
   "outputs": [
    {
     "data": {
      "text/plain": [
       "Linear mixed model fit by REML ['lmerMod']\n",
       "Formula: Shannon_trans ~ -1 + Genotype + (1 | Samp_trip:reef)\n",
       "   Data: alpha_all\n",
       "\n",
       "REML criterion at convergence: -175.1\n",
       "\n",
       "Scaled residuals: \n",
       "     Min       1Q   Median       3Q      Max \n",
       "-2.00622 -0.64671 -0.08758  0.73311  2.93537 \n",
       "\n",
       "Random effects:\n",
       " Groups         Name        Variance  Std.Dev.\n",
       " Samp_trip:reef (Intercept) 0.0004246 0.02061 \n",
       " Residual                   0.0119579 0.10935 \n",
       "Number of obs: 125, groups:  Samp_trip:reef, 12\n",
       "\n",
       "Fixed effects:\n",
       "            Estimate Std. Error t value\n",
       "GenotypeCN2  0.49399    0.01894   26.08\n",
       "GenotypeCN4  0.50726    0.02202   23.03\n",
       "GenotypeHS1  0.44500    0.01942   22.91\n",
       "GenotypeML2  0.39981    0.02239   17.86\n",
       "\n",
       "Correlation of Fixed Effects:\n",
       "            GntCN2 GntCN4 GntHS1\n",
       "GenotypeCN4 0.085               \n",
       "GenotypeHS1 0.096  0.085        \n",
       "GenotypeML2 0.083  0.082  0.083 "
      ]
     },
     "metadata": {},
     "output_type": "display_data"
    },
    {
     "data": {
      "text/plain": [
       "$emmeans\n",
       " Genotype emmean     SE   df lower.CL upper.CL\n",
       " CN2       0.494 0.0189 62.7    0.456    0.532\n",
       " CN4       0.507 0.0221 75.7    0.463    0.551\n",
       " HS1       0.445 0.0194 66.5    0.406    0.484\n",
       " ML2       0.400 0.0225 79.8    0.355    0.445\n",
       "\n",
       "Degrees-of-freedom method: kenward-roger \n",
       "Confidence level used: 0.95 \n",
       "\n",
       "$contrasts\n",
       " contrast  estimate     SE  df t.ratio p.value\n",
       " CN2 - CN4  -0.0133 0.0279 115  -0.476  0.9643\n",
       " CN2 - HS1   0.0490 0.0258 111   1.899  0.2345\n",
       " CN2 - ML2   0.0942 0.0282 115   3.341  0.0061\n",
       " CN4 - HS1   0.0623 0.0282 114   2.209  0.1269\n",
       " CN4 - ML2   0.1074 0.0301 112   3.567  0.0030\n",
       " HS1 - ML2   0.0452 0.0285 114   1.588  0.3898\n",
       "\n",
       "Degrees-of-freedom method: kenward-roger \n",
       "P value adjustment: tukey method for comparing a family of 4 estimates \n"
      ]
     },
     "metadata": {},
     "output_type": "display_data"
    }
   ],
   "source": [
    "mixed.lmer_geno <- lmer(Shannon_trans ~ -1 + Genotype + (1|Samp_trip:reef) , data =alpha_all)\n",
    "summary(mixed.lmer_geno)\n",
    "\n",
    "emmeans(mixed.lmer_geno, pairwise ~ -1 + Genotype, adjust=\"tukey\")"
   ]
  },
  {
   "cell_type": "code",
   "execution_count": 21,
   "id": "1c8a7953-1975-4353-86ec-6c2579640b4d",
   "metadata": {},
   "outputs": [
    {
     "data": {
      "text/plain": [
       "Linear mixed model fit by REML ['lmerMod']\n",
       "Formula: Shannon_trans ~ -1 + reef + (1 | Genotype:Samp_trip)\n",
       "   Data: alpha_all\n",
       "\n",
       "REML criterion at convergence: -171.4\n",
       "\n",
       "Scaled residuals: \n",
       "     Min       1Q   Median       3Q      Max \n",
       "-2.06179 -0.65698  0.04547  0.64340  2.83430 \n",
       "\n",
       "Random effects:\n",
       " Groups             Name        Variance Std.Dev.\n",
       " Genotype:Samp_trip (Intercept) 0.002149 0.04636 \n",
       " Residual                       0.011777 0.10852 \n",
       "Number of obs: 125, groups:  Genotype:Samp_trip, 16\n",
       "\n",
       "Fixed effects:\n",
       "        Estimate Std. Error t value\n",
       "reefcf   0.47869    0.02316   20.67\n",
       "reefndr  0.47578    0.01963   24.24\n",
       "reefpr   0.44017    0.01965   22.40\n",
       "\n",
       "Correlation of Fixed Effects:\n",
       "        reefcf refndr\n",
       "reefndr 0.299        \n",
       "reefpr  0.301  0.348 "
      ]
     },
     "metadata": {},
     "output_type": "display_data"
    },
    {
     "data": {
      "text/plain": [
       "$emmeans\n",
       " reef emmean     SE   df lower.CL upper.CL\n",
       " cf    0.479 0.0233 58.7    0.432    0.525\n",
       " ndr   0.476 0.0196 39.3    0.436    0.515\n",
       " pr    0.440 0.0197 39.2    0.400    0.480\n",
       "\n",
       "Degrees-of-freedom method: kenward-roger \n",
       "Confidence level used: 0.95 \n",
       "\n",
       "$contrasts\n",
       " contrast estimate     SE  df t.ratio p.value\n",
       " cf - ndr  0.00291 0.0256 112   0.114  0.9929\n",
       " cf - pr   0.03852 0.0255 112   1.508  0.2910\n",
       " ndr - pr  0.03561 0.0224 108   1.587  0.2555\n",
       "\n",
       "Degrees-of-freedom method: kenward-roger \n",
       "P value adjustment: tukey method for comparing a family of 3 estimates \n"
      ]
     },
     "metadata": {},
     "output_type": "display_data"
    }
   ],
   "source": [
    "mixed.lmer_geno <- lmer(Shannon_trans ~ -1 + reef + (1|Genotype:Samp_trip) , data =alpha_all)\n",
    "summary(mixed.lmer_geno)\n",
    "\n",
    "emmeans(mixed.lmer_geno, pairwise ~ -1 + reef, adjust=\"tukey\")"
   ]
  },
  {
   "cell_type": "code",
   "execution_count": 22,
   "id": "56a78cdb-e63e-40af-8c9e-77f94a735fb0",
   "metadata": {},
   "outputs": [
    {
     "data": {
      "text/plain": [
       "Linear mixed model fit by REML ['lmerMod']\n",
       "Formula: Shannon_trans ~ -1 + Samp_trip + (1 | Genotype)\n",
       "   Data: alpha_all\n",
       "\n",
       "REML criterion at convergence: -172.8\n",
       "\n",
       "Scaled residuals: \n",
       "    Min      1Q  Median      3Q     Max \n",
       "-1.9846 -0.6827 -0.0953  0.7427  3.1759 \n",
       "\n",
       "Random effects:\n",
       " Groups   Name        Variance Std.Dev.\n",
       " Genotype (Intercept) 0.00186  0.04313 \n",
       " Residual             0.01200  0.10953 \n",
       "Number of obs: 125, groups:  Genotype, 4\n",
       "\n",
       "Fixed effects:\n",
       "                Estimate Std. Error t value\n",
       "Samp_tripTrip_2  0.43361    0.02860   15.16\n",
       "Samp_tripTrip_3  0.47843    0.02880   16.61\n",
       "Samp_tripTrip_4  0.49653    0.03001   16.54\n",
       "Samp_tripTrip_5  0.44229    0.02946   15.01\n",
       "\n",
       "Correlation of Fixed Effects:\n",
       "            Sm_T_2 Sm_T_3 Sm_T_4\n",
       "Smp_trpTr_3 0.565               \n",
       "Smp_trpTr_4 0.543  0.540        \n",
       "Smp_trpTr_5 0.553  0.550  0.531 "
      ]
     },
     "metadata": {},
     "output_type": "display_data"
    },
    {
     "data": {
      "text/plain": [
       "$emmeans\n",
       " Samp_trip emmean     SE   df lower.CL upper.CL\n",
       " Trip_2     0.434 0.0286 6.30    0.364    0.503\n",
       " Trip_3     0.478 0.0288 6.46    0.409    0.548\n",
       " Trip_4     0.497 0.0300 7.56    0.427    0.567\n",
       " Trip_5     0.442 0.0295 7.06    0.373    0.512\n",
       "\n",
       "Degrees-of-freedom method: kenward-roger \n",
       "Confidence level used: 0.95 \n",
       "\n",
       "$contrasts\n",
       " contrast        estimate     SE  df t.ratio p.value\n",
       " Trip_2 - Trip_3 -0.04482 0.0268 118  -1.674  0.3420\n",
       " Trip_2 - Trip_4 -0.06292 0.0281 118  -2.242  0.1180\n",
       " Trip_2 - Trip_5 -0.00868 0.0275 118  -0.316  0.9890\n",
       " Trip_3 - Trip_4 -0.01811 0.0282 118  -0.641  0.9184\n",
       " Trip_3 - Trip_5  0.03614 0.0277 118   1.307  0.5606\n",
       " Trip_4 - Trip_5  0.05424 0.0288 118   1.883  0.2410\n",
       "\n",
       "Degrees-of-freedom method: kenward-roger \n",
       "P value adjustment: tukey method for comparing a family of 4 estimates \n"
      ]
     },
     "metadata": {},
     "output_type": "display_data"
    }
   ],
   "source": [
    "mixed.lmer_geno <- lmer(Shannon_trans ~ -1 + Samp_trip + (1|Genotype) , data =alpha_all)\n",
    "summary(mixed.lmer_geno)\n",
    "\n",
    "emmeans(mixed.lmer_geno, pairwise ~ -1 + Samp_trip, adjust=\"tukey\")"
   ]
  },
  {
   "cell_type": "code",
   "execution_count": 23,
   "id": "11652dbf-b2f4-4a95-8833-13a3e15feb3c",
   "metadata": {},
   "outputs": [
    {
     "data": {
      "image/png": "[encoded data removed]",
      "text/plain": [
       "plot without title"
      ]
     },
     "metadata": {
      "image/png": {
       "height": 420,
       "width": 420
      }
     },
     "output_type": "display_data"
    }
   ],
   "source": [
    "alpha_all %>%\n",
    " ggplot(aes(x = Samp_trip, y = Shannon_trans))  +\n",
    "  geom_boxplot(outlier.color = NA)  +\n",
    "geom_jitter(aes(color = Samp_trip), height = 0, width = .2) +\n",
    "  labs(x = \"\", y = \"\")"
   ]
  },
  {
   "cell_type": "code",
   "execution_count": 24,
   "id": "ae51465d-28d0-4ed5-8393-bde24507014d",
   "metadata": {},
   "outputs": [
    {
     "data": {
      "image/png": "[encoded data removed]",
      "text/plain": [
       "plot without title"
      ]
     },
     "metadata": {
      "image/png": {
       "height": 420,
       "width": 420
      }
     },
     "output_type": "display_data"
    }
   ],
   "source": [
    "alpha_all %>%\n",
    " ggplot(aes(x = reef, y = Shannon_trans))  +\n",
    "  geom_boxplot(outlier.color = NA)  +\n",
    "geom_jitter(aes(color = reef), height = 0, width = .2) +\n",
    "  labs(x = \"\", y = \"\")"
   ]
  },
  {
   "cell_type": "code",
   "execution_count": 25,
   "id": "a0ce84dd-1350-4903-9c63-1a7c439dc1ef",
   "metadata": {
    "scrolled": true
   },
   "outputs": [
    {
     "data": {
      "text/plain": [
       "Linear mixed model fit by REML ['lmerMod']\n",
       "Formula: Shannon_trans ~ -1 + Genotype:reef + (1 | reef)\n",
       "   Data: alpha_all\n",
       "\n",
       "REML criterion at convergence: -150.9\n",
       "\n",
       "Scaled residuals: \n",
       "     Min       1Q   Median       3Q      Max \n",
       "-2.48303 -0.67120  0.05193  0.63068  2.52547 \n",
       "\n",
       "Random effects:\n",
       " Groups   Name        Variance  Std.Dev.\n",
       " reef     (Intercept) 0.0002238 0.01496 \n",
       " Residual             0.0120941 0.10997 \n",
       "Number of obs: 125, groups:  reef, 3\n",
       "\n",
       "Fixed effects:\n",
       "                    Estimate Std. Error t value\n",
       "GenotypeCN2:reefcf   0.52111    0.03509  14.849\n",
       "GenotypeCN4:reefcf   0.49779    0.05699   8.735\n",
       "GenotypeHS1:reefcf   0.47403    0.03638  13.031\n",
       "GenotypeML2:reefcf   0.32926    0.05699   5.778\n",
       "GenotypeCN2:reefndr  0.51703    0.03509  14.732\n",
       "GenotypeCN4:reefndr  0.54952    0.03638  15.106\n",
       "GenotypeHS1:reefndr  0.41364    0.03509  11.786\n",
       "GenotypeML2:reefndr  0.42397    0.03509  12.081\n",
       "GenotypeCN2:reefpr   0.44753    0.03397  13.173\n",
       "GenotypeCN4:reefpr   0.46982    0.03509  13.387\n",
       "GenotypeHS1:reefpr   0.44904    0.03509  12.795\n",
       "GenotypeML2:reefpr   0.39740    0.03786  10.497\n",
       "\n",
       "Correlation of Fixed Effects:\n",
       "             GntypCN2:rfc GntypCN4:rfc GntypHS1:rfc GntypML2:rfc GntypCN2:rfn\n",
       "GntypCN4:rfc 0.112                                                           \n",
       "GntypHS1:rfc 0.175        0.108                                              \n",
       "GntypML2:rfc 0.112        0.069        0.108                                 \n",
       "GntypCN2:rfn 0.000        0.000        0.000        0.000                    \n",
       "GntypCN4:rfn 0.000        0.000        0.000        0.000        0.175       \n",
       "GntypHS1:rfn 0.000        0.000        0.000        0.000        0.182       \n",
       "GntypML2:rfn 0.000        0.000        0.000        0.000        0.182       \n",
       "GntypCN2:rfp 0.000        0.000        0.000        0.000        0.000       \n",
       "GntypCN4:rfp 0.000        0.000        0.000        0.000        0.000       \n",
       "GntypHS1:rfp 0.000        0.000        0.000        0.000        0.000       \n",
       "GntypML2:rfp 0.000        0.000        0.000        0.000        0.000       \n",
       "             GntypCN4:rfn GntypHS1:rfn GntypML2:rfn GntypCN2:rfp GntypCN4:rfp\n",
       "GntypCN4:rfc                                                                 \n",
       "GntypHS1:rfc                                                                 \n",
       "GntypML2:rfc                                                                 \n",
       "GntypCN2:rfn                                                                 \n",
       "GntypCN4:rfn                                                                 \n",
       "GntypHS1:rfn 0.175                                                           \n",
       "GntypML2:rfn 0.175        0.182                                              \n",
       "GntypCN2:rfp 0.000        0.000        0.000                                 \n",
       "GntypCN4:rfp 0.000        0.000        0.000        0.188                    \n",
       "GntypHS1:rfp 0.000        0.000        0.000        0.188        0.182       \n",
       "GntypML2:rfp 0.000        0.000        0.000        0.174        0.168       \n",
       "             GntypHS1:rfp\n",
       "GntypCN4:rfc             \n",
       "GntypHS1:rfc             \n",
       "GntypML2:rfc             \n",
       "GntypCN2:rfn             \n",
       "GntypCN4:rfn             \n",
       "GntypHS1:rfn             \n",
       "GntypML2:rfn             \n",
       "GntypCN2:rfp             \n",
       "GntypCN4:rfp             \n",
       "GntypHS1:rfp             \n",
       "GntypML2:rfp 0.168       "
      ]
     },
     "metadata": {},
     "output_type": "display_data"
    },
    {
     "name": "stderr",
     "output_type": "stream",
     "text": [
      "Warning message in .qf.non0(object@V, x):\n",
      "“Negative variance estimate obtained!”\n",
      "Warning message in .qf.non0(object@V, x):\n",
      "“Negative variance estimate obtained!”\n",
      "Warning message in .qf.non0(object@V, x):\n",
      "“Negative variance estimate obtained!”\n",
      "Warning message in .qf.non0(object@V, x):\n",
      "“Negative variance estimate obtained!”\n",
      "Warning message in .qf.non0(object@V, x):\n",
      "“Negative variance estimate obtained!”\n",
      "Warning message in .qf.non0(object@V, x):\n",
      "“Negative variance estimate obtained!”\n",
      "Warning message in .qf.non0(object@V, x):\n",
      "“Negative variance estimate obtained!”\n",
      "Warning message in .qf.non0(object@V, x):\n",
      "“Negative variance estimate obtained!”\n",
      "Warning message in .qf.non0(object@V, x):\n",
      "“Negative variance estimate obtained!”\n",
      "Warning message in .qf.non0(object@V, x):\n",
      "“Negative variance estimate obtained!”\n",
      "Warning message in .qf.non0(object@V, x):\n",
      "“Negative variance estimate obtained!”\n",
      "Warning message in .qf.non0(object@V, x):\n",
      "“Negative variance estimate obtained!”\n",
      "Warning message in .qf.non0(object@V, x):\n",
      "“Negative variance estimate obtained!”\n",
      "Warning message in .qf.non0(object@V, x):\n",
      "“Negative variance estimate obtained!”\n",
      "Warning message in .qf.non0(object@V, x):\n",
      "“Negative variance estimate obtained!”\n",
      "Warning message in .qf.non0(object@V, x):\n",
      "“Negative variance estimate obtained!”\n",
      "Warning message in .qf.non0(object@V, x):\n",
      "“Negative variance estimate obtained!”\n",
      "Warning message in .qf.non0(object@V, x):\n",
      "“Negative variance estimate obtained!”\n",
      "Warning message in .qf.non0(object@V, x):\n",
      "“Negative variance estimate obtained!”\n",
      "Warning message in .qf.non0(object@V, x):\n",
      "“Negative variance estimate obtained!”\n",
      "Warning message in .qf.non0(object@V, x):\n",
      "“Negative variance estimate obtained!”\n",
      "Warning message in .qf.non0(object@V, x):\n",
      "“Negative variance estimate obtained!”\n",
      "Warning message in .qf.non0(object@V, x):\n",
      "“Negative variance estimate obtained!”\n",
      "Warning message in .qf.non0(object@V, x):\n",
      "“Negative variance estimate obtained!”\n",
      "Warning message in .qf.non0(object@V, x):\n",
      "“Negative variance estimate obtained!”\n",
      "Warning message in .qf.non0(object@V, x):\n",
      "“Negative variance estimate obtained!”\n",
      "Warning message in .qf.non0(object@V, x):\n",
      "“Negative variance estimate obtained!”\n",
      "Warning message in ptukey(sqrt(2) * abst, fam.size, zapsmall(df), lower.tail = FALSE):\n",
      "“NaNs produced”\n"
     ]
    },
    {
     "data": {
      "text/plain": [
       "$emmeans\n",
       " Genotype reef emmean     SE df lower.CL upper.CL\n",
       " CN2      cf    0.521 0.0418  0     -Inf      Inf\n",
       " CN4      cf    0.498 0.0477  0     -Inf      Inf\n",
       " HS1      cf    0.474 0.0343  0     -Inf      Inf\n",
       " ML2      cf    0.329 0.0564  0     -Inf      Inf\n",
       " CN2      ndr   0.517    NaN  0      NaN      NaN\n",
       " CN4      ndr   0.550    NaN  0      NaN      NaN\n",
       " HS1      ndr   0.414    NaN  0      NaN      NaN\n",
       " ML2      ndr   0.424    NaN  0      NaN      NaN\n",
       " CN2      pr    0.448    NaN  0      NaN      NaN\n",
       " CN4      pr    0.470    NaN  0      NaN      NaN\n",
       " HS1      pr    0.449    NaN  0      NaN      NaN\n",
       " ML2      pr    0.397    NaN  0      NaN      NaN\n",
       "\n",
       "Degrees-of-freedom method: kenward-roger \n",
       "Confidence level used: 0.95 \n",
       "\n",
       "$contrasts\n",
       " contrast          estimate      SE  df t.ratio p.value\n",
       " CN2 cf - CN4 cf    0.02331 0.06200 113   0.376  1.0000\n",
       " CN2 cf - HS1 cf    0.04708 0.04779 113   0.985  0.9934\n",
       " CN2 cf - ML2 cf    0.19184 0.06081 113   3.155  0.0633\n",
       " CN2 cf - CN2 ndr   0.00407 0.01186   0   0.343     NaN\n",
       " CN2 cf - CN4 ndr  -0.02841 0.02527   0  -1.125     NaN\n",
       " CN2 cf - HS1 ndr   0.10747 0.00736   0  14.611     NaN\n",
       " CN2 cf - ML2 ndr   0.09714 0.01710   0   5.681     NaN\n",
       " CN2 cf - CN2 pr    0.07358 0.03008   0   2.446     NaN\n",
       " CN2 cf - CN4 pr    0.05129 0.03149   0   1.629     NaN\n",
       " CN2 cf - HS1 pr    0.07206 0.03466   0   2.079     NaN\n",
       " CN2 cf - ML2 pr    0.12371 0.03951   0   3.131     NaN\n",
       " CN4 cf - HS1 cf    0.02377 0.06303 113   0.377  1.0000\n",
       " CN4 cf - ML2 cf    0.16853 0.07916 113   2.129  0.5218\n",
       " CN4 cf - CN2 ndr  -0.01924 0.02574   0  -0.747     NaN\n",
       " CN4 cf - CN4 ndr  -0.05173 0.03406   0  -1.519     NaN\n",
       " CN4 cf - HS1 ndr   0.08416 0.02400   0   3.507     NaN\n",
       " CN4 cf - ML2 ndr   0.07382 0.02853   0   2.587     NaN\n",
       " CN4 cf - CN2 pr    0.05027 0.03777   0   1.331     NaN\n",
       " CN4 cf - CN4 pr    0.02797 0.03890   0   0.719     NaN\n",
       " CN4 cf - HS1 pr    0.04875 0.04151   0   1.175     NaN\n",
       " CN4 cf - ML2 pr    0.10040 0.04564   0   2.200     NaN\n",
       " HS1 cf - ML2 cf    0.14476 0.06469 113   2.238  0.4476\n",
       " HS1 cf - CN2 ndr  -0.04301     NaN   0     NaN     NaN\n",
       " HS1 cf - CN4 ndr  -0.07549 0.00785   0  -9.619     NaN\n",
       " HS1 cf - HS1 ndr   0.06039     NaN   0     NaN     NaN\n",
       " HS1 cf - ML2 ndr   0.05006     NaN   0     NaN     NaN\n",
       " HS1 cf - CN2 pr    0.02650 0.01811   0   1.464     NaN\n",
       " HS1 cf - CN4 pr    0.00421 0.02037   0   0.207     NaN\n",
       " HS1 cf - HS1 pr    0.02498 0.02498   0   1.000     NaN\n",
       " HS1 cf - ML2 pr    0.07663 0.03137   0   2.443     NaN\n",
       " ML2 cf - CN2 ndr  -0.18777 0.03965   0  -4.735     NaN\n",
       " ML2 cf - CN4 ndr  -0.22026 0.04550   0  -4.841     NaN\n",
       " ML2 cf - HS1 ndr  -0.08437 0.03855   0  -2.189     NaN\n",
       " ML2 cf - ML2 ndr  -0.09471 0.04152   0  -2.281     NaN\n",
       " ML2 cf - CN2 pr   -0.11826 0.04834   0  -2.447     NaN\n",
       " ML2 cf - CN4 pr   -0.14056 0.04923   0  -2.855     NaN\n",
       " ML2 cf - HS1 pr   -0.11978 0.05131   0  -2.334     NaN\n",
       " ML2 cf - ML2 pr   -0.06814 0.05470   0  -1.246     NaN\n",
       " CN2 ndr - CN4 ndr -0.03249 0.03996 113  -0.813  0.9985\n",
       " CN2 ndr - HS1 ndr  0.10340 0.04342 113   2.381  0.3558\n",
       " CN2 ndr - ML2 ndr  0.09306 0.04342 113   2.143  0.5120\n",
       " CN2 ndr - CN2 pr   0.06951     NaN   0     NaN     NaN\n",
       " CN2 ndr - CN4 pr   0.04721     NaN   0     NaN     NaN\n",
       " CN2 ndr - HS1 pr   0.06799     NaN   0     NaN     NaN\n",
       " CN2 ndr - ML2 pr   0.11963     NaN   0     NaN     NaN\n",
       " CN4 ndr - HS1 ndr  0.13589 0.04254 113   3.194  0.0568\n",
       " CN4 ndr - ML2 ndr  0.12555 0.04282 113   2.932  0.1125\n",
       " CN4 ndr - CN2 pr   0.10199     NaN   0     NaN     NaN\n",
       " CN4 ndr - CN4 pr   0.07970     NaN   0     NaN     NaN\n",
       " CN4 ndr - HS1 pr   0.10048     NaN   0     NaN     NaN\n",
       " CN4 ndr - ML2 pr   0.15212     NaN   0     NaN     NaN\n",
       " HS1 ndr - ML2 ndr -0.01034 0.04561 113  -0.227  1.0000\n",
       " HS1 ndr - CN2 pr  -0.03389     NaN   0     NaN     NaN\n",
       " HS1 ndr - CN4 pr  -0.05619     NaN   0     NaN     NaN\n",
       " HS1 ndr - HS1 pr  -0.03541     NaN   0     NaN     NaN\n",
       " HS1 ndr - ML2 pr   0.01624     NaN   0     NaN     NaN\n",
       " ML2 ndr - CN2 pr  -0.02356     NaN   0     NaN     NaN\n",
       " ML2 ndr - CN4 pr  -0.04585     NaN   0     NaN     NaN\n",
       " ML2 ndr - HS1 pr  -0.02507     NaN   0     NaN     NaN\n",
       " ML2 ndr - ML2 pr   0.02657     NaN   0     NaN     NaN\n",
       " CN2 pr - CN4 pr   -0.02229 0.03985 113  -0.559  0.9999\n",
       " CN2 pr - HS1 pr   -0.00152 0.04217 113  -0.036  1.0000\n",
       " CN2 pr - ML2 pr    0.05013 0.03705 113   1.353  0.9429\n",
       " CN4 pr - HS1 pr    0.02078 0.04342 113   0.479  1.0000\n",
       " CN4 pr - ML2 pr    0.07242 0.04589 113   1.578  0.8632\n",
       " HS1 pr - ML2 pr    0.05164 0.04517 113   1.143  0.9809\n",
       "\n",
       "Degrees-of-freedom method: kenward-roger \n",
       "P value adjustment: tukey method for comparing a family of 10.2082439194738 estimates \n"
      ]
     },
     "metadata": {},
     "output_type": "display_data"
    }
   ],
   "source": [
    "mixed.lmer_interaction <- lmer(Shannon_trans ~ -1 + Genotype:reef + (1|reef), data = alpha_all)\n",
    "summary(mixed.lmer_interaction)\n",
    "emmeans(mixed.lmer_interaction, pairwise ~ -1 + Genotype:reef, adjust = \"tukey\")"
   ]
  }
 ],
 "metadata": {
  "kernelspec": {
   "display_name": "R",
   "language": "R",
   "name": "ir"
  },
  "language_info": {
   "codemirror_mode": "r",
   "file_extension": ".r",
   "mimetype": "text/x-r-source",
   "name": "R",
   "pygments_lexer": "r",
   "version": "4.3.2"
  }
 },
 "nbformat": 4,
 "nbformat_minor": 5
}
